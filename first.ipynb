{
 "cells": [
  {
   "cell_type": "code",
   "execution_count": 1,
   "metadata": {},
   "outputs": [
    {
     "data": {
      "application/vnd.vegalite.v3+json": {
       "$schema": "https://vega.github.io/schema/vega-lite/v3.4.0.json",
       "config": {
        "mark": {
         "tooltip": null
        },
        "view": {
         "height": 300,
         "width": 400
        }
       },
       "data": {
        "name": "data-a264acbd6e539a8b3afc0cb5f240fb57"
       },
       "datasets": {
        "data-a264acbd6e539a8b3afc0cb5f240fb57": [
         {
          "petalLength": 1.4,
          "petalWidth": 0.2,
          "sepalLength": 5.1,
          "sepalWidth": 3.5,
          "species": "setosa"
         },
         {
          "petalLength": 1.4,
          "petalWidth": 0.2,
          "sepalLength": 4.9,
          "sepalWidth": 3,
          "species": "setosa"
         },
         {
          "petalLength": 1.3,
          "petalWidth": 0.2,
          "sepalLength": 4.7,
          "sepalWidth": 3.2,
          "species": "setosa"
         },
         {
          "petalLength": 1.5,
          "petalWidth": 0.2,
          "sepalLength": 4.6,
          "sepalWidth": 3.1,
          "species": "setosa"
         },
         {
          "petalLength": 1.4,
          "petalWidth": 0.2,
          "sepalLength": 5,
          "sepalWidth": 3.6,
          "species": "setosa"
         },
         {
          "petalLength": 1.7000000000000002,
          "petalWidth": 0.4,
          "sepalLength": 5.4,
          "sepalWidth": 3.9,
          "species": "setosa"
         },
         {
          "petalLength": 1.4,
          "petalWidth": 0.30000000000000004,
          "sepalLength": 4.6,
          "sepalWidth": 3.4,
          "species": "setosa"
         },
         {
          "petalLength": 1.5,
          "petalWidth": 0.2,
          "sepalLength": 5,
          "sepalWidth": 3.4,
          "species": "setosa"
         },
         {
          "petalLength": 1.4,
          "petalWidth": 0.2,
          "sepalLength": 4.4,
          "sepalWidth": 2.9,
          "species": "setosa"
         },
         {
          "petalLength": 1.5,
          "petalWidth": 0.1,
          "sepalLength": 4.9,
          "sepalWidth": 3.1,
          "species": "setosa"
         },
         {
          "petalLength": 1.5,
          "petalWidth": 0.2,
          "sepalLength": 5.4,
          "sepalWidth": 3.7,
          "species": "setosa"
         },
         {
          "petalLength": 1.6,
          "petalWidth": 0.2,
          "sepalLength": 4.8,
          "sepalWidth": 3.4,
          "species": "setosa"
         },
         {
          "petalLength": 1.4,
          "petalWidth": 0.1,
          "sepalLength": 4.8,
          "sepalWidth": 3,
          "species": "setosa"
         },
         {
          "petalLength": 1.1,
          "petalWidth": 0.1,
          "sepalLength": 4.3,
          "sepalWidth": 3,
          "species": "setosa"
         },
         {
          "petalLength": 1.2,
          "petalWidth": 0.2,
          "sepalLength": 5.8,
          "sepalWidth": 4,
          "species": "setosa"
         },
         {
          "petalLength": 1.5,
          "petalWidth": 0.4,
          "sepalLength": 5.7,
          "sepalWidth": 4.4,
          "species": "setosa"
         },
         {
          "petalLength": 1.3,
          "petalWidth": 0.4,
          "sepalLength": 5.4,
          "sepalWidth": 3.9,
          "species": "setosa"
         },
         {
          "petalLength": 1.4,
          "petalWidth": 0.30000000000000004,
          "sepalLength": 5.1,
          "sepalWidth": 3.5,
          "species": "setosa"
         },
         {
          "petalLength": 1.7000000000000002,
          "petalWidth": 0.30000000000000004,
          "sepalLength": 5.7,
          "sepalWidth": 3.8,
          "species": "setosa"
         },
         {
          "petalLength": 1.5,
          "petalWidth": 0.30000000000000004,
          "sepalLength": 5.1,
          "sepalWidth": 3.8,
          "species": "setosa"
         },
         {
          "petalLength": 1.7000000000000002,
          "petalWidth": 0.2,
          "sepalLength": 5.4,
          "sepalWidth": 3.4,
          "species": "setosa"
         },
         {
          "petalLength": 1.5,
          "petalWidth": 0.4,
          "sepalLength": 5.1,
          "sepalWidth": 3.7,
          "species": "setosa"
         },
         {
          "petalLength": 1,
          "petalWidth": 0.2,
          "sepalLength": 4.6,
          "sepalWidth": 3.6,
          "species": "setosa"
         },
         {
          "petalLength": 1.7000000000000002,
          "petalWidth": 0.5,
          "sepalLength": 5.1,
          "sepalWidth": 3.3,
          "species": "setosa"
         },
         {
          "petalLength": 1.9,
          "petalWidth": 0.2,
          "sepalLength": 4.8,
          "sepalWidth": 3.4,
          "species": "setosa"
         },
         {
          "petalLength": 1.6,
          "petalWidth": 0.2,
          "sepalLength": 5,
          "sepalWidth": 3,
          "species": "setosa"
         },
         {
          "petalLength": 1.6,
          "petalWidth": 0.4,
          "sepalLength": 5,
          "sepalWidth": 3.4,
          "species": "setosa"
         },
         {
          "petalLength": 1.5,
          "petalWidth": 0.2,
          "sepalLength": 5.2,
          "sepalWidth": 3.5,
          "species": "setosa"
         },
         {
          "petalLength": 1.4,
          "petalWidth": 0.2,
          "sepalLength": 5.2,
          "sepalWidth": 3.4,
          "species": "setosa"
         },
         {
          "petalLength": 1.6,
          "petalWidth": 0.2,
          "sepalLength": 4.7,
          "sepalWidth": 3.2,
          "species": "setosa"
         },
         {
          "petalLength": 1.6,
          "petalWidth": 0.2,
          "sepalLength": 4.8,
          "sepalWidth": 3.1,
          "species": "setosa"
         },
         {
          "petalLength": 1.5,
          "petalWidth": 0.4,
          "sepalLength": 5.4,
          "sepalWidth": 3.4,
          "species": "setosa"
         },
         {
          "petalLength": 1.5,
          "petalWidth": 0.1,
          "sepalLength": 5.2,
          "sepalWidth": 4.1,
          "species": "setosa"
         },
         {
          "petalLength": 1.4,
          "petalWidth": 0.2,
          "sepalLength": 5.5,
          "sepalWidth": 4.2,
          "species": "setosa"
         },
         {
          "petalLength": 1.5,
          "petalWidth": 0.2,
          "sepalLength": 4.9,
          "sepalWidth": 3.1,
          "species": "setosa"
         },
         {
          "petalLength": 1.2,
          "petalWidth": 0.2,
          "sepalLength": 5,
          "sepalWidth": 3.2,
          "species": "setosa"
         },
         {
          "petalLength": 1.3,
          "petalWidth": 0.2,
          "sepalLength": 5.5,
          "sepalWidth": 3.5,
          "species": "setosa"
         },
         {
          "petalLength": 1.4,
          "petalWidth": 0.1,
          "sepalLength": 4.9,
          "sepalWidth": 3.6,
          "species": "setosa"
         },
         {
          "petalLength": 1.3,
          "petalWidth": 0.2,
          "sepalLength": 4.4,
          "sepalWidth": 3,
          "species": "setosa"
         },
         {
          "petalLength": 1.5,
          "petalWidth": 0.2,
          "sepalLength": 5.1,
          "sepalWidth": 3.4,
          "species": "setosa"
         },
         {
          "petalLength": 1.3,
          "petalWidth": 0.30000000000000004,
          "sepalLength": 5,
          "sepalWidth": 3.5,
          "species": "setosa"
         },
         {
          "petalLength": 1.3,
          "petalWidth": 0.30000000000000004,
          "sepalLength": 4.5,
          "sepalWidth": 2.3,
          "species": "setosa"
         },
         {
          "petalLength": 1.3,
          "petalWidth": 0.2,
          "sepalLength": 4.4,
          "sepalWidth": 3.2,
          "species": "setosa"
         },
         {
          "petalLength": 1.6,
          "petalWidth": 0.6000000000000001,
          "sepalLength": 5,
          "sepalWidth": 3.5,
          "species": "setosa"
         },
         {
          "petalLength": 1.9,
          "petalWidth": 0.4,
          "sepalLength": 5.1,
          "sepalWidth": 3.8,
          "species": "setosa"
         },
         {
          "petalLength": 1.4,
          "petalWidth": 0.30000000000000004,
          "sepalLength": 4.8,
          "sepalWidth": 3,
          "species": "setosa"
         },
         {
          "petalLength": 1.6,
          "petalWidth": 0.2,
          "sepalLength": 5.1,
          "sepalWidth": 3.8,
          "species": "setosa"
         },
         {
          "petalLength": 1.4,
          "petalWidth": 0.2,
          "sepalLength": 4.6,
          "sepalWidth": 3.2,
          "species": "setosa"
         },
         {
          "petalLength": 1.5,
          "petalWidth": 0.2,
          "sepalLength": 5.3,
          "sepalWidth": 3.7,
          "species": "setosa"
         },
         {
          "petalLength": 1.4,
          "petalWidth": 0.2,
          "sepalLength": 5,
          "sepalWidth": 3.3,
          "species": "setosa"
         },
         {
          "petalLength": 4.7,
          "petalWidth": 1.4,
          "sepalLength": 7,
          "sepalWidth": 3.2,
          "species": "versicolor"
         },
         {
          "petalLength": 4.5,
          "petalWidth": 1.5,
          "sepalLength": 6.4,
          "sepalWidth": 3.2,
          "species": "versicolor"
         },
         {
          "petalLength": 4.9,
          "petalWidth": 1.5,
          "sepalLength": 6.9,
          "sepalWidth": 3.1,
          "species": "versicolor"
         },
         {
          "petalLength": 4,
          "petalWidth": 1.3,
          "sepalLength": 5.5,
          "sepalWidth": 2.3,
          "species": "versicolor"
         },
         {
          "petalLength": 4.6,
          "petalWidth": 1.5,
          "sepalLength": 6.5,
          "sepalWidth": 2.8,
          "species": "versicolor"
         },
         {
          "petalLength": 4.5,
          "petalWidth": 1.3,
          "sepalLength": 5.7,
          "sepalWidth": 2.8,
          "species": "versicolor"
         },
         {
          "petalLength": 4.7,
          "petalWidth": 1.6,
          "sepalLength": 6.3,
          "sepalWidth": 3.3,
          "species": "versicolor"
         },
         {
          "petalLength": 3.3,
          "petalWidth": 1,
          "sepalLength": 4.9,
          "sepalWidth": 2.4,
          "species": "versicolor"
         },
         {
          "petalLength": 4.6,
          "petalWidth": 1.3,
          "sepalLength": 6.6,
          "sepalWidth": 2.9,
          "species": "versicolor"
         },
         {
          "petalLength": 3.9,
          "petalWidth": 1.4,
          "sepalLength": 5.2,
          "sepalWidth": 2.7,
          "species": "versicolor"
         },
         {
          "petalLength": 3.5,
          "petalWidth": 1,
          "sepalLength": 5,
          "sepalWidth": 2,
          "species": "versicolor"
         },
         {
          "petalLength": 4.2,
          "petalWidth": 1.5,
          "sepalLength": 5.9,
          "sepalWidth": 3,
          "species": "versicolor"
         },
         {
          "petalLength": 4,
          "petalWidth": 1,
          "sepalLength": 6,
          "sepalWidth": 2.2,
          "species": "versicolor"
         },
         {
          "petalLength": 4.7,
          "petalWidth": 1.4,
          "sepalLength": 6.1,
          "sepalWidth": 2.9,
          "species": "versicolor"
         },
         {
          "petalLength": 3.6,
          "petalWidth": 1.3,
          "sepalLength": 5.6,
          "sepalWidth": 2.9,
          "species": "versicolor"
         },
         {
          "petalLength": 4.4,
          "petalWidth": 1.4,
          "sepalLength": 6.7,
          "sepalWidth": 3.1,
          "species": "versicolor"
         },
         {
          "petalLength": 4.5,
          "petalWidth": 1.5,
          "sepalLength": 5.6,
          "sepalWidth": 3,
          "species": "versicolor"
         },
         {
          "petalLength": 4.1,
          "petalWidth": 1,
          "sepalLength": 5.8,
          "sepalWidth": 2.7,
          "species": "versicolor"
         },
         {
          "petalLength": 4.5,
          "petalWidth": 1.5,
          "sepalLength": 6.2,
          "sepalWidth": 2.2,
          "species": "versicolor"
         },
         {
          "petalLength": 3.9,
          "petalWidth": 1.1,
          "sepalLength": 5.6,
          "sepalWidth": 2.5,
          "species": "versicolor"
         },
         {
          "petalLength": 4.8,
          "petalWidth": 1.8,
          "sepalLength": 5.9,
          "sepalWidth": 3.2,
          "species": "versicolor"
         },
         {
          "petalLength": 4,
          "petalWidth": 1.3,
          "sepalLength": 6.1,
          "sepalWidth": 2.8,
          "species": "versicolor"
         },
         {
          "petalLength": 4.9,
          "petalWidth": 1.5,
          "sepalLength": 6.3,
          "sepalWidth": 2.5,
          "species": "versicolor"
         },
         {
          "petalLength": 4.7,
          "petalWidth": 1.2,
          "sepalLength": 6.1,
          "sepalWidth": 2.8,
          "species": "versicolor"
         },
         {
          "petalLength": 4.3,
          "petalWidth": 1.3,
          "sepalLength": 6.4,
          "sepalWidth": 2.9,
          "species": "versicolor"
         },
         {
          "petalLength": 4.4,
          "petalWidth": 1.4,
          "sepalLength": 6.6,
          "sepalWidth": 3,
          "species": "versicolor"
         },
         {
          "petalLength": 4.8,
          "petalWidth": 1.4,
          "sepalLength": 6.8,
          "sepalWidth": 2.8,
          "species": "versicolor"
         },
         {
          "petalLength": 5,
          "petalWidth": 1.7000000000000002,
          "sepalLength": 6.7,
          "sepalWidth": 3,
          "species": "versicolor"
         },
         {
          "petalLength": 4.5,
          "petalWidth": 1.5,
          "sepalLength": 6,
          "sepalWidth": 2.9,
          "species": "versicolor"
         },
         {
          "petalLength": 3.5,
          "petalWidth": 1,
          "sepalLength": 5.7,
          "sepalWidth": 2.6,
          "species": "versicolor"
         },
         {
          "petalLength": 3.8,
          "petalWidth": 1.1,
          "sepalLength": 5.5,
          "sepalWidth": 2.4,
          "species": "versicolor"
         },
         {
          "petalLength": 3.7,
          "petalWidth": 1,
          "sepalLength": 5.5,
          "sepalWidth": 2.4,
          "species": "versicolor"
         },
         {
          "petalLength": 3.9,
          "petalWidth": 1.2,
          "sepalLength": 5.8,
          "sepalWidth": 2.7,
          "species": "versicolor"
         },
         {
          "petalLength": 5.1,
          "petalWidth": 1.6,
          "sepalLength": 6,
          "sepalWidth": 2.7,
          "species": "versicolor"
         },
         {
          "petalLength": 4.5,
          "petalWidth": 1.5,
          "sepalLength": 5.4,
          "sepalWidth": 3,
          "species": "versicolor"
         },
         {
          "petalLength": 4.5,
          "petalWidth": 1.6,
          "sepalLength": 6,
          "sepalWidth": 3.4,
          "species": "versicolor"
         },
         {
          "petalLength": 4.7,
          "petalWidth": 1.5,
          "sepalLength": 6.7,
          "sepalWidth": 3.1,
          "species": "versicolor"
         },
         {
          "petalLength": 4.4,
          "petalWidth": 1.3,
          "sepalLength": 6.3,
          "sepalWidth": 2.3,
          "species": "versicolor"
         },
         {
          "petalLength": 4.1,
          "petalWidth": 1.3,
          "sepalLength": 5.6,
          "sepalWidth": 3,
          "species": "versicolor"
         },
         {
          "petalLength": 4,
          "petalWidth": 1.3,
          "sepalLength": 5.5,
          "sepalWidth": 2.5,
          "species": "versicolor"
         },
         {
          "petalLength": 4.4,
          "petalWidth": 1.2,
          "sepalLength": 5.5,
          "sepalWidth": 2.6,
          "species": "versicolor"
         },
         {
          "petalLength": 4.6,
          "petalWidth": 1.4,
          "sepalLength": 6.1,
          "sepalWidth": 3,
          "species": "versicolor"
         },
         {
          "petalLength": 4,
          "petalWidth": 1.2,
          "sepalLength": 5.8,
          "sepalWidth": 2.6,
          "species": "versicolor"
         },
         {
          "petalLength": 3.3,
          "petalWidth": 1,
          "sepalLength": 5,
          "sepalWidth": 2.3,
          "species": "versicolor"
         },
         {
          "petalLength": 4.2,
          "petalWidth": 1.3,
          "sepalLength": 5.6,
          "sepalWidth": 2.7,
          "species": "versicolor"
         },
         {
          "petalLength": 4.2,
          "petalWidth": 1.2,
          "sepalLength": 5.7,
          "sepalWidth": 3,
          "species": "versicolor"
         },
         {
          "petalLength": 4.2,
          "petalWidth": 1.3,
          "sepalLength": 5.7,
          "sepalWidth": 2.9,
          "species": "versicolor"
         },
         {
          "petalLength": 4.3,
          "petalWidth": 1.3,
          "sepalLength": 6.2,
          "sepalWidth": 2.9,
          "species": "versicolor"
         },
         {
          "petalLength": 3,
          "petalWidth": 1.1,
          "sepalLength": 5.1,
          "sepalWidth": 2.5,
          "species": "versicolor"
         },
         {
          "petalLength": 4.1,
          "petalWidth": 1.3,
          "sepalLength": 5.7,
          "sepalWidth": 2.8,
          "species": "versicolor"
         },
         {
          "petalLength": 6,
          "petalWidth": 2.5,
          "sepalLength": 6.3,
          "sepalWidth": 3.3,
          "species": "virginica"
         },
         {
          "petalLength": 5.1,
          "petalWidth": 1.9,
          "sepalLength": 5.8,
          "sepalWidth": 2.7,
          "species": "virginica"
         },
         {
          "petalLength": 5.9,
          "petalWidth": 2.1,
          "sepalLength": 7.1,
          "sepalWidth": 3,
          "species": "virginica"
         },
         {
          "petalLength": 5.6,
          "petalWidth": 1.8,
          "sepalLength": 6.3,
          "sepalWidth": 2.9,
          "species": "virginica"
         },
         {
          "petalLength": 5.8,
          "petalWidth": 2.2,
          "sepalLength": 6.5,
          "sepalWidth": 3,
          "species": "virginica"
         },
         {
          "petalLength": 6.6,
          "petalWidth": 2.1,
          "sepalLength": 7.6,
          "sepalWidth": 3,
          "species": "virginica"
         },
         {
          "petalLength": 4.5,
          "petalWidth": 1.7000000000000002,
          "sepalLength": 4.9,
          "sepalWidth": 2.5,
          "species": "virginica"
         },
         {
          "petalLength": 6.3,
          "petalWidth": 1.8,
          "sepalLength": 7.3,
          "sepalWidth": 2.9,
          "species": "virginica"
         },
         {
          "petalLength": 5.8,
          "petalWidth": 1.8,
          "sepalLength": 6.7,
          "sepalWidth": 2.5,
          "species": "virginica"
         },
         {
          "petalLength": 6.1,
          "petalWidth": 2.5,
          "sepalLength": 7.2,
          "sepalWidth": 3.6,
          "species": "virginica"
         },
         {
          "petalLength": 5.1,
          "petalWidth": 2,
          "sepalLength": 6.5,
          "sepalWidth": 3.2,
          "species": "virginica"
         },
         {
          "petalLength": 5.3,
          "petalWidth": 1.9,
          "sepalLength": 6.4,
          "sepalWidth": 2.7,
          "species": "virginica"
         },
         {
          "petalLength": 5.5,
          "petalWidth": 2.1,
          "sepalLength": 6.8,
          "sepalWidth": 3,
          "species": "virginica"
         },
         {
          "petalLength": 5,
          "petalWidth": 2,
          "sepalLength": 5.7,
          "sepalWidth": 2.5,
          "species": "virginica"
         },
         {
          "petalLength": 5.1,
          "petalWidth": 2.4,
          "sepalLength": 5.8,
          "sepalWidth": 2.8,
          "species": "virginica"
         },
         {
          "petalLength": 5.3,
          "petalWidth": 2.3,
          "sepalLength": 6.4,
          "sepalWidth": 3.2,
          "species": "virginica"
         },
         {
          "petalLength": 5.5,
          "petalWidth": 1.8,
          "sepalLength": 6.5,
          "sepalWidth": 3,
          "species": "virginica"
         },
         {
          "petalLength": 6.7,
          "petalWidth": 2.2,
          "sepalLength": 7.7,
          "sepalWidth": 3.8,
          "species": "virginica"
         },
         {
          "petalLength": 6.9,
          "petalWidth": 2.3,
          "sepalLength": 7.7,
          "sepalWidth": 2.6,
          "species": "virginica"
         },
         {
          "petalLength": 5,
          "petalWidth": 1.5,
          "sepalLength": 6,
          "sepalWidth": 2.2,
          "species": "virginica"
         },
         {
          "petalLength": 5.7,
          "petalWidth": 2.3,
          "sepalLength": 6.9,
          "sepalWidth": 3.2,
          "species": "virginica"
         },
         {
          "petalLength": 4.9,
          "petalWidth": 2,
          "sepalLength": 5.6,
          "sepalWidth": 2.8,
          "species": "virginica"
         },
         {
          "petalLength": 6.7,
          "petalWidth": 2,
          "sepalLength": 7.7,
          "sepalWidth": 2.8,
          "species": "virginica"
         },
         {
          "petalLength": 4.9,
          "petalWidth": 1.8,
          "sepalLength": 6.3,
          "sepalWidth": 2.7,
          "species": "virginica"
         },
         {
          "petalLength": 5.7,
          "petalWidth": 2.1,
          "sepalLength": 6.7,
          "sepalWidth": 3.3,
          "species": "virginica"
         },
         {
          "petalLength": 6,
          "petalWidth": 1.8,
          "sepalLength": 7.2,
          "sepalWidth": 3.2,
          "species": "virginica"
         },
         {
          "petalLength": 4.8,
          "petalWidth": 1.8,
          "sepalLength": 6.2,
          "sepalWidth": 2.8,
          "species": "virginica"
         },
         {
          "petalLength": 4.9,
          "petalWidth": 1.8,
          "sepalLength": 6.1,
          "sepalWidth": 3,
          "species": "virginica"
         },
         {
          "petalLength": 5.6,
          "petalWidth": 2.1,
          "sepalLength": 6.4,
          "sepalWidth": 2.8,
          "species": "virginica"
         },
         {
          "petalLength": 5.8,
          "petalWidth": 1.6,
          "sepalLength": 7.2,
          "sepalWidth": 3,
          "species": "virginica"
         },
         {
          "petalLength": 6.1,
          "petalWidth": 1.9,
          "sepalLength": 7.4,
          "sepalWidth": 2.8,
          "species": "virginica"
         },
         {
          "petalLength": 6.4,
          "petalWidth": 2,
          "sepalLength": 7.9,
          "sepalWidth": 3.8,
          "species": "virginica"
         },
         {
          "petalLength": 5.6,
          "petalWidth": 2.2,
          "sepalLength": 6.4,
          "sepalWidth": 2.8,
          "species": "virginica"
         },
         {
          "petalLength": 5.1,
          "petalWidth": 1.5,
          "sepalLength": 6.3,
          "sepalWidth": 2.8,
          "species": "virginica"
         },
         {
          "petalLength": 5.6,
          "petalWidth": 1.4,
          "sepalLength": 6.1,
          "sepalWidth": 2.6,
          "species": "virginica"
         },
         {
          "petalLength": 6.1,
          "petalWidth": 2.3,
          "sepalLength": 7.7,
          "sepalWidth": 3,
          "species": "virginica"
         },
         {
          "petalLength": 5.6,
          "petalWidth": 2.4,
          "sepalLength": 6.3,
          "sepalWidth": 3.4,
          "species": "virginica"
         },
         {
          "petalLength": 5.5,
          "petalWidth": 1.8,
          "sepalLength": 6.4,
          "sepalWidth": 3.1,
          "species": "virginica"
         },
         {
          "petalLength": 4.8,
          "petalWidth": 1.8,
          "sepalLength": 6,
          "sepalWidth": 3,
          "species": "virginica"
         },
         {
          "petalLength": 5.4,
          "petalWidth": 2.1,
          "sepalLength": 6.9,
          "sepalWidth": 3.1,
          "species": "virginica"
         },
         {
          "petalLength": 5.6,
          "petalWidth": 2.4,
          "sepalLength": 6.7,
          "sepalWidth": 3.1,
          "species": "virginica"
         },
         {
          "petalLength": 5.1,
          "petalWidth": 2.3,
          "sepalLength": 6.9,
          "sepalWidth": 3.1,
          "species": "virginica"
         },
         {
          "petalLength": 5.1,
          "petalWidth": 1.9,
          "sepalLength": 5.8,
          "sepalWidth": 2.7,
          "species": "virginica"
         },
         {
          "petalLength": 5.9,
          "petalWidth": 2.3,
          "sepalLength": 6.8,
          "sepalWidth": 3.2,
          "species": "virginica"
         },
         {
          "petalLength": 5.7,
          "petalWidth": 2.5,
          "sepalLength": 6.7,
          "sepalWidth": 3.3,
          "species": "virginica"
         },
         {
          "petalLength": 5.2,
          "petalWidth": 2.3,
          "sepalLength": 6.7,
          "sepalWidth": 3,
          "species": "virginica"
         },
         {
          "petalLength": 5,
          "petalWidth": 1.9,
          "sepalLength": 6.3,
          "sepalWidth": 2.5,
          "species": "virginica"
         },
         {
          "petalLength": 5.2,
          "petalWidth": 2,
          "sepalLength": 6.5,
          "sepalWidth": 3,
          "species": "virginica"
         },
         {
          "petalLength": 5.4,
          "petalWidth": 2.3,
          "sepalLength": 6.2,
          "sepalWidth": 3.4,
          "species": "virginica"
         },
         {
          "petalLength": 5.1,
          "petalWidth": 1.8,
          "sepalLength": 5.9,
          "sepalWidth": 3,
          "species": "virginica"
         }
        ]
       },
       "encoding": {
        "color": {
         "field": "species",
         "type": "nominal"
        },
        "x": {
         "field": "petalLength",
         "type": "quantitative"
        },
        "y": {
         "field": "petalWidth",
         "type": "quantitative"
        }
       },
       "mark": "point"
      },
      "image/png": "[encoded data removed]",
      "text/plain": [
       "<VegaLite 3 object>\n",
       "\n",
       "If you see this message, it means the renderer has not been properly enabled\n",
       "for the frontend that you are using. For more information, see\n",
       "https://altair-viz.github.io/user_guide/troubleshooting.html\n"
      ]
     },
     "execution_count": 1,
     "metadata": {},
     "output_type": "execute_result"
    }
   ],
   "source": [
    "import altair as alt\n",
    "from vega_datasets import data\n",
    "\n",
    "iris = data.iris()\n",
    "\n",
    "alt.Chart(iris).mark_point().encode(\n",
    "    x='petalLength',\n",
    "    y='petalWidth',\n",
    "    color='species'\n",
    ")"
   ]
  },
  {
   "cell_type": "code",
   "execution_count": 49,
   "metadata": {},
   "outputs": [
    {
     "data": {
      "application/vnd.vegalite.v3+json": {
       "$schema": "https://vega.github.io/schema/vega-lite/v3.4.0.json",
       "config": {
        "mark": {
         "tooltip": null
        },
        "view": {
         "height": 300,
         "width": 400
        }
       },
       "data": {
        "name": "data-083db3e055d980747fda046d898d9deb"
       },
       "datasets": {
        "data-083db3e055d980747fda046d898d9deb": [
         {
          "COUNTRY_CODE": "FR",
          "month": 7,
          "name": "ABBEVILLE, FR",
          "rolling_average_irrigation_requirement": 5.376728424628669,
          "year": 1991
         },
         {
          "COUNTRY_CODE": "FR",
          "month": 7,
          "name": "AJACCIO, FR",
          "rolling_average_irrigation_requirement": 5.376642753650619,
          "year": 1991
         },
         {
          "COUNTRY_CODE": "FR",
          "month": 7,
          "name": "ALENCON VALFRAMBERT, FR",
          "rolling_average_irrigation_requirement": 5.377234842064414,
          "year": 1991
         },
         {
          "COUNTRY_CODE": "FR",
          "month": 7,
          "name": "AMIENS GLISY, FR",
          "rolling_average_irrigation_requirement": 5.376642753650619,
          "year": 1991
         },
         {
          "COUNTRY_CODE": "FR",
          "month": 7,
          "name": "ANTICHAN, FR",
          "rolling_average_irrigation_requirement": 5.3756645710309625,
          "year": 1991
         },
         {
          "COUNTRY_CODE": "FR",
          "month": 7,
          "name": "AUVERGNE, FR",
          "rolling_average_irrigation_requirement": 5.39370708838478,
          "year": 1991
         },
         {
          "COUNTRY_CODE": "FR",
          "month": 7,
          "name": "BALE MULHOUSE, FR",
          "rolling_average_irrigation_requirement": 5.370468471603003,
          "year": 1991
         },
         {
          "COUNTRY_CODE": "FR",
          "month": 7,
          "name": "BALLOTS, FR",
          "rolling_average_irrigation_requirement": 5.376642753650619,
          "year": 1991
         },
         {
          "COUNTRY_CODE": "FR",
          "month": 7,
          "name": "BARBEREY, FR",
          "rolling_average_irrigation_requirement": 5.363820224473321,
          "year": 1991
         },
         {
          "COUNTRY_CODE": "FR",
          "month": 7,
          "name": "BASEL MULHOUSE, FR",
          "rolling_average_irrigation_requirement": 5.376642753650619,
          "year": 1991
         },
         {
          "COUNTRY_CODE": "FR",
          "month": 7,
          "name": "BASTIA, FR",
          "rolling_average_irrigation_requirement": 5.376642753650619,
          "year": 1991
         },
         {
          "COUNTRY_CODE": "FR",
          "month": 7,
          "name": "BELLE ILE LE TALUT, FR",
          "rolling_average_irrigation_requirement": 5.376642753650619,
          "year": 1991
         },
         {
          "COUNTRY_CODE": "FR",
          "month": 7,
          "name": "BELLEGARDE, FR",
          "rolling_average_irrigation_requirement": 5.369545613322973,
          "year": 1991
         },
         {
          "COUNTRY_CODE": "FR",
          "month": 7,
          "name": "BIARD, FR",
          "rolling_average_irrigation_requirement": 5.374211163007941,
          "year": 1991
         },
         {
          "COUNTRY_CODE": "FR",
          "month": 7,
          "name": "BORDEAUX MERIGNAC, FR",
          "rolling_average_irrigation_requirement": 5.376642753650619,
          "year": 1991
         },
         {
          "COUNTRY_CODE": "FR",
          "month": 7,
          "name": "BOURGES, FR",
          "rolling_average_irrigation_requirement": 5.376642753650619,
          "year": 1991
         },
         {
          "COUNTRY_CODE": "FR",
          "month": 7,
          "name": "BREST GUIPAVAS, FR",
          "rolling_average_irrigation_requirement": 5.376642753650619,
          "year": 1991
         },
         {
          "COUNTRY_CODE": "FR",
          "month": 7,
          "name": "BRETIGNY SUR ORGE, FR",
          "rolling_average_irrigation_requirement": 5.376642753650619,
          "year": 1991
         },
         {
          "COUNTRY_CODE": "FR",
          "month": 7,
          "name": "CAEN CARPIQUET, FR",
          "rolling_average_irrigation_requirement": 5.376642753650619,
          "year": 1991
         },
         {
          "COUNTRY_CODE": "FR",
          "month": 7,
          "name": "CAMPO DELL ORO, FR",
          "rolling_average_irrigation_requirement": 5.373764507491912,
          "year": 1991
         },
         {
          "COUNTRY_CODE": "FR",
          "month": 7,
          "name": "CAP CEPET, FR",
          "rolling_average_irrigation_requirement": 5.366674664160621,
          "year": 1991
         },
         {
          "COUNTRY_CODE": "FR",
          "month": 7,
          "name": "CARPIQUET, FR",
          "rolling_average_irrigation_requirement": 5.372392809442736,
          "year": 1991
         },
         {
          "COUNTRY_CODE": "FR",
          "month": 7,
          "name": "CATUS, FR",
          "rolling_average_irrigation_requirement": 5.376642753650619,
          "year": 1991
         },
         {
          "COUNTRY_CODE": "FR",
          "month": 7,
          "name": "CHASSIRON, FR",
          "rolling_average_irrigation_requirement": 5.359931622941521,
          "year": 1991
         },
         {
          "COUNTRY_CODE": "FR",
          "month": 7,
          "name": "CHATILLON COLIGNY, FR",
          "rolling_average_irrigation_requirement": 5.376642753650619,
          "year": 1991
         },
         {
          "COUNTRY_CODE": "FR",
          "month": 7,
          "name": "CHATILLON SUR SEINE, FR",
          "rolling_average_irrigation_requirement": 5.376642753650619,
          "year": 1991
         },
         {
          "COUNTRY_CODE": "FR",
          "month": 7,
          "name": "CLERMONT FERRAND, FR",
          "rolling_average_irrigation_requirement": 5.376642753650619,
          "year": 1991
         },
         {
          "COUNTRY_CODE": "FR",
          "month": 7,
          "name": "COTE D AZUR, FR",
          "rolling_average_irrigation_requirement": 5.376642753650619,
          "year": 1991
         },
         {
          "COUNTRY_CODE": "FR",
          "month": 7,
          "name": "DEOLS CHATEAUROUX AERODROME DE, FR",
          "rolling_average_irrigation_requirement": 5.376642753650619,
          "year": 1991
         },
         {
          "COUNTRY_CODE": "FR",
          "month": 7,
          "name": "DIJON LONGVIC, FR",
          "rolling_average_irrigation_requirement": 5.376642753650619,
          "year": 1991
         },
         {
          "COUNTRY_CODE": "FR",
          "month": 7,
          "name": "EMBRUN, FR",
          "rolling_average_irrigation_requirement": 5.3687678657639175,
          "year": 1991
         },
         {
          "COUNTRY_CODE": "FR",
          "month": 7,
          "name": "ESPOEY, FR",
          "rolling_average_irrigation_requirement": 5.376642753650619,
          "year": 1991
         },
         {
          "COUNTRY_CODE": "FR",
          "month": 7,
          "name": "ESSEY, FR",
          "rolling_average_irrigation_requirement": 5.376642753650619,
          "year": 1991
         },
         {
          "COUNTRY_CODE": "FR",
          "month": 7,
          "name": "FAVERGES DE LA TOUR, FR",
          "rolling_average_irrigation_requirement": 5.376642753650619,
          "year": 1991
         },
         {
          "COUNTRY_CODE": "FR",
          "month": 7,
          "name": "GOURDON, FR",
          "rolling_average_irrigation_requirement": 5.376642753650619,
          "year": 1991
         },
         {
          "COUNTRY_CODE": "FR",
          "month": 7,
          "name": "GUIPAVAS, FR",
          "rolling_average_irrigation_requirement": 5.3701149159865835,
          "year": 1991
         },
         {
          "COUNTRY_CODE": "FR",
          "month": 7,
          "name": "LA SOUTERRAINE, FR",
          "rolling_average_irrigation_requirement": 5.376642753650619,
          "year": 1991
         },
         {
          "COUNTRY_CODE": "FR",
          "month": 7,
          "name": "LE MASSEGROS, FR",
          "rolling_average_irrigation_requirement": 5.376642753650619,
          "year": 1991
         },
         {
          "COUNTRY_CODE": "FR",
          "month": 7,
          "name": "LE PUY LOUDES, FR",
          "rolling_average_irrigation_requirement": 5.376642753650619,
          "year": 1991
         },
         {
          "COUNTRY_CODE": "FR",
          "month": 7,
          "name": "LESQUIN, FR",
          "rolling_average_irrigation_requirement": 5.3647674250703,
          "year": 1991
         },
         {
          "COUNTRY_CODE": "FR",
          "month": 7,
          "name": "LEZAY, FR",
          "rolling_average_irrigation_requirement": 5.376642753650619,
          "year": 1991
         },
         {
          "COUNTRY_CODE": "FR",
          "month": 7,
          "name": "LILLE LESQUIN, FR",
          "rolling_average_irrigation_requirement": 5.376642753650619,
          "year": 1991
         },
         {
          "COUNTRY_CODE": "FR",
          "month": 7,
          "name": "LIMOGES BELLEGARDE, FR",
          "rolling_average_irrigation_requirement": 5.376642753650619,
          "year": 1991
         },
         {
          "COUNTRY_CODE": "FR",
          "month": 7,
          "name": "LONGVIC, FR",
          "rolling_average_irrigation_requirement": 5.350172061029487,
          "year": 1991
         },
         {
          "COUNTRY_CODE": "FR",
          "month": 7,
          "name": "LOUDES, FR",
          "rolling_average_irrigation_requirement": 5.373794685487142,
          "year": 1991
         },
         {
          "COUNTRY_CODE": "FR",
          "month": 7,
          "name": "LOURDES, FR",
          "rolling_average_irrigation_requirement": 5.373727755657816,
          "year": 1991
         },
         {
          "COUNTRY_CODE": "FR",
          "month": 7,
          "name": "LYON ST EXUPERY, FR",
          "rolling_average_irrigation_requirement": 5.376642753650619,
          "year": 1991
         },
         {
          "COUNTRY_CODE": "FR",
          "month": 7,
          "name": "MARSEILLE OBS. PALAIS LONCHAMP, FR",
          "rolling_average_irrigation_requirement": 5.376642753650619,
          "year": 1991
         },
         {
          "COUNTRY_CODE": "FR",
          "month": 7,
          "name": "MARSEILLES MARIGNANE, FR",
          "rolling_average_irrigation_requirement": 5.376642753650619,
          "year": 1991
         },
         {
          "COUNTRY_CODE": "FR",
          "month": 7,
          "name": "MEDITERRANEE, FR",
          "rolling_average_irrigation_requirement": 5.376642753650619,
          "year": 1991
         },
         {
          "COUNTRY_CODE": "FR",
          "month": 7,
          "name": "METZ FRESCATY, FR",
          "rolling_average_irrigation_requirement": 5.368612475435881,
          "year": 1991
         },
         {
          "COUNTRY_CODE": "FR",
          "month": 7,
          "name": "MILLAU, FR",
          "rolling_average_irrigation_requirement": 5.3761616802311165,
          "year": 1991
         },
         {
          "COUNTRY_CODE": "FR",
          "month": 7,
          "name": "MONT AIGOUAL, FR",
          "rolling_average_irrigation_requirement": 5.376642753650619,
          "year": 1991
         },
         {
          "COUNTRY_CODE": "FR",
          "month": 7,
          "name": "MONT DE MARSAN, FR",
          "rolling_average_irrigation_requirement": 5.376216689128358,
          "year": 1991
         },
         {
          "COUNTRY_CODE": "FR",
          "month": 7,
          "name": "MONTCORNET, FR",
          "rolling_average_irrigation_requirement": 5.376642753650619,
          "year": 1991
         },
         {
          "COUNTRY_CODE": "FR",
          "month": 7,
          "name": "MONTELIMAR, FR",
          "rolling_average_irrigation_requirement": 5.376642753650619,
          "year": 1991
         },
         {
          "COUNTRY_CODE": "FR",
          "month": 7,
          "name": "MONTMORILLON, FR",
          "rolling_average_irrigation_requirement": 5.376642753650619,
          "year": 1991
         },
         {
          "COUNTRY_CODE": "FR",
          "month": 7,
          "name": "MONTPELLIER AEROPORT, FR",
          "rolling_average_irrigation_requirement": 5.376642753650619,
          "year": 1991
         },
         {
          "COUNTRY_CODE": "FR",
          "month": 7,
          "name": "NANCY OCHEY, FR",
          "rolling_average_irrigation_requirement": 5.376642753650619,
          "year": 1991
         },
         {
          "COUNTRY_CODE": "FR",
          "month": 7,
          "name": "NANTES BOUGUENAIS, FR",
          "rolling_average_irrigation_requirement": 5.376642753650619,
          "year": 1991
         },
         {
          "COUNTRY_CODE": "FR",
          "month": 7,
          "name": "NICE, FR",
          "rolling_average_irrigation_requirement": 5.376642753650619,
          "year": 1991
         },
         {
          "COUNTRY_CODE": "FR",
          "month": 7,
          "name": "OCHEY, FR",
          "rolling_average_irrigation_requirement": 5.424218527921363,
          "year": 1991
         },
         {
          "COUNTRY_CODE": "FR",
          "month": 7,
          "name": "ODEREN, FR",
          "rolling_average_irrigation_requirement": 5.376642753650619,
          "year": 1991
         },
         {
          "COUNTRY_CODE": "FR",
          "month": 7,
          "name": "ORLY, FR",
          "rolling_average_irrigation_requirement": 5.376642753650619,
          "year": 1991
         },
         {
          "COUNTRY_CODE": "FR",
          "month": 7,
          "name": "OUESSANT, FR",
          "rolling_average_irrigation_requirement": 5.349873642346614,
          "year": 1991
         },
         {
          "COUNTRY_CODE": "FR",
          "month": 7,
          "name": "PAMIERS, FR",
          "rolling_average_irrigation_requirement": 5.376642753650619,
          "year": 1991
         },
         {
          "COUNTRY_CODE": "FR",
          "month": 7,
          "name": "PARIS LE BOURGET, FR",
          "rolling_average_irrigation_requirement": 5.376642753650619,
          "year": 1991
         },
         {
          "COUNTRY_CODE": "FR",
          "month": 7,
          "name": "PERPIGNAN, FR",
          "rolling_average_irrigation_requirement": 5.376642753650619,
          "year": 1991
         },
         {
          "COUNTRY_CODE": "FR",
          "month": 7,
          "name": "PLOUMANAC H, FR",
          "rolling_average_irrigation_requirement": 5.376642753650619,
          "year": 1991
         },
         {
          "COUNTRY_CODE": "FR",
          "month": 7,
          "name": "POITIERS BIARD, FR",
          "rolling_average_irrigation_requirement": 5.376642753650619,
          "year": 1991
         },
         {
          "COUNTRY_CODE": "FR",
          "month": 7,
          "name": "PORETTA, FR",
          "rolling_average_irrigation_requirement": 5.376642753650619,
          "year": 1991
         },
         {
          "COUNTRY_CODE": "FR",
          "month": 7,
          "name": "PORT AUX FRANCAIS ILES KERGU, FR",
          "rolling_average_irrigation_requirement": 5.4119572322278975,
          "year": 1991
         },
         {
          "COUNTRY_CODE": "FR",
          "month": 7,
          "name": "PTE DE CHASSIRON, FR",
          "rolling_average_irrigation_requirement": 5.376642753650619,
          "year": 1991
         },
         {
          "COUNTRY_CODE": "FR",
          "month": 7,
          "name": "PTE DE LA HAGUE, FR",
          "rolling_average_irrigation_requirement": 5.376642753650619,
          "year": 1991
         },
         {
          "COUNTRY_CODE": "FR",
          "month": 7,
          "name": "RENNES ST JACQUES, FR",
          "rolling_average_irrigation_requirement": 5.376642753650619,
          "year": 1991
         },
         {
          "COUNTRY_CODE": "FR",
          "month": 7,
          "name": "ROUEN BOOS, FR",
          "rolling_average_irrigation_requirement": 5.376642753650619,
          "year": 1991
         },
         {
          "COUNTRY_CODE": "FR",
          "month": 7,
          "name": "SAINT EXUPERY, FR",
          "rolling_average_irrigation_requirement": 5.358726610759958,
          "year": 1991
         },
         {
          "COUNTRY_CODE": "FR",
          "month": 7,
          "name": "SAINT GERMAIN LES BELLES, FR",
          "rolling_average_irrigation_requirement": 5.376642753650619,
          "year": 1991
         },
         {
          "COUNTRY_CODE": "FR",
          "month": 7,
          "name": "ST GIRONS, FR",
          "rolling_average_irrigation_requirement": 5.376642753650619,
          "year": 1991
         },
         {
          "COUNTRY_CODE": "FR",
          "month": 7,
          "name": "STRASBOURG ENTZHEIM, FR",
          "rolling_average_irrigation_requirement": 5.376642753650619,
          "year": 1991
         },
         {
          "COUNTRY_CODE": "FR",
          "month": 7,
          "name": "TARBES OSSUN, FR",
          "rolling_average_irrigation_requirement": 5.376642753650619,
          "year": 1991
         },
         {
          "COUNTRY_CODE": "FR",
          "month": 7,
          "name": "TOULOUSE BLAGNAC, FR",
          "rolling_average_irrigation_requirement": 5.376642753650619,
          "year": 1991
         },
         {
          "COUNTRY_CODE": "FR",
          "month": 7,
          "name": "TOURS, FR",
          "rolling_average_irrigation_requirement": 5.376642753650619,
          "year": 1991
         },
         {
          "COUNTRY_CODE": "FR",
          "month": 7,
          "name": "TROYES BARBEREY, FR",
          "rolling_average_irrigation_requirement": 5.376642753650619,
          "year": 1991
         },
         {
          "COUNTRY_CODE": "FR",
          "month": 7,
          "name": "VAL DE LOIRE, FR",
          "rolling_average_irrigation_requirement": 5.376883628311547,
          "year": 1991
         },
         {
          "COUNTRY_CODE": "FR",
          "month": 7,
          "name": "VALLEE DE SEINE, FR",
          "rolling_average_irrigation_requirement": 5.353130150597786,
          "year": 1991
         },
         {
          "COUNTRY_CODE": "FR",
          "month": 7,
          "name": "VOUZIERS, FR",
          "rolling_average_irrigation_requirement": 5.376642753650619,
          "year": 1991
         },
         {
          "COUNTRY_CODE": "FR",
          "month": 7,
          "name": "ABBEVILLE, FR",
          "rolling_average_irrigation_requirement": 5.293960722026489,
          "year": 1992
         },
         {
          "COUNTRY_CODE": "FR",
          "month": 7,
          "name": "AJACCIO, FR",
          "rolling_average_irrigation_requirement": 5.297902847262202,
          "year": 1992
         },
         {
          "COUNTRY_CODE": "FR",
          "month": 7,
          "name": "ALENCON VALFRAMBERT, FR",
          "rolling_average_irrigation_requirement": 5.298303672431636,
          "year": 1992
         },
         {
          "COUNTRY_CODE": "FR",
          "month": 7,
          "name": "AMIENS GLISY, FR",
          "rolling_average_irrigation_requirement": 5.297902847262202,
          "year": 1992
         },
         {
          "COUNTRY_CODE": "FR",
          "month": 7,
          "name": "ANTICHAN, FR",
          "rolling_average_irrigation_requirement": 5.287241942874432,
          "year": 1992
         },
         {
          "COUNTRY_CODE": "FR",
          "month": 7,
          "name": "AUVERGNE, FR",
          "rolling_average_irrigation_requirement": 5.293156948593364,
          "year": 1992
         },
         {
          "COUNTRY_CODE": "FR",
          "month": 7,
          "name": "BALE MULHOUSE, FR",
          "rolling_average_irrigation_requirement": 5.298312488119421,
          "year": 1992
         },
         {
          "COUNTRY_CODE": "FR",
          "month": 7,
          "name": "BALLOTS, FR",
          "rolling_average_irrigation_requirement": 5.297902847262202,
          "year": 1992
         },
         {
          "COUNTRY_CODE": "FR",
          "month": 7,
          "name": "BARBEREY, FR",
          "rolling_average_irrigation_requirement": 5.286200327940358,
          "year": 1992
         },
         {
          "COUNTRY_CODE": "FR",
          "month": 7,
          "name": "BASEL MULHOUSE, FR",
          "rolling_average_irrigation_requirement": 5.297902847262202,
          "year": 1992
         },
         {
          "COUNTRY_CODE": "FR",
          "month": 7,
          "name": "BASTIA, FR",
          "rolling_average_irrigation_requirement": 5.297902847262202,
          "year": 1992
         },
         {
          "COUNTRY_CODE": "FR",
          "month": 7,
          "name": "BELLE ILE LE TALUT, FR",
          "rolling_average_irrigation_requirement": 5.297902847262202,
          "year": 1992
         },
         {
          "COUNTRY_CODE": "FR",
          "month": 7,
          "name": "BELLEGARDE, FR",
          "rolling_average_irrigation_requirement": 5.295734421156063,
          "year": 1992
         },
         {
          "COUNTRY_CODE": "FR",
          "month": 7,
          "name": "BIARD, FR",
          "rolling_average_irrigation_requirement": 5.292667378944185,
          "year": 1992
         },
         {
          "COUNTRY_CODE": "FR",
          "month": 7,
          "name": "BORDEAUX MERIGNAC, FR",
          "rolling_average_irrigation_requirement": 5.297902847262202,
          "year": 1992
         },
         {
          "COUNTRY_CODE": "FR",
          "month": 7,
          "name": "BOURGES, FR",
          "rolling_average_irrigation_requirement": 5.297902847262202,
          "year": 1992
         },
         {
          "COUNTRY_CODE": "FR",
          "month": 7,
          "name": "BREST GUIPAVAS, FR",
          "rolling_average_irrigation_requirement": 5.297902847262202,
          "year": 1992
         },
         {
          "COUNTRY_CODE": "FR",
          "month": 7,
          "name": "BRETIGNY SUR ORGE, FR",
          "rolling_average_irrigation_requirement": 5.297902847262202,
          "year": 1992
         },
         {
          "COUNTRY_CODE": "FR",
          "month": 7,
          "name": "CAEN CARPIQUET, FR",
          "rolling_average_irrigation_requirement": 5.297902847262202,
          "year": 1992
         },
         {
          "COUNTRY_CODE": "FR",
          "month": 7,
          "name": "CAMPO DELL ORO, FR",
          "rolling_average_irrigation_requirement": 5.293035490686576,
          "year": 1992
         },
         {
          "COUNTRY_CODE": "FR",
          "month": 7,
          "name": "CAP CEPET, FR",
          "rolling_average_irrigation_requirement": 5.2889241701297625,
          "year": 1992
         },
         {
          "COUNTRY_CODE": "FR",
          "month": 7,
          "name": "CARPIQUET, FR",
          "rolling_average_irrigation_requirement": 5.2951053926430145,
          "year": 1992
         },
         {
          "COUNTRY_CODE": "FR",
          "month": 7,
          "name": "CATUS, FR",
          "rolling_average_irrigation_requirement": 5.297902847262202,
          "year": 1992
         },
         {
          "COUNTRY_CODE": "FR",
          "month": 7,
          "name": "CHASSIRON, FR",
          "rolling_average_irrigation_requirement": 5.267035568701188,
          "year": 1992
         },
         {
          "COUNTRY_CODE": "FR",
          "month": 7,
          "name": "CHATILLON COLIGNY, FR",
          "rolling_average_irrigation_requirement": 5.297902847262202,
          "year": 1992
         },
         {
          "COUNTRY_CODE": "FR",
          "month": 7,
          "name": "CHATILLON SUR SEINE, FR",
          "rolling_average_irrigation_requirement": 5.297902847262202,
          "year": 1992
         },
         {
          "COUNTRY_CODE": "FR",
          "month": 7,
          "name": "CLERMONT FERRAND, FR",
          "rolling_average_irrigation_requirement": 5.297902847262202,
          "year": 1992
         },
         {
          "COUNTRY_CODE": "FR",
          "month": 7,
          "name": "COTE D AZUR, FR",
          "rolling_average_irrigation_requirement": 5.295734421156063,
          "year": 1992
         },
         {
          "COUNTRY_CODE": "FR",
          "month": 7,
          "name": "DEOLS CHATEAUROUX AERODROME DE, FR",
          "rolling_average_irrigation_requirement": 5.297902847262202,
          "year": 1992
         },
         {
          "COUNTRY_CODE": "FR",
          "month": 7,
          "name": "DIJON LONGVIC, FR",
          "rolling_average_irrigation_requirement": 5.297902847262202,
          "year": 1992
         },
         {
          "COUNTRY_CODE": "FR",
          "month": 7,
          "name": "EMBRUN, FR",
          "rolling_average_irrigation_requirement": 5.298104309978869,
          "year": 1992
         },
         {
          "COUNTRY_CODE": "FR",
          "month": 7,
          "name": "ESPOEY, FR",
          "rolling_average_irrigation_requirement": 5.297902847262202,
          "year": 1992
         },
         {
          "COUNTRY_CODE": "FR",
          "month": 7,
          "name": "ESSEY, FR",
          "rolling_average_irrigation_requirement": 5.292086204545216,
          "year": 1992
         },
         {
          "COUNTRY_CODE": "FR",
          "month": 7,
          "name": "FAVERGES DE LA TOUR, FR",
          "rolling_average_irrigation_requirement": 5.297902847262202,
          "year": 1992
         },
         {
          "COUNTRY_CODE": "FR",
          "month": 7,
          "name": "GOURDON, FR",
          "rolling_average_irrigation_requirement": 5.297902847262202,
          "year": 1992
         },
         {
          "COUNTRY_CODE": "FR",
          "month": 7,
          "name": "GUIPAVAS, FR",
          "rolling_average_irrigation_requirement": 5.290058891463606,
          "year": 1992
         },
         {
          "COUNTRY_CODE": "FR",
          "month": 7,
          "name": "LA SOUTERRAINE, FR",
          "rolling_average_irrigation_requirement": 5.297902847262202,
          "year": 1992
         },
         {
          "COUNTRY_CODE": "FR",
          "month": 7,
          "name": "LE MASSEGROS, FR",
          "rolling_average_irrigation_requirement": 5.297902847262202,
          "year": 1992
         },
         {
          "COUNTRY_CODE": "FR",
          "month": 7,
          "name": "LE PUY LOUDES, FR",
          "rolling_average_irrigation_requirement": 5.297902847262202,
          "year": 1992
         },
         {
          "COUNTRY_CODE": "FR",
          "month": 7,
          "name": "LESQUIN, FR",
          "rolling_average_irrigation_requirement": 5.296418857533352,
          "year": 1992
         },
         {
          "COUNTRY_CODE": "FR",
          "month": 7,
          "name": "LEZAY, FR",
          "rolling_average_irrigation_requirement": 5.297902847262202,
          "year": 1992
         },
         {
          "COUNTRY_CODE": "FR",
          "month": 7,
          "name": "LILLE LESQUIN, FR",
          "rolling_average_irrigation_requirement": 5.297902847262202,
          "year": 1992
         },
         {
          "COUNTRY_CODE": "FR",
          "month": 7,
          "name": "LIMOGES BELLEGARDE, FR",
          "rolling_average_irrigation_requirement": 5.297902847262202,
          "year": 1992
         },
         {
          "COUNTRY_CODE": "FR",
          "month": 7,
          "name": "LONGVIC, FR",
          "rolling_average_irrigation_requirement": 5.298312488119421,
          "year": 1992
         },
         {
          "COUNTRY_CODE": "FR",
          "month": 7,
          "name": "LOUDES, FR",
          "rolling_average_irrigation_requirement": 5.3030233795654835,
          "year": 1992
         },
         {
          "COUNTRY_CODE": "FR",
          "month": 7,
          "name": "LOURDES, FR",
          "rolling_average_irrigation_requirement": 5.297731267816149,
          "year": 1992
         },
         {
          "COUNTRY_CODE": "FR",
          "month": 7,
          "name": "LYON ST EXUPERY, FR",
          "rolling_average_irrigation_requirement": 5.297902847262202,
          "year": 1992
         },
         {
          "COUNTRY_CODE": "FR",
          "month": 7,
          "name": "MARSEILLE OBS. PALAIS LONCHAMP, FR",
          "rolling_average_irrigation_requirement": 5.297902847262202,
          "year": 1992
         },
         {
          "COUNTRY_CODE": "FR",
          "month": 7,
          "name": "MARSEILLES MARIGNANE, FR",
          "rolling_average_irrigation_requirement": 5.297902847262202,
          "year": 1992
         },
         {
          "COUNTRY_CODE": "FR",
          "month": 7,
          "name": "MEDITERRANEE, FR",
          "rolling_average_irrigation_requirement": 5.298977418280324,
          "year": 1992
         },
         {
          "COUNTRY_CODE": "FR",
          "month": 7,
          "name": "METZ FRESCATY, FR",
          "rolling_average_irrigation_requirement": 5.298312488119421,
          "year": 1992
         },
         {
          "COUNTRY_CODE": "FR",
          "month": 7,
          "name": "MILLAU, FR",
          "rolling_average_irrigation_requirement": 5.304241953078898,
          "year": 1992
         },
         {
          "COUNTRY_CODE": "FR",
          "month": 7,
          "name": "MONT AIGOUAL, FR",
          "rolling_average_irrigation_requirement": 5.297902847262202,
          "year": 1992
         },
         {
          "COUNTRY_CODE": "FR",
          "month": 7,
          "name": "MONT DE MARSAN, FR",
          "rolling_average_irrigation_requirement": 5.306302944210869,
          "year": 1992
         },
         {
          "COUNTRY_CODE": "FR",
          "month": 7,
          "name": "MONTCORNET, FR",
          "rolling_average_irrigation_requirement": 5.297902847262202,
          "year": 1992
         },
         {
          "COUNTRY_CODE": "FR",
          "month": 7,
          "name": "MONTELIMAR, FR",
          "rolling_average_irrigation_requirement": 5.297902847262202,
          "year": 1992
         },
         {
          "COUNTRY_CODE": "FR",
          "month": 7,
          "name": "MONTMORILLON, FR",
          "rolling_average_irrigation_requirement": 5.297902847262202,
          "year": 1992
         },
         {
          "COUNTRY_CODE": "FR",
          "month": 7,
          "name": "MONTPELLIER AEROPORT, FR",
          "rolling_average_irrigation_requirement": 5.297902847262202,
          "year": 1992
         },
         {
          "COUNTRY_CODE": "FR",
          "month": 7,
          "name": "NANCY OCHEY, FR",
          "rolling_average_irrigation_requirement": 5.297902847262202,
          "year": 1992
         },
         {
          "COUNTRY_CODE": "FR",
          "month": 7,
          "name": "NANTES BOUGUENAIS, FR",
          "rolling_average_irrigation_requirement": 5.297902847262202,
          "year": 1992
         },
         {
          "COUNTRY_CODE": "FR",
          "month": 7,
          "name": "NICE, FR",
          "rolling_average_irrigation_requirement": 5.297902847262202,
          "year": 1992
         },
         {
          "COUNTRY_CODE": "FR",
          "month": 7,
          "name": "ODEREN, FR",
          "rolling_average_irrigation_requirement": 5.297902847262202,
          "year": 1992
         },
         {
          "COUNTRY_CODE": "FR",
          "month": 7,
          "name": "ORLY, FR",
          "rolling_average_irrigation_requirement": 5.297902847262202,
          "year": 1992
         },
         {
          "COUNTRY_CODE": "FR",
          "month": 7,
          "name": "OUESSANT, FR",
          "rolling_average_irrigation_requirement": 5.280372008378784,
          "year": 1992
         },
         {
          "COUNTRY_CODE": "FR",
          "month": 7,
          "name": "PAMIERS, FR",
          "rolling_average_irrigation_requirement": 5.297902847262202,
          "year": 1992
         },
         {
          "COUNTRY_CODE": "FR",
          "month": 7,
          "name": "PARIS LE BOURGET, FR",
          "rolling_average_irrigation_requirement": 5.297902847262202,
          "year": 1992
         },
         {
          "COUNTRY_CODE": "FR",
          "month": 7,
          "name": "PERPIGNAN, FR",
          "rolling_average_irrigation_requirement": 5.297902847262202,
          "year": 1992
         },
         {
          "COUNTRY_CODE": "FR",
          "month": 7,
          "name": "PLOUMANAC H, FR",
          "rolling_average_irrigation_requirement": 5.297902847262202,
          "year": 1992
         },
         {
          "COUNTRY_CODE": "FR",
          "month": 7,
          "name": "POITIERS BIARD, FR",
          "rolling_average_irrigation_requirement": 5.297902847262202,
          "year": 1992
         },
         {
          "COUNTRY_CODE": "FR",
          "month": 7,
          "name": "PORETTA, FR",
          "rolling_average_irrigation_requirement": 5.297154097118155,
          "year": 1992
         },
         {
          "COUNTRY_CODE": "FR",
          "month": 7,
          "name": "PORT AUX FRANCAIS ILES KERGU, FR",
          "rolling_average_irrigation_requirement": 5.300657035389465,
          "year": 1992
         },
         {
          "COUNTRY_CODE": "FR",
          "month": 7,
          "name": "PTE DE CHASSIRON, FR",
          "rolling_average_irrigation_requirement": 5.297902847262202,
          "year": 1992
         },
         {
          "COUNTRY_CODE": "FR",
          "month": 7,
          "name": "PTE DE LA HAGUE, FR",
          "rolling_average_irrigation_requirement": 5.297902847262202,
          "year": 1992
         },
         {
          "COUNTRY_CODE": "FR",
          "month": 7,
          "name": "RENNES ST JACQUES, FR",
          "rolling_average_irrigation_requirement": 5.297902847262202,
          "year": 1992
         },
         {
          "COUNTRY_CODE": "FR",
          "month": 7,
          "name": "ROUEN BOOS, FR",
          "rolling_average_irrigation_requirement": 5.297902847262202,
          "year": 1992
         },
         {
          "COUNTRY_CODE": "FR",
          "month": 7,
          "name": "SAINT EXUPERY, FR",
          "rolling_average_irrigation_requirement": 5.300193175389501,
          "year": 1992
         },
         {
          "COUNTRY_CODE": "FR",
          "month": 7,
          "name": "SAINT GERMAIN LES BELLES, FR",
          "rolling_average_irrigation_requirement": 5.297902847262202,
          "year": 1992
         },
         {
          "COUNTRY_CODE": "FR",
          "month": 7,
          "name": "ST GIRONS, FR",
          "rolling_average_irrigation_requirement": 5.297902847262202,
          "year": 1992
         },
         {
          "COUNTRY_CODE": "FR",
          "month": 7,
          "name": "STRASBOURG ENTZHEIM, FR",
          "rolling_average_irrigation_requirement": 5.297902847262202,
          "year": 1992
         },
         {
          "COUNTRY_CODE": "FR",
          "month": 7,
          "name": "TARBES OSSUN, FR",
          "rolling_average_irrigation_requirement": 5.297902847262202,
          "year": 1992
         },
         {
          "COUNTRY_CODE": "FR",
          "month": 7,
          "name": "TOULOUSE BLAGNAC, FR",
          "rolling_average_irrigation_requirement": 5.297902847262202,
          "year": 1992
         },
         {
          "COUNTRY_CODE": "FR",
          "month": 7,
          "name": "TOURS, FR",
          "rolling_average_irrigation_requirement": 5.297902847262202,
          "year": 1992
         },
         {
          "COUNTRY_CODE": "FR",
          "month": 7,
          "name": "TROYES BARBEREY, FR",
          "rolling_average_irrigation_requirement": 5.297902847262202,
          "year": 1992
         },
         {
          "COUNTRY_CODE": "FR",
          "month": 7,
          "name": "VAL DE LOIRE, FR",
          "rolling_average_irrigation_requirement": 5.297902847262202,
          "year": 1992
         },
         {
          "COUNTRY_CODE": "FR",
          "month": 7,
          "name": "VALLEE DE SEINE, FR",
          "rolling_average_irrigation_requirement": 5.295408817737765,
          "year": 1992
         },
         {
          "COUNTRY_CODE": "FR",
          "month": 7,
          "name": "VOUZIERS, FR",
          "rolling_average_irrigation_requirement": 5.297902847262202,
          "year": 1992
         },
         {
          "COUNTRY_CODE": "FR",
          "month": 7,
          "name": "ABBEVILLE, FR",
          "rolling_average_irrigation_requirement": 5.292564807548501,
          "year": 1993
         },
         {
          "COUNTRY_CODE": "FR",
          "month": 7,
          "name": "AJACCIO, FR",
          "rolling_average_irrigation_requirement": 5.298840162905559,
          "year": 1993
         },
         {
          "COUNTRY_CODE": "FR",
          "month": 7,
          "name": "ALENCON VALFRAMBERT, FR",
          "rolling_average_irrigation_requirement": 5.298702261159281,
          "year": 1993
         },
         {
          "COUNTRY_CODE": "FR",
          "month": 7,
          "name": "AMIENS GLISY, FR",
          "rolling_average_irrigation_requirement": 5.298840162905559,
          "year": 1993
         },
         {
          "COUNTRY_CODE": "FR",
          "month": 7,
          "name": "ANTICHAN, FR",
          "rolling_average_irrigation_requirement": 5.3106303314972365,
          "year": 1993
         },
         {
          "COUNTRY_CODE": "FR",
          "month": 7,
          "name": "AUVERGNE, FR",
          "rolling_average_irrigation_requirement": 5.291194379653649,
          "year": 1993
         },
         {
          "COUNTRY_CODE": "FR",
          "month": 7,
          "name": "BALE MULHOUSE, FR",
          "rolling_average_irrigation_requirement": 5.306895518044189,
          "year": 1993
         },
         {
          "COUNTRY_CODE": "FR",
          "month": 7,
          "name": "BALLOTS, FR",
          "rolling_average_irrigation_requirement": 5.298840162905559,
          "year": 1993
         },
         {
          "COUNTRY_CODE": "FR",
          "month": 7,
          "name": "BARBEREY, FR",
          "rolling_average_irrigation_requirement": 5.310732549311703,
          "year": 1993
         },
         {
          "COUNTRY_CODE": "FR",
          "month": 7,
          "name": "BASEL MULHOUSE, FR",
          "rolling_average_irrigation_requirement": 5.298840162905559,
          "year": 1993
         },
         {
          "COUNTRY_CODE": "FR",
          "month": 7,
          "name": "BASTIA, FR",
          "rolling_average_irrigation_requirement": 5.298840162905559,
          "year": 1993
         },
         {
          "COUNTRY_CODE": "FR",
          "month": 7,
          "name": "BELLE ILE LE TALUT, FR",
          "rolling_average_irrigation_requirement": 5.298840162905559,
          "year": 1993
         },
         {
          "COUNTRY_CODE": "FR",
          "month": 7,
          "name": "BELLEGARDE, FR",
          "rolling_average_irrigation_requirement": 5.306489210871005,
          "year": 1993
         },
         {
          "COUNTRY_CODE": "FR",
          "month": 7,
          "name": "BIARD, FR",
          "rolling_average_irrigation_requirement": 5.301540648953141,
          "year": 1993
         },
         {
          "COUNTRY_CODE": "FR",
          "month": 7,
          "name": "BORDEAUX MERIGNAC, FR",
          "rolling_average_irrigation_requirement": 5.298840162905559,
          "year": 1993
         },
         {
          "COUNTRY_CODE": "FR",
          "month": 7,
          "name": "BOURGES, FR",
          "rolling_average_irrigation_requirement": 5.298840162905559,
          "year": 1993
         },
         {
          "COUNTRY_CODE": "FR",
          "month": 7,
          "name": "BREST GUIPAVAS, FR",
          "rolling_average_irrigation_requirement": 5.298840162905559,
          "year": 1993
         },
         {
          "COUNTRY_CODE": "FR",
          "month": 7,
          "name": "BRETIGNY SUR ORGE, FR",
          "rolling_average_irrigation_requirement": 5.298840162905559,
          "year": 1993
         },
         {
          "COUNTRY_CODE": "FR",
          "month": 7,
          "name": "CAEN CARPIQUET, FR",
          "rolling_average_irrigation_requirement": 5.298840162905559,
          "year": 1993
         },
         {
          "COUNTRY_CODE": "FR",
          "month": 7,
          "name": "CAMPO DELL ORO, FR",
          "rolling_average_irrigation_requirement": 5.298840162905559,
          "year": 1993
         },
         {
          "COUNTRY_CODE": "FR",
          "month": 7,
          "name": "CAP CEPET, FR",
          "rolling_average_irrigation_requirement": 5.289059959597903,
          "year": 1993
         },
         {
          "COUNTRY_CODE": "FR",
          "month": 7,
          "name": "CARPIQUET, FR",
          "rolling_average_irrigation_requirement": 5.292001178122872,
          "year": 1993
         },
         {
          "COUNTRY_CODE": "FR",
          "month": 7,
          "name": "CATUS, FR",
          "rolling_average_irrigation_requirement": 5.298840162905559,
          "year": 1993
         },
         {
          "COUNTRY_CODE": "FR",
          "month": 7,
          "name": "CHASSIRON, FR",
          "rolling_average_irrigation_requirement": 5.301334516433123,
          "year": 1993
         },
         {
          "COUNTRY_CODE": "FR",
          "month": 7,
          "name": "CHATILLON COLIGNY, FR",
          "rolling_average_irrigation_requirement": 5.298840162905559,
          "year": 1993
         },
         {
          "COUNTRY_CODE": "FR",
          "month": 7,
          "name": "CHATILLON SUR SEINE, FR",
          "rolling_average_irrigation_requirement": 5.298840162905559,
          "year": 1993
         },
         {
          "COUNTRY_CODE": "FR",
          "month": 7,
          "name": "CLERMONT FERRAND, FR",
          "rolling_average_irrigation_requirement": 5.298840162905559,
          "year": 1993
         },
         {
          "COUNTRY_CODE": "FR",
          "month": 7,
          "name": "COTE D AZUR, FR",
          "rolling_average_irrigation_requirement": 5.302448469090408,
          "year": 1993
         },
         {
          "COUNTRY_CODE": "FR",
          "month": 7,
          "name": "DEOLS CHATEAUROUX AERODROME DE, FR",
          "rolling_average_irrigation_requirement": 5.298840162905559,
          "year": 1993
         },
         {
          "COUNTRY_CODE": "FR",
          "month": 7,
          "name": "DIJON LONGVIC, FR",
          "rolling_average_irrigation_requirement": 5.298840162905559,
          "year": 1993
         },
         {
          "COUNTRY_CODE": "FR",
          "month": 7,
          "name": "EMBRUN, FR",
          "rolling_average_irrigation_requirement": 5.292741305041181,
          "year": 1993
         },
         {
          "COUNTRY_CODE": "FR",
          "month": 7,
          "name": "ESPOEY, FR",
          "rolling_average_irrigation_requirement": 5.298840162905559,
          "year": 1993
         },
         {
          "COUNTRY_CODE": "FR",
          "month": 7,
          "name": "ESSEY, FR",
          "rolling_average_irrigation_requirement": 5.278657624317994,
          "year": 1993
         },
         {
          "COUNTRY_CODE": "FR",
          "month": 7,
          "name": "FAVERGES DE LA TOUR, FR",
          "rolling_average_irrigation_requirement": 5.298840162905559,
          "year": 1993
         },
         {
          "COUNTRY_CODE": "FR",
          "month": 7,
          "name": "GOURDON, FR",
          "rolling_average_irrigation_requirement": 5.298840162905559,
          "year": 1993
         },
         {
          "COUNTRY_CODE": "FR",
          "month": 7,
          "name": "GUIPAVAS, FR",
          "rolling_average_irrigation_requirement": 5.263778373644932,
          "year": 1993
         },
         {
          "COUNTRY_CODE": "FR",
          "month": 7,
          "name": "LA SOUTERRAINE, FR",
          "rolling_average_irrigation_requirement": 5.298840162905559,
          "year": 1993
         },
         {
          "COUNTRY_CODE": "FR",
          "month": 7,
          "name": "LE MASSEGROS, FR",
          "rolling_average_irrigation_requirement": 5.298840162905559,
          "year": 1993
         },
         {
          "COUNTRY_CODE": "FR",
          "month": 7,
          "name": "LE PUY LOUDES, FR",
          "rolling_average_irrigation_requirement": 5.298840162905559,
          "year": 1993
         },
         {
          "COUNTRY_CODE": "FR",
          "month": 7,
          "name": "LESQUIN, FR",
          "rolling_average_irrigation_requirement": 5.282888920993782,
          "year": 1993
         },
         {
          "COUNTRY_CODE": "FR",
          "month": 7,
          "name": "LEZAY, FR",
          "rolling_average_irrigation_requirement": 5.298840162905559,
          "year": 1993
         },
         {
          "COUNTRY_CODE": "FR",
          "month": 7,
          "name": "LILLE LESQUIN, FR",
          "rolling_average_irrigation_requirement": 5.298840162905559,
          "year": 1993
         },
         {
          "COUNTRY_CODE": "FR",
          "month": 7,
          "name": "LIMOGES BELLEGARDE, FR",
          "rolling_average_irrigation_requirement": 5.298840162905559,
          "year": 1993
         },
         {
          "COUNTRY_CODE": "FR",
          "month": 7,
          "name": "LONGVIC, FR",
          "rolling_average_irrigation_requirement": 5.307960204563378,
          "year": 1993
         },
         {
          "COUNTRY_CODE": "FR",
          "month": 7,
          "name": "LOUDES, FR",
          "rolling_average_irrigation_requirement": 5.307227217518928,
          "year": 1993
         },
         {
          "COUNTRY_CODE": "FR",
          "month": 7,
          "name": "LOURDES, FR",
          "rolling_average_irrigation_requirement": 5.297655771231701,
          "year": 1993
         },
         {
          "COUNTRY_CODE": "FR",
          "month": 7,
          "name": "LYON ST EXUPERY, FR",
          "rolling_average_irrigation_requirement": 5.298840162905559,
          "year": 1993
         },
         {
          "COUNTRY_CODE": "FR",
          "month": 7,
          "name": "MARSEILLE OBS. PALAIS LONCHAMP, FR",
          "rolling_average_irrigation_requirement": 5.298840162905559,
          "year": 1993
         },
         {
          "COUNTRY_CODE": "FR",
          "month": 7,
          "name": "MARSEILLES MARIGNANE, FR",
          "rolling_average_irrigation_requirement": 5.298840162905559,
          "year": 1993
         },
         {
          "COUNTRY_CODE": "FR",
          "month": 7,
          "name": "MEDITERRANEE, FR",
          "rolling_average_irrigation_requirement": 5.274661419939973,
          "year": 1993
         },
         {
          "COUNTRY_CODE": "FR",
          "month": 7,
          "name": "METZ FRESCATY, FR",
          "rolling_average_irrigation_requirement": 5.290480257234528,
          "year": 1993
         },
         {
          "COUNTRY_CODE": "FR",
          "month": 7,
          "name": "MILLAU, FR",
          "rolling_average_irrigation_requirement": 5.3140093160968815,
          "year": 1993
         },
         {
          "COUNTRY_CODE": "FR",
          "month": 7,
          "name": "MONT AIGOUAL, FR",
          "rolling_average_irrigation_requirement": 5.298840162905559,
          "year": 1993
         },
         {
          "COUNTRY_CODE": "FR",
          "month": 7,
          "name": "MONT DE MARSAN, FR",
          "rolling_average_irrigation_requirement": 5.3016806526457385,
          "year": 1993
         },
         {
          "COUNTRY_CODE": "FR",
          "month": 7,
          "name": "MONTCORNET, FR",
          "rolling_average_irrigation_requirement": 5.298840162905559,
          "year": 1993
         },
         {
          "COUNTRY_CODE": "FR",
          "month": 7,
          "name": "MONTELIMAR, FR",
          "rolling_average_irrigation_requirement": 5.298840162905559,
          "year": 1993
         },
         {
          "COUNTRY_CODE": "FR",
          "month": 7,
          "name": "MONTMORILLON, FR",
          "rolling_average_irrigation_requirement": 5.298840162905559,
          "year": 1993
         },
         {
          "COUNTRY_CODE": "FR",
          "month": 7,
          "name": "MONTPELLIER AEROPORT, FR",
          "rolling_average_irrigation_requirement": 5.298840162905559,
          "year": 1993
         },
         {
          "COUNTRY_CODE": "FR",
          "month": 7,
          "name": "NANCY OCHEY, FR",
          "rolling_average_irrigation_requirement": 5.298840162905559,
          "year": 1993
         },
         {
          "COUNTRY_CODE": "FR",
          "month": 7,
          "name": "NANTES BOUGUENAIS, FR",
          "rolling_average_irrigation_requirement": 5.298840162905559,
          "year": 1993
         },
         {
          "COUNTRY_CODE": "FR",
          "month": 7,
          "name": "NICE, FR",
          "rolling_average_irrigation_requirement": 5.298840162905559,
          "year": 1993
         },
         {
          "COUNTRY_CODE": "FR",
          "month": 7,
          "name": "ODEREN, FR",
          "rolling_average_irrigation_requirement": 5.298840162905559,
          "year": 1993
         },
         {
          "COUNTRY_CODE": "FR",
          "month": 7,
          "name": "ORLY, FR",
          "rolling_average_irrigation_requirement": 5.298840162905559,
          "year": 1993
         },
         {
          "COUNTRY_CODE": "FR",
          "month": 7,
          "name": "OUESSANT, FR",
          "rolling_average_irrigation_requirement": 5.271640632506012,
          "year": 1993
         },
         {
          "COUNTRY_CODE": "FR",
          "month": 7,
          "name": "PAMIERS, FR",
          "rolling_average_irrigation_requirement": 5.298840162905559,
          "year": 1993
         },
         {
          "COUNTRY_CODE": "FR",
          "month": 7,
          "name": "PARIS LE BOURGET, FR",
          "rolling_average_irrigation_requirement": 5.298840162905559,
          "year": 1993
         },
         {
          "COUNTRY_CODE": "FR",
          "month": 7,
          "name": "PERPIGNAN, FR",
          "rolling_average_irrigation_requirement": 5.298840162905559,
          "year": 1993
         },
         {
          "COUNTRY_CODE": "FR",
          "month": 7,
          "name": "PLOUMANAC H, FR",
          "rolling_average_irrigation_requirement": 5.298840162905559,
          "year": 1993
         },
         {
          "COUNTRY_CODE": "FR",
          "month": 7,
          "name": "POITIERS BIARD, FR",
          "rolling_average_irrigation_requirement": 5.298840162905559,
          "year": 1993
         },
         {
          "COUNTRY_CODE": "FR",
          "month": 7,
          "name": "PORETTA, FR",
          "rolling_average_irrigation_requirement": 5.292674296602716,
          "year": 1993
         },
         {
          "COUNTRY_CODE": "FR",
          "month": 7,
          "name": "PORT AUX FRANCAIS ILES KERGU, FR",
          "rolling_average_irrigation_requirement": 5.265640470402358,
          "year": 1993
         },
         {
          "COUNTRY_CODE": "FR",
          "month": 7,
          "name": "PTE DE CHASSIRON, FR",
          "rolling_average_irrigation_requirement": 5.298840162905559,
          "year": 1993
         },
         {
          "COUNTRY_CODE": "FR",
          "month": 7,
          "name": "PTE DE LA HAGUE, FR",
          "rolling_average_irrigation_requirement": 5.298840162905559,
          "year": 1993
         },
         {
          "COUNTRY_CODE": "FR",
          "month": 7,
          "name": "RENNES ST JACQUES, FR",
          "rolling_average_irrigation_requirement": 5.298840162905559,
          "year": 1993
         },
         {
          "COUNTRY_CODE": "FR",
          "month": 7,
          "name": "ROUEN BOOS, FR",
          "rolling_average_irrigation_requirement": 5.298840162905559,
          "year": 1993
         },
         {
          "COUNTRY_CODE": "FR",
          "month": 7,
          "name": "SAINT EXUPERY, FR",
          "rolling_average_irrigation_requirement": 5.307372666104984,
          "year": 1993
         },
         {
          "COUNTRY_CODE": "FR",
          "month": 7,
          "name": "SAINT GERMAIN LES BELLES, FR",
          "rolling_average_irrigation_requirement": 5.298840162905559,
          "year": 1993
         },
         {
          "COUNTRY_CODE": "FR",
          "month": 7,
          "name": "ST GIRONS, FR",
          "rolling_average_irrigation_requirement": 5.298840162905559,
          "year": 1993
         },
         {
          "COUNTRY_CODE": "FR",
          "month": 7,
          "name": "STRASBOURG ENTZHEIM, FR",
          "rolling_average_irrigation_requirement": 5.298840162905559,
          "year": 1993
         },
         {
          "COUNTRY_CODE": "FR",
          "month": 7,
          "name": "TARBES OSSUN, FR",
          "rolling_average_irrigation_requirement": 5.298840162905559,
          "year": 1993
         },
         {
          "COUNTRY_CODE": "FR",
          "month": 7,
          "name": "TOULOUSE BLAGNAC, FR",
          "rolling_average_irrigation_requirement": 5.298840162905559,
          "year": 1993
         },
         {
          "COUNTRY_CODE": "FR",
          "month": 7,
          "name": "TOURS, FR",
          "rolling_average_irrigation_requirement": 5.298840162905559,
          "year": 1993
         },
         {
          "COUNTRY_CODE": "FR",
          "month": 7,
          "name": "TROYES BARBEREY, FR",
          "rolling_average_irrigation_requirement": 5.298840162905559,
          "year": 1993
         },
         {
          "COUNTRY_CODE": "FR",
          "month": 7,
          "name": "VAL DE LOIRE, FR",
          "rolling_average_irrigation_requirement": 5.31322435804653,
          "year": 1993
         },
         {
          "COUNTRY_CODE": "FR",
          "month": 7,
          "name": "VALLEE DE SEINE, FR",
          "rolling_average_irrigation_requirement": 5.292890419720994,
          "year": 1993
         },
         {
          "COUNTRY_CODE": "FR",
          "month": 7,
          "name": "VOUZIERS, FR",
          "rolling_average_irrigation_requirement": 5.298840162905559,
          "year": 1993
         },
         {
          "COUNTRY_CODE": "FR",
          "month": 7,
          "name": "ABBEVILLE, FR",
          "rolling_average_irrigation_requirement": 5.639469595562277,
          "year": 1994
         },
         {
          "COUNTRY_CODE": "FR",
          "month": 7,
          "name": "AJACCIO, FR",
          "rolling_average_irrigation_requirement": 5.639756149140327,
          "year": 1994
         },
         {
          "COUNTRY_CODE": "FR",
          "month": 7,
          "name": "ALENCON VALFRAMBERT, FR",
          "rolling_average_irrigation_requirement": 5.6405813403384055,
          "year": 1994
         },
         {
          "COUNTRY_CODE": "FR",
          "month": 7,
          "name": "AMIENS GLISY, FR",
          "rolling_average_irrigation_requirement": 5.639756149140327,
          "year": 1994
         },
         {
          "COUNTRY_CODE": "FR",
          "month": 7,
          "name": "ANTICHAN, FR",
          "rolling_average_irrigation_requirement": 5.639516311158142,
          "year": 1994
         },
         {
          "COUNTRY_CODE": "FR",
          "month": 7,
          "name": "AUVERGNE, FR",
          "rolling_average_irrigation_requirement": 5.629315171895236,
          "year": 1994
         },
         {
          "COUNTRY_CODE": "FR",
          "month": 7,
          "name": "BALE MULHOUSE, FR",
          "rolling_average_irrigation_requirement": 5.640688058670173,
          "year": 1994
         },
         {
          "COUNTRY_CODE": "FR",
          "month": 7,
          "name": "BALLOTS, FR",
          "rolling_average_irrigation_requirement": 5.639756149140327,
          "year": 1994
         },
         {
          "COUNTRY_CODE": "FR",
          "month": 7,
          "name": "BARBEREY, FR",
          "rolling_average_irrigation_requirement": 5.6372552833233085,
          "year": 1994
         },
         {
          "COUNTRY_CODE": "FR",
          "month": 7,
          "name": "BASEL MULHOUSE, FR",
          "rolling_average_irrigation_requirement": 5.639756149140327,
          "year": 1994
         },
         {
          "COUNTRY_CODE": "FR",
          "month": 7,
          "name": "BASTIA, FR",
          "rolling_average_irrigation_requirement": 5.639756149140327,
          "year": 1994
         },
         {
          "COUNTRY_CODE": "FR",
          "month": 7,
          "name": "BELLE ILE LE TALUT, FR",
          "rolling_average_irrigation_requirement": 5.639756149140327,
          "year": 1994
         },
         {
          "COUNTRY_CODE": "FR",
          "month": 7,
          "name": "BELLEGARDE, FR",
          "rolling_average_irrigation_requirement": 5.643598515825635,
          "year": 1994
         },
         {
          "COUNTRY_CODE": "FR",
          "month": 7,
          "name": "BIARD, FR",
          "rolling_average_irrigation_requirement": 5.637425214837696,
          "year": 1994
         },
         {
          "COUNTRY_CODE": "FR",
          "month": 7,
          "name": "BORDEAUX MERIGNAC, FR",
          "rolling_average_irrigation_requirement": 5.639756149140327,
          "year": 1994
         },
         {
          "COUNTRY_CODE": "FR",
          "month": 7,
          "name": "BOURGES, FR",
          "rolling_average_irrigation_requirement": 5.639756149140327,
          "year": 1994
         },
         {
          "COUNTRY_CODE": "FR",
          "month": 7,
          "name": "BREST GUIPAVAS, FR",
          "rolling_average_irrigation_requirement": 5.639756149140327,
          "year": 1994
         },
         {
          "COUNTRY_CODE": "FR",
          "month": 7,
          "name": "BRETIGNY SUR ORGE, FR",
          "rolling_average_irrigation_requirement": 5.639756149140327,
          "year": 1994
         },
         {
          "COUNTRY_CODE": "FR",
          "month": 7,
          "name": "CAEN CARPIQUET, FR",
          "rolling_average_irrigation_requirement": 5.639756149140327,
          "year": 1994
         },
         {
          "COUNTRY_CODE": "FR",
          "month": 7,
          "name": "CAMPO DELL ORO, FR",
          "rolling_average_irrigation_requirement": 5.638740130148043,
          "year": 1994
         },
         {
          "COUNTRY_CODE": "FR",
          "month": 7,
          "name": "CAP CEPET, FR",
          "rolling_average_irrigation_requirement": 5.63527224969472,
          "year": 1994
         },
         {
          "COUNTRY_CODE": "FR",
          "month": 7,
          "name": "CARPIQUET, FR",
          "rolling_average_irrigation_requirement": 5.634731385193192,
          "year": 1994
         },
         {
          "COUNTRY_CODE": "FR",
          "month": 7,
          "name": "CATUS, FR",
          "rolling_average_irrigation_requirement": 5.639756149140327,
          "year": 1994
         },
         {
          "COUNTRY_CODE": "FR",
          "month": 7,
          "name": "CHASSIRON, FR",
          "rolling_average_irrigation_requirement": 5.633108126249844,
          "year": 1994
         },
         {
          "COUNTRY_CODE": "FR",
          "month": 7,
          "name": "CHATILLON COLIGNY, FR",
          "rolling_average_irrigation_requirement": 5.639756149140327,
          "year": 1994
         },
         {
          "COUNTRY_CODE": "FR",
          "month": 7,
          "name": "CHATILLON SUR SEINE, FR",
          "rolling_average_irrigation_requirement": 5.639756149140327,
          "year": 1994
         },
         {
          "COUNTRY_CODE": "FR",
          "month": 7,
          "name": "CLERMONT FERRAND, FR",
          "rolling_average_irrigation_requirement": 5.639756149140327,
          "year": 1994
         },
         {
          "COUNTRY_CODE": "FR",
          "month": 7,
          "name": "COTE D AZUR, FR",
          "rolling_average_irrigation_requirement": 5.6355073109186336,
          "year": 1994
         },
         {
          "COUNTRY_CODE": "FR",
          "month": 7,
          "name": "DEOLS CHATEAUROUX AERODROME DE, FR",
          "rolling_average_irrigation_requirement": 5.639756149140327,
          "year": 1994
         },
         {
          "COUNTRY_CODE": "FR",
          "month": 7,
          "name": "DIJON LONGVIC, FR",
          "rolling_average_irrigation_requirement": 5.639756149140327,
          "year": 1994
         },
         {
          "COUNTRY_CODE": "FR",
          "month": 7,
          "name": "EMBRUN, FR",
          "rolling_average_irrigation_requirement": 5.642710897723648,
          "year": 1994
         },
         {
          "COUNTRY_CODE": "FR",
          "month": 7,
          "name": "ESPOEY, FR",
          "rolling_average_irrigation_requirement": 5.639756149140327,
          "year": 1994
         },
         {
          "COUNTRY_CODE": "FR",
          "month": 7,
          "name": "ESSEY, FR",
          "rolling_average_irrigation_requirement": 5.6376190379256474,
          "year": 1994
         },
         {
          "COUNTRY_CODE": "FR",
          "month": 7,
          "name": "FAVERGES DE LA TOUR, FR",
          "rolling_average_irrigation_requirement": 5.639756149140327,
          "year": 1994
         },
         {
          "COUNTRY_CODE": "FR",
          "month": 7,
          "name": "GOURDON, FR",
          "rolling_average_irrigation_requirement": 5.639756149140327,
          "year": 1994
         },
         {
          "COUNTRY_CODE": "FR",
          "month": 7,
          "name": "GUIPAVAS, FR",
          "rolling_average_irrigation_requirement": 5.639656828304813,
          "year": 1994
         },
         {
          "COUNTRY_CODE": "FR",
          "month": 7,
          "name": "LA SOUTERRAINE, FR",
          "rolling_average_irrigation_requirement": 5.639756149140327,
          "year": 1994
         },
         {
          "COUNTRY_CODE": "FR",
          "month": 7,
          "name": "LE MASSEGROS, FR",
          "rolling_average_irrigation_requirement": 5.639756149140327,
          "year": 1994
         },
         {
          "COUNTRY_CODE": "FR",
          "month": 7,
          "name": "LE PUY LOUDES, FR",
          "rolling_average_irrigation_requirement": 5.639756149140327,
          "year": 1994
         },
         {
          "COUNTRY_CODE": "FR",
          "month": 7,
          "name": "LESQUIN, FR",
          "rolling_average_irrigation_requirement": 5.6358347587727975,
          "year": 1994
         },
         {
          "COUNTRY_CODE": "FR",
          "month": 7,
          "name": "LEZAY, FR",
          "rolling_average_irrigation_requirement": 5.639756149140327,
          "year": 1994
         },
         {
          "COUNTRY_CODE": "FR",
          "month": 7,
          "name": "LILLE LESQUIN, FR",
          "rolling_average_irrigation_requirement": 5.639756149140327,
          "year": 1994
         },
         {
          "COUNTRY_CODE": "FR",
          "month": 7,
          "name": "LIMOGES BELLEGARDE, FR",
          "rolling_average_irrigation_requirement": 5.639756149140327,
          "year": 1994
         },
         {
          "COUNTRY_CODE": "FR",
          "month": 7,
          "name": "LONGVIC, FR",
          "rolling_average_irrigation_requirement": 5.644564110045017,
          "year": 1994
         },
         {
          "COUNTRY_CODE": "FR",
          "month": 7,
          "name": "LOUDES, FR",
          "rolling_average_irrigation_requirement": 5.633033088051838,
          "year": 1994
         },
         {
          "COUNTRY_CODE": "FR",
          "month": 7,
          "name": "LOURDES, FR",
          "rolling_average_irrigation_requirement": 5.6316702343920175,
          "year": 1994
         },
         {
          "COUNTRY_CODE": "FR",
          "month": 7,
          "name": "LYON ST EXUPERY, FR",
          "rolling_average_irrigation_requirement": 5.639756149140327,
          "year": 1994
         },
         {
          "COUNTRY_CODE": "FR",
          "month": 7,
          "name": "MARSEILLE OBS. PALAIS LONCHAMP, FR",
          "rolling_average_irrigation_requirement": 5.639756149140327,
          "year": 1994
         },
         {
          "COUNTRY_CODE": "FR",
          "month": 7,
          "name": "MARSEILLES MARIGNANE, FR",
          "rolling_average_irrigation_requirement": 5.639756149140327,
          "year": 1994
         },
         {
          "COUNTRY_CODE": "FR",
          "month": 7,
          "name": "MEDITERRANEE, FR",
          "rolling_average_irrigation_requirement": 5.638021053743408,
          "year": 1994
         },
         {
          "COUNTRY_CODE": "FR",
          "month": 7,
          "name": "METZ FRESCATY, FR",
          "rolling_average_irrigation_requirement": 5.652625258917457,
          "year": 1994
         },
         {
          "COUNTRY_CODE": "FR",
          "month": 7,
          "name": "MILLAU, FR",
          "rolling_average_irrigation_requirement": 5.639564268585794,
          "year": 1994
         },
         {
          "COUNTRY_CODE": "FR",
          "month": 7,
          "name": "MONT AIGOUAL, FR",
          "rolling_average_irrigation_requirement": 5.639756149140327,
          "year": 1994
         },
         {
          "COUNTRY_CODE": "FR",
          "month": 7,
          "name": "MONT DE MARSAN, FR",
          "rolling_average_irrigation_requirement": 5.6356625366302335,
          "year": 1994
         },
         {
          "COUNTRY_CODE": "FR",
          "month": 7,
          "name": "MONTCORNET, FR",
          "rolling_average_irrigation_requirement": 5.639756149140327,
          "year": 1994
         },
         {
          "COUNTRY_CODE": "FR",
          "month": 7,
          "name": "MONTELIMAR, FR",
          "rolling_average_irrigation_requirement": 5.639756149140327,
          "year": 1994
         },
         {
          "COUNTRY_CODE": "FR",
          "month": 7,
          "name": "MONTMORILLON, FR",
          "rolling_average_irrigation_requirement": 5.639756149140327,
          "year": 1994
         },
         {
          "COUNTRY_CODE": "FR",
          "month": 7,
          "name": "MONTPELLIER AEROPORT, FR",
          "rolling_average_irrigation_requirement": 5.639756149140327,
          "year": 1994
         },
         {
          "COUNTRY_CODE": "FR",
          "month": 7,
          "name": "NANCY OCHEY, FR",
          "rolling_average_irrigation_requirement": 5.639756149140327,
          "year": 1994
         },
         {
          "COUNTRY_CODE": "FR",
          "month": 7,
          "name": "NANTES BOUGUENAIS, FR",
          "rolling_average_irrigation_requirement": 5.639756149140327,
          "year": 1994
         },
         {
          "COUNTRY_CODE": "FR",
          "month": 7,
          "name": "NICE, FR",
          "rolling_average_irrigation_requirement": 5.639756149140327,
          "year": 1994
         },
         {
          "COUNTRY_CODE": "FR",
          "month": 7,
          "name": "ODEREN, FR",
          "rolling_average_irrigation_requirement": 5.639756149140327,
          "year": 1994
         },
         {
          "COUNTRY_CODE": "FR",
          "month": 7,
          "name": "ORLY, FR",
          "rolling_average_irrigation_requirement": 5.639756149140327,
          "year": 1994
         },
         {
          "COUNTRY_CODE": "FR",
          "month": 7,
          "name": "OUESSANT, FR",
          "rolling_average_irrigation_requirement": 5.626714623656089,
          "year": 1994
         },
         {
          "COUNTRY_CODE": "FR",
          "month": 7,
          "name": "PAMIERS, FR",
          "rolling_average_irrigation_requirement": 5.639756149140327,
          "year": 1994
         },
         {
          "COUNTRY_CODE": "FR",
          "month": 7,
          "name": "PARIS LE BOURGET, FR",
          "rolling_average_irrigation_requirement": 5.639756149140327,
          "year": 1994
         },
         {
          "COUNTRY_CODE": "FR",
          "month": 7,
          "name": "PERPIGNAN, FR",
          "rolling_average_irrigation_requirement": 5.639756149140327,
          "year": 1994
         },
         {
          "COUNTRY_CODE": "FR",
          "month": 7,
          "name": "PLOUMANAC H, FR",
          "rolling_average_irrigation_requirement": 5.639756149140327,
          "year": 1994
         },
         {
          "COUNTRY_CODE": "FR",
          "month": 7,
          "name": "POITIERS BIARD, FR",
          "rolling_average_irrigation_requirement": 5.639756149140327,
          "year": 1994
         },
         {
          "COUNTRY_CODE": "FR",
          "month": 7,
          "name": "PORETTA, FR",
          "rolling_average_irrigation_requirement": 5.638855253988003,
          "year": 1994
         },
         {
          "COUNTRY_CODE": "FR",
          "month": 7,
          "name": "PORT AUX FRANCAIS ILES KERGU, FR",
          "rolling_average_irrigation_requirement": 5.649161738405907,
          "year": 1994
         },
         {
          "COUNTRY_CODE": "FR",
          "month": 7,
          "name": "PTE DE CHASSIRON, FR",
          "rolling_average_irrigation_requirement": 5.639756149140327,
          "year": 1994
         },
         {
          "COUNTRY_CODE": "FR",
          "month": 7,
          "name": "PTE DE LA HAGUE, FR",
          "rolling_average_irrigation_requirement": 5.639756149140327,
          "year": 1994
         },
         {
          "COUNTRY_CODE": "FR",
          "month": 7,
          "name": "RENNES ST JACQUES, FR",
          "rolling_average_irrigation_requirement": 5.639756149140327,
          "year": 1994
         },
         {
          "COUNTRY_CODE": "FR",
          "month": 7,
          "name": "ROUEN BOOS, FR",
          "rolling_average_irrigation_requirement": 5.639756149140327,
          "year": 1994
         },
         {
          "COUNTRY_CODE": "FR",
          "month": 7,
          "name": "SAINT EXUPERY, FR",
          "rolling_average_irrigation_requirement": 5.644247685366317,
          "year": 1994
         },
         {
          "COUNTRY_CODE": "FR",
          "month": 7,
          "name": "SAINT GERMAIN LES BELLES, FR",
          "rolling_average_irrigation_requirement": 5.639756149140327,
          "year": 1994
         },
         {
          "COUNTRY_CODE": "FR",
          "month": 7,
          "name": "ST GIRONS, FR",
          "rolling_average_irrigation_requirement": 5.639756149140327,
          "year": 1994
         },
         {
          "COUNTRY_CODE": "FR",
          "month": 7,
          "name": "STRASBOURG ENTZHEIM, FR",
          "rolling_average_irrigation_requirement": 5.639756149140327,
          "year": 1994
         },
         {
          "COUNTRY_CODE": "FR",
          "month": 7,
          "name": "TARBES OSSUN, FR",
          "rolling_average_irrigation_requirement": 5.639756149140327,
          "year": 1994
         },
         {
          "COUNTRY_CODE": "FR",
          "month": 7,
          "name": "TOULOUSE BLAGNAC, FR",
          "rolling_average_irrigation_requirement": 5.639756149140327,
          "year": 1994
         },
         {
          "COUNTRY_CODE": "FR",
          "month": 7,
          "name": "TOURS, FR",
          "rolling_average_irrigation_requirement": 5.639756149140327,
          "year": 1994
         },
         {
          "COUNTRY_CODE": "FR",
          "month": 7,
          "name": "TROYES BARBEREY, FR",
          "rolling_average_irrigation_requirement": 5.639756149140327,
          "year": 1994
         },
         {
          "COUNTRY_CODE": "FR",
          "month": 7,
          "name": "VAL DE LOIRE, FR",
          "rolling_average_irrigation_requirement": 5.634297800331582,
          "year": 1994
         },
         {
          "COUNTRY_CODE": "FR",
          "month": 7,
          "name": "VALLEE DE SEINE, FR",
          "rolling_average_irrigation_requirement": 5.6355101276716475,
          "year": 1994
         },
         {
          "COUNTRY_CODE": "FR",
          "month": 7,
          "name": "VOUZIERS, FR",
          "rolling_average_irrigation_requirement": 5.639756149140327,
          "year": 1994
         },
         {
          "COUNTRY_CODE": "FR",
          "month": 7,
          "name": "ABBEVILLE, FR",
          "rolling_average_irrigation_requirement": 5.429236133925779,
          "year": 1995
         },
         {
          "COUNTRY_CODE": "FR",
          "month": 7,
          "name": "AJACCIO, FR",
          "rolling_average_irrigation_requirement": 5.417018731683007,
          "year": 1995
         },
         {
          "COUNTRY_CODE": "FR",
          "month": 7,
          "name": "ALENCON VALFRAMBERT, FR",
          "rolling_average_irrigation_requirement": 5.4165257440266315,
          "year": 1995
         },
         {
          "COUNTRY_CODE": "FR",
          "month": 7,
          "name": "AMIENS GLISY, FR",
          "rolling_average_irrigation_requirement": 5.417018731683007,
          "year": 1995
         },
         {
          "COUNTRY_CODE": "FR",
          "month": 7,
          "name": "ANTICHAN, FR",
          "rolling_average_irrigation_requirement": 5.414363303488113,
          "year": 1995
         },
         {
          "COUNTRY_CODE": "FR",
          "month": 7,
          "name": "AUVERGNE, FR",
          "rolling_average_irrigation_requirement": 5.417018731683007,
          "year": 1995
         },
         {
          "COUNTRY_CODE": "FR",
          "month": 7,
          "name": "BALE MULHOUSE, FR",
          "rolling_average_irrigation_requirement": 5.4090474761368705,
          "year": 1995
         },
         {
          "COUNTRY_CODE": "FR",
          "month": 7,
          "name": "BALLOTS, FR",
          "rolling_average_irrigation_requirement": 5.417018731683007,
          "year": 1995
         },
         {
          "COUNTRY_CODE": "FR",
          "month": 7,
          "name": "BARBEREY, FR",
          "rolling_average_irrigation_requirement": 5.414134566865985,
          "year": 1995
         },
         {
          "COUNTRY_CODE": "FR",
          "month": 7,
          "name": "BASEL MULHOUSE, FR",
          "rolling_average_irrigation_requirement": 5.417018731683007,
          "year": 1995
         },
         {
          "COUNTRY_CODE": "FR",
          "month": 7,
          "name": "BASTIA, FR",
          "rolling_average_irrigation_requirement": 5.417018731683007,
          "year": 1995
         },
         {
          "COUNTRY_CODE": "FR",
          "month": 7,
          "name": "BELLE ILE LE TALUT, FR",
          "rolling_average_irrigation_requirement": 5.417018731683007,
          "year": 1995
         },
         {
          "COUNTRY_CODE": "FR",
          "month": 7,
          "name": "BELLEGARDE, FR",
          "rolling_average_irrigation_requirement": 5.417018731683007,
          "year": 1995
         },
         {
          "COUNTRY_CODE": "FR",
          "month": 7,
          "name": "BIARD, FR",
          "rolling_average_irrigation_requirement": 5.417018731683007,
          "year": 1995
         },
         {
          "COUNTRY_CODE": "FR",
          "month": 7,
          "name": "BORDEAUX MERIGNAC, FR",
          "rolling_average_irrigation_requirement": 5.417018731683007,
          "year": 1995
         },
         {
          "COUNTRY_CODE": "FR",
          "month": 7,
          "name": "BOURGES, FR",
          "rolling_average_irrigation_requirement": 5.417018731683007,
          "year": 1995
         },
         {
          "COUNTRY_CODE": "FR",
          "month": 7,
          "name": "BREST GUIPAVAS, FR",
          "rolling_average_irrigation_requirement": 5.417018731683007,
          "year": 1995
         },
         {
          "COUNTRY_CODE": "FR",
          "month": 7,
          "name": "BRETIGNY SUR ORGE, FR",
          "rolling_average_irrigation_requirement": 5.417018731683007,
          "year": 1995
         },
         {
          "COUNTRY_CODE": "FR",
          "month": 7,
          "name": "CAEN CARPIQUET, FR",
          "rolling_average_irrigation_requirement": 5.417018731683007,
          "year": 1995
         },
         {
          "COUNTRY_CODE": "FR",
          "month": 7,
          "name": "CAMPO DELL ORO, FR",
          "rolling_average_irrigation_requirement": 5.441158750259305,
          "year": 1995
         },
         {
          "COUNTRY_CODE": "FR",
          "month": 7,
          "name": "CAP CEPET, FR",
          "rolling_average_irrigation_requirement": 5.4140846456682326,
          "year": 1995
         },
         {
          "COUNTRY_CODE": "FR",
          "month": 7,
          "name": "CARPIQUET, FR",
          "rolling_average_irrigation_requirement": 5.417018731683007,
          "year": 1995
         },
         {
          "COUNTRY_CODE": "FR",
          "month": 7,
          "name": "CATUS, FR",
          "rolling_average_irrigation_requirement": 5.417018731683007,
          "year": 1995
         },
         {
          "COUNTRY_CODE": "FR",
          "month": 7,
          "name": "CHASSIRON, FR",
          "rolling_average_irrigation_requirement": 5.447541780606503,
          "year": 1995
         },
         {
          "COUNTRY_CODE": "FR",
          "month": 7,
          "name": "CHATILLON COLIGNY, FR",
          "rolling_average_irrigation_requirement": 5.417018731683007,
          "year": 1995
         },
         {
          "COUNTRY_CODE": "FR",
          "month": 7,
          "name": "CHATILLON SUR SEINE, FR",
          "rolling_average_irrigation_requirement": 5.417018731683007,
          "year": 1995
         },
         {
          "COUNTRY_CODE": "FR",
          "month": 7,
          "name": "CLERMONT FERRAND, FR",
          "rolling_average_irrigation_requirement": 5.417018731683007,
          "year": 1995
         },
         {
          "COUNTRY_CODE": "FR",
          "month": 7,
          "name": "COTE D AZUR, FR",
          "rolling_average_irrigation_requirement": 5.437573864225847,
          "year": 1995
         },
         {
          "COUNTRY_CODE": "FR",
          "month": 7,
          "name": "DEOLS CHATEAUROUX AERODROME DE, FR",
          "rolling_average_irrigation_requirement": 5.417018731683007,
          "year": 1995
         },
         {
          "COUNTRY_CODE": "FR",
          "month": 7,
          "name": "DIJON LONGVIC, FR",
          "rolling_average_irrigation_requirement": 5.417018731683007,
          "year": 1995
         },
         {
          "COUNTRY_CODE": "FR",
          "month": 7,
          "name": "EMBRUN, FR",
          "rolling_average_irrigation_requirement": 5.428735079562888,
          "year": 1995
         },
         {
          "COUNTRY_CODE": "FR",
          "month": 7,
          "name": "ESPOEY, FR",
          "rolling_average_irrigation_requirement": 5.417018731683007,
          "year": 1995
         },
         {
          "COUNTRY_CODE": "FR",
          "month": 7,
          "name": "ESSEY, FR",
          "rolling_average_irrigation_requirement": 5.415524078793224,
          "year": 1995
         },
         {
          "COUNTRY_CODE": "FR",
          "month": 7,
          "name": "FAVERGES DE LA TOUR, FR",
          "rolling_average_irrigation_requirement": 5.417018731683007,
          "year": 1995
         },
         {
          "COUNTRY_CODE": "FR",
          "month": 7,
          "name": "GOURDON, FR",
          "rolling_average_irrigation_requirement": 5.417018731683007,
          "year": 1995
         },
         {
          "COUNTRY_CODE": "FR",
          "month": 7,
          "name": "GUIPAVAS, FR",
          "rolling_average_irrigation_requirement": 5.405070202271293,
          "year": 1995
         },
         {
          "COUNTRY_CODE": "FR",
          "month": 7,
          "name": "LA SOUTERRAINE, FR",
          "rolling_average_irrigation_requirement": 5.417018731683007,
          "year": 1995
         },
         {
          "COUNTRY_CODE": "FR",
          "month": 7,
          "name": "LE MASSEGROS, FR",
          "rolling_average_irrigation_requirement": 5.417018731683007,
          "year": 1995
         },
         {
          "COUNTRY_CODE": "FR",
          "month": 7,
          "name": "LE PUY LOUDES, FR",
          "rolling_average_irrigation_requirement": 5.417018731683007,
          "year": 1995
         },
         {
          "COUNTRY_CODE": "FR",
          "month": 7,
          "name": "LESQUIN, FR",
          "rolling_average_irrigation_requirement": 5.417018731683007,
          "year": 1995
         },
         {
          "COUNTRY_CODE": "FR",
          "month": 7,
          "name": "LEZAY, FR",
          "rolling_average_irrigation_requirement": 5.417018731683007,
          "year": 1995
         },
         {
          "COUNTRY_CODE": "FR",
          "month": 7,
          "name": "LILLE LESQUIN, FR",
          "rolling_average_irrigation_requirement": 5.417018731683007,
          "year": 1995
         },
         {
          "COUNTRY_CODE": "FR",
          "month": 7,
          "name": "LIMOGES BELLEGARDE, FR",
          "rolling_average_irrigation_requirement": 5.417018731683007,
          "year": 1995
         },
         {
          "COUNTRY_CODE": "FR",
          "month": 7,
          "name": "LONGVIC, FR",
          "rolling_average_irrigation_requirement": 5.408966211058441,
          "year": 1995
         },
         {
          "COUNTRY_CODE": "FR",
          "month": 7,
          "name": "LOUDES, FR",
          "rolling_average_irrigation_requirement": 5.417018731683007,
          "year": 1995
         },
         {
          "COUNTRY_CODE": "FR",
          "month": 7,
          "name": "LOURDES, FR",
          "rolling_average_irrigation_requirement": 5.417018731683007,
          "year": 1995
         },
         {
          "COUNTRY_CODE": "FR",
          "month": 7,
          "name": "LYON ST EXUPERY, FR",
          "rolling_average_irrigation_requirement": 5.417018731683007,
          "year": 1995
         },
         {
          "COUNTRY_CODE": "FR",
          "month": 7,
          "name": "MARSEILLE OBS. PALAIS LONCHAMP, FR",
          "rolling_average_irrigation_requirement": 5.417018731683007,
          "year": 1995
         },
         {
          "COUNTRY_CODE": "FR",
          "month": 7,
          "name": "MARSEILLES MARIGNANE, FR",
          "rolling_average_irrigation_requirement": 5.417018731683007,
          "year": 1995
         },
         {
          "COUNTRY_CODE": "FR",
          "month": 7,
          "name": "MEDITERRANEE, FR",
          "rolling_average_irrigation_requirement": 5.417018731683007,
          "year": 1995
         },
         {
          "COUNTRY_CODE": "FR",
          "month": 7,
          "name": "METZ FRESCATY, FR",
          "rolling_average_irrigation_requirement": 5.438629281161676,
          "year": 1995
         },
         {
          "COUNTRY_CODE": "FR",
          "month": 7,
          "name": "MILLAU, FR",
          "rolling_average_irrigation_requirement": 5.424631172926531,
          "year": 1995
         },
         {
          "COUNTRY_CODE": "FR",
          "month": 7,
          "name": "MONT AIGOUAL, FR",
          "rolling_average_irrigation_requirement": 5.417018731683007,
          "year": 1995
         },
         {
          "COUNTRY_CODE": "FR",
          "month": 7,
          "name": "MONT DE MARSAN, FR",
          "rolling_average_irrigation_requirement": 5.413754590549731,
          "year": 1995
         },
         {
          "COUNTRY_CODE": "FR",
          "month": 7,
          "name": "MONTCORNET, FR",
          "rolling_average_irrigation_requirement": 5.417018731683007,
          "year": 1995
         },
         {
          "COUNTRY_CODE": "FR",
          "month": 7,
          "name": "MONTELIMAR, FR",
          "rolling_average_irrigation_requirement": 5.417018731683007,
          "year": 1995
         },
         {
          "COUNTRY_CODE": "FR",
          "month": 7,
          "name": "MONTMORILLON, FR",
          "rolling_average_irrigation_requirement": 5.417018731683007,
          "year": 1995
         },
         {
          "COUNTRY_CODE": "FR",
          "month": 7,
          "name": "MONTPELLIER AEROPORT, FR",
          "rolling_average_irrigation_requirement": 5.417018731683007,
          "year": 1995
         },
         {
          "COUNTRY_CODE": "FR",
          "month": 7,
          "name": "NANCY OCHEY, FR",
          "rolling_average_irrigation_requirement": 5.417018731683007,
          "year": 1995
         },
         {
          "COUNTRY_CODE": "FR",
          "month": 7,
          "name": "NANTES BOUGUENAIS, FR",
          "rolling_average_irrigation_requirement": 5.417018731683007,
          "year": 1995
         },
         {
          "COUNTRY_CODE": "FR",
          "month": 7,
          "name": "NICE, FR",
          "rolling_average_irrigation_requirement": 5.417018731683007,
          "year": 1995
         },
         {
          "COUNTRY_CODE": "FR",
          "month": 7,
          "name": "ODEREN, FR",
          "rolling_average_irrigation_requirement": 5.417018731683007,
          "year": 1995
         },
         {
          "COUNTRY_CODE": "FR",
          "month": 7,
          "name": "ORLY, FR",
          "rolling_average_irrigation_requirement": 5.417018731683007,
          "year": 1995
         },
         {
          "COUNTRY_CODE": "FR",
          "month": 7,
          "name": "OUESSANT, FR",
          "rolling_average_irrigation_requirement": 5.41143700624937,
          "year": 1995
         },
         {
          "COUNTRY_CODE": "FR",
          "month": 7,
          "name": "PAMIERS, FR",
          "rolling_average_irrigation_requirement": 5.417018731683007,
          "year": 1995
         },
         {
          "COUNTRY_CODE": "FR",
          "month": 7,
          "name": "PARIS LE BOURGET, FR",
          "rolling_average_irrigation_requirement": 5.417018731683007,
          "year": 1995
         },
         {
          "COUNTRY_CODE": "FR",
          "month": 7,
          "name": "PERPIGNAN, FR",
          "rolling_average_irrigation_requirement": 5.417018731683007,
          "year": 1995
         },
         {
          "COUNTRY_CODE": "FR",
          "month": 7,
          "name": "PLOUMANAC H, FR",
          "rolling_average_irrigation_requirement": 5.417018731683007,
          "year": 1995
         },
         {
          "COUNTRY_CODE": "FR",
          "month": 7,
          "name": "POITIERS BIARD, FR",
          "rolling_average_irrigation_requirement": 5.417018731683007,
          "year": 1995
         },
         {
          "COUNTRY_CODE": "FR",
          "month": 7,
          "name": "PORETTA, FR",
          "rolling_average_irrigation_requirement": 5.448571814851371,
          "year": 1995
         },
         {
          "COUNTRY_CODE": "FR",
          "month": 7,
          "name": "PORT AUX FRANCAIS ILES KERGU, FR",
          "rolling_average_irrigation_requirement": 5.417018731683007,
          "year": 1995
         },
         {
          "COUNTRY_CODE": "FR",
          "month": 7,
          "name": "PTE DE CHASSIRON, FR",
          "rolling_average_irrigation_requirement": 5.417018731683007,
          "year": 1995
         },
         {
          "COUNTRY_CODE": "FR",
          "month": 7,
          "name": "PTE DE LA HAGUE, FR",
          "rolling_average_irrigation_requirement": 5.417018731683007,
          "year": 1995
         },
         {
          "COUNTRY_CODE": "FR",
          "month": 7,
          "name": "RENNES ST JACQUES, FR",
          "rolling_average_irrigation_requirement": 5.417018731683007,
          "year": 1995
         },
         {
          "COUNTRY_CODE": "FR",
          "month": 7,
          "name": "ROUEN BOOS, FR",
          "rolling_average_irrigation_requirement": 5.417018731683007,
          "year": 1995
         },
         {
          "COUNTRY_CODE": "FR",
          "month": 7,
          "name": "SAINT EXUPERY, FR",
          "rolling_average_irrigation_requirement": 5.402862267910486,
          "year": 1995
         },
         {
          "COUNTRY_CODE": "FR",
          "month": 7,
          "name": "SAINT GERMAIN LES BELLES, FR",
          "rolling_average_irrigation_requirement": 5.417018731683007,
          "year": 1995
         },
         {
          "COUNTRY_CODE": "FR",
          "month": 7,
          "name": "ST GIRONS, FR",
          "rolling_average_irrigation_requirement": 5.417018731683007,
          "year": 1995
         },
         {
          "COUNTRY_CODE": "FR",
          "month": 7,
          "name": "STRASBOURG ENTZHEIM, FR",
          "rolling_average_irrigation_requirement": 5.417018731683007,
          "year": 1995
         },
         {
          "COUNTRY_CODE": "FR",
          "month": 7,
          "name": "TARBES OSSUN, FR",
          "rolling_average_irrigation_requirement": 5.417018731683007,
          "year": 1995
         },
         {
          "COUNTRY_CODE": "FR",
          "month": 7,
          "name": "TOULOUSE BLAGNAC, FR",
          "rolling_average_irrigation_requirement": 5.417018731683007,
          "year": 1995
         },
         {
          "COUNTRY_CODE": "FR",
          "month": 7,
          "name": "TOURS, FR",
          "rolling_average_irrigation_requirement": 5.417018731683007,
          "year": 1995
         },
         {
          "COUNTRY_CODE": "FR",
          "month": 7,
          "name": "TROYES BARBEREY, FR",
          "rolling_average_irrigation_requirement": 5.432497362211507,
          "year": 1995
         },
         {
          "COUNTRY_CODE": "FR",
          "month": 7,
          "name": "VAL DE LOIRE, FR",
          "rolling_average_irrigation_requirement": 5.417018731683007,
          "year": 1995
         },
         {
          "COUNTRY_CODE": "FR",
          "month": 7,
          "name": "VALLEE DE SEINE, FR",
          "rolling_average_irrigation_requirement": 5.412297053415113,
          "year": 1995
         },
         {
          "COUNTRY_CODE": "FR",
          "month": 7,
          "name": "VOUZIERS, FR",
          "rolling_average_irrigation_requirement": 5.417018731683007,
          "year": 1995
         },
         {
          "COUNTRY_CODE": "FR",
          "month": 7,
          "name": "ABBEVILLE, FR",
          "rolling_average_irrigation_requirement": 5.198218178133152,
          "year": 1996
         },
         {
          "COUNTRY_CODE": "FR",
          "month": 7,
          "name": "AJACCIO, FR",
          "rolling_average_irrigation_requirement": 5.198218178133152,
          "year": 1996
         },
         {
          "COUNTRY_CODE": "FR",
          "month": 7,
          "name": "ALENCON VALFRAMBERT, FR",
          "rolling_average_irrigation_requirement": 5.198218178133152,
          "year": 1996
         },
         {
          "COUNTRY_CODE": "FR",
          "month": 7,
          "name": "AMIENS GLISY, FR",
          "rolling_average_irrigation_requirement": 5.198218178133152,
          "year": 1996
         },
         {
          "COUNTRY_CODE": "FR",
          "month": 7,
          "name": "ANTICHAN, FR",
          "rolling_average_irrigation_requirement": 5.189050460200205,
          "year": 1996
         },
         {
          "COUNTRY_CODE": "FR",
          "month": 7,
          "name": "BALE MULHOUSE, FR",
          "rolling_average_irrigation_requirement": 5.179637750097664,
          "year": 1996
         },
         {
          "COUNTRY_CODE": "FR",
          "month": 7,
          "name": "BALLOTS, FR",
          "rolling_average_irrigation_requirement": 5.198218178133152,
          "year": 1996
         },
         {
          "COUNTRY_CODE": "FR",
          "month": 7,
          "name": "BASEL MULHOUSE, FR",
          "rolling_average_irrigation_requirement": 5.198218178133152,
          "year": 1996
         },
         {
          "COUNTRY_CODE": "FR",
          "month": 7,
          "name": "BASTIA, FR",
          "rolling_average_irrigation_requirement": 5.198218178133152,
          "year": 1996
         },
         {
          "COUNTRY_CODE": "FR",
          "month": 7,
          "name": "BELLE ILE LE TALUT, FR",
          "rolling_average_irrigation_requirement": 5.198218178133152,
          "year": 1996
         },
         {
          "COUNTRY_CODE": "FR",
          "month": 7,
          "name": "BIARD, FR",
          "rolling_average_irrigation_requirement": 5.198218178133152,
          "year": 1996
         },
         {
          "COUNTRY_CODE": "FR",
          "month": 7,
          "name": "BORDEAUX MERIGNAC, FR",
          "rolling_average_irrigation_requirement": 5.198218178133152,
          "year": 1996
         },
         {
          "COUNTRY_CODE": "FR",
          "month": 7,
          "name": "BOURGES, FR",
          "rolling_average_irrigation_requirement": 5.198218178133152,
          "year": 1996
         },
         {
          "COUNTRY_CODE": "FR",
          "month": 7,
          "name": "BREST GUIPAVAS, FR",
          "rolling_average_irrigation_requirement": 5.198218178133152,
          "year": 1996
         },
         {
          "COUNTRY_CODE": "FR",
          "month": 7,
          "name": "BRETIGNY SUR ORGE, FR",
          "rolling_average_irrigation_requirement": 5.198218178133152,
          "year": 1996
         },
         {
          "COUNTRY_CODE": "FR",
          "month": 7,
          "name": "CAEN CARPIQUET, FR",
          "rolling_average_irrigation_requirement": 5.198218178133152,
          "year": 1996
         },
         {
          "COUNTRY_CODE": "FR",
          "month": 7,
          "name": "CAMPO DELL ORO, FR",
          "rolling_average_irrigation_requirement": 5.198218178133152,
          "year": 1996
         },
         {
          "COUNTRY_CODE": "FR",
          "month": 7,
          "name": "CAP CEPET, FR",
          "rolling_average_irrigation_requirement": 5.207676863799271,
          "year": 1996
         },
         {
          "COUNTRY_CODE": "FR",
          "month": 7,
          "name": "CATUS, FR",
          "rolling_average_irrigation_requirement": 5.198218178133152,
          "year": 1996
         },
         {
          "COUNTRY_CODE": "FR",
          "month": 7,
          "name": "CHASSIRON, FR",
          "rolling_average_irrigation_requirement": 5.322338565389768,
          "year": 1996
         },
         {
          "COUNTRY_CODE": "FR",
          "month": 7,
          "name": "CHATILLON COLIGNY, FR",
          "rolling_average_irrigation_requirement": 5.198218178133152,
          "year": 1996
         },
         {
          "COUNTRY_CODE": "FR",
          "month": 7,
          "name": "CHATILLON SUR SEINE, FR",
          "rolling_average_irrigation_requirement": 5.198218178133152,
          "year": 1996
         },
         {
          "COUNTRY_CODE": "FR",
          "month": 7,
          "name": "CLERMONT FERRAND, FR",
          "rolling_average_irrigation_requirement": 5.198218178133152,
          "year": 1996
         },
         {
          "COUNTRY_CODE": "FR",
          "month": 7,
          "name": "COTE D AZUR, FR",
          "rolling_average_irrigation_requirement": 5.2261283047172755,
          "year": 1996
         },
         {
          "COUNTRY_CODE": "FR",
          "month": 7,
          "name": "DEOLS CHATEAUROUX AERODROME DE, FR",
          "rolling_average_irrigation_requirement": 5.198218178133152,
          "year": 1996
         },
         {
          "COUNTRY_CODE": "FR",
          "month": 7,
          "name": "DIJON LONGVIC, FR",
          "rolling_average_irrigation_requirement": 5.198218178133152,
          "year": 1996
         },
         {
          "COUNTRY_CODE": "FR",
          "month": 7,
          "name": "EMBRUN, FR",
          "rolling_average_irrigation_requirement": 5.200190989003784,
          "year": 1996
         },
         {
          "COUNTRY_CODE": "FR",
          "month": 7,
          "name": "ESPOEY, FR",
          "rolling_average_irrigation_requirement": 5.198218178133152,
          "year": 1996
         },
         {
          "COUNTRY_CODE": "FR",
          "month": 7,
          "name": "ESSEY, FR",
          "rolling_average_irrigation_requirement": 5.189424815631793,
          "year": 1996
         },
         {
          "COUNTRY_CODE": "FR",
          "month": 7,
          "name": "FAVERGES DE LA TOUR, FR",
          "rolling_average_irrigation_requirement": 5.198218178133152,
          "year": 1996
         },
         {
          "COUNTRY_CODE": "FR",
          "month": 7,
          "name": "GOURDON, FR",
          "rolling_average_irrigation_requirement": 5.198218178133152,
          "year": 1996
         },
         {
          "COUNTRY_CODE": "FR",
          "month": 7,
          "name": "GUIPAVAS, FR",
          "rolling_average_irrigation_requirement": 5.198218178133152,
          "year": 1996
         },
         {
          "COUNTRY_CODE": "FR",
          "month": 7,
          "name": "LA SOUTERRAINE, FR",
          "rolling_average_irrigation_requirement": 5.198218178133152,
          "year": 1996
         },
         {
          "COUNTRY_CODE": "FR",
          "month": 7,
          "name": "LE MASSEGROS, FR",
          "rolling_average_irrigation_requirement": 5.198218178133152,
          "year": 1996
         },
         {
          "COUNTRY_CODE": "FR",
          "month": 7,
          "name": "LE PUY LOUDES, FR",
          "rolling_average_irrigation_requirement": 5.198218178133152,
          "year": 1996
         },
         {
          "COUNTRY_CODE": "FR",
          "month": 7,
          "name": "LEZAY, FR",
          "rolling_average_irrigation_requirement": 5.198218178133152,
          "year": 1996
         },
         {
          "COUNTRY_CODE": "FR",
          "month": 7,
          "name": "LILLE LESQUIN, FR",
          "rolling_average_irrigation_requirement": 5.198218178133152,
          "year": 1996
         },
         {
          "COUNTRY_CODE": "FR",
          "month": 7,
          "name": "LIMOGES BELLEGARDE, FR",
          "rolling_average_irrigation_requirement": 5.198218178133152,
          "year": 1996
         },
         {
          "COUNTRY_CODE": "FR",
          "month": 7,
          "name": "LOUDES, FR",
          "rolling_average_irrigation_requirement": 5.189424815631793,
          "year": 1996
         },
         {
          "COUNTRY_CODE": "FR",
          "month": 7,
          "name": "LOURDES, FR",
          "rolling_average_irrigation_requirement": 5.198218178133152,
          "year": 1996
         },
         {
          "COUNTRY_CODE": "FR",
          "month": 7,
          "name": "LYON ST EXUPERY, FR",
          "rolling_average_irrigation_requirement": 5.198218178133152,
          "year": 1996
         },
         {
          "COUNTRY_CODE": "FR",
          "month": 7,
          "name": "MARSEILLE OBS. PALAIS LONCHAMP, FR",
          "rolling_average_irrigation_requirement": 5.198218178133152,
          "year": 1996
         },
         {
          "COUNTRY_CODE": "FR",
          "month": 7,
          "name": "MARSEILLES MARIGNANE, FR",
          "rolling_average_irrigation_requirement": 5.198218178133152,
          "year": 1996
         },
         {
          "COUNTRY_CODE": "FR",
          "month": 7,
          "name": "METZ FRESCATY, FR",
          "rolling_average_irrigation_requirement": 5.189323693014852,
          "year": 1996
         },
         {
          "COUNTRY_CODE": "FR",
          "month": 7,
          "name": "MILLAU, FR",
          "rolling_average_irrigation_requirement": 5.198216082264207,
          "year": 1996
         },
         {
          "COUNTRY_CODE": "FR",
          "month": 7,
          "name": "MONT AIGOUAL, FR",
          "rolling_average_irrigation_requirement": 5.198218178133152,
          "year": 1996
         },
         {
          "COUNTRY_CODE": "FR",
          "month": 7,
          "name": "MONT DE MARSAN, FR",
          "rolling_average_irrigation_requirement": 5.198218178133152,
          "year": 1996
         },
         {
          "COUNTRY_CODE": "FR",
          "month": 7,
          "name": "MONTCORNET, FR",
          "rolling_average_irrigation_requirement": 5.198218178133152,
          "year": 1996
         },
         {
          "COUNTRY_CODE": "FR",
          "month": 7,
          "name": "MONTELIMAR, FR",
          "rolling_average_irrigation_requirement": 5.198218178133152,
          "year": 1996
         },
         {
          "COUNTRY_CODE": "FR",
          "month": 7,
          "name": "MONTMORILLON, FR",
          "rolling_average_irrigation_requirement": 5.198218178133152,
          "year": 1996
         },
         {
          "COUNTRY_CODE": "FR",
          "month": 7,
          "name": "MONTPELLIER AEROPORT, FR",
          "rolling_average_irrigation_requirement": 5.198218178133152,
          "year": 1996
         },
         {
          "COUNTRY_CODE": "FR",
          "month": 7,
          "name": "NANCY OCHEY, FR",
          "rolling_average_irrigation_requirement": 5.198218178133152,
          "year": 1996
         },
         {
          "COUNTRY_CODE": "FR",
          "month": 7,
          "name": "NANTES BOUGUENAIS, FR",
          "rolling_average_irrigation_requirement": 5.198218178133152,
          "year": 1996
         },
         {
          "COUNTRY_CODE": "FR",
          "month": 7,
          "name": "NICE, FR",
          "rolling_average_irrigation_requirement": 5.198218178133152,
          "year": 1996
         },
         {
          "COUNTRY_CODE": "FR",
          "month": 7,
          "name": "ODEREN, FR",
          "rolling_average_irrigation_requirement": 5.198218178133152,
          "year": 1996
         },
         {
          "COUNTRY_CODE": "FR",
          "month": 7,
          "name": "ORLY, FR",
          "rolling_average_irrigation_requirement": 5.198218178133152,
          "year": 1996
         },
         {
          "COUNTRY_CODE": "FR",
          "month": 7,
          "name": "OUESSANT, FR",
          "rolling_average_irrigation_requirement": 5.170201468143066,
          "year": 1996
         },
         {
          "COUNTRY_CODE": "FR",
          "month": 7,
          "name": "PAMIERS, FR",
          "rolling_average_irrigation_requirement": 5.198218178133152,
          "year": 1996
         },
         {
          "COUNTRY_CODE": "FR",
          "month": 7,
          "name": "PARIS LE BOURGET, FR",
          "rolling_average_irrigation_requirement": 5.198218178133152,
          "year": 1996
         },
         {
          "COUNTRY_CODE": "FR",
          "month": 7,
          "name": "PERPIGNAN, FR",
          "rolling_average_irrigation_requirement": 5.198218178133152,
          "year": 1996
         },
         {
          "COUNTRY_CODE": "FR",
          "month": 7,
          "name": "PLOUMANAC H, FR",
          "rolling_average_irrigation_requirement": 5.198218178133152,
          "year": 1996
         },
         {
          "COUNTRY_CODE": "FR",
          "month": 7,
          "name": "POITIERS BIARD, FR",
          "rolling_average_irrigation_requirement": 5.198218178133152,
          "year": 1996
         },
         {
          "COUNTRY_CODE": "FR",
          "month": 7,
          "name": "PORETTA, FR",
          "rolling_average_irrigation_requirement": 5.198218178133152,
          "year": 1996
         },
         {
          "COUNTRY_CODE": "FR",
          "month": 7,
          "name": "PORT AUX FRANCAIS ILES KERGU, FR",
          "rolling_average_irrigation_requirement": 5.189050460200205,
          "year": 1996
         },
         {
          "COUNTRY_CODE": "FR",
          "month": 7,
          "name": "PTE DE CHASSIRON, FR",
          "rolling_average_irrigation_requirement": 5.198218178133152,
          "year": 1996
         },
         {
          "COUNTRY_CODE": "FR",
          "month": 7,
          "name": "PTE DE LA HAGUE, FR",
          "rolling_average_irrigation_requirement": 5.198218178133152,
          "year": 1996
         },
         {
          "COUNTRY_CODE": "FR",
          "month": 7,
          "name": "RENNES ST JACQUES, FR",
          "rolling_average_irrigation_requirement": 5.198218178133152,
          "year": 1996
         },
         {
          "COUNTRY_CODE": "FR",
          "month": 7,
          "name": "ROUEN BOOS, FR",
          "rolling_average_irrigation_requirement": 5.198218178133152,
          "year": 1996
         },
         {
          "COUNTRY_CODE": "FR",
          "month": 7,
          "name": "SAINT GERMAIN LES BELLES, FR",
          "rolling_average_irrigation_requirement": 5.198218178133152,
          "year": 1996
         },
         {
          "COUNTRY_CODE": "FR",
          "month": 7,
          "name": "ST GIRONS, FR",
          "rolling_average_irrigation_requirement": 5.198218178133152,
          "year": 1996
         },
         {
          "COUNTRY_CODE": "FR",
          "month": 7,
          "name": "STRASBOURG ENTZHEIM, FR",
          "rolling_average_irrigation_requirement": 5.198218178133152,
          "year": 1996
         },
         {
          "COUNTRY_CODE": "FR",
          "month": 7,
          "name": "TARBES OSSUN, FR",
          "rolling_average_irrigation_requirement": 5.198218178133152,
          "year": 1996
         },
         {
          "COUNTRY_CODE": "FR",
          "month": 7,
          "name": "TOULOUSE BLAGNAC, FR",
          "rolling_average_irrigation_requirement": 5.198218178133152,
          "year": 1996
         },
         {
          "COUNTRY_CODE": "FR",
          "month": 7,
          "name": "TOURS, FR",
          "rolling_average_irrigation_requirement": 5.198218178133152,
          "year": 1996
         },
         {
          "COUNTRY_CODE": "FR",
          "month": 7,
          "name": "TROYES BARBEREY, FR",
          "rolling_average_irrigation_requirement": 5.198218178133152,
          "year": 1996
         },
         {
          "COUNTRY_CODE": "FR",
          "month": 7,
          "name": "VALLEE DE SEINE, FR",
          "rolling_average_irrigation_requirement": 5.198218178133152,
          "year": 1996
         },
         {
          "COUNTRY_CODE": "FR",
          "month": 7,
          "name": "VOUZIERS, FR",
          "rolling_average_irrigation_requirement": 5.198218178133152,
          "year": 1996
         },
         {
          "COUNTRY_CODE": "FR",
          "month": 7,
          "name": "ABBEVILLE, FR",
          "rolling_average_irrigation_requirement": 5.256754820402347,
          "year": 1997
         },
         {
          "COUNTRY_CODE": "FR",
          "month": 7,
          "name": "AJACCIO, FR",
          "rolling_average_irrigation_requirement": 5.256754820402342,
          "year": 1997
         },
         {
          "COUNTRY_CODE": "FR",
          "month": 7,
          "name": "ALENCON VALFRAMBERT, FR",
          "rolling_average_irrigation_requirement": 5.255453503507036,
          "year": 1997
         },
         {
          "COUNTRY_CODE": "FR",
          "month": 7,
          "name": "AMIENS GLISY, FR",
          "rolling_average_irrigation_requirement": 5.256754820402342,
          "year": 1997
         },
         {
          "COUNTRY_CODE": "FR",
          "month": 7,
          "name": "ANTICHAN, FR",
          "rolling_average_irrigation_requirement": 5.256754820402342,
          "year": 1997
         },
         {
          "COUNTRY_CODE": "FR",
          "month": 7,
          "name": "AUVERGNE, FR",
          "rolling_average_irrigation_requirement": 5.256754820402342,
          "year": 1997
         },
         {
          "COUNTRY_CODE": "FR",
          "month": 7,
          "name": "BALE MULHOUSE, FR",
          "rolling_average_irrigation_requirement": 5.256754820402342,
          "year": 1997
         },
         {
          "COUNTRY_CODE": "FR",
          "month": 7,
          "name": "BALLOTS, FR",
          "rolling_average_irrigation_requirement": 5.256754820402342,
          "year": 1997
         },
         {
          "COUNTRY_CODE": "FR",
          "month": 7,
          "name": "BARBEREY, FR",
          "rolling_average_irrigation_requirement": 5.252320018673368,
          "year": 1997
         },
         {
          "COUNTRY_CODE": "FR",
          "month": 7,
          "name": "BASEL MULHOUSE, FR",
          "rolling_average_irrigation_requirement": 5.256754820402342,
          "year": 1997
         },
         {
          "COUNTRY_CODE": "FR",
          "month": 7,
          "name": "BASTIA, FR",
          "rolling_average_irrigation_requirement": 5.256754820402342,
          "year": 1997
         },
         {
          "COUNTRY_CODE": "FR",
          "month": 7,
          "name": "BELLE ILE LE TALUT, FR",
          "rolling_average_irrigation_requirement": 5.256754820402342,
          "year": 1997
         },
         {
          "COUNTRY_CODE": "FR",
          "month": 7,
          "name": "BELLEGARDE, FR",
          "rolling_average_irrigation_requirement": 5.256754820402342,
          "year": 1997
         },
         {
          "COUNTRY_CODE": "FR",
          "month": 7,
          "name": "BIARD, FR",
          "rolling_average_irrigation_requirement": 5.255154173749701,
          "year": 1997
         },
         {
          "COUNTRY_CODE": "FR",
          "month": 7,
          "name": "BORDEAUX MERIGNAC, FR",
          "rolling_average_irrigation_requirement": 5.256754820402342,
          "year": 1997
         },
         {
          "COUNTRY_CODE": "FR",
          "month": 7,
          "name": "BOURGES, FR",
          "rolling_average_irrigation_requirement": 5.256754820402342,
          "year": 1997
         },
         {
          "COUNTRY_CODE": "FR",
          "month": 7,
          "name": "BREST GUIPAVAS, FR",
          "rolling_average_irrigation_requirement": 5.256754820402342,
          "year": 1997
         },
         {
          "COUNTRY_CODE": "FR",
          "month": 7,
          "name": "BRETIGNY SUR ORGE, FR",
          "rolling_average_irrigation_requirement": 5.256754820402342,
          "year": 1997
         },
         {
          "COUNTRY_CODE": "FR",
          "month": 7,
          "name": "CAEN CARPIQUET, FR",
          "rolling_average_irrigation_requirement": 5.256754820402342,
          "year": 1997
         },
         {
          "COUNTRY_CODE": "FR",
          "month": 7,
          "name": "CAMPO DELL ORO, FR",
          "rolling_average_irrigation_requirement": 5.256754820402342,
          "year": 1997
         },
         {
          "COUNTRY_CODE": "FR",
          "month": 7,
          "name": "CAP CEPET, FR",
          "rolling_average_irrigation_requirement": 5.263228472144329,
          "year": 1997
         },
         {
          "COUNTRY_CODE": "FR",
          "month": 7,
          "name": "CARPIQUET, FR",
          "rolling_average_irrigation_requirement": 5.256754820402342,
          "year": 1997
         },
         {
          "COUNTRY_CODE": "FR",
          "month": 7,
          "name": "CATUS, FR",
          "rolling_average_irrigation_requirement": 5.256754820402342,
          "year": 1997
         },
         {
          "COUNTRY_CODE": "FR",
          "month": 7,
          "name": "CHASSIRON, FR",
          "rolling_average_irrigation_requirement": 5.285350753157538,
          "year": 1997
         },
         {
          "COUNTRY_CODE": "FR",
          "month": 7,
          "name": "CHATILLON COLIGNY, FR",
          "rolling_average_irrigation_requirement": 5.256754820402342,
          "year": 1997
         },
         {
          "COUNTRY_CODE": "FR",
          "month": 7,
          "name": "CHATILLON SUR SEINE, FR",
          "rolling_average_irrigation_requirement": 5.256754820402342,
          "year": 1997
         },
         {
          "COUNTRY_CODE": "FR",
          "month": 7,
          "name": "CLERMONT FERRAND, FR",
          "rolling_average_irrigation_requirement": 5.256754820402342,
          "year": 1997
         },
         {
          "COUNTRY_CODE": "FR",
          "month": 7,
          "name": "COTE D AZUR, FR",
          "rolling_average_irrigation_requirement": 5.256754820402342,
          "year": 1997
         },
         {
          "COUNTRY_CODE": "FR",
          "month": 7,
          "name": "DEOLS CHATEAUROUX AERODROME DE, FR",
          "rolling_average_irrigation_requirement": 5.256754820402342,
          "year": 1997
         },
         {
          "COUNTRY_CODE": "FR",
          "month": 7,
          "name": "DIJON LONGVIC, FR",
          "rolling_average_irrigation_requirement": 5.256754820402342,
          "year": 1997
         },
         {
          "COUNTRY_CODE": "FR",
          "month": 7,
          "name": "EMBRUN, FR",
          "rolling_average_irrigation_requirement": 5.2534781817382905,
          "year": 1997
         },
         {
          "COUNTRY_CODE": "FR",
          "month": 7,
          "name": "ESPOEY, FR",
          "rolling_average_irrigation_requirement": 5.256754820402342,
          "year": 1997
         },
         {
          "COUNTRY_CODE": "FR",
          "month": 7,
          "name": "ESSEY, FR",
          "rolling_average_irrigation_requirement": 5.256754820402342,
          "year": 1997
         },
         {
          "COUNTRY_CODE": "FR",
          "month": 7,
          "name": "FAVERGES DE LA TOUR, FR",
          "rolling_average_irrigation_requirement": 5.256754820402342,
          "year": 1997
         },
         {
          "COUNTRY_CODE": "FR",
          "month": 7,
          "name": "GOURDON, FR",
          "rolling_average_irrigation_requirement": 5.256754820402342,
          "year": 1997
         },
         {
          "COUNTRY_CODE": "FR",
          "month": 7,
          "name": "GUIPAVAS, FR",
          "rolling_average_irrigation_requirement": 5.256754820402342,
          "year": 1997
         },
         {
          "COUNTRY_CODE": "FR",
          "month": 7,
          "name": "LA SOUTERRAINE, FR",
          "rolling_average_irrigation_requirement": 5.256754820402342,
          "year": 1997
         },
         {
          "COUNTRY_CODE": "FR",
          "month": 7,
          "name": "LE MASSEGROS, FR",
          "rolling_average_irrigation_requirement": 5.256754820402342,
          "year": 1997
         },
         {
          "COUNTRY_CODE": "FR",
          "month": 7,
          "name": "LE PUY LOUDES, FR",
          "rolling_average_irrigation_requirement": 5.256754820402342,
          "year": 1997
         },
         {
          "COUNTRY_CODE": "FR",
          "month": 7,
          "name": "LESQUIN, FR",
          "rolling_average_irrigation_requirement": 5.256754820402342,
          "year": 1997
         },
         {
          "COUNTRY_CODE": "FR",
          "month": 7,
          "name": "LEZAY, FR",
          "rolling_average_irrigation_requirement": 5.256754820402342,
          "year": 1997
         },
         {
          "COUNTRY_CODE": "FR",
          "month": 7,
          "name": "LILLE LESQUIN, FR",
          "rolling_average_irrigation_requirement": 5.256754820402342,
          "year": 1997
         },
         {
          "COUNTRY_CODE": "FR",
          "month": 7,
          "name": "LIMOGES BELLEGARDE, FR",
          "rolling_average_irrigation_requirement": 5.256754820402342,
          "year": 1997
         },
         {
          "COUNTRY_CODE": "FR",
          "month": 7,
          "name": "LONGVIC, FR",
          "rolling_average_irrigation_requirement": 5.256754820402342,
          "year": 1997
         },
         {
          "COUNTRY_CODE": "FR",
          "month": 7,
          "name": "LOUDES, FR",
          "rolling_average_irrigation_requirement": 5.239513837533537,
          "year": 1997
         },
         {
          "COUNTRY_CODE": "FR",
          "month": 7,
          "name": "LOURDES, FR",
          "rolling_average_irrigation_requirement": 5.256754820402342,
          "year": 1997
         },
         {
          "COUNTRY_CODE": "FR",
          "month": 7,
          "name": "LYON ST EXUPERY, FR",
          "rolling_average_irrigation_requirement": 5.256754820402342,
          "year": 1997
         },
         {
          "COUNTRY_CODE": "FR",
          "month": 7,
          "name": "MARSEILLE OBS. PALAIS LONCHAMP, FR",
          "rolling_average_irrigation_requirement": 5.256754820402342,
          "year": 1997
         },
         {
          "COUNTRY_CODE": "FR",
          "month": 7,
          "name": "MARSEILLES MARIGNANE, FR",
          "rolling_average_irrigation_requirement": 5.256754820402342,
          "year": 1997
         },
         {
          "COUNTRY_CODE": "FR",
          "month": 7,
          "name": "MEDITERRANEE, FR",
          "rolling_average_irrigation_requirement": 5.256754820402342,
          "year": 1997
         },
         {
          "COUNTRY_CODE": "FR",
          "month": 7,
          "name": "METZ FRESCATY, FR",
          "rolling_average_irrigation_requirement": 5.256754820402342,
          "year": 1997
         },
         {
          "COUNTRY_CODE": "FR",
          "month": 7,
          "name": "MILLAU, FR",
          "rolling_average_irrigation_requirement": 5.2496232726710685,
          "year": 1997
         },
         {
          "COUNTRY_CODE": "FR",
          "month": 7,
          "name": "MONT AIGOUAL, FR",
          "rolling_average_irrigation_requirement": 5.256754820402342,
          "year": 1997
         },
         {
          "COUNTRY_CODE": "FR",
          "month": 7,
          "name": "MONT DE MARSAN, FR",
          "rolling_average_irrigation_requirement": 5.259857090002138,
          "year": 1997
         },
         {
          "COUNTRY_CODE": "FR",
          "month": 7,
          "name": "MONTCORNET, FR",
          "rolling_average_irrigation_requirement": 5.256754820402342,
          "year": 1997
         },
         {
          "COUNTRY_CODE": "FR",
          "month": 7,
          "name": "MONTELIMAR, FR",
          "rolling_average_irrigation_requirement": 5.256754820402342,
          "year": 1997
         },
         {
          "COUNTRY_CODE": "FR",
          "month": 7,
          "name": "MONTMORILLON, FR",
          "rolling_average_irrigation_requirement": 5.256754820402342,
          "year": 1997
         },
         {
          "COUNTRY_CODE": "FR",
          "month": 7,
          "name": "MONTPELLIER AEROPORT, FR",
          "rolling_average_irrigation_requirement": 5.256754820402342,
          "year": 1997
         },
         {
          "COUNTRY_CODE": "FR",
          "month": 7,
          "name": "NANCY OCHEY, FR",
          "rolling_average_irrigation_requirement": 5.256754820402342,
          "year": 1997
         },
         {
          "COUNTRY_CODE": "FR",
          "month": 7,
          "name": "NANTES BOUGUENAIS, FR",
          "rolling_average_irrigation_requirement": 5.256754820402342,
          "year": 1997
         },
         {
          "COUNTRY_CODE": "FR",
          "month": 7,
          "name": "NICE, FR",
          "rolling_average_irrigation_requirement": 5.256754820402342,
          "year": 1997
         },
         {
          "COUNTRY_CODE": "FR",
          "month": 7,
          "name": "OCHEY, FR",
          "rolling_average_irrigation_requirement": 5.335375291292818,
          "year": 1997
         },
         {
          "COUNTRY_CODE": "FR",
          "month": 7,
          "name": "ODEREN, FR",
          "rolling_average_irrigation_requirement": 5.256754820402342,
          "year": 1997
         },
         {
          "COUNTRY_CODE": "FR",
          "month": 7,
          "name": "ORLY, FR",
          "rolling_average_irrigation_requirement": 5.256754820402342,
          "year": 1997
         },
         {
          "COUNTRY_CODE": "FR",
          "month": 7,
          "name": "OUESSANT, FR",
          "rolling_average_irrigation_requirement": 5.28226652143026,
          "year": 1997
         },
         {
          "COUNTRY_CODE": "FR",
          "month": 7,
          "name": "PAMIERS, FR",
          "rolling_average_irrigation_requirement": 5.256754820402342,
          "year": 1997
         },
         {
          "COUNTRY_CODE": "FR",
          "month": 7,
          "name": "PARIS LE BOURGET, FR",
          "rolling_average_irrigation_requirement": 5.256754820402342,
          "year": 1997
         },
         {
          "COUNTRY_CODE": "FR",
          "month": 7,
          "name": "PERPIGNAN, FR",
          "rolling_average_irrigation_requirement": 5.256754820402342,
          "year": 1997
         },
         {
          "COUNTRY_CODE": "FR",
          "month": 7,
          "name": "PLOUMANAC H, FR",
          "rolling_average_irrigation_requirement": 5.256754820402342,
          "year": 1997
         },
         {
          "COUNTRY_CODE": "FR",
          "month": 7,
          "name": "POITIERS BIARD, FR",
          "rolling_average_irrigation_requirement": 5.256754820402342,
          "year": 1997
         },
         {
          "COUNTRY_CODE": "FR",
          "month": 7,
          "name": "PORETTA, FR",
          "rolling_average_irrigation_requirement": 5.256754820402342,
          "year": 1997
         },
         {
          "COUNTRY_CODE": "FR",
          "month": 7,
          "name": "PORT AUX FRANCAIS ILES KERGU, FR",
          "rolling_average_irrigation_requirement": 5.289978741431869,
          "year": 1997
         },
         {
          "COUNTRY_CODE": "FR",
          "month": 7,
          "name": "PTE DE CHASSIRON, FR",
          "rolling_average_irrigation_requirement": 5.256754820402342,
          "year": 1997
         },
         {
          "COUNTRY_CODE": "FR",
          "month": 7,
          "name": "PTE DE LA HAGUE, FR",
          "rolling_average_irrigation_requirement": 5.256754820402342,
          "year": 1997
         },
         {
          "COUNTRY_CODE": "FR",
          "month": 7,
          "name": "RENNES ST JACQUES, FR",
          "rolling_average_irrigation_requirement": 5.256754820402342,
          "year": 1997
         },
         {
          "COUNTRY_CODE": "FR",
          "month": 7,
          "name": "ROUEN BOOS, FR",
          "rolling_average_irrigation_requirement": 5.256754820402342,
          "year": 1997
         },
         {
          "COUNTRY_CODE": "FR",
          "month": 7,
          "name": "SAINT EXUPERY, FR",
          "rolling_average_irrigation_requirement": 5.256754820402342,
          "year": 1997
         },
         {
          "COUNTRY_CODE": "FR",
          "month": 7,
          "name": "SAINT GERMAIN LES BELLES, FR",
          "rolling_average_irrigation_requirement": 5.256754820402342,
          "year": 1997
         },
         {
          "COUNTRY_CODE": "FR",
          "month": 7,
          "name": "ST GIRONS, FR",
          "rolling_average_irrigation_requirement": 5.256754820402342,
          "year": 1997
         },
         {
          "COUNTRY_CODE": "FR",
          "month": 7,
          "name": "STRASBOURG ENTZHEIM, FR",
          "rolling_average_irrigation_requirement": 5.256754820402342,
          "year": 1997
         },
         {
          "COUNTRY_CODE": "FR",
          "month": 7,
          "name": "TARBES OSSUN, FR",
          "rolling_average_irrigation_requirement": 5.256754820402342,
          "year": 1997
         },
         {
          "COUNTRY_CODE": "FR",
          "month": 7,
          "name": "TOULOUSE BLAGNAC, FR",
          "rolling_average_irrigation_requirement": 5.256754820402342,
          "year": 1997
         },
         {
          "COUNTRY_CODE": "FR",
          "month": 7,
          "name": "TOURS, FR",
          "rolling_average_irrigation_requirement": 5.256754820402342,
          "year": 1997
         },
         {
          "COUNTRY_CODE": "FR",
          "month": 7,
          "name": "TROYES BARBEREY, FR",
          "rolling_average_irrigation_requirement": 5.256754820402342,
          "year": 1997
         },
         {
          "COUNTRY_CODE": "FR",
          "month": 7,
          "name": "VAL DE LOIRE, FR",
          "rolling_average_irrigation_requirement": 5.256754820402342,
          "year": 1997
         },
         {
          "COUNTRY_CODE": "FR",
          "month": 7,
          "name": "VALLEE DE SEINE, FR",
          "rolling_average_irrigation_requirement": 5.256754820402342,
          "year": 1997
         },
         {
          "COUNTRY_CODE": "FR",
          "month": 7,
          "name": "VOUZIERS, FR",
          "rolling_average_irrigation_requirement": 5.256754820402342,
          "year": 1997
         },
         {
          "COUNTRY_CODE": "FR",
          "month": 7,
          "name": "ABBEVILLE, FR",
          "rolling_average_irrigation_requirement": 5.378400140820359,
          "year": 1998
         },
         {
          "COUNTRY_CODE": "FR",
          "month": 7,
          "name": "AJACCIO, FR",
          "rolling_average_irrigation_requirement": 5.380124320413578,
          "year": 1998
         },
         {
          "COUNTRY_CODE": "FR",
          "month": 7,
          "name": "ALENCON VALFRAMBERT, FR",
          "rolling_average_irrigation_requirement": 5.380124320413575,
          "year": 1998
         },
         {
          "COUNTRY_CODE": "FR",
          "month": 7,
          "name": "AMIENS GLISY, FR",
          "rolling_average_irrigation_requirement": 5.380124320413578,
          "year": 1998
         },
         {
          "COUNTRY_CODE": "FR",
          "month": 7,
          "name": "ANTICHAN, FR",
          "rolling_average_irrigation_requirement": 5.380124320413578,
          "year": 1998
         },
         {
          "COUNTRY_CODE": "FR",
          "month": 7,
          "name": "AUVERGNE, FR",
          "rolling_average_irrigation_requirement": 5.380124320413578,
          "year": 1998
         },
         {
          "COUNTRY_CODE": "FR",
          "month": 7,
          "name": "BALE MULHOUSE, FR",
          "rolling_average_irrigation_requirement": 5.380124320413578,
          "year": 1998
         },
         {
          "COUNTRY_CODE": "FR",
          "month": 7,
          "name": "BALLOTS, FR",
          "rolling_average_irrigation_requirement": 5.380124320413578,
          "year": 1998
         },
         {
          "COUNTRY_CODE": "FR",
          "month": 7,
          "name": "BARBEREY, FR",
          "rolling_average_irrigation_requirement": 5.380124320413578,
          "year": 1998
         },
         {
          "COUNTRY_CODE": "FR",
          "month": 7,
          "name": "BASEL MULHOUSE, FR",
          "rolling_average_irrigation_requirement": 5.380124320413578,
          "year": 1998
         },
         {
          "COUNTRY_CODE": "FR",
          "month": 7,
          "name": "BASTIA, FR",
          "rolling_average_irrigation_requirement": 5.380124320413578,
          "year": 1998
         },
         {
          "COUNTRY_CODE": "FR",
          "month": 7,
          "name": "BELLE ILE LE TALUT, FR",
          "rolling_average_irrigation_requirement": 5.380124320413578,
          "year": 1998
         },
         {
          "COUNTRY_CODE": "FR",
          "month": 7,
          "name": "BELLEGARDE, FR",
          "rolling_average_irrigation_requirement": 5.380124320413578,
          "year": 1998
         },
         {
          "COUNTRY_CODE": "FR",
          "month": 7,
          "name": "BIARD, FR",
          "rolling_average_irrigation_requirement": 5.380124320413578,
          "year": 1998
         },
         {
          "COUNTRY_CODE": "FR",
          "month": 7,
          "name": "BORDEAUX MERIGNAC, FR",
          "rolling_average_irrigation_requirement": 5.380124320413578,
          "year": 1998
         },
         {
          "COUNTRY_CODE": "FR",
          "month": 7,
          "name": "BOURGES, FR",
          "rolling_average_irrigation_requirement": 5.380124320413578,
          "year": 1998
         },
         {
          "COUNTRY_CODE": "FR",
          "month": 7,
          "name": "BREST GUIPAVAS, FR",
          "rolling_average_irrigation_requirement": 5.380124320413578,
          "year": 1998
         },
         {
          "COUNTRY_CODE": "FR",
          "month": 7,
          "name": "BRETIGNY SUR ORGE, FR",
          "rolling_average_irrigation_requirement": 5.380124320413578,
          "year": 1998
         },
         {
          "COUNTRY_CODE": "FR",
          "month": 7,
          "name": "CAEN CARPIQUET, FR",
          "rolling_average_irrigation_requirement": 5.380124320413578,
          "year": 1998
         },
         {
          "COUNTRY_CODE": "FR",
          "month": 7,
          "name": "CAMPO DELL ORO, FR",
          "rolling_average_irrigation_requirement": 5.380124320413578,
          "year": 1998
         },
         {
          "COUNTRY_CODE": "FR",
          "month": 7,
          "name": "CAP CEPET, FR",
          "rolling_average_irrigation_requirement": 5.380124320413575,
          "year": 1998
         },
         {
          "COUNTRY_CODE": "FR",
          "month": 7,
          "name": "CARPIQUET, FR",
          "rolling_average_irrigation_requirement": 5.380124320413578,
          "year": 1998
         },
         {
          "COUNTRY_CODE": "FR",
          "month": 7,
          "name": "CATUS, FR",
          "rolling_average_irrigation_requirement": 5.380124320413578,
          "year": 1998
         },
         {
          "COUNTRY_CODE": "FR",
          "month": 7,
          "name": "CHASSIRON, FR",
          "rolling_average_irrigation_requirement": 5.394036912015178,
          "year": 1998
         },
         {
          "COUNTRY_CODE": "FR",
          "month": 7,
          "name": "CHATILLON COLIGNY, FR",
          "rolling_average_irrigation_requirement": 5.380124320413578,
          "year": 1998
         },
         {
          "COUNTRY_CODE": "FR",
          "month": 7,
          "name": "CHATILLON SUR SEINE, FR",
          "rolling_average_irrigation_requirement": 5.380124320413578,
          "year": 1998
         },
         {
          "COUNTRY_CODE": "FR",
          "month": 7,
          "name": "CLERMONT FERRAND, FR",
          "rolling_average_irrigation_requirement": 5.380124320413578,
          "year": 1998
         },
         {
          "COUNTRY_CODE": "FR",
          "month": 7,
          "name": "COTE D AZUR, FR",
          "rolling_average_irrigation_requirement": 5.380124320413578,
          "year": 1998
         },
         {
          "COUNTRY_CODE": "FR",
          "month": 7,
          "name": "DEOLS CHATEAUROUX AERODROME DE, FR",
          "rolling_average_irrigation_requirement": 5.380124320413578,
          "year": 1998
         },
         {
          "COUNTRY_CODE": "FR",
          "month": 7,
          "name": "DIJON LONGVIC, FR",
          "rolling_average_irrigation_requirement": 5.380124320413578,
          "year": 1998
         },
         {
          "COUNTRY_CODE": "FR",
          "month": 7,
          "name": "EMBRUN, FR",
          "rolling_average_irrigation_requirement": 5.379359780446691,
          "year": 1998
         },
         {
          "COUNTRY_CODE": "FR",
          "month": 7,
          "name": "ESPOEY, FR",
          "rolling_average_irrigation_requirement": 5.380124320413578,
          "year": 1998
         },
         {
          "COUNTRY_CODE": "FR",
          "month": 7,
          "name": "ESSEY, FR",
          "rolling_average_irrigation_requirement": 5.380124320413578,
          "year": 1998
         },
         {
          "COUNTRY_CODE": "FR",
          "month": 7,
          "name": "FAVERGES DE LA TOUR, FR",
          "rolling_average_irrigation_requirement": 5.380124320413578,
          "year": 1998
         },
         {
          "COUNTRY_CODE": "FR",
          "month": 7,
          "name": "GOURDON, FR",
          "rolling_average_irrigation_requirement": 5.380124320413578,
          "year": 1998
         },
         {
          "COUNTRY_CODE": "FR",
          "month": 7,
          "name": "GUIPAVAS, FR",
          "rolling_average_irrigation_requirement": 5.380124320413578,
          "year": 1998
         },
         {
          "COUNTRY_CODE": "FR",
          "month": 7,
          "name": "LA SOUTERRAINE, FR",
          "rolling_average_irrigation_requirement": 5.380124320413578,
          "year": 1998
         },
         {
          "COUNTRY_CODE": "FR",
          "month": 7,
          "name": "LE MASSEGROS, FR",
          "rolling_average_irrigation_requirement": 5.380124320413578,
          "year": 1998
         },
         {
          "COUNTRY_CODE": "FR",
          "month": 7,
          "name": "LE PUY LOUDES, FR",
          "rolling_average_irrigation_requirement": 5.380124320413578,
          "year": 1998
         },
         {
          "COUNTRY_CODE": "FR",
          "month": 7,
          "name": "LESQUIN, FR",
          "rolling_average_irrigation_requirement": 5.380124320413578,
          "year": 1998
         },
         {
          "COUNTRY_CODE": "FR",
          "month": 7,
          "name": "LEZAY, FR",
          "rolling_average_irrigation_requirement": 5.380124320413578,
          "year": 1998
         },
         {
          "COUNTRY_CODE": "FR",
          "month": 7,
          "name": "LILLE LESQUIN, FR",
          "rolling_average_irrigation_requirement": 5.380124320413578,
          "year": 1998
         },
         {
          "COUNTRY_CODE": "FR",
          "month": 7,
          "name": "LIMOGES BELLEGARDE, FR",
          "rolling_average_irrigation_requirement": 5.380124320413578,
          "year": 1998
         },
         {
          "COUNTRY_CODE": "FR",
          "month": 7,
          "name": "LONGVIC, FR",
          "rolling_average_irrigation_requirement": 5.380124320413578,
          "year": 1998
         },
         {
          "COUNTRY_CODE": "FR",
          "month": 7,
          "name": "LOUDES, FR",
          "rolling_average_irrigation_requirement": 5.380124320413578,
          "year": 1998
         },
         {
          "COUNTRY_CODE": "FR",
          "month": 7,
          "name": "LOURDES, FR",
          "rolling_average_irrigation_requirement": 5.380124320413578,
          "year": 1998
         },
         {
          "COUNTRY_CODE": "FR",
          "month": 7,
          "name": "LYON ST EXUPERY, FR",
          "rolling_average_irrigation_requirement": 5.380124320413578,
          "year": 1998
         },
         {
          "COUNTRY_CODE": "FR",
          "month": 7,
          "name": "MARSEILLE OBS. PALAIS LONCHAMP, FR",
          "rolling_average_irrigation_requirement": 5.380124320413578,
          "year": 1998
         },
         {
          "COUNTRY_CODE": "FR",
          "month": 7,
          "name": "MARSEILLES MARIGNANE, FR",
          "rolling_average_irrigation_requirement": 5.380124320413578,
          "year": 1998
         },
         {
          "COUNTRY_CODE": "FR",
          "month": 7,
          "name": "MEDITERRANEE, FR",
          "rolling_average_irrigation_requirement": 5.380124320413578,
          "year": 1998
         },
         {
          "COUNTRY_CODE": "FR",
          "month": 7,
          "name": "METZ FRESCATY, FR",
          "rolling_average_irrigation_requirement": 5.380124320413578,
          "year": 1998
         },
         {
          "COUNTRY_CODE": "FR",
          "month": 7,
          "name": "MILLAU, FR",
          "rolling_average_irrigation_requirement": 5.380124320413575,
          "year": 1998
         },
         {
          "COUNTRY_CODE": "FR",
          "month": 7,
          "name": "MONT AIGOUAL, FR",
          "rolling_average_irrigation_requirement": 5.380124320413578,
          "year": 1998
         },
         {
          "COUNTRY_CODE": "FR",
          "month": 7,
          "name": "MONT DE MARSAN, FR",
          "rolling_average_irrigation_requirement": 5.3772907969883015,
          "year": 1998
         },
         {
          "COUNTRY_CODE": "FR",
          "month": 7,
          "name": "MONTCORNET, FR",
          "rolling_average_irrigation_requirement": 5.380124320413578,
          "year": 1998
         },
         {
          "COUNTRY_CODE": "FR",
          "month": 7,
          "name": "MONTELIMAR, FR",
          "rolling_average_irrigation_requirement": 5.380124320413578,
          "year": 1998
         },
         {
          "COUNTRY_CODE": "FR",
          "month": 7,
          "name": "MONTMORILLON, FR",
          "rolling_average_irrigation_requirement": 5.380124320413578,
          "year": 1998
         },
         {
          "COUNTRY_CODE": "FR",
          "month": 7,
          "name": "MONTPELLIER AEROPORT, FR",
          "rolling_average_irrigation_requirement": 5.380124320413578,
          "year": 1998
         },
         {
          "COUNTRY_CODE": "FR",
          "month": 7,
          "name": "NANCY OCHEY, FR",
          "rolling_average_irrigation_requirement": 5.380124320413578,
          "year": 1998
         },
         {
          "COUNTRY_CODE": "FR",
          "month": 7,
          "name": "NANTES BOUGUENAIS, FR",
          "rolling_average_irrigation_requirement": 5.380124320413578,
          "year": 1998
         },
         {
          "COUNTRY_CODE": "FR",
          "month": 7,
          "name": "NICE, FR",
          "rolling_average_irrigation_requirement": 5.380124320413578,
          "year": 1998
         },
         {
          "COUNTRY_CODE": "FR",
          "month": 7,
          "name": "OCHEY, FR",
          "rolling_average_irrigation_requirement": 5.378222095089011,
          "year": 1998
         },
         {
          "COUNTRY_CODE": "FR",
          "month": 7,
          "name": "ODEREN, FR",
          "rolling_average_irrigation_requirement": 5.380124320413578,
          "year": 1998
         },
         {
          "COUNTRY_CODE": "FR",
          "month": 7,
          "name": "ORLY, FR",
          "rolling_average_irrigation_requirement": 5.380124320413578,
          "year": 1998
         },
         {
          "COUNTRY_CODE": "FR",
          "month": 7,
          "name": "OUESSANT, FR",
          "rolling_average_irrigation_requirement": 5.392931543239664,
          "year": 1998
         },
         {
          "COUNTRY_CODE": "FR",
          "month": 7,
          "name": "PAMIERS, FR",
          "rolling_average_irrigation_requirement": 5.380124320413578,
          "year": 1998
         },
         {
          "COUNTRY_CODE": "FR",
          "month": 7,
          "name": "PARIS LE BOURGET, FR",
          "rolling_average_irrigation_requirement": 5.380124320413578,
          "year": 1998
         },
         {
          "COUNTRY_CODE": "FR",
          "month": 7,
          "name": "PERPIGNAN, FR",
          "rolling_average_irrigation_requirement": 5.380124320413578,
          "year": 1998
         },
         {
          "COUNTRY_CODE": "FR",
          "month": 7,
          "name": "PLOUMANAC H, FR",
          "rolling_average_irrigation_requirement": 5.380124320413578,
          "year": 1998
         },
         {
          "COUNTRY_CODE": "FR",
          "month": 7,
          "name": "POITIERS BIARD, FR",
          "rolling_average_irrigation_requirement": 5.380124320413578,
          "year": 1998
         },
         {
          "COUNTRY_CODE": "FR",
          "month": 7,
          "name": "PORETTA, FR",
          "rolling_average_irrigation_requirement": 5.380124320413578,
          "year": 1998
         },
         {
          "COUNTRY_CODE": "FR",
          "month": 7,
          "name": "PORT AUX FRANCAIS ILES KERGU, FR",
          "rolling_average_irrigation_requirement": 5.380124320413578,
          "year": 1998
         },
         {
          "COUNTRY_CODE": "FR",
          "month": 7,
          "name": "PTE DE CHASSIRON, FR",
          "rolling_average_irrigation_requirement": 5.380124320413578,
          "year": 1998
         },
         {
          "COUNTRY_CODE": "FR",
          "month": 7,
          "name": "PTE DE LA HAGUE, FR",
          "rolling_average_irrigation_requirement": 5.380124320413578,
          "year": 1998
         },
         {
          "COUNTRY_CODE": "FR",
          "month": 7,
          "name": "RENNES ST JACQUES, FR",
          "rolling_average_irrigation_requirement": 5.380124320413578,
          "year": 1998
         },
         {
          "COUNTRY_CODE": "FR",
          "month": 7,
          "name": "ROUEN BOOS, FR",
          "rolling_average_irrigation_requirement": 5.380124320413578,
          "year": 1998
         },
         {
          "COUNTRY_CODE": "FR",
          "month": 7,
          "name": "SAINT EXUPERY, FR",
          "rolling_average_irrigation_requirement": 5.380124320413578,
          "year": 1998
         },
         {
          "COUNTRY_CODE": "FR",
          "month": 7,
          "name": "SAINT GERMAIN LES BELLES, FR",
          "rolling_average_irrigation_requirement": 5.380124320413578,
          "year": 1998
         },
         {
          "COUNTRY_CODE": "FR",
          "month": 7,
          "name": "ST GIRONS, FR",
          "rolling_average_irrigation_requirement": 5.380124320413578,
          "year": 1998
         },
         {
          "COUNTRY_CODE": "FR",
          "month": 7,
          "name": "STRASBOURG ENTZHEIM, FR",
          "rolling_average_irrigation_requirement": 5.380124320413578,
          "year": 1998
         },
         {
          "COUNTRY_CODE": "FR",
          "month": 7,
          "name": "TARBES OSSUN, FR",
          "rolling_average_irrigation_requirement": 5.380124320413578,
          "year": 1998
         },
         {
          "COUNTRY_CODE": "FR",
          "month": 7,
          "name": "TOULOUSE BLAGNAC, FR",
          "rolling_average_irrigation_requirement": 5.380124320413578,
          "year": 1998
         },
         {
          "COUNTRY_CODE": "FR",
          "month": 7,
          "name": "TOURS, FR",
          "rolling_average_irrigation_requirement": 5.380124320413578,
          "year": 1998
         },
         {
          "COUNTRY_CODE": "FR",
          "month": 7,
          "name": "TROYES BARBEREY, FR",
          "rolling_average_irrigation_requirement": 5.380124320413578,
          "year": 1998
         },
         {
          "COUNTRY_CODE": "FR",
          "month": 7,
          "name": "VAL DE LOIRE, FR",
          "rolling_average_irrigation_requirement": 5.380124320413578,
          "year": 1998
         },
         {
          "COUNTRY_CODE": "FR",
          "month": 7,
          "name": "VALLEE DE SEINE, FR",
          "rolling_average_irrigation_requirement": 5.380124320413578,
          "year": 1998
         },
         {
          "COUNTRY_CODE": "FR",
          "month": 7,
          "name": "VOUZIERS, FR",
          "rolling_average_irrigation_requirement": 5.380124320413578,
          "year": 1998
         },
         {
          "COUNTRY_CODE": "FR",
          "month": 7,
          "name": "ABBEVILLE, FR",
          "rolling_average_irrigation_requirement": 5.439750688133959,
          "year": 1999
         },
         {
          "COUNTRY_CODE": "FR",
          "month": 7,
          "name": "AJACCIO, FR",
          "rolling_average_irrigation_requirement": 5.4418601169098775,
          "year": 1999
         },
         {
          "COUNTRY_CODE": "FR",
          "month": 7,
          "name": "ALENCON VALFRAMBERT, FR",
          "rolling_average_irrigation_requirement": 5.4418601169098775,
          "year": 1999
         },
         {
          "COUNTRY_CODE": "FR",
          "month": 7,
          "name": "AMIENS GLISY, FR",
          "rolling_average_irrigation_requirement": 5.4418601169098775,
          "year": 1999
         },
         {
          "COUNTRY_CODE": "FR",
          "month": 7,
          "name": "ANTICHAN, FR",
          "rolling_average_irrigation_requirement": 5.4481398100422584,
          "year": 1999
         },
         {
          "COUNTRY_CODE": "FR",
          "month": 7,
          "name": "AUVERGNE, FR",
          "rolling_average_irrigation_requirement": 5.441662590309248,
          "year": 1999
         },
         {
          "COUNTRY_CODE": "FR",
          "month": 7,
          "name": "BALE MULHOUSE, FR",
          "rolling_average_irrigation_requirement": 5.439884359335981,
          "year": 1999
         },
         {
          "COUNTRY_CODE": "FR",
          "month": 7,
          "name": "BALLOTS, FR",
          "rolling_average_irrigation_requirement": 5.4418601169098775,
          "year": 1999
         },
         {
          "COUNTRY_CODE": "FR",
          "month": 7,
          "name": "BARBEREY, FR",
          "rolling_average_irrigation_requirement": 5.449576790469612,
          "year": 1999
         },
         {
          "COUNTRY_CODE": "FR",
          "month": 7,
          "name": "BASEL MULHOUSE, FR",
          "rolling_average_irrigation_requirement": 5.4418601169098775,
          "year": 1999
         },
         {
          "COUNTRY_CODE": "FR",
          "month": 7,
          "name": "BASTIA, FR",
          "rolling_average_irrigation_requirement": 5.4418601169098775,
          "year": 1999
         },
         {
          "COUNTRY_CODE": "FR",
          "month": 7,
          "name": "BELLE ILE LE TALUT, FR",
          "rolling_average_irrigation_requirement": 5.4418601169098775,
          "year": 1999
         },
         {
          "COUNTRY_CODE": "FR",
          "month": 7,
          "name": "BELLEGARDE, FR",
          "rolling_average_irrigation_requirement": 5.4418601169098775,
          "year": 1999
         },
         {
          "COUNTRY_CODE": "FR",
          "month": 7,
          "name": "BIARD, FR",
          "rolling_average_irrigation_requirement": 5.448783576788506,
          "year": 1999
         },
         {
          "COUNTRY_CODE": "FR",
          "month": 7,
          "name": "BORDEAUX MERIGNAC, FR",
          "rolling_average_irrigation_requirement": 5.4418601169098775,
          "year": 1999
         },
         {
          "COUNTRY_CODE": "FR",
          "month": 7,
          "name": "BOURGES, FR",
          "rolling_average_irrigation_requirement": 5.4418601169098775,
          "year": 1999
         },
         {
          "COUNTRY_CODE": "FR",
          "month": 7,
          "name": "BREST GUIPAVAS, FR",
          "rolling_average_irrigation_requirement": 5.4418601169098775,
          "year": 1999
         },
         {
          "COUNTRY_CODE": "FR",
          "month": 7,
          "name": "BRETIGNY SUR ORGE, FR",
          "rolling_average_irrigation_requirement": 5.4418601169098775,
          "year": 1999
         },
         {
          "COUNTRY_CODE": "FR",
          "month": 7,
          "name": "CAEN CARPIQUET, FR",
          "rolling_average_irrigation_requirement": 5.4418601169098775,
          "year": 1999
         },
         {
          "COUNTRY_CODE": "FR",
          "month": 7,
          "name": "CAMPO DELL ORO, FR",
          "rolling_average_irrigation_requirement": 5.4467460676920405,
          "year": 1999
         },
         {
          "COUNTRY_CODE": "FR",
          "month": 7,
          "name": "CAP CEPET, FR",
          "rolling_average_irrigation_requirement": 5.445280541336371,
          "year": 1999
         },
         {
          "COUNTRY_CODE": "FR",
          "month": 7,
          "name": "CARPIQUET, FR",
          "rolling_average_irrigation_requirement": 5.4418601169098775,
          "year": 1999
         },
         {
          "COUNTRY_CODE": "FR",
          "month": 7,
          "name": "CATUS, FR",
          "rolling_average_irrigation_requirement": 5.4418601169098775,
          "year": 1999
         },
         {
          "COUNTRY_CODE": "FR",
          "month": 7,
          "name": "CHASSIRON, FR",
          "rolling_average_irrigation_requirement": 5.476900966305012,
          "year": 1999
         },
         {
          "COUNTRY_CODE": "FR",
          "month": 7,
          "name": "CHATILLON COLIGNY, FR",
          "rolling_average_irrigation_requirement": 5.4418601169098775,
          "year": 1999
         },
         {
          "COUNTRY_CODE": "FR",
          "month": 7,
          "name": "CHATILLON SUR SEINE, FR",
          "rolling_average_irrigation_requirement": 5.4418601169098775,
          "year": 1999
         },
         {
          "COUNTRY_CODE": "FR",
          "month": 7,
          "name": "CLERMONT FERRAND, FR",
          "rolling_average_irrigation_requirement": 5.4418601169098775,
          "year": 1999
         },
         {
          "COUNTRY_CODE": "FR",
          "month": 7,
          "name": "COTE D AZUR, FR",
          "rolling_average_irrigation_requirement": 5.446664167059717,
          "year": 1999
         },
         {
          "COUNTRY_CODE": "FR",
          "month": 7,
          "name": "DEOLS CHATEAUROUX AERODROME DE, FR",
          "rolling_average_irrigation_requirement": 5.4418601169098775,
          "year": 1999
         },
         {
          "COUNTRY_CODE": "FR",
          "month": 7,
          "name": "DIJON LONGVIC, FR",
          "rolling_average_irrigation_requirement": 5.4418601169098775,
          "year": 1999
         },
         {
          "COUNTRY_CODE": "FR",
          "month": 7,
          "name": "EMBRUN, FR",
          "rolling_average_irrigation_requirement": 5.445339953650075,
          "year": 1999
         },
         {
          "COUNTRY_CODE": "FR",
          "month": 7,
          "name": "ESPOEY, FR",
          "rolling_average_irrigation_requirement": 5.4418601169098775,
          "year": 1999
         },
         {
          "COUNTRY_CODE": "FR",
          "month": 7,
          "name": "ESSEY, FR",
          "rolling_average_irrigation_requirement": 5.4418601169098775,
          "year": 1999
         },
         {
          "COUNTRY_CODE": "FR",
          "month": 7,
          "name": "FAVERGES DE LA TOUR, FR",
          "rolling_average_irrigation_requirement": 5.4418601169098775,
          "year": 1999
         },
         {
          "COUNTRY_CODE": "FR",
          "month": 7,
          "name": "GOURDON, FR",
          "rolling_average_irrigation_requirement": 5.4418601169098775,
          "year": 1999
         },
         {
          "COUNTRY_CODE": "FR",
          "month": 7,
          "name": "GUIPAVAS, FR",
          "rolling_average_irrigation_requirement": 5.4418601169098775,
          "year": 1999
         },
         {
          "COUNTRY_CODE": "FR",
          "month": 7,
          "name": "LA SOUTERRAINE, FR",
          "rolling_average_irrigation_requirement": 5.4418601169098775,
          "year": 1999
         },
         {
          "COUNTRY_CODE": "FR",
          "month": 7,
          "name": "LE MASSEGROS, FR",
          "rolling_average_irrigation_requirement": 5.4418601169098775,
          "year": 1999
         },
         {
          "COUNTRY_CODE": "FR",
          "month": 7,
          "name": "LE PUY LOUDES, FR",
          "rolling_average_irrigation_requirement": 5.4418601169098775,
          "year": 1999
         },
         {
          "COUNTRY_CODE": "FR",
          "month": 7,
          "name": "LESQUIN, FR",
          "rolling_average_irrigation_requirement": 5.438307340145596,
          "year": 1999
         },
         {
          "COUNTRY_CODE": "FR",
          "month": 7,
          "name": "LEZAY, FR",
          "rolling_average_irrigation_requirement": 5.4418601169098775,
          "year": 1999
         },
         {
          "COUNTRY_CODE": "FR",
          "month": 7,
          "name": "LILLE LESQUIN, FR",
          "rolling_average_irrigation_requirement": 5.4418601169098775,
          "year": 1999
         },
         {
          "COUNTRY_CODE": "FR",
          "month": 7,
          "name": "LIMOGES BELLEGARDE, FR",
          "rolling_average_irrigation_requirement": 5.4418601169098775,
          "year": 1999
         },
         {
          "COUNTRY_CODE": "FR",
          "month": 7,
          "name": "LONGVIC, FR",
          "rolling_average_irrigation_requirement": 5.4418601169098775,
          "year": 1999
         },
         {
          "COUNTRY_CODE": "FR",
          "month": 7,
          "name": "LOUDES, FR",
          "rolling_average_irrigation_requirement": 5.462728300981173,
          "year": 1999
         },
         {
          "COUNTRY_CODE": "FR",
          "month": 7,
          "name": "LOURDES, FR",
          "rolling_average_irrigation_requirement": 5.442792552221273,
          "year": 1999
         },
         {
          "COUNTRY_CODE": "FR",
          "month": 7,
          "name": "LYON ST EXUPERY, FR",
          "rolling_average_irrigation_requirement": 5.4418601169098775,
          "year": 1999
         },
         {
          "COUNTRY_CODE": "FR",
          "month": 7,
          "name": "MARSEILLE OBS. PALAIS LONCHAMP, FR",
          "rolling_average_irrigation_requirement": 5.4418601169098775,
          "year": 1999
         },
         {
          "COUNTRY_CODE": "FR",
          "month": 7,
          "name": "MARSEILLES MARIGNANE, FR",
          "rolling_average_irrigation_requirement": 5.4418601169098775,
          "year": 1999
         },
         {
          "COUNTRY_CODE": "FR",
          "month": 7,
          "name": "MEDITERRANEE, FR",
          "rolling_average_irrigation_requirement": 5.4418601169098775,
          "year": 1999
         },
         {
          "COUNTRY_CODE": "FR",
          "month": 7,
          "name": "METZ FRESCATY, FR",
          "rolling_average_irrigation_requirement": 5.446382797761826,
          "year": 1999
         },
         {
          "COUNTRY_CODE": "FR",
          "month": 7,
          "name": "MILLAU, FR",
          "rolling_average_irrigation_requirement": 5.4418601169098775,
          "year": 1999
         },
         {
          "COUNTRY_CODE": "FR",
          "month": 7,
          "name": "MONT AIGOUAL, FR",
          "rolling_average_irrigation_requirement": 5.4418601169098775,
          "year": 1999
         },
         {
          "COUNTRY_CODE": "FR",
          "month": 7,
          "name": "MONT DE MARSAN, FR",
          "rolling_average_irrigation_requirement": 5.445265097178055,
          "year": 1999
         },
         {
          "COUNTRY_CODE": "FR",
          "month": 7,
          "name": "MONTCORNET, FR",
          "rolling_average_irrigation_requirement": 5.4418601169098775,
          "year": 1999
         },
         {
          "COUNTRY_CODE": "FR",
          "month": 7,
          "name": "MONTELIMAR, FR",
          "rolling_average_irrigation_requirement": 5.4418601169098775,
          "year": 1999
         },
         {
          "COUNTRY_CODE": "FR",
          "month": 7,
          "name": "MONTMORILLON, FR",
          "rolling_average_irrigation_requirement": 5.4418601169098775,
          "year": 1999
         },
         {
          "COUNTRY_CODE": "FR",
          "month": 7,
          "name": "MONTPELLIER AEROPORT, FR",
          "rolling_average_irrigation_requirement": 5.4418601169098775,
          "year": 1999
         },
         {
          "COUNTRY_CODE": "FR",
          "month": 7,
          "name": "NANCY OCHEY, FR",
          "rolling_average_irrigation_requirement": 5.4418601169098775,
          "year": 1999
         },
         {
          "COUNTRY_CODE": "FR",
          "month": 7,
          "name": "NANTES BOUGUENAIS, FR",
          "rolling_average_irrigation_requirement": 5.4418601169098775,
          "year": 1999
         },
         {
          "COUNTRY_CODE": "FR",
          "month": 7,
          "name": "NICE, FR",
          "rolling_average_irrigation_requirement": 5.4418601169098775,
          "year": 1999
         },
         {
          "COUNTRY_CODE": "FR",
          "month": 7,
          "name": "OCHEY, FR",
          "rolling_average_irrigation_requirement": 5.44621382187375,
          "year": 1999
         },
         {
          "COUNTRY_CODE": "FR",
          "month": 7,
          "name": "ODEREN, FR",
          "rolling_average_irrigation_requirement": 5.4418601169098775,
          "year": 1999
         },
         {
          "COUNTRY_CODE": "FR",
          "month": 7,
          "name": "ORLY, FR",
          "rolling_average_irrigation_requirement": 5.4418601169098775,
          "year": 1999
         },
         {
          "COUNTRY_CODE": "FR",
          "month": 7,
          "name": "OUESSANT, FR",
          "rolling_average_irrigation_requirement": 5.4391740726033735,
          "year": 1999
         },
         {
          "COUNTRY_CODE": "FR",
          "month": 7,
          "name": "PAMIERS, FR",
          "rolling_average_irrigation_requirement": 5.4418601169098775,
          "year": 1999
         },
         {
          "COUNTRY_CODE": "FR",
          "month": 7,
          "name": "PARIS LE BOURGET, FR",
          "rolling_average_irrigation_requirement": 5.4418601169098775,
          "year": 1999
         },
         {
          "COUNTRY_CODE": "FR",
          "month": 7,
          "name": "PERPIGNAN, FR",
          "rolling_average_irrigation_requirement": 5.4418601169098775,
          "year": 1999
         },
         {
          "COUNTRY_CODE": "FR",
          "month": 7,
          "name": "PLOUMANAC H, FR",
          "rolling_average_irrigation_requirement": 5.4418601169098775,
          "year": 1999
         },
         {
          "COUNTRY_CODE": "FR",
          "month": 7,
          "name": "POITIERS BIARD, FR",
          "rolling_average_irrigation_requirement": 5.4418601169098775,
          "year": 1999
         },
         {
          "COUNTRY_CODE": "FR",
          "month": 7,
          "name": "PORETTA, FR",
          "rolling_average_irrigation_requirement": 5.4418601169098775,
          "year": 1999
         },
         {
          "COUNTRY_CODE": "FR",
          "month": 7,
          "name": "PTE DE CHASSIRON, FR",
          "rolling_average_irrigation_requirement": 5.4418601169098775,
          "year": 1999
         },
         {
          "COUNTRY_CODE": "FR",
          "month": 7,
          "name": "PTE DE LA HAGUE, FR",
          "rolling_average_irrigation_requirement": 5.4418601169098775,
          "year": 1999
         },
         {
          "COUNTRY_CODE": "FR",
          "month": 7,
          "name": "RENNES ST JACQUES, FR",
          "rolling_average_irrigation_requirement": 5.4418601169098775,
          "year": 1999
         },
         {
          "COUNTRY_CODE": "FR",
          "month": 7,
          "name": "ROUEN BOOS, FR",
          "rolling_average_irrigation_requirement": 5.4418601169098775,
          "year": 1999
         },
         {
          "COUNTRY_CODE": "FR",
          "month": 7,
          "name": "SAINT EXUPERY, FR",
          "rolling_average_irrigation_requirement": 5.4418601169098775,
          "year": 1999
         },
         {
          "COUNTRY_CODE": "FR",
          "month": 7,
          "name": "SAINT GERMAIN LES BELLES, FR",
          "rolling_average_irrigation_requirement": 5.4418601169098775,
          "year": 1999
         },
         {
          "COUNTRY_CODE": "FR",
          "month": 7,
          "name": "ST GIRONS, FR",
          "rolling_average_irrigation_requirement": 5.4418601169098775,
          "year": 1999
         },
         {
          "COUNTRY_CODE": "FR",
          "month": 7,
          "name": "STRASBOURG ENTZHEIM, FR",
          "rolling_average_irrigation_requirement": 5.4418601169098775,
          "year": 1999
         },
         {
          "COUNTRY_CODE": "FR",
          "month": 7,
          "name": "TARBES OSSUN, FR",
          "rolling_average_irrigation_requirement": 5.4418601169098775,
          "year": 1999
         },
         {
          "COUNTRY_CODE": "FR",
          "month": 7,
          "name": "TOULOUSE BLAGNAC, FR",
          "rolling_average_irrigation_requirement": 5.4418601169098775,
          "year": 1999
         },
         {
          "COUNTRY_CODE": "FR",
          "month": 7,
          "name": "TOURS, FR",
          "rolling_average_irrigation_requirement": 5.4418601169098775,
          "year": 1999
         },
         {
          "COUNTRY_CODE": "FR",
          "month": 7,
          "name": "TROYES BARBEREY, FR",
          "rolling_average_irrigation_requirement": 5.4418601169098775,
          "year": 1999
         },
         {
          "COUNTRY_CODE": "FR",
          "month": 7,
          "name": "VAL DE LOIRE, FR",
          "rolling_average_irrigation_requirement": 5.4418601169098775,
          "year": 1999
         },
         {
          "COUNTRY_CODE": "FR",
          "month": 7,
          "name": "VALLEE DE SEINE, FR",
          "rolling_average_irrigation_requirement": 5.4488179789216,
          "year": 1999
         },
         {
          "COUNTRY_CODE": "FR",
          "month": 7,
          "name": "VOUZIERS, FR",
          "rolling_average_irrigation_requirement": 5.4418601169098775,
          "year": 1999
         },
         {
          "COUNTRY_CODE": "FR",
          "month": 7,
          "name": "ABBEVILLE, FR",
          "rolling_average_irrigation_requirement": 4.877519366346796,
          "year": 2000
         },
         {
          "COUNTRY_CODE": "FR",
          "month": 7,
          "name": "AJACCIO, FR",
          "rolling_average_irrigation_requirement": 4.875126315626284,
          "year": 2000
         },
         {
          "COUNTRY_CODE": "FR",
          "month": 7,
          "name": "ALENCON VALFRAMBERT, FR",
          "rolling_average_irrigation_requirement": 4.875126315626286,
          "year": 2000
         },
         {
          "COUNTRY_CODE": "FR",
          "month": 7,
          "name": "AMIENS GLISY, FR",
          "rolling_average_irrigation_requirement": 4.875126315626284,
          "year": 2000
         },
         {
          "COUNTRY_CODE": "FR",
          "month": 7,
          "name": "ANTICHAN, FR",
          "rolling_average_irrigation_requirement": 4.865752334216844,
          "year": 2000
         },
         {
          "COUNTRY_CODE": "FR",
          "month": 7,
          "name": "AUVERGNE, FR",
          "rolling_average_irrigation_requirement": 4.875126315626284,
          "year": 2000
         },
         {
          "COUNTRY_CODE": "FR",
          "month": 7,
          "name": "BALE MULHOUSE, FR",
          "rolling_average_irrigation_requirement": 4.883832795718485,
          "year": 2000
         },
         {
          "COUNTRY_CODE": "FR",
          "month": 7,
          "name": "BALLOTS, FR",
          "rolling_average_irrigation_requirement": 4.875126315626284,
          "year": 2000
         },
         {
          "COUNTRY_CODE": "FR",
          "month": 7,
          "name": "BARBEREY, FR",
          "rolling_average_irrigation_requirement": 4.882854035125702,
          "year": 2000
         },
         {
          "COUNTRY_CODE": "FR",
          "month": 7,
          "name": "BASEL MULHOUSE, FR",
          "rolling_average_irrigation_requirement": 4.875126315626284,
          "year": 2000
         },
         {
          "COUNTRY_CODE": "FR",
          "month": 7,
          "name": "BASTIA, FR",
          "rolling_average_irrigation_requirement": 4.875126315626284,
          "year": 2000
         },
         {
          "COUNTRY_CODE": "FR",
          "month": 7,
          "name": "BELLE ILE LE TALUT, FR",
          "rolling_average_irrigation_requirement": 4.875126315626284,
          "year": 2000
         },
         {
          "COUNTRY_CODE": "FR",
          "month": 7,
          "name": "BELLEGARDE, FR",
          "rolling_average_irrigation_requirement": 4.868725334972913,
          "year": 2000
         },
         {
          "COUNTRY_CODE": "FR",
          "month": 7,
          "name": "BIARD, FR",
          "rolling_average_irrigation_requirement": 4.897800645063485,
          "year": 2000
         },
         {
          "COUNTRY_CODE": "FR",
          "month": 7,
          "name": "BORDEAUX MERIGNAC, FR",
          "rolling_average_irrigation_requirement": 4.875126315626284,
          "year": 2000
         },
         {
          "COUNTRY_CODE": "FR",
          "month": 7,
          "name": "BOURGES, FR",
          "rolling_average_irrigation_requirement": 4.875126315626284,
          "year": 2000
         },
         {
          "COUNTRY_CODE": "FR",
          "month": 7,
          "name": "BREST GUIPAVAS, FR",
          "rolling_average_irrigation_requirement": 4.875126315626284,
          "year": 2000
         },
         {
          "COUNTRY_CODE": "FR",
          "month": 7,
          "name": "BRETIGNY SUR ORGE, FR",
          "rolling_average_irrigation_requirement": 4.875126315626284,
          "year": 2000
         },
         {
          "COUNTRY_CODE": "FR",
          "month": 7,
          "name": "CAEN CARPIQUET, FR",
          "rolling_average_irrigation_requirement": 4.875126315626284,
          "year": 2000
         },
         {
          "COUNTRY_CODE": "FR",
          "month": 7,
          "name": "CAMPO DELL ORO, FR",
          "rolling_average_irrigation_requirement": 4.875126315626284,
          "year": 2000
         },
         {
          "COUNTRY_CODE": "FR",
          "month": 7,
          "name": "CAP CEPET, FR",
          "rolling_average_irrigation_requirement": 4.875126315626286,
          "year": 2000
         },
         {
          "COUNTRY_CODE": "FR",
          "month": 7,
          "name": "CARPIQUET, FR",
          "rolling_average_irrigation_requirement": 4.86391467040979,
          "year": 2000
         },
         {
          "COUNTRY_CODE": "FR",
          "month": 7,
          "name": "CATUS, FR",
          "rolling_average_irrigation_requirement": 4.875126315626284,
          "year": 2000
         },
         {
          "COUNTRY_CODE": "FR",
          "month": 7,
          "name": "CHATILLON COLIGNY, FR",
          "rolling_average_irrigation_requirement": 4.875126315626284,
          "year": 2000
         },
         {
          "COUNTRY_CODE": "FR",
          "month": 7,
          "name": "CHATILLON SUR SEINE, FR",
          "rolling_average_irrigation_requirement": 4.875126315626284,
          "year": 2000
         },
         {
          "COUNTRY_CODE": "FR",
          "month": 7,
          "name": "CLERMONT FERRAND, FR",
          "rolling_average_irrigation_requirement": 4.875126315626284,
          "year": 2000
         },
         {
          "COUNTRY_CODE": "FR",
          "month": 7,
          "name": "COTE D AZUR, FR",
          "rolling_average_irrigation_requirement": 4.85206711417044,
          "year": 2000
         },
         {
          "COUNTRY_CODE": "FR",
          "month": 7,
          "name": "DIJON LONGVIC, FR",
          "rolling_average_irrigation_requirement": 4.875126315626284,
          "year": 2000
         },
         {
          "COUNTRY_CODE": "FR",
          "month": 7,
          "name": "EMBRUN, FR",
          "rolling_average_irrigation_requirement": 4.868719231002628,
          "year": 2000
         },
         {
          "COUNTRY_CODE": "FR",
          "month": 7,
          "name": "ESPOEY, FR",
          "rolling_average_irrigation_requirement": 4.875126315626284,
          "year": 2000
         },
         {
          "COUNTRY_CODE": "FR",
          "month": 7,
          "name": "ESSEY, FR",
          "rolling_average_irrigation_requirement": 4.875126315626284,
          "year": 2000
         },
         {
          "COUNTRY_CODE": "FR",
          "month": 7,
          "name": "FAVERGES DE LA TOUR, FR",
          "rolling_average_irrigation_requirement": 4.875126315626284,
          "year": 2000
         },
         {
          "COUNTRY_CODE": "FR",
          "month": 7,
          "name": "GOURDON, FR",
          "rolling_average_irrigation_requirement": 4.875126315626284,
          "year": 2000
         },
         {
          "COUNTRY_CODE": "FR",
          "month": 7,
          "name": "GUIPAVAS, FR",
          "rolling_average_irrigation_requirement": 4.871779459555468,
          "year": 2000
         },
         {
          "COUNTRY_CODE": "FR",
          "month": 7,
          "name": "LA SOUTERRAINE, FR",
          "rolling_average_irrigation_requirement": 4.875126315626284,
          "year": 2000
         },
         {
          "COUNTRY_CODE": "FR",
          "month": 7,
          "name": "LE MASSEGROS, FR",
          "rolling_average_irrigation_requirement": 4.875126315626284,
          "year": 2000
         },
         {
          "COUNTRY_CODE": "FR",
          "month": 7,
          "name": "LE PUY LOUDES, FR",
          "rolling_average_irrigation_requirement": 4.875126315626284,
          "year": 2000
         },
         {
          "COUNTRY_CODE": "FR",
          "month": 7,
          "name": "LESQUIN, FR",
          "rolling_average_irrigation_requirement": 4.874560340585803,
          "year": 2000
         },
         {
          "COUNTRY_CODE": "FR",
          "month": 7,
          "name": "LEZAY, FR",
          "rolling_average_irrigation_requirement": 4.875126315626284,
          "year": 2000
         },
         {
          "COUNTRY_CODE": "FR",
          "month": 7,
          "name": "LILLE LESQUIN, FR",
          "rolling_average_irrigation_requirement": 4.875126315626284,
          "year": 2000
         },
         {
          "COUNTRY_CODE": "FR",
          "month": 7,
          "name": "LIMOGES BELLEGARDE, FR",
          "rolling_average_irrigation_requirement": 4.875126315626284,
          "year": 2000
         },
         {
          "COUNTRY_CODE": "FR",
          "month": 7,
          "name": "LONGVIC, FR",
          "rolling_average_irrigation_requirement": 4.875126315626284,
          "year": 2000
         },
         {
          "COUNTRY_CODE": "FR",
          "month": 7,
          "name": "LOUDES, FR",
          "rolling_average_irrigation_requirement": 4.869930052035345,
          "year": 2000
         },
         {
          "COUNTRY_CODE": "FR",
          "month": 7,
          "name": "LOURDES, FR",
          "rolling_average_irrigation_requirement": 4.875126315626284,
          "year": 2000
         },
         {
          "COUNTRY_CODE": "FR",
          "month": 7,
          "name": "LYON ST EXUPERY, FR",
          "rolling_average_irrigation_requirement": 4.875126315626284,
          "year": 2000
         },
         {
          "COUNTRY_CODE": "FR",
          "month": 7,
          "name": "MARSEILLE OBS. PALAIS LONCHAMP, FR",
          "rolling_average_irrigation_requirement": 4.875126315626284,
          "year": 2000
         },
         {
          "COUNTRY_CODE": "FR",
          "month": 7,
          "name": "MARSEILLES MARIGNANE, FR",
          "rolling_average_irrigation_requirement": 4.875126315626284,
          "year": 2000
         },
         {
          "COUNTRY_CODE": "FR",
          "month": 7,
          "name": "MEDITERRANEE, FR",
          "rolling_average_irrigation_requirement": 4.878963497212577,
          "year": 2000
         },
         {
          "COUNTRY_CODE": "FR",
          "month": 7,
          "name": "METZ FRESCATY, FR",
          "rolling_average_irrigation_requirement": 4.894627196476066,
          "year": 2000
         },
         {
          "COUNTRY_CODE": "FR",
          "month": 7,
          "name": "MILLAU, FR",
          "rolling_average_irrigation_requirement": 4.875126315626286,
          "year": 2000
         },
         {
          "COUNTRY_CODE": "FR",
          "month": 7,
          "name": "MONT AIGOUAL, FR",
          "rolling_average_irrigation_requirement": 4.8733780483716105,
          "year": 2000
         },
         {
          "COUNTRY_CODE": "FR",
          "month": 7,
          "name": "MONT DE MARSAN, FR",
          "rolling_average_irrigation_requirement": 4.875126315626286,
          "year": 2000
         },
         {
          "COUNTRY_CODE": "FR",
          "month": 7,
          "name": "MONTCORNET, FR",
          "rolling_average_irrigation_requirement": 4.875126315626284,
          "year": 2000
         },
         {
          "COUNTRY_CODE": "FR",
          "month": 7,
          "name": "MONTELIMAR, FR",
          "rolling_average_irrigation_requirement": 4.875126315626284,
          "year": 2000
         },
         {
          "COUNTRY_CODE": "FR",
          "month": 7,
          "name": "MONTMORILLON, FR",
          "rolling_average_irrigation_requirement": 4.875126315626284,
          "year": 2000
         },
         {
          "COUNTRY_CODE": "FR",
          "month": 7,
          "name": "MONTPELLIER AEROPORT, FR",
          "rolling_average_irrigation_requirement": 4.875126315626284,
          "year": 2000
         },
         {
          "COUNTRY_CODE": "FR",
          "month": 7,
          "name": "NANCY OCHEY, FR",
          "rolling_average_irrigation_requirement": 4.875126315626284,
          "year": 2000
         },
         {
          "COUNTRY_CODE": "FR",
          "month": 7,
          "name": "NANTES BOUGUENAIS, FR",
          "rolling_average_irrigation_requirement": 4.875126315626284,
          "year": 2000
         },
         {
          "COUNTRY_CODE": "FR",
          "month": 7,
          "name": "NICE, FR",
          "rolling_average_irrigation_requirement": 4.875126315626284,
          "year": 2000
         },
         {
          "COUNTRY_CODE": "FR",
          "month": 7,
          "name": "OCHEY, FR",
          "rolling_average_irrigation_requirement": 4.878875404588307,
          "year": 2000
         },
         {
          "COUNTRY_CODE": "FR",
          "month": 7,
          "name": "ODEREN, FR",
          "rolling_average_irrigation_requirement": 4.875126315626284,
          "year": 2000
         },
         {
          "COUNTRY_CODE": "FR",
          "month": 7,
          "name": "ORLY, FR",
          "rolling_average_irrigation_requirement": 4.875126315626284,
          "year": 2000
         },
         {
          "COUNTRY_CODE": "FR",
          "month": 7,
          "name": "OUESSANT, FR",
          "rolling_average_irrigation_requirement": 4.8573718285734735,
          "year": 2000
         },
         {
          "COUNTRY_CODE": "FR",
          "month": 7,
          "name": "PAMIERS, FR",
          "rolling_average_irrigation_requirement": 4.875126315626284,
          "year": 2000
         },
         {
          "COUNTRY_CODE": "FR",
          "month": 7,
          "name": "PARIS LE BOURGET, FR",
          "rolling_average_irrigation_requirement": 4.875126315626284,
          "year": 2000
         },
         {
          "COUNTRY_CODE": "FR",
          "month": 7,
          "name": "PERPIGNAN, FR",
          "rolling_average_irrigation_requirement": 4.875126315626284,
          "year": 2000
         },
         {
          "COUNTRY_CODE": "FR",
          "month": 7,
          "name": "PLOUMANAC H, FR",
          "rolling_average_irrigation_requirement": 4.875126315626284,
          "year": 2000
         },
         {
          "COUNTRY_CODE": "FR",
          "month": 7,
          "name": "POITIERS BIARD, FR",
          "rolling_average_irrigation_requirement": 4.875126315626284,
          "year": 2000
         },
         {
          "COUNTRY_CODE": "FR",
          "month": 7,
          "name": "PORETTA, FR",
          "rolling_average_irrigation_requirement": 4.872302669124854,
          "year": 2000
         },
         {
          "COUNTRY_CODE": "FR",
          "month": 7,
          "name": "PORT AUX FRANCAIS ILES KERGU, FR",
          "rolling_average_irrigation_requirement": 4.875126315626284,
          "year": 2000
         },
         {
          "COUNTRY_CODE": "FR",
          "month": 7,
          "name": "PTE DE CHASSIRON, FR",
          "rolling_average_irrigation_requirement": 4.875126315626284,
          "year": 2000
         },
         {
          "COUNTRY_CODE": "FR",
          "month": 7,
          "name": "PTE DE LA HAGUE, FR",
          "rolling_average_irrigation_requirement": 4.875126315626284,
          "year": 2000
         },
         {
          "COUNTRY_CODE": "FR",
          "month": 7,
          "name": "RENNES ST JACQUES, FR",
          "rolling_average_irrigation_requirement": 4.875126315626284,
          "year": 2000
         },
         {
          "COUNTRY_CODE": "FR",
          "month": 7,
          "name": "ROUEN BOOS, FR",
          "rolling_average_irrigation_requirement": 4.875126315626284,
          "year": 2000
         },
         {
          "COUNTRY_CODE": "FR",
          "month": 7,
          "name": "SAINT EXUPERY, FR",
          "rolling_average_irrigation_requirement": 4.868725334972913,
          "year": 2000
         },
         {
          "COUNTRY_CODE": "FR",
          "month": 7,
          "name": "SAINT GERMAIN LES BELLES, FR",
          "rolling_average_irrigation_requirement": 4.875126315626284,
          "year": 2000
         },
         {
          "COUNTRY_CODE": "FR",
          "month": 7,
          "name": "ST GIRONS, FR",
          "rolling_average_irrigation_requirement": 4.875126315626284,
          "year": 2000
         },
         {
          "COUNTRY_CODE": "FR",
          "month": 7,
          "name": "STRASBOURG ENTZHEIM, FR",
          "rolling_average_irrigation_requirement": 4.875126315626284,
          "year": 2000
         },
         {
          "COUNTRY_CODE": "FR",
          "month": 7,
          "name": "TARBES OSSUN, FR",
          "rolling_average_irrigation_requirement": 4.875126315626284,
          "year": 2000
         },
         {
          "COUNTRY_CODE": "FR",
          "month": 7,
          "name": "TOULOUSE BLAGNAC, FR",
          "rolling_average_irrigation_requirement": 4.875126315626284,
          "year": 2000
         },
         {
          "COUNTRY_CODE": "FR",
          "month": 7,
          "name": "TOURS, FR",
          "rolling_average_irrigation_requirement": 4.875126315626284,
          "year": 2000
         },
         {
          "COUNTRY_CODE": "FR",
          "month": 7,
          "name": "TROYES BARBEREY, FR",
          "rolling_average_irrigation_requirement": 4.875126315626284,
          "year": 2000
         },
         {
          "COUNTRY_CODE": "FR",
          "month": 7,
          "name": "VAL DE LOIRE, FR",
          "rolling_average_irrigation_requirement": 4.875126315626284,
          "year": 2000
         },
         {
          "COUNTRY_CODE": "FR",
          "month": 7,
          "name": "VALLEE DE SEINE, FR",
          "rolling_average_irrigation_requirement": 4.890137123474733,
          "year": 2000
         },
         {
          "COUNTRY_CODE": "FR",
          "month": 7,
          "name": "VOUZIERS, FR",
          "rolling_average_irrigation_requirement": 4.875126315626284,
          "year": 2000
         },
         {
          "COUNTRY_CODE": "FR",
          "month": 7,
          "name": "ABBEVILLE, FR",
          "rolling_average_irrigation_requirement": 5.283534626922782,
          "year": 2001
         },
         {
          "COUNTRY_CODE": "FR",
          "month": 7,
          "name": "AJACCIO, FR",
          "rolling_average_irrigation_requirement": 5.283534626922783,
          "year": 2001
         },
         {
          "COUNTRY_CODE": "FR",
          "month": 7,
          "name": "ALENCON VALFRAMBERT, FR",
          "rolling_average_irrigation_requirement": 5.285743328978367,
          "year": 2001
         },
         {
          "COUNTRY_CODE": "FR",
          "month": 7,
          "name": "AMIENS GLISY, FR",
          "rolling_average_irrigation_requirement": 5.283534626922783,
          "year": 2001
         },
         {
          "COUNTRY_CODE": "FR",
          "month": 7,
          "name": "ANTICHAN, FR",
          "rolling_average_irrigation_requirement": 5.2813256630422005,
          "year": 2001
         },
         {
          "COUNTRY_CODE": "FR",
          "month": 7,
          "name": "AUVERGNE, FR",
          "rolling_average_irrigation_requirement": 5.2879213488238515,
          "year": 2001
         },
         {
          "COUNTRY_CODE": "FR",
          "month": 7,
          "name": "BALE MULHOUSE, FR",
          "rolling_average_irrigation_requirement": 5.279630397908204,
          "year": 2001
         },
         {
          "COUNTRY_CODE": "FR",
          "month": 7,
          "name": "BALLOTS, FR",
          "rolling_average_irrigation_requirement": 5.283534626922783,
          "year": 2001
         },
         {
          "COUNTRY_CODE": "FR",
          "month": 7,
          "name": "BARBEREY, FR",
          "rolling_average_irrigation_requirement": 5.298774051435628,
          "year": 2001
         },
         {
          "COUNTRY_CODE": "FR",
          "month": 7,
          "name": "BASEL MULHOUSE, FR",
          "rolling_average_irrigation_requirement": 5.283534626922783,
          "year": 2001
         },
         {
          "COUNTRY_CODE": "FR",
          "month": 7,
          "name": "BASTIA, FR",
          "rolling_average_irrigation_requirement": 5.283534626922783,
          "year": 2001
         },
         {
          "COUNTRY_CODE": "FR",
          "month": 7,
          "name": "BELLE ILE LE TALUT, FR",
          "rolling_average_irrigation_requirement": 5.283534626922783,
          "year": 2001
         },
         {
          "COUNTRY_CODE": "FR",
          "month": 7,
          "name": "BELLEGARDE, FR",
          "rolling_average_irrigation_requirement": 5.2898783519057915,
          "year": 2001
         },
         {
          "COUNTRY_CODE": "FR",
          "month": 7,
          "name": "BIARD, FR",
          "rolling_average_irrigation_requirement": 5.283534626922783,
          "year": 2001
         },
         {
          "COUNTRY_CODE": "FR",
          "month": 7,
          "name": "BORDEAUX MERIGNAC, FR",
          "rolling_average_irrigation_requirement": 5.283534626922783,
          "year": 2001
         },
         {
          "COUNTRY_CODE": "FR",
          "month": 7,
          "name": "BOURGES, FR",
          "rolling_average_irrigation_requirement": 5.283534626922783,
          "year": 2001
         },
         {
          "COUNTRY_CODE": "FR",
          "month": 7,
          "name": "BREST GUIPAVAS, FR",
          "rolling_average_irrigation_requirement": 5.283534626922783,
          "year": 2001
         },
         {
          "COUNTRY_CODE": "FR",
          "month": 7,
          "name": "BRETIGNY SUR ORGE, FR",
          "rolling_average_irrigation_requirement": 5.283534626922783,
          "year": 2001
         },
         {
          "COUNTRY_CODE": "FR",
          "month": 7,
          "name": "CAEN CARPIQUET, FR",
          "rolling_average_irrigation_requirement": 5.283534626922783,
          "year": 2001
         },
         {
          "COUNTRY_CODE": "FR",
          "month": 7,
          "name": "CAMPO DELL ORO, FR",
          "rolling_average_irrigation_requirement": 5.28191239595116,
          "year": 2001
         },
         {
          "COUNTRY_CODE": "FR",
          "month": 7,
          "name": "CAP CEPET, FR",
          "rolling_average_irrigation_requirement": 5.286787906639517,
          "year": 2001
         },
         {
          "COUNTRY_CODE": "FR",
          "month": 7,
          "name": "CARPIQUET, FR",
          "rolling_average_irrigation_requirement": 5.283534626922783,
          "year": 2001
         },
         {
          "COUNTRY_CODE": "FR",
          "month": 7,
          "name": "CATUS, FR",
          "rolling_average_irrigation_requirement": 5.283534626922783,
          "year": 2001
         },
         {
          "COUNTRY_CODE": "FR",
          "month": 7,
          "name": "CHASSIRON, FR",
          "rolling_average_irrigation_requirement": 5.498229861833366,
          "year": 2001
         },
         {
          "COUNTRY_CODE": "FR",
          "month": 7,
          "name": "CHATILLON COLIGNY, FR",
          "rolling_average_irrigation_requirement": 5.283534626922783,
          "year": 2001
         },
         {
          "COUNTRY_CODE": "FR",
          "month": 7,
          "name": "CHATILLON SUR SEINE, FR",
          "rolling_average_irrigation_requirement": 5.283534626922783,
          "year": 2001
         },
         {
          "COUNTRY_CODE": "FR",
          "month": 7,
          "name": "CLERMONT FERRAND, FR",
          "rolling_average_irrigation_requirement": 5.283534626922783,
          "year": 2001
         },
         {
          "COUNTRY_CODE": "FR",
          "month": 7,
          "name": "COTE D AZUR, FR",
          "rolling_average_irrigation_requirement": 5.283565309132885,
          "year": 2001
         },
         {
          "COUNTRY_CODE": "FR",
          "month": 7,
          "name": "DIJON LONGVIC, FR",
          "rolling_average_irrigation_requirement": 5.283534626922783,
          "year": 2001
         },
         {
          "COUNTRY_CODE": "FR",
          "month": 7,
          "name": "EMBRUN, FR",
          "rolling_average_irrigation_requirement": 5.290047408522439,
          "year": 2001
         },
         {
          "COUNTRY_CODE": "FR",
          "month": 7,
          "name": "ESPOEY, FR",
          "rolling_average_irrigation_requirement": 5.283534626922783,
          "year": 2001
         },
         {
          "COUNTRY_CODE": "FR",
          "month": 7,
          "name": "ESSEY, FR",
          "rolling_average_irrigation_requirement": 5.283534626922783,
          "year": 2001
         },
         {
          "COUNTRY_CODE": "FR",
          "month": 7,
          "name": "FAVERGES DE LA TOUR, FR",
          "rolling_average_irrigation_requirement": 5.283534626922783,
          "year": 2001
         },
         {
          "COUNTRY_CODE": "FR",
          "month": 7,
          "name": "GOURDON, FR",
          "rolling_average_irrigation_requirement": 5.283534626922783,
          "year": 2001
         },
         {
          "COUNTRY_CODE": "FR",
          "month": 7,
          "name": "GUIPAVAS, FR",
          "rolling_average_irrigation_requirement": 5.283534626922783,
          "year": 2001
         },
         {
          "COUNTRY_CODE": "FR",
          "month": 7,
          "name": "LA SOUTERRAINE, FR",
          "rolling_average_irrigation_requirement": 5.283534626922783,
          "year": 2001
         },
         {
          "COUNTRY_CODE": "FR",
          "month": 7,
          "name": "LE MASSEGROS, FR",
          "rolling_average_irrigation_requirement": 5.283534626922783,
          "year": 2001
         },
         {
          "COUNTRY_CODE": "FR",
          "month": 7,
          "name": "LE PUY LOUDES, FR",
          "rolling_average_irrigation_requirement": 5.283534626922783,
          "year": 2001
         },
         {
          "COUNTRY_CODE": "FR",
          "month": 7,
          "name": "LESQUIN, FR",
          "rolling_average_irrigation_requirement": 5.2731400777002255,
          "year": 2001
         },
         {
          "COUNTRY_CODE": "FR",
          "month": 7,
          "name": "LEZAY, FR",
          "rolling_average_irrigation_requirement": 5.283534626922783,
          "year": 2001
         },
         {
          "COUNTRY_CODE": "FR",
          "month": 7,
          "name": "LILLE LESQUIN, FR",
          "rolling_average_irrigation_requirement": 5.283534626922783,
          "year": 2001
         },
         {
          "COUNTRY_CODE": "FR",
          "month": 7,
          "name": "LIMOGES BELLEGARDE, FR",
          "rolling_average_irrigation_requirement": 5.283534626922783,
          "year": 2001
         },
         {
          "COUNTRY_CODE": "FR",
          "month": 7,
          "name": "LONGVIC, FR",
          "rolling_average_irrigation_requirement": 5.266764662390036,
          "year": 2001
         },
         {
          "COUNTRY_CODE": "FR",
          "month": 7,
          "name": "LOUDES, FR",
          "rolling_average_irrigation_requirement": 5.2888182698310455,
          "year": 2001
         },
         {
          "COUNTRY_CODE": "FR",
          "month": 7,
          "name": "LOURDES, FR",
          "rolling_average_irrigation_requirement": 5.2961361590640665,
          "year": 2001
         },
         {
          "COUNTRY_CODE": "FR",
          "month": 7,
          "name": "LYON ST EXUPERY, FR",
          "rolling_average_irrigation_requirement": 5.283534626922783,
          "year": 2001
         },
         {
          "COUNTRY_CODE": "FR",
          "month": 7,
          "name": "MARSEILLE OBS. PALAIS LONCHAMP, FR",
          "rolling_average_irrigation_requirement": 5.283534626922783,
          "year": 2001
         },
         {
          "COUNTRY_CODE": "FR",
          "month": 7,
          "name": "MARSEILLES MARIGNANE, FR",
          "rolling_average_irrigation_requirement": 5.283534626922783,
          "year": 2001
         },
         {
          "COUNTRY_CODE": "FR",
          "month": 7,
          "name": "MEDITERRANEE, FR",
          "rolling_average_irrigation_requirement": 5.283534626922783,
          "year": 2001
         },
         {
          "COUNTRY_CODE": "FR",
          "month": 7,
          "name": "METZ FRESCATY, FR",
          "rolling_average_irrigation_requirement": 5.30171959088087,
          "year": 2001
         },
         {
          "COUNTRY_CODE": "FR",
          "month": 7,
          "name": "MILLAU, FR",
          "rolling_average_irrigation_requirement": 5.283534626922782,
          "year": 2001
         },
         {
          "COUNTRY_CODE": "FR",
          "month": 7,
          "name": "MONT AIGOUAL, FR",
          "rolling_average_irrigation_requirement": 5.294843497390056,
          "year": 2001
         },
         {
          "COUNTRY_CODE": "FR",
          "month": 7,
          "name": "MONT DE MARSAN, FR",
          "rolling_average_irrigation_requirement": 5.288181096299076,
          "year": 2001
         },
         {
          "COUNTRY_CODE": "FR",
          "month": 7,
          "name": "MONTCORNET, FR",
          "rolling_average_irrigation_requirement": 5.283534626922783,
          "year": 2001
         },
         {
          "COUNTRY_CODE": "FR",
          "month": 7,
          "name": "MONTELIMAR, FR",
          "rolling_average_irrigation_requirement": 5.283534626922783,
          "year": 2001
         },
         {
          "COUNTRY_CODE": "FR",
          "month": 7,
          "name": "MONTPELLIER AEROPORT, FR",
          "rolling_average_irrigation_requirement": 5.283534626922783,
          "year": 2001
         },
         {
          "COUNTRY_CODE": "FR",
          "month": 7,
          "name": "NANCY OCHEY, FR",
          "rolling_average_irrigation_requirement": 5.283534626922783,
          "year": 2001
         },
         {
          "COUNTRY_CODE": "FR",
          "month": 7,
          "name": "NANTES BOUGUENAIS, FR",
          "rolling_average_irrigation_requirement": 5.283534626922783,
          "year": 2001
         },
         {
          "COUNTRY_CODE": "FR",
          "month": 7,
          "name": "NICE, FR",
          "rolling_average_irrigation_requirement": 5.283534626922783,
          "year": 2001
         },
         {
          "COUNTRY_CODE": "FR",
          "month": 7,
          "name": "OCHEY, FR",
          "rolling_average_irrigation_requirement": 5.327590228347269,
          "year": 2001
         },
         {
          "COUNTRY_CODE": "FR",
          "month": 7,
          "name": "ODEREN, FR",
          "rolling_average_irrigation_requirement": 5.283534626922783,
          "year": 2001
         },
         {
          "COUNTRY_CODE": "FR",
          "month": 7,
          "name": "ORLY, FR",
          "rolling_average_irrigation_requirement": 5.283534626922783,
          "year": 2001
         },
         {
          "COUNTRY_CODE": "FR",
          "month": 7,
          "name": "OUESSANT, FR",
          "rolling_average_irrigation_requirement": 5.152932320352743,
          "year": 2001
         },
         {
          "COUNTRY_CODE": "FR",
          "month": 7,
          "name": "PAMIERS, FR",
          "rolling_average_irrigation_requirement": 5.283534626922783,
          "year": 2001
         },
         {
          "COUNTRY_CODE": "FR",
          "month": 7,
          "name": "PERPIGNAN, FR",
          "rolling_average_irrigation_requirement": 5.283534626922783,
          "year": 2001
         },
         {
          "COUNTRY_CODE": "FR",
          "month": 7,
          "name": "PLOUMANAC H, FR",
          "rolling_average_irrigation_requirement": 5.283534626922783,
          "year": 2001
         },
         {
          "COUNTRY_CODE": "FR",
          "month": 7,
          "name": "POITIERS BIARD, FR",
          "rolling_average_irrigation_requirement": 5.283534626922783,
          "year": 2001
         },
         {
          "COUNTRY_CODE": "FR",
          "month": 7,
          "name": "PORETTA, FR",
          "rolling_average_irrigation_requirement": 5.283534626922783,
          "year": 2001
         },
         {
          "COUNTRY_CODE": "FR",
          "month": 7,
          "name": "PORT AUX FRANCAIS ILES KERGU, FR",
          "rolling_average_irrigation_requirement": 5.3022501092481935,
          "year": 2001
         },
         {
          "COUNTRY_CODE": "FR",
          "month": 7,
          "name": "PTE DE CHASSIRON, FR",
          "rolling_average_irrigation_requirement": 5.283534626922783,
          "year": 2001
         },
         {
          "COUNTRY_CODE": "FR",
          "month": 7,
          "name": "PTE DE LA HAGUE, FR",
          "rolling_average_irrigation_requirement": 5.283534626922783,
          "year": 2001
         },
         {
          "COUNTRY_CODE": "FR",
          "month": 7,
          "name": "RENNES ST JACQUES, FR",
          "rolling_average_irrigation_requirement": 5.283534626922783,
          "year": 2001
         },
         {
          "COUNTRY_CODE": "FR",
          "month": 7,
          "name": "ROUEN BOOS, FR",
          "rolling_average_irrigation_requirement": 5.283534626922783,
          "year": 2001
         },
         {
          "COUNTRY_CODE": "FR",
          "month": 7,
          "name": "SAINT EXUPERY, FR",
          "rolling_average_irrigation_requirement": 5.292795106976738,
          "year": 2001
         },
         {
          "COUNTRY_CODE": "FR",
          "month": 7,
          "name": "SAINT GERMAIN LES BELLES, FR",
          "rolling_average_irrigation_requirement": 5.283534626922783,
          "year": 2001
         },
         {
          "COUNTRY_CODE": "FR",
          "month": 7,
          "name": "ST GIRONS, FR",
          "rolling_average_irrigation_requirement": 5.283534626922783,
          "year": 2001
         },
         {
          "COUNTRY_CODE": "FR",
          "month": 7,
          "name": "STRASBOURG ENTZHEIM, FR",
          "rolling_average_irrigation_requirement": 5.283534626922783,
          "year": 2001
         },
         {
          "COUNTRY_CODE": "FR",
          "month": 7,
          "name": "TARBES OSSUN, FR",
          "rolling_average_irrigation_requirement": 5.283534626922783,
          "year": 2001
         },
         {
          "COUNTRY_CODE": "FR",
          "month": 7,
          "name": "TOULOUSE BLAGNAC, FR",
          "rolling_average_irrigation_requirement": 5.283534626922783,
          "year": 2001
         },
         {
          "COUNTRY_CODE": "FR",
          "month": 7,
          "name": "TOURS, FR",
          "rolling_average_irrigation_requirement": 5.283534626922783,
          "year": 2001
         },
         {
          "COUNTRY_CODE": "FR",
          "month": 7,
          "name": "TROYES BARBEREY, FR",
          "rolling_average_irrigation_requirement": 5.283534626922783,
          "year": 2001
         },
         {
          "COUNTRY_CODE": "FR",
          "month": 7,
          "name": "VAL DE LOIRE, FR",
          "rolling_average_irrigation_requirement": 5.2688798707391,
          "year": 2001
         },
         {
          "COUNTRY_CODE": "FR",
          "month": 7,
          "name": "VALLEE DE SEINE, FR",
          "rolling_average_irrigation_requirement": 5.2879213488238515,
          "year": 2001
         },
         {
          "COUNTRY_CODE": "FR",
          "month": 7,
          "name": "VOUZIERS, FR",
          "rolling_average_irrigation_requirement": 5.283534626922783,
          "year": 2001
         },
         {
          "COUNTRY_CODE": "FR",
          "month": 7,
          "name": "ABBEVILLE, FR",
          "rolling_average_irrigation_requirement": 4.810792919720557,
          "year": 2002
         },
         {
          "COUNTRY_CODE": "FR",
          "month": 7,
          "name": "AJACCIO, FR",
          "rolling_average_irrigation_requirement": 4.816578276052753,
          "year": 2002
         },
         {
          "COUNTRY_CODE": "FR",
          "month": 7,
          "name": "ALENCON VALFRAMBERT, FR",
          "rolling_average_irrigation_requirement": 4.812527280289767,
          "year": 2002
         },
         {
          "COUNTRY_CODE": "FR",
          "month": 7,
          "name": "AMIENS GLISY, FR",
          "rolling_average_irrigation_requirement": 4.816578276052753,
          "year": 2002
         },
         {
          "COUNTRY_CODE": "FR",
          "month": 7,
          "name": "ANTICHAN, FR",
          "rolling_average_irrigation_requirement": 4.866830932429774,
          "year": 2002
         },
         {
          "COUNTRY_CODE": "FR",
          "month": 7,
          "name": "AUVERGNE, FR",
          "rolling_average_irrigation_requirement": 4.798587826386162,
          "year": 2002
         },
         {
          "COUNTRY_CODE": "FR",
          "month": 7,
          "name": "BALE MULHOUSE, FR",
          "rolling_average_irrigation_requirement": 4.797980355138631,
          "year": 2002
         },
         {
          "COUNTRY_CODE": "FR",
          "month": 7,
          "name": "BALLOTS, FR",
          "rolling_average_irrigation_requirement": 4.816578276052753,
          "year": 2002
         },
         {
          "COUNTRY_CODE": "FR",
          "month": 7,
          "name": "BARBEREY, FR",
          "rolling_average_irrigation_requirement": 4.796728350258219,
          "year": 2002
         },
         {
          "COUNTRY_CODE": "FR",
          "month": 7,
          "name": "BASEL MULHOUSE, FR",
          "rolling_average_irrigation_requirement": 4.816578276052753,
          "year": 2002
         },
         {
          "COUNTRY_CODE": "FR",
          "month": 7,
          "name": "BASTIA, FR",
          "rolling_average_irrigation_requirement": 4.816578276052753,
          "year": 2002
         },
         {
          "COUNTRY_CODE": "FR",
          "month": 7,
          "name": "BELLE ILE LE TALUT, FR",
          "rolling_average_irrigation_requirement": 4.816578276052753,
          "year": 2002
         },
         {
          "COUNTRY_CODE": "FR",
          "month": 7,
          "name": "BELLEGARDE, FR",
          "rolling_average_irrigation_requirement": 4.796728350258219,
          "year": 2002
         },
         {
          "COUNTRY_CODE": "FR",
          "month": 7,
          "name": "BIARD, FR",
          "rolling_average_irrigation_requirement": 4.780709514937515,
          "year": 2002
         },
         {
          "COUNTRY_CODE": "FR",
          "month": 7,
          "name": "BORDEAUX MERIGNAC, FR",
          "rolling_average_irrigation_requirement": 4.816578276052753,
          "year": 2002
         },
         {
          "COUNTRY_CODE": "FR",
          "month": 7,
          "name": "BOURGES, FR",
          "rolling_average_irrigation_requirement": 4.816578276052753,
          "year": 2002
         },
         {
          "COUNTRY_CODE": "FR",
          "month": 7,
          "name": "BREST GUIPAVAS, FR",
          "rolling_average_irrigation_requirement": 4.816578276052753,
          "year": 2002
         },
         {
          "COUNTRY_CODE": "FR",
          "month": 7,
          "name": "BRETIGNY SUR ORGE, FR",
          "rolling_average_irrigation_requirement": 4.816578276052753,
          "year": 2002
         },
         {
          "COUNTRY_CODE": "FR",
          "month": 7,
          "name": "CAEN CARPIQUET, FR",
          "rolling_average_irrigation_requirement": 4.816578276052753,
          "year": 2002
         },
         {
          "COUNTRY_CODE": "FR",
          "month": 7,
          "name": "CAMPO DELL ORO, FR",
          "rolling_average_irrigation_requirement": 4.826024578694348,
          "year": 2002
         },
         {
          "COUNTRY_CODE": "FR",
          "month": 7,
          "name": "CAP CEPET, FR",
          "rolling_average_irrigation_requirement": 4.80599242763299,
          "year": 2002
         },
         {
          "COUNTRY_CODE": "FR",
          "month": 7,
          "name": "CARPIQUET, FR",
          "rolling_average_irrigation_requirement": 4.8134873418010615,
          "year": 2002
         },
         {
          "COUNTRY_CODE": "FR",
          "month": 7,
          "name": "CATUS, FR",
          "rolling_average_irrigation_requirement": 4.816578276052753,
          "year": 2002
         },
         {
          "COUNTRY_CODE": "FR",
          "month": 7,
          "name": "CHASSIRON, FR",
          "rolling_average_irrigation_requirement": 4.5641613896296835,
          "year": 2002
         },
         {
          "COUNTRY_CODE": "FR",
          "month": 7,
          "name": "CHATILLON COLIGNY, FR",
          "rolling_average_irrigation_requirement": 4.816578276052753,
          "year": 2002
         },
         {
          "COUNTRY_CODE": "FR",
          "month": 7,
          "name": "CHATILLON SUR SEINE, FR",
          "rolling_average_irrigation_requirement": 4.816578276052753,
          "year": 2002
         },
         {
          "COUNTRY_CODE": "FR",
          "month": 7,
          "name": "CLERMONT FERRAND, FR",
          "rolling_average_irrigation_requirement": 4.816578276052753,
          "year": 2002
         },
         {
          "COUNTRY_CODE": "FR",
          "month": 7,
          "name": "COTE D AZUR, FR",
          "rolling_average_irrigation_requirement": 4.82459122291174,
          "year": 2002
         },
         {
          "COUNTRY_CODE": "FR",
          "month": 7,
          "name": "DIJON LONGVIC, FR",
          "rolling_average_irrigation_requirement": 4.816578276052753,
          "year": 2002
         },
         {
          "COUNTRY_CODE": "FR",
          "month": 7,
          "name": "EMBRUN, FR",
          "rolling_average_irrigation_requirement": 4.839319017612574,
          "year": 2002
         },
         {
          "COUNTRY_CODE": "FR",
          "month": 7,
          "name": "ESPOEY, FR",
          "rolling_average_irrigation_requirement": 4.816578276052753,
          "year": 2002
         },
         {
          "COUNTRY_CODE": "FR",
          "month": 7,
          "name": "ESSEY, FR",
          "rolling_average_irrigation_requirement": 4.796728350258219,
          "year": 2002
         },
         {
          "COUNTRY_CODE": "FR",
          "month": 7,
          "name": "FAVERGES DE LA TOUR, FR",
          "rolling_average_irrigation_requirement": 4.816578276052753,
          "year": 2002
         },
         {
          "COUNTRY_CODE": "FR",
          "month": 7,
          "name": "GOURDON, FR",
          "rolling_average_irrigation_requirement": 4.816578276052753,
          "year": 2002
         },
         {
          "COUNTRY_CODE": "FR",
          "month": 7,
          "name": "GUIPAVAS, FR",
          "rolling_average_irrigation_requirement": 4.807190103418972,
          "year": 2002
         },
         {
          "COUNTRY_CODE": "FR",
          "month": 7,
          "name": "LA SOUTERRAINE, FR",
          "rolling_average_irrigation_requirement": 4.816578276052753,
          "year": 2002
         },
         {
          "COUNTRY_CODE": "FR",
          "month": 7,
          "name": "LE MASSEGROS, FR",
          "rolling_average_irrigation_requirement": 4.816578276052753,
          "year": 2002
         },
         {
          "COUNTRY_CODE": "FR",
          "month": 7,
          "name": "LE PUY LOUDES, FR",
          "rolling_average_irrigation_requirement": 4.816578276052753,
          "year": 2002
         },
         {
          "COUNTRY_CODE": "FR",
          "month": 7,
          "name": "LESQUIN, FR",
          "rolling_average_irrigation_requirement": 4.8117271998491695,
          "year": 2002
         },
         {
          "COUNTRY_CODE": "FR",
          "month": 7,
          "name": "LEZAY, FR",
          "rolling_average_irrigation_requirement": 4.816578276052753,
          "year": 2002
         },
         {
          "COUNTRY_CODE": "FR",
          "month": 7,
          "name": "LILLE LESQUIN, FR",
          "rolling_average_irrigation_requirement": 4.816578276052753,
          "year": 2002
         },
         {
          "COUNTRY_CODE": "FR",
          "month": 7,
          "name": "LIMOGES BELLEGARDE, FR",
          "rolling_average_irrigation_requirement": 4.816578276052753,
          "year": 2002
         },
         {
          "COUNTRY_CODE": "FR",
          "month": 7,
          "name": "LONGVIC, FR",
          "rolling_average_irrigation_requirement": 4.806742685530653,
          "year": 2002
         },
         {
          "COUNTRY_CODE": "FR",
          "month": 7,
          "name": "LOUDES, FR",
          "rolling_average_irrigation_requirement": 4.798785268075875,
          "year": 2002
         },
         {
          "COUNTRY_CODE": "FR",
          "month": 7,
          "name": "LOURDES, FR",
          "rolling_average_irrigation_requirement": 4.795724563112437,
          "year": 2002
         },
         {
          "COUNTRY_CODE": "FR",
          "month": 7,
          "name": "LYON ST EXUPERY, FR",
          "rolling_average_irrigation_requirement": 4.816578276052753,
          "year": 2002
         },
         {
          "COUNTRY_CODE": "FR",
          "month": 7,
          "name": "MARSEILLE OBS. PALAIS LONCHAMP, FR",
          "rolling_average_irrigation_requirement": 4.816578276052753,
          "year": 2002
         },
         {
          "COUNTRY_CODE": "FR",
          "month": 7,
          "name": "MARSEILLES MARIGNANE, FR",
          "rolling_average_irrigation_requirement": 4.816578276052753,
          "year": 2002
         },
         {
          "COUNTRY_CODE": "FR",
          "month": 7,
          "name": "MEDITERRANEE, FR",
          "rolling_average_irrigation_requirement": 4.830156639039389,
          "year": 2002
         },
         {
          "COUNTRY_CODE": "FR",
          "month": 7,
          "name": "METZ FRESCATY, FR",
          "rolling_average_irrigation_requirement": 4.771624830042254,
          "year": 2002
         },
         {
          "COUNTRY_CODE": "FR",
          "month": 7,
          "name": "MILLAU, FR",
          "rolling_average_irrigation_requirement": 4.8204509423114805,
          "year": 2002
         },
         {
          "COUNTRY_CODE": "FR",
          "month": 7,
          "name": "MONT AIGOUAL, FR",
          "rolling_average_irrigation_requirement": 4.7979244701044825,
          "year": 2002
         },
         {
          "COUNTRY_CODE": "FR",
          "month": 7,
          "name": "MONT DE MARSAN, FR",
          "rolling_average_irrigation_requirement": 4.816578276052757,
          "year": 2002
         },
         {
          "COUNTRY_CODE": "FR",
          "month": 7,
          "name": "MONTCORNET, FR",
          "rolling_average_irrigation_requirement": 4.816578276052753,
          "year": 2002
         },
         {
          "COUNTRY_CODE": "FR",
          "month": 7,
          "name": "MONTELIMAR, FR",
          "rolling_average_irrigation_requirement": 4.816578276052753,
          "year": 2002
         },
         {
          "COUNTRY_CODE": "FR",
          "month": 7,
          "name": "MONTPELLIER AEROPORT, FR",
          "rolling_average_irrigation_requirement": 4.816578276052753,
          "year": 2002
         },
         {
          "COUNTRY_CODE": "FR",
          "month": 7,
          "name": "NANCY OCHEY, FR",
          "rolling_average_irrigation_requirement": 4.816578276052753,
          "year": 2002
         },
         {
          "COUNTRY_CODE": "FR",
          "month": 7,
          "name": "NANTES BOUGUENAIS, FR",
          "rolling_average_irrigation_requirement": 4.816578276052753,
          "year": 2002
         },
         {
          "COUNTRY_CODE": "FR",
          "month": 7,
          "name": "NICE, FR",
          "rolling_average_irrigation_requirement": 4.816578276052753,
          "year": 2002
         },
         {
          "COUNTRY_CODE": "FR",
          "month": 7,
          "name": "OCHEY, FR",
          "rolling_average_irrigation_requirement": 4.822455986586288,
          "year": 2002
         },
         {
          "COUNTRY_CODE": "FR",
          "month": 7,
          "name": "ODEREN, FR",
          "rolling_average_irrigation_requirement": 4.816578276052753,
          "year": 2002
         },
         {
          "COUNTRY_CODE": "FR",
          "month": 7,
          "name": "ORLY, FR",
          "rolling_average_irrigation_requirement": 4.816578276052753,
          "year": 2002
         },
         {
          "COUNTRY_CODE": "FR",
          "month": 7,
          "name": "OUESSANT, FR",
          "rolling_average_irrigation_requirement": 4.622685947565647,
          "year": 2002
         },
         {
          "COUNTRY_CODE": "FR",
          "month": 7,
          "name": "PAMIERS, FR",
          "rolling_average_irrigation_requirement": 4.816578276052753,
          "year": 2002
         },
         {
          "COUNTRY_CODE": "FR",
          "month": 7,
          "name": "PERPIGNAN, FR",
          "rolling_average_irrigation_requirement": 4.816578276052753,
          "year": 2002
         },
         {
          "COUNTRY_CODE": "FR",
          "month": 7,
          "name": "PLOUMANAC H PERROS GUIREC, FR",
          "rolling_average_irrigation_requirement": 4.735918007874158,
          "year": 2002
         },
         {
          "COUNTRY_CODE": "FR",
          "month": 7,
          "name": "PLOUMANAC H, FR",
          "rolling_average_irrigation_requirement": 4.816578276052753,
          "year": 2002
         },
         {
          "COUNTRY_CODE": "FR",
          "month": 7,
          "name": "POITIERS BIARD, FR",
          "rolling_average_irrigation_requirement": 4.816578276052753,
          "year": 2002
         },
         {
          "COUNTRY_CODE": "FR",
          "month": 7,
          "name": "PORETTA, FR",
          "rolling_average_irrigation_requirement": 4.814377304262843,
          "year": 2002
         },
         {
          "COUNTRY_CODE": "FR",
          "month": 7,
          "name": "PORT AUX FRANCAIS ILES KERGU, FR",
          "rolling_average_irrigation_requirement": 4.804252496187787,
          "year": 2002
         },
         {
          "COUNTRY_CODE": "FR",
          "month": 7,
          "name": "PTE DE CHASSIRON, FR",
          "rolling_average_irrigation_requirement": 4.816578276052753,
          "year": 2002
         },
         {
          "COUNTRY_CODE": "FR",
          "month": 7,
          "name": "PTE DE LA HAGUE, FR",
          "rolling_average_irrigation_requirement": 4.816578276052753,
          "year": 2002
         },
         {
          "COUNTRY_CODE": "FR",
          "month": 7,
          "name": "RENNES ST JACQUES, FR",
          "rolling_average_irrigation_requirement": 4.816578276052753,
          "year": 2002
         },
         {
          "COUNTRY_CODE": "FR",
          "month": 7,
          "name": "ROUEN BOOS, FR",
          "rolling_average_irrigation_requirement": 4.816578276052753,
          "year": 2002
         },
         {
          "COUNTRY_CODE": "FR",
          "month": 7,
          "name": "SAINT EXUPERY, FR",
          "rolling_average_irrigation_requirement": 4.79082184269029,
          "year": 2002
         },
         {
          "COUNTRY_CODE": "FR",
          "month": 7,
          "name": "SAINT GERMAIN LES BELLES, FR",
          "rolling_average_irrigation_requirement": 4.816578276052753,
          "year": 2002
         },
         {
          "COUNTRY_CODE": "FR",
          "month": 7,
          "name": "ST GIRONS, FR",
          "rolling_average_irrigation_requirement": 4.816578276052753,
          "year": 2002
         },
         {
          "COUNTRY_CODE": "FR",
          "month": 7,
          "name": "STRASBOURG ENTZHEIM, FR",
          "rolling_average_irrigation_requirement": 4.816578276052753,
          "year": 2002
         },
         {
          "COUNTRY_CODE": "FR",
          "month": 7,
          "name": "TARBES OSSUN, FR",
          "rolling_average_irrigation_requirement": 4.816578276052753,
          "year": 2002
         },
         {
          "COUNTRY_CODE": "FR",
          "month": 7,
          "name": "TOULOUSE BLAGNAC, FR",
          "rolling_average_irrigation_requirement": 4.816578276052753,
          "year": 2002
         },
         {
          "COUNTRY_CODE": "FR",
          "month": 7,
          "name": "TOURS, FR",
          "rolling_average_irrigation_requirement": 4.816578276052753,
          "year": 2002
         },
         {
          "COUNTRY_CODE": "FR",
          "month": 7,
          "name": "TROYES BARBEREY, FR",
          "rolling_average_irrigation_requirement": 4.816578276052753,
          "year": 2002
         },
         {
          "COUNTRY_CODE": "FR",
          "month": 7,
          "name": "VAL DE LOIRE, FR",
          "rolling_average_irrigation_requirement": 4.796728350258219,
          "year": 2002
         },
         {
          "COUNTRY_CODE": "FR",
          "month": 7,
          "name": "VALLEE DE SEINE, FR",
          "rolling_average_irrigation_requirement": 4.816578276052753,
          "year": 2002
         },
         {
          "COUNTRY_CODE": "FR",
          "month": 7,
          "name": "VOUZIERS, FR",
          "rolling_average_irrigation_requirement": 4.816578276052753,
          "year": 2002
         },
         {
          "COUNTRY_CODE": "FR",
          "month": 7,
          "name": "ABBEVILLE, FR",
          "rolling_average_irrigation_requirement": 5.168279286427363,
          "year": 2003
         },
         {
          "COUNTRY_CODE": "FR",
          "month": 7,
          "name": "AJACCIO, FR",
          "rolling_average_irrigation_requirement": 5.168279286427363,
          "year": 2003
         },
         {
          "COUNTRY_CODE": "FR",
          "month": 7,
          "name": "ALENCON VALFRAMBERT, FR",
          "rolling_average_irrigation_requirement": 5.168279286427363,
          "year": 2003
         },
         {
          "COUNTRY_CODE": "FR",
          "month": 7,
          "name": "AMIENS GLISY, FR",
          "rolling_average_irrigation_requirement": 5.168279286427363,
          "year": 2003
         },
         {
          "COUNTRY_CODE": "FR",
          "month": 7,
          "name": "ANTICHAN, FR",
          "rolling_average_irrigation_requirement": 5.168279286427363,
          "year": 2003
         },
         {
          "COUNTRY_CODE": "FR",
          "month": 7,
          "name": "AUVERGNE, FR",
          "rolling_average_irrigation_requirement": 5.168279286427363,
          "year": 2003
         },
         {
          "COUNTRY_CODE": "FR",
          "month": 7,
          "name": "BALE MULHOUSE, FR",
          "rolling_average_irrigation_requirement": 5.168279286427363,
          "year": 2003
         },
         {
          "COUNTRY_CODE": "FR",
          "month": 7,
          "name": "BALLOTS, FR",
          "rolling_average_irrigation_requirement": 5.168279286427363,
          "year": 2003
         },
         {
          "COUNTRY_CODE": "FR",
          "month": 7,
          "name": "BARBEREY, FR",
          "rolling_average_irrigation_requirement": 5.168279286427363,
          "year": 2003
         },
         {
          "COUNTRY_CODE": "FR",
          "month": 7,
          "name": "BASEL MULHOUSE, FR",
          "rolling_average_irrigation_requirement": 5.168279286427363,
          "year": 2003
         },
         {
          "COUNTRY_CODE": "FR",
          "month": 7,
          "name": "BASTIA, FR",
          "rolling_average_irrigation_requirement": 5.168279286427363,
          "year": 2003
         },
         {
          "COUNTRY_CODE": "FR",
          "month": 7,
          "name": "BELLE ILE LE TALUT, FR",
          "rolling_average_irrigation_requirement": 5.168279286427363,
          "year": 2003
         },
         {
          "COUNTRY_CODE": "FR",
          "month": 7,
          "name": "BELLEGARDE, FR",
          "rolling_average_irrigation_requirement": 5.168279286427363,
          "year": 2003
         },
         {
          "COUNTRY_CODE": "FR",
          "month": 7,
          "name": "BIARD, FR",
          "rolling_average_irrigation_requirement": 5.168279286427363,
          "year": 2003
         },
         {
          "COUNTRY_CODE": "FR",
          "month": 7,
          "name": "BORDEAUX MERIGNAC, FR",
          "rolling_average_irrigation_requirement": 5.168279286427363,
          "year": 2003
         },
         {
          "COUNTRY_CODE": "FR",
          "month": 7,
          "name": "BOURGES, FR",
          "rolling_average_irrigation_requirement": 5.168279286427363,
          "year": 2003
         },
         {
          "COUNTRY_CODE": "FR",
          "month": 7,
          "name": "BREST GUIPAVAS, FR",
          "rolling_average_irrigation_requirement": 5.168279286427363,
          "year": 2003
         },
         {
          "COUNTRY_CODE": "FR",
          "month": 7,
          "name": "BRETIGNY SUR ORGE, FR",
          "rolling_average_irrigation_requirement": 5.168279286427363,
          "year": 2003
         },
         {
          "COUNTRY_CODE": "FR",
          "month": 7,
          "name": "CAEN CARPIQUET, FR",
          "rolling_average_irrigation_requirement": 5.168279286427363,
          "year": 2003
         },
         {
          "COUNTRY_CODE": "FR",
          "month": 7,
          "name": "CAMPO DELL ORO, FR",
          "rolling_average_irrigation_requirement": 5.168279286427363,
          "year": 2003
         },
         {
          "COUNTRY_CODE": "FR",
          "month": 7,
          "name": "CAP CEPET, FR",
          "rolling_average_irrigation_requirement": 5.168279286427363,
          "year": 2003
         },
         {
          "COUNTRY_CODE": "FR",
          "month": 7,
          "name": "CARPIQUET, FR",
          "rolling_average_irrigation_requirement": 5.168279286427363,
          "year": 2003
         },
         {
          "COUNTRY_CODE": "FR",
          "month": 7,
          "name": "CATUS, FR",
          "rolling_average_irrigation_requirement": 5.168279286427363,
          "year": 2003
         },
         {
          "COUNTRY_CODE": "FR",
          "month": 7,
          "name": "CHASSIRON, FR",
          "rolling_average_irrigation_requirement": 5.119226920007857,
          "year": 2003
         },
         {
          "COUNTRY_CODE": "FR",
          "month": 7,
          "name": "CHATILLON COLIGNY, FR",
          "rolling_average_irrigation_requirement": 5.168279286427363,
          "year": 2003
         },
         {
          "COUNTRY_CODE": "FR",
          "month": 7,
          "name": "CHATILLON SUR SEINE, FR",
          "rolling_average_irrigation_requirement": 5.168279286427363,
          "year": 2003
         },
         {
          "COUNTRY_CODE": "FR",
          "month": 7,
          "name": "CLERMONT FERRAND, FR",
          "rolling_average_irrigation_requirement": 5.168279286427363,
          "year": 2003
         },
         {
          "COUNTRY_CODE": "FR",
          "month": 7,
          "name": "COTE D AZUR, FR",
          "rolling_average_irrigation_requirement": 5.168279286427363,
          "year": 2003
         },
         {
          "COUNTRY_CODE": "FR",
          "month": 7,
          "name": "DIJON LONGVIC, FR",
          "rolling_average_irrigation_requirement": 5.168279286427363,
          "year": 2003
         },
         {
          "COUNTRY_CODE": "FR",
          "month": 7,
          "name": "EMBRUN, FR",
          "rolling_average_irrigation_requirement": 5.168279286427363,
          "year": 2003
         },
         {
          "COUNTRY_CODE": "FR",
          "month": 7,
          "name": "ESPOEY, FR",
          "rolling_average_irrigation_requirement": 5.168279286427363,
          "year": 2003
         },
         {
          "COUNTRY_CODE": "FR",
          "month": 7,
          "name": "ESSEY, FR",
          "rolling_average_irrigation_requirement": 5.168279286427363,
          "year": 2003
         },
         {
          "COUNTRY_CODE": "FR",
          "month": 7,
          "name": "FAVERGES DE LA TOUR, FR",
          "rolling_average_irrigation_requirement": 5.168279286427363,
          "year": 2003
         },
         {
          "COUNTRY_CODE": "FR",
          "month": 7,
          "name": "GOURDON, FR",
          "rolling_average_irrigation_requirement": 5.168279286427363,
          "year": 2003
         },
         {
          "COUNTRY_CODE": "FR",
          "month": 7,
          "name": "GUIPAVAS, FR",
          "rolling_average_irrigation_requirement": 5.168279286427363,
          "year": 2003
         },
         {
          "COUNTRY_CODE": "FR",
          "month": 7,
          "name": "LA SOUTERRAINE, FR",
          "rolling_average_irrigation_requirement": 5.168279286427363,
          "year": 2003
         },
         {
          "COUNTRY_CODE": "FR",
          "month": 7,
          "name": "LE MASSEGROS, FR",
          "rolling_average_irrigation_requirement": 5.168279286427363,
          "year": 2003
         },
         {
          "COUNTRY_CODE": "FR",
          "month": 7,
          "name": "LE PUY LOUDES, FR",
          "rolling_average_irrigation_requirement": 5.168279286427363,
          "year": 2003
         },
         {
          "COUNTRY_CODE": "FR",
          "month": 7,
          "name": "LESQUIN, FR",
          "rolling_average_irrigation_requirement": 5.168279286427363,
          "year": 2003
         },
         {
          "COUNTRY_CODE": "FR",
          "month": 7,
          "name": "LEZAY, FR",
          "rolling_average_irrigation_requirement": 5.168279286427363,
          "year": 2003
         },
         {
          "COUNTRY_CODE": "FR",
          "month": 7,
          "name": "LILLE LESQUIN, FR",
          "rolling_average_irrigation_requirement": 5.168279286427363,
          "year": 2003
         },
         {
          "COUNTRY_CODE": "FR",
          "month": 7,
          "name": "LIMOGES BELLEGARDE, FR",
          "rolling_average_irrigation_requirement": 5.168279286427363,
          "year": 2003
         },
         {
          "COUNTRY_CODE": "FR",
          "month": 7,
          "name": "LONGVIC, FR",
          "rolling_average_irrigation_requirement": 5.168279286427363,
          "year": 2003
         },
         {
          "COUNTRY_CODE": "FR",
          "month": 7,
          "name": "LOUDES, FR",
          "rolling_average_irrigation_requirement": 5.168279286427363,
          "year": 2003
         },
         {
          "COUNTRY_CODE": "FR",
          "month": 7,
          "name": "LOURDES, FR",
          "rolling_average_irrigation_requirement": 5.168279286427363,
          "year": 2003
         },
         {
          "COUNTRY_CODE": "FR",
          "month": 7,
          "name": "LYON ST EXUPERY, FR",
          "rolling_average_irrigation_requirement": 5.168279286427363,
          "year": 2003
         },
         {
          "COUNTRY_CODE": "FR",
          "month": 7,
          "name": "MARSEILLE OBS. PALAIS LONCHAMP, FR",
          "rolling_average_irrigation_requirement": 5.168279286427363,
          "year": 2003
         },
         {
          "COUNTRY_CODE": "FR",
          "month": 7,
          "name": "MARSEILLES MARIGNANE, FR",
          "rolling_average_irrigation_requirement": 5.168279286427363,
          "year": 2003
         },
         {
          "COUNTRY_CODE": "FR",
          "month": 7,
          "name": "MEDITERRANEE, FR",
          "rolling_average_irrigation_requirement": 5.168279286427363,
          "year": 2003
         },
         {
          "COUNTRY_CODE": "FR",
          "month": 7,
          "name": "METZ FRESCATY, FR",
          "rolling_average_irrigation_requirement": 5.168279286427363,
          "year": 2003
         },
         {
          "COUNTRY_CODE": "FR",
          "month": 7,
          "name": "MILLAU, FR",
          "rolling_average_irrigation_requirement": 5.168279286427363,
          "year": 2003
         },
         {
          "COUNTRY_CODE": "FR",
          "month": 7,
          "name": "MONT AIGOUAL, FR",
          "rolling_average_irrigation_requirement": 5.101432151545208,
          "year": 2003
         },
         {
          "COUNTRY_CODE": "FR",
          "month": 7,
          "name": "MONT DE MARSAN, FR",
          "rolling_average_irrigation_requirement": 5.168279286427363,
          "year": 2003
         },
         {
          "COUNTRY_CODE": "FR",
          "month": 7,
          "name": "MONTCORNET, FR",
          "rolling_average_irrigation_requirement": 5.168279286427363,
          "year": 2003
         },
         {
          "COUNTRY_CODE": "FR",
          "month": 7,
          "name": "MONTELIMAR, FR",
          "rolling_average_irrigation_requirement": 5.168279286427363,
          "year": 2003
         },
         {
          "COUNTRY_CODE": "FR",
          "month": 7,
          "name": "MONTPELLIER AEROPORT, FR",
          "rolling_average_irrigation_requirement": 5.168279286427363,
          "year": 2003
         },
         {
          "COUNTRY_CODE": "FR",
          "month": 7,
          "name": "NANCY OCHEY, FR",
          "rolling_average_irrigation_requirement": 5.168279286427363,
          "year": 2003
         },
         {
          "COUNTRY_CODE": "FR",
          "month": 7,
          "name": "NANTES BOUGUENAIS, FR",
          "rolling_average_irrigation_requirement": 5.168279286427363,
          "year": 2003
         },
         {
          "COUNTRY_CODE": "FR",
          "month": 7,
          "name": "NICE, FR",
          "rolling_average_irrigation_requirement": 5.168279286427363,
          "year": 2003
         },
         {
          "COUNTRY_CODE": "FR",
          "month": 7,
          "name": "OCHEY, FR",
          "rolling_average_irrigation_requirement": 5.1615745232427175,
          "year": 2003
         },
         {
          "COUNTRY_CODE": "FR",
          "month": 7,
          "name": "ODEREN, FR",
          "rolling_average_irrigation_requirement": 5.168279286427363,
          "year": 2003
         },
         {
          "COUNTRY_CODE": "FR",
          "month": 7,
          "name": "ORLY, FR",
          "rolling_average_irrigation_requirement": 5.168279286427363,
          "year": 2003
         },
         {
          "COUNTRY_CODE": "FR",
          "month": 7,
          "name": "OUESSANT, FR",
          "rolling_average_irrigation_requirement": 5.082867204729887,
          "year": 2003
         },
         {
          "COUNTRY_CODE": "FR",
          "month": 7,
          "name": "PAMIERS, FR",
          "rolling_average_irrigation_requirement": 5.168279286427363,
          "year": 2003
         },
         {
          "COUNTRY_CODE": "FR",
          "month": 7,
          "name": "PARIS LE BOURGET, FR",
          "rolling_average_irrigation_requirement": 5.192157166914293,
          "year": 2003
         },
         {
          "COUNTRY_CODE": "FR",
          "month": 7,
          "name": "PERPIGNAN, FR",
          "rolling_average_irrigation_requirement": 5.168279286427363,
          "year": 2003
         },
         {
          "COUNTRY_CODE": "FR",
          "month": 7,
          "name": "PLOUMANAC H PERROS GUIREC, FR",
          "rolling_average_irrigation_requirement": 5.2080411856384154,
          "year": 2003
         },
         {
          "COUNTRY_CODE": "FR",
          "month": 7,
          "name": "PLOUMANAC H, FR",
          "rolling_average_irrigation_requirement": 5.168279286427363,
          "year": 2003
         },
         {
          "COUNTRY_CODE": "FR",
          "month": 7,
          "name": "POITIERS BIARD, FR",
          "rolling_average_irrigation_requirement": 5.168279286427363,
          "year": 2003
         },
         {
          "COUNTRY_CODE": "FR",
          "month": 7,
          "name": "PORETTA, FR",
          "rolling_average_irrigation_requirement": 5.168279286427363,
          "year": 2003
         },
         {
          "COUNTRY_CODE": "FR",
          "month": 7,
          "name": "PORT AUX FRANCAIS ILES KERGU, FR",
          "rolling_average_irrigation_requirement": 5.200922317249086,
          "year": 2003
         },
         {
          "COUNTRY_CODE": "FR",
          "month": 7,
          "name": "PTE DE CHASSIRON, FR",
          "rolling_average_irrigation_requirement": 5.168279286427363,
          "year": 2003
         },
         {
          "COUNTRY_CODE": "FR",
          "month": 7,
          "name": "PTE DE LA HAGUE, FR",
          "rolling_average_irrigation_requirement": 5.168279286427363,
          "year": 2003
         },
         {
          "COUNTRY_CODE": "FR",
          "month": 7,
          "name": "RENNES ST JACQUES, FR",
          "rolling_average_irrigation_requirement": 5.168279286427363,
          "year": 2003
         },
         {
          "COUNTRY_CODE": "FR",
          "month": 7,
          "name": "ROUEN BOOS, FR",
          "rolling_average_irrigation_requirement": 5.168279286427363,
          "year": 2003
         },
         {
          "COUNTRY_CODE": "FR",
          "month": 7,
          "name": "SAINT EXUPERY, FR",
          "rolling_average_irrigation_requirement": 5.168279286427363,
          "year": 2003
         },
         {
          "COUNTRY_CODE": "FR",
          "month": 7,
          "name": "SAINT GERMAIN LES BELLES, FR",
          "rolling_average_irrigation_requirement": 5.168279286427363,
          "year": 2003
         },
         {
          "COUNTRY_CODE": "FR",
          "month": 7,
          "name": "ST GIRONS, FR",
          "rolling_average_irrigation_requirement": 5.168279286427363,
          "year": 2003
         },
         {
          "COUNTRY_CODE": "FR",
          "month": 7,
          "name": "STRASBOURG ENTZHEIM, FR",
          "rolling_average_irrigation_requirement": 5.168279286427363,
          "year": 2003
         },
         {
          "COUNTRY_CODE": "FR",
          "month": 7,
          "name": "TARBES OSSUN, FR",
          "rolling_average_irrigation_requirement": 5.168279286427363,
          "year": 2003
         },
         {
          "COUNTRY_CODE": "FR",
          "month": 7,
          "name": "TOULOUSE BLAGNAC, FR",
          "rolling_average_irrigation_requirement": 5.168279286427363,
          "year": 2003
         },
         {
          "COUNTRY_CODE": "FR",
          "month": 7,
          "name": "TOURS, FR",
          "rolling_average_irrigation_requirement": 5.168279286427363,
          "year": 2003
         },
         {
          "COUNTRY_CODE": "FR",
          "month": 7,
          "name": "TROYES BARBEREY, FR",
          "rolling_average_irrigation_requirement": 5.168279286427363,
          "year": 2003
         },
         {
          "COUNTRY_CODE": "FR",
          "month": 7,
          "name": "VAL DE LOIRE, FR",
          "rolling_average_irrigation_requirement": 5.168279286427363,
          "year": 2003
         },
         {
          "COUNTRY_CODE": "FR",
          "month": 7,
          "name": "VALLEE DE SEINE, FR",
          "rolling_average_irrigation_requirement": 5.168279286427363,
          "year": 2003
         },
         {
          "COUNTRY_CODE": "FR",
          "month": 7,
          "name": "VOUZIERS, FR",
          "rolling_average_irrigation_requirement": 5.168279286427363,
          "year": 2003
         },
         {
          "COUNTRY_CODE": "FR",
          "month": 7,
          "name": "ABBEVILLE, FR",
          "rolling_average_irrigation_requirement": 4.9600128486952935,
          "year": 2004
         },
         {
          "COUNTRY_CODE": "FR",
          "month": 7,
          "name": "AJACCIO, FR",
          "rolling_average_irrigation_requirement": 4.960012848695295,
          "year": 2004
         },
         {
          "COUNTRY_CODE": "FR",
          "month": 7,
          "name": "ALENCON VALFRAMBERT, FR",
          "rolling_average_irrigation_requirement": 4.961845603881697,
          "year": 2004
         },
         {
          "COUNTRY_CODE": "FR",
          "month": 7,
          "name": "AMIENS GLISY, FR",
          "rolling_average_irrigation_requirement": 4.960012848695295,
          "year": 2004
         },
         {
          "COUNTRY_CODE": "FR",
          "month": 7,
          "name": "ANTICHAN, FR",
          "rolling_average_irrigation_requirement": 4.961283396834609,
          "year": 2004
         },
         {
          "COUNTRY_CODE": "FR",
          "month": 7,
          "name": "AUVERGNE, FR",
          "rolling_average_irrigation_requirement": 4.965189335727151,
          "year": 2004
         },
         {
          "COUNTRY_CODE": "FR",
          "month": 7,
          "name": "BALE MULHOUSE, FR",
          "rolling_average_irrigation_requirement": 4.963804755977512,
          "year": 2004
         },
         {
          "COUNTRY_CODE": "FR",
          "month": 7,
          "name": "BALLOTS, FR",
          "rolling_average_irrigation_requirement": 4.960012848695295,
          "year": 2004
         },
         {
          "COUNTRY_CODE": "FR",
          "month": 7,
          "name": "BARBEREY, FR",
          "rolling_average_irrigation_requirement": 4.965189335727151,
          "year": 2004
         },
         {
          "COUNTRY_CODE": "FR",
          "month": 7,
          "name": "BASEL MULHOUSE, FR",
          "rolling_average_irrigation_requirement": 4.960012848695295,
          "year": 2004
         },
         {
          "COUNTRY_CODE": "FR",
          "month": 7,
          "name": "BASTIA, FR",
          "rolling_average_irrigation_requirement": 4.960012848695295,
          "year": 2004
         },
         {
          "COUNTRY_CODE": "FR",
          "month": 7,
          "name": "BELLE ILE LE TALUT, FR",
          "rolling_average_irrigation_requirement": 4.960012848695295,
          "year": 2004
         },
         {
          "COUNTRY_CODE": "FR",
          "month": 7,
          "name": "BELLEGARDE, FR",
          "rolling_average_irrigation_requirement": 4.960012848695295,
          "year": 2004
         },
         {
          "COUNTRY_CODE": "FR",
          "month": 7,
          "name": "BIARD, FR",
          "rolling_average_irrigation_requirement": 4.965189335727151,
          "year": 2004
         },
         {
          "COUNTRY_CODE": "FR",
          "month": 7,
          "name": "BORDEAUX MERIGNAC, FR",
          "rolling_average_irrigation_requirement": 4.960012848695295,
          "year": 2004
         },
         {
          "COUNTRY_CODE": "FR",
          "month": 7,
          "name": "BOURGES, FR",
          "rolling_average_irrigation_requirement": 4.960012848695295,
          "year": 2004
         },
         {
          "COUNTRY_CODE": "FR",
          "month": 7,
          "name": "BREST GUIPAVAS, FR",
          "rolling_average_irrigation_requirement": 4.960012848695295,
          "year": 2004
         },
         {
          "COUNTRY_CODE": "FR",
          "month": 7,
          "name": "BRETIGNY SUR ORGE, FR",
          "rolling_average_irrigation_requirement": 4.960012848695295,
          "year": 2004
         },
         {
          "COUNTRY_CODE": "FR",
          "month": 7,
          "name": "CAEN CARPIQUET, FR",
          "rolling_average_irrigation_requirement": 4.960012848695295,
          "year": 2004
         },
         {
          "COUNTRY_CODE": "FR",
          "month": 7,
          "name": "CAMPO DELL ORO, FR",
          "rolling_average_irrigation_requirement": 4.965898178670447,
          "year": 2004
         },
         {
          "COUNTRY_CODE": "FR",
          "month": 7,
          "name": "CAP CEPET, FR",
          "rolling_average_irrigation_requirement": 4.9600128486952935,
          "year": 2004
         },
         {
          "COUNTRY_CODE": "FR",
          "month": 7,
          "name": "CARPIQUET, FR",
          "rolling_average_irrigation_requirement": 4.965189335727151,
          "year": 2004
         },
         {
          "COUNTRY_CODE": "FR",
          "month": 7,
          "name": "CATUS, FR",
          "rolling_average_irrigation_requirement": 4.960012848695295,
          "year": 2004
         },
         {
          "COUNTRY_CODE": "FR",
          "month": 7,
          "name": "CHASSIRON, FR",
          "rolling_average_irrigation_requirement": 4.964569676437519,
          "year": 2004
         },
         {
          "COUNTRY_CODE": "FR",
          "month": 7,
          "name": "CHATILLON COLIGNY, FR",
          "rolling_average_irrigation_requirement": 4.960012848695295,
          "year": 2004
         },
         {
          "COUNTRY_CODE": "FR",
          "month": 7,
          "name": "CHATILLON SUR SEINE, FR",
          "rolling_average_irrigation_requirement": 4.960012848695295,
          "year": 2004
         },
         {
          "COUNTRY_CODE": "FR",
          "month": 7,
          "name": "CLERMONT FERRAND, FR",
          "rolling_average_irrigation_requirement": 4.960012848695295,
          "year": 2004
         },
         {
          "COUNTRY_CODE": "FR",
          "month": 7,
          "name": "COTE D AZUR, FR",
          "rolling_average_irrigation_requirement": 4.965898178670447,
          "year": 2004
         },
         {
          "COUNTRY_CODE": "FR",
          "month": 7,
          "name": "DIJON LONGVIC, FR",
          "rolling_average_irrigation_requirement": 4.960012848695295,
          "year": 2004
         },
         {
          "COUNTRY_CODE": "FR",
          "month": 7,
          "name": "EMBRUN, FR",
          "rolling_average_irrigation_requirement": 4.960004012496107,
          "year": 2004
         },
         {
          "COUNTRY_CODE": "FR",
          "month": 7,
          "name": "ESPOEY, FR",
          "rolling_average_irrigation_requirement": 4.960012848695295,
          "year": 2004
         },
         {
          "COUNTRY_CODE": "FR",
          "month": 7,
          "name": "ESSEY, FR",
          "rolling_average_irrigation_requirement": 4.963804755977512,
          "year": 2004
         },
         {
          "COUNTRY_CODE": "FR",
          "month": 7,
          "name": "FAVERGES DE LA TOUR, FR",
          "rolling_average_irrigation_requirement": 4.960012848695295,
          "year": 2004
         },
         {
          "COUNTRY_CODE": "FR",
          "month": 7,
          "name": "GOURDON, FR",
          "rolling_average_irrigation_requirement": 4.960012848695295,
          "year": 2004
         },
         {
          "COUNTRY_CODE": "FR",
          "month": 7,
          "name": "GUIPAVAS, FR",
          "rolling_average_irrigation_requirement": 4.960012848695295,
          "year": 2004
         },
         {
          "COUNTRY_CODE": "FR",
          "month": 7,
          "name": "LA SOUTERRAINE, FR",
          "rolling_average_irrigation_requirement": 4.960012848695295,
          "year": 2004
         },
         {
          "COUNTRY_CODE": "FR",
          "month": 7,
          "name": "LE MASSEGROS, FR",
          "rolling_average_irrigation_requirement": 4.960012848695295,
          "year": 2004
         },
         {
          "COUNTRY_CODE": "FR",
          "month": 7,
          "name": "LE PUY LOUDES, FR",
          "rolling_average_irrigation_requirement": 4.960012848695295,
          "year": 2004
         },
         {
          "COUNTRY_CODE": "FR",
          "month": 7,
          "name": "LESQUIN, FR",
          "rolling_average_irrigation_requirement": 4.960012848695295,
          "year": 2004
         },
         {
          "COUNTRY_CODE": "FR",
          "month": 7,
          "name": "LEZAY, FR",
          "rolling_average_irrigation_requirement": 4.960012848695295,
          "year": 2004
         },
         {
          "COUNTRY_CODE": "FR",
          "month": 7,
          "name": "LILLE LESQUIN, FR",
          "rolling_average_irrigation_requirement": 4.960012848695295,
          "year": 2004
         },
         {
          "COUNTRY_CODE": "FR",
          "month": 7,
          "name": "LIMOGES BELLEGARDE, FR",
          "rolling_average_irrigation_requirement": 4.960012848695295,
          "year": 2004
         },
         {
          "COUNTRY_CODE": "FR",
          "month": 7,
          "name": "LONGVIC, FR",
          "rolling_average_irrigation_requirement": 4.965189335727151,
          "year": 2004
         },
         {
          "COUNTRY_CODE": "FR",
          "month": 7,
          "name": "LOUDES, FR",
          "rolling_average_irrigation_requirement": 4.965965444069322,
          "year": 2004
         },
         {
          "COUNTRY_CODE": "FR",
          "month": 7,
          "name": "LOURDES, FR",
          "rolling_average_irrigation_requirement": 4.965255668464481,
          "year": 2004
         },
         {
          "COUNTRY_CODE": "FR",
          "month": 7,
          "name": "LYON ST EXUPERY, FR",
          "rolling_average_irrigation_requirement": 4.960012848695295,
          "year": 2004
         },
         {
          "COUNTRY_CODE": "FR",
          "month": 7,
          "name": "MARSEILLE OBS. PALAIS LONCHAMP, FR",
          "rolling_average_irrigation_requirement": 4.960012848695295,
          "year": 2004
         },
         {
          "COUNTRY_CODE": "FR",
          "month": 7,
          "name": "MARSEILLES MARIGNANE, FR",
          "rolling_average_irrigation_requirement": 4.960012848695295,
          "year": 2004
         },
         {
          "COUNTRY_CODE": "FR",
          "month": 7,
          "name": "MEDITERRANEE, FR",
          "rolling_average_irrigation_requirement": 4.965189335727151,
          "year": 2004
         },
         {
          "COUNTRY_CODE": "FR",
          "month": 7,
          "name": "METZ FRESCATY, FR",
          "rolling_average_irrigation_requirement": 4.971157141405329,
          "year": 2004
         },
         {
          "COUNTRY_CODE": "FR",
          "month": 7,
          "name": "MILLAU, FR",
          "rolling_average_irrigation_requirement": 4.9625586619896485,
          "year": 2004
         },
         {
          "COUNTRY_CODE": "FR",
          "month": 7,
          "name": "MONT AIGOUAL, FR",
          "rolling_average_irrigation_requirement": 4.965189335727151,
          "year": 2004
         },
         {
          "COUNTRY_CODE": "FR",
          "month": 7,
          "name": "MONT DE MARSAN, FR",
          "rolling_average_irrigation_requirement": 4.9625586619896485,
          "year": 2004
         },
         {
          "COUNTRY_CODE": "FR",
          "month": 7,
          "name": "MONTCORNET, FR",
          "rolling_average_irrigation_requirement": 4.960012848695295,
          "year": 2004
         },
         {
          "COUNTRY_CODE": "FR",
          "month": 7,
          "name": "MONTELIMAR, FR",
          "rolling_average_irrigation_requirement": 4.960012848695295,
          "year": 2004
         },
         {
          "COUNTRY_CODE": "FR",
          "month": 7,
          "name": "MONTPELLIER AEROPORT, FR",
          "rolling_average_irrigation_requirement": 4.960012848695295,
          "year": 2004
         },
         {
          "COUNTRY_CODE": "FR",
          "month": 7,
          "name": "NANCY OCHEY, FR",
          "rolling_average_irrigation_requirement": 4.960012848695295,
          "year": 2004
         },
         {
          "COUNTRY_CODE": "FR",
          "month": 7,
          "name": "NANTES BOUGUENAIS, FR",
          "rolling_average_irrigation_requirement": 4.960012848695295,
          "year": 2004
         },
         {
          "COUNTRY_CODE": "FR",
          "month": 7,
          "name": "NICE, FR",
          "rolling_average_irrigation_requirement": 4.960012848695295,
          "year": 2004
         },
         {
          "COUNTRY_CODE": "FR",
          "month": 7,
          "name": "OCHEY, FR",
          "rolling_average_irrigation_requirement": 4.94269988615167,
          "year": 2004
         },
         {
          "COUNTRY_CODE": "FR",
          "month": 7,
          "name": "ODEREN, FR",
          "rolling_average_irrigation_requirement": 4.960012848695295,
          "year": 2004
         },
         {
          "COUNTRY_CODE": "FR",
          "month": 7,
          "name": "ORLY, FR",
          "rolling_average_irrigation_requirement": 4.960012848695295,
          "year": 2004
         },
         {
          "COUNTRY_CODE": "FR",
          "month": 7,
          "name": "OUESSANT, FR",
          "rolling_average_irrigation_requirement": 4.969661975099302,
          "year": 2004
         },
         {
          "COUNTRY_CODE": "FR",
          "month": 7,
          "name": "PAMIERS, FR",
          "rolling_average_irrigation_requirement": 4.960012848695295,
          "year": 2004
         },
         {
          "COUNTRY_CODE": "FR",
          "month": 7,
          "name": "PERPIGNAN, FR",
          "rolling_average_irrigation_requirement": 4.960012848695295,
          "year": 2004
         },
         {
          "COUNTRY_CODE": "FR",
          "month": 7,
          "name": "PLOUMANAC H PERROS GUIREC, FR",
          "rolling_average_irrigation_requirement": 4.9535833957985504,
          "year": 2004
         },
         {
          "COUNTRY_CODE": "FR",
          "month": 7,
          "name": "PLOUMANAC H, FR",
          "rolling_average_irrigation_requirement": 4.960012848695295,
          "year": 2004
         },
         {
          "COUNTRY_CODE": "FR",
          "month": 7,
          "name": "POITIERS BIARD, FR",
          "rolling_average_irrigation_requirement": 4.960012848695295,
          "year": 2004
         },
         {
          "COUNTRY_CODE": "FR",
          "month": 7,
          "name": "PORETTA, FR",
          "rolling_average_irrigation_requirement": 4.965189335727151,
          "year": 2004
         },
         {
          "COUNTRY_CODE": "FR",
          "month": 7,
          "name": "PORT AUX FRANCAIS ILES KERGU, FR",
          "rolling_average_irrigation_requirement": 4.958798325771812,
          "year": 2004
         },
         {
          "COUNTRY_CODE": "FR",
          "month": 7,
          "name": "PTE DE CHASSIRON, FR",
          "rolling_average_irrigation_requirement": 4.960012848695295,
          "year": 2004
         },
         {
          "COUNTRY_CODE": "FR",
          "month": 7,
          "name": "PTE DE LA HAGUE, FR",
          "rolling_average_irrigation_requirement": 4.960012848695295,
          "year": 2004
         },
         {
          "COUNTRY_CODE": "FR",
          "month": 7,
          "name": "RENNES ST JACQUES, FR",
          "rolling_average_irrigation_requirement": 4.960012848695295,
          "year": 2004
         },
         {
          "COUNTRY_CODE": "FR",
          "month": 7,
          "name": "ROUEN BOOS, FR",
          "rolling_average_irrigation_requirement": 4.960012848695295,
          "year": 2004
         },
         {
          "COUNTRY_CODE": "FR",
          "month": 7,
          "name": "SAINT EXUPERY, FR",
          "rolling_average_irrigation_requirement": 4.965189335727151,
          "year": 2004
         },
         {
          "COUNTRY_CODE": "FR",
          "month": 7,
          "name": "SAINT GERMAIN LES BELLES, FR",
          "rolling_average_irrigation_requirement": 4.960012848695295,
          "year": 2004
         },
         {
          "COUNTRY_CODE": "FR",
          "month": 7,
          "name": "ST GIRONS, FR",
          "rolling_average_irrigation_requirement": 4.960012848695295,
          "year": 2004
         },
         {
          "COUNTRY_CODE": "FR",
          "month": 7,
          "name": "STRASBOURG ENTZHEIM, FR",
          "rolling_average_irrigation_requirement": 4.960012848695295,
          "year": 2004
         },
         {
          "COUNTRY_CODE": "FR",
          "month": 7,
          "name": "TARBES OSSUN, FR",
          "rolling_average_irrigation_requirement": 4.960012848695295,
          "year": 2004
         },
         {
          "COUNTRY_CODE": "FR",
          "month": 7,
          "name": "TOULOUSE BLAGNAC, FR",
          "rolling_average_irrigation_requirement": 4.960012848695295,
          "year": 2004
         },
         {
          "COUNTRY_CODE": "FR",
          "month": 7,
          "name": "TOURS, FR",
          "rolling_average_irrigation_requirement": 4.960012848695295,
          "year": 2004
         },
         {
          "COUNTRY_CODE": "FR",
          "month": 7,
          "name": "TROYES BARBEREY, FR",
          "rolling_average_irrigation_requirement": 4.960012848695295,
          "year": 2004
         },
         {
          "COUNTRY_CODE": "FR",
          "month": 7,
          "name": "VAL DE LOIRE, FR",
          "rolling_average_irrigation_requirement": 4.965189335727151,
          "year": 2004
         },
         {
          "COUNTRY_CODE": "FR",
          "month": 7,
          "name": "VALLEE DE SEINE, FR",
          "rolling_average_irrigation_requirement": 4.965189335727151,
          "year": 2004
         },
         {
          "COUNTRY_CODE": "FR",
          "month": 7,
          "name": "VOUZIERS, FR",
          "rolling_average_irrigation_requirement": 4.960012848695295,
          "year": 2004
         },
         {
          "COUNTRY_CODE": "FR",
          "month": 7,
          "name": "ABBEVILLE, FR",
          "rolling_average_irrigation_requirement": 5.284714695069719,
          "year": 2005
         },
         {
          "COUNTRY_CODE": "FR",
          "month": 7,
          "name": "AJACCIO, FR",
          "rolling_average_irrigation_requirement": 5.284714695069719,
          "year": 2005
         },
         {
          "COUNTRY_CODE": "FR",
          "month": 7,
          "name": "ALENCON VALFRAMBERT, FR",
          "rolling_average_irrigation_requirement": 5.284714695069719,
          "year": 2005
         },
         {
          "COUNTRY_CODE": "FR",
          "month": 7,
          "name": "ANTICHAN, FR",
          "rolling_average_irrigation_requirement": 5.283307335245322,
          "year": 2005
         },
         {
          "COUNTRY_CODE": "FR",
          "month": 7,
          "name": "BALE MULHOUSE, FR",
          "rolling_average_irrigation_requirement": 5.284714695069719,
          "year": 2005
         },
         {
          "COUNTRY_CODE": "FR",
          "month": 7,
          "name": "BARBEREY, FR",
          "rolling_average_irrigation_requirement": 5.284714695069719,
          "year": 2005
         },
         {
          "COUNTRY_CODE": "FR",
          "month": 7,
          "name": "BASEL MULHOUSE, FR",
          "rolling_average_irrigation_requirement": 5.284714695069719,
          "year": 2005
         },
         {
          "COUNTRY_CODE": "FR",
          "month": 7,
          "name": "BASTIA, FR",
          "rolling_average_irrigation_requirement": 5.284714695069719,
          "year": 2005
         },
         {
          "COUNTRY_CODE": "FR",
          "month": 7,
          "name": "BELLE ILE LE TALUT, FR",
          "rolling_average_irrigation_requirement": 5.284714695069719,
          "year": 2005
         },
         {
          "COUNTRY_CODE": "FR",
          "month": 7,
          "name": "BELLEGARDE, FR",
          "rolling_average_irrigation_requirement": 5.284714695069719,
          "year": 2005
         },
         {
          "COUNTRY_CODE": "FR",
          "month": 7,
          "name": "BIARD, FR",
          "rolling_average_irrigation_requirement": 5.284714695069719,
          "year": 2005
         },
         {
          "COUNTRY_CODE": "FR",
          "month": 7,
          "name": "BORDEAUX MERIGNAC, FR",
          "rolling_average_irrigation_requirement": 5.284714695069719,
          "year": 2005
         },
         {
          "COUNTRY_CODE": "FR",
          "month": 7,
          "name": "BOURGES, FR",
          "rolling_average_irrigation_requirement": 5.284714695069719,
          "year": 2005
         },
         {
          "COUNTRY_CODE": "FR",
          "month": 7,
          "name": "BREST GUIPAVAS, FR",
          "rolling_average_irrigation_requirement": 5.284714695069719,
          "year": 2005
         },
         {
          "COUNTRY_CODE": "FR",
          "month": 7,
          "name": "CAEN CARPIQUET, FR",
          "rolling_average_irrigation_requirement": 5.284714695069719,
          "year": 2005
         },
         {
          "COUNTRY_CODE": "FR",
          "month": 7,
          "name": "CAMPO DELL ORO, FR",
          "rolling_average_irrigation_requirement": 5.284714695069719,
          "year": 2005
         },
         {
          "COUNTRY_CODE": "FR",
          "month": 7,
          "name": "CAP CEPET, FR",
          "rolling_average_irrigation_requirement": 5.284714695069719,
          "year": 2005
         },
         {
          "COUNTRY_CODE": "FR",
          "month": 7,
          "name": "CHASSIRON, FR",
          "rolling_average_irrigation_requirement": 5.288641303338735,
          "year": 2005
         },
         {
          "COUNTRY_CODE": "FR",
          "month": 7,
          "name": "CLERMONT FERRAND, FR",
          "rolling_average_irrigation_requirement": 5.284714695069719,
          "year": 2005
         },
         {
          "COUNTRY_CODE": "FR",
          "month": 7,
          "name": "COTE D AZUR, FR",
          "rolling_average_irrigation_requirement": 5.283907831567531,
          "year": 2005
         },
         {
          "COUNTRY_CODE": "FR",
          "month": 7,
          "name": "DIJON LONGVIC, FR",
          "rolling_average_irrigation_requirement": 5.284714695069719,
          "year": 2005
         },
         {
          "COUNTRY_CODE": "FR",
          "month": 7,
          "name": "EMBRUN, FR",
          "rolling_average_irrigation_requirement": 5.284317876953889,
          "year": 2005
         },
         {
          "COUNTRY_CODE": "FR",
          "month": 7,
          "name": "ESSEY, FR",
          "rolling_average_irrigation_requirement": 5.284714695069719,
          "year": 2005
         },
         {
          "COUNTRY_CODE": "FR",
          "month": 7,
          "name": "GOURDON, FR",
          "rolling_average_irrigation_requirement": 5.284714695069719,
          "year": 2005
         },
         {
          "COUNTRY_CODE": "FR",
          "month": 7,
          "name": "GUIPAVAS, FR",
          "rolling_average_irrigation_requirement": 5.284714695069719,
          "year": 2005
         },
         {
          "COUNTRY_CODE": "FR",
          "month": 7,
          "name": "LE PUY LOUDES, FR",
          "rolling_average_irrigation_requirement": 5.284714695069719,
          "year": 2005
         },
         {
          "COUNTRY_CODE": "FR",
          "month": 7,
          "name": "LILLE LESQUIN, FR",
          "rolling_average_irrigation_requirement": 5.284714695069719,
          "year": 2005
         },
         {
          "COUNTRY_CODE": "FR",
          "month": 7,
          "name": "LIMOGES BELLEGARDE, FR",
          "rolling_average_irrigation_requirement": 5.284714695069719,
          "year": 2005
         },
         {
          "COUNTRY_CODE": "FR",
          "month": 7,
          "name": "LONGVIC, FR",
          "rolling_average_irrigation_requirement": 5.284714695069719,
          "year": 2005
         },
         {
          "COUNTRY_CODE": "FR",
          "month": 7,
          "name": "LOUDES, FR",
          "rolling_average_irrigation_requirement": 5.280677534589637,
          "year": 2005
         },
         {
          "COUNTRY_CODE": "FR",
          "month": 7,
          "name": "LOURDES, FR",
          "rolling_average_irrigation_requirement": 5.285379137972071,
          "year": 2005
         },
         {
          "COUNTRY_CODE": "FR",
          "month": 7,
          "name": "LYON ST EXUPERY, FR",
          "rolling_average_irrigation_requirement": 5.284714695069719,
          "year": 2005
         },
         {
          "COUNTRY_CODE": "FR",
          "month": 7,
          "name": "MARSEILLES MARIGNANE, FR",
          "rolling_average_irrigation_requirement": 5.284714695069719,
          "year": 2005
         },
         {
          "COUNTRY_CODE": "FR",
          "month": 7,
          "name": "MEDITERRANEE, FR",
          "rolling_average_irrigation_requirement": 5.284714695069719,
          "year": 2005
         },
         {
          "COUNTRY_CODE": "FR",
          "month": 7,
          "name": "MILLAU, FR",
          "rolling_average_irrigation_requirement": 5.284714695069719,
          "year": 2005
         },
         {
          "COUNTRY_CODE": "FR",
          "month": 7,
          "name": "MONT AIGOUAL, FR",
          "rolling_average_irrigation_requirement": 5.288641303338735,
          "year": 2005
         },
         {
          "COUNTRY_CODE": "FR",
          "month": 7,
          "name": "MONT DE MARSAN, FR",
          "rolling_average_irrigation_requirement": 5.284317876953889,
          "year": 2005
         },
         {
          "COUNTRY_CODE": "FR",
          "month": 7,
          "name": "MONTELIMAR, FR",
          "rolling_average_irrigation_requirement": 5.284714695069719,
          "year": 2005
         },
         {
          "COUNTRY_CODE": "FR",
          "month": 7,
          "name": "MONTPELLIER AEROPORT, FR",
          "rolling_average_irrigation_requirement": 5.284714695069719,
          "year": 2005
         },
         {
          "COUNTRY_CODE": "FR",
          "month": 7,
          "name": "NANCY OCHEY, FR",
          "rolling_average_irrigation_requirement": 5.284714695069719,
          "year": 2005
         },
         {
          "COUNTRY_CODE": "FR",
          "month": 7,
          "name": "NANTES BOUGUENAIS, FR",
          "rolling_average_irrigation_requirement": 5.284714695069719,
          "year": 2005
         },
         {
          "COUNTRY_CODE": "FR",
          "month": 7,
          "name": "NICE, FR",
          "rolling_average_irrigation_requirement": 5.284714695069719,
          "year": 2005
         },
         {
          "COUNTRY_CODE": "FR",
          "month": 7,
          "name": "OCHEY, FR",
          "rolling_average_irrigation_requirement": 5.280989896399007,
          "year": 2005
         },
         {
          "COUNTRY_CODE": "FR",
          "month": 7,
          "name": "ORLY, FR",
          "rolling_average_irrigation_requirement": 5.284714695069719,
          "year": 2005
         },
         {
          "COUNTRY_CODE": "FR",
          "month": 7,
          "name": "OUESSANT, FR",
          "rolling_average_irrigation_requirement": 5.284714695069719,
          "year": 2005
         },
         {
          "COUNTRY_CODE": "FR",
          "month": 7,
          "name": "PARIS LE BOURGET, FR",
          "rolling_average_irrigation_requirement": 5.299106869766021,
          "year": 2005
         },
         {
          "COUNTRY_CODE": "FR",
          "month": 7,
          "name": "PERPIGNAN, FR",
          "rolling_average_irrigation_requirement": 5.284714695069719,
          "year": 2005
         },
         {
          "COUNTRY_CODE": "FR",
          "month": 7,
          "name": "PLOUMANAC H PERROS GUIREC, FR",
          "rolling_average_irrigation_requirement": 5.284714695069719,
          "year": 2005
         },
         {
          "COUNTRY_CODE": "FR",
          "month": 7,
          "name": "PLOUMANAC H, FR",
          "rolling_average_irrigation_requirement": 5.284714695069719,
          "year": 2005
         },
         {
          "COUNTRY_CODE": "FR",
          "month": 7,
          "name": "POITIERS BIARD, FR",
          "rolling_average_irrigation_requirement": 5.284714695069719,
          "year": 2005
         },
         {
          "COUNTRY_CODE": "FR",
          "month": 7,
          "name": "PORT AUX FRANCAIS ILES KERGU, FR",
          "rolling_average_irrigation_requirement": 5.286453793350106,
          "year": 2005
         },
         {
          "COUNTRY_CODE": "FR",
          "month": 7,
          "name": "PTE DE CHASSIRON, FR",
          "rolling_average_irrigation_requirement": 5.284714695069719,
          "year": 2005
         },
         {
          "COUNTRY_CODE": "FR",
          "month": 7,
          "name": "PTE DE LA HAGUE, FR",
          "rolling_average_irrigation_requirement": 5.284714695069719,
          "year": 2005
         },
         {
          "COUNTRY_CODE": "FR",
          "month": 7,
          "name": "RENNES ST JACQUES, FR",
          "rolling_average_irrigation_requirement": 5.284714695069719,
          "year": 2005
         },
         {
          "COUNTRY_CODE": "FR",
          "month": 7,
          "name": "ROUEN BOOS, FR",
          "rolling_average_irrigation_requirement": 5.284714695069719,
          "year": 2005
         },
         {
          "COUNTRY_CODE": "FR",
          "month": 7,
          "name": "SAINT EXUPERY, FR",
          "rolling_average_irrigation_requirement": 5.284714695069719,
          "year": 2005
         },
         {
          "COUNTRY_CODE": "FR",
          "month": 7,
          "name": "ST GIRONS, FR",
          "rolling_average_irrigation_requirement": 5.284714695069719,
          "year": 2005
         },
         {
          "COUNTRY_CODE": "FR",
          "month": 7,
          "name": "STRASBOURG ENTZHEIM, FR",
          "rolling_average_irrigation_requirement": 5.284714695069719,
          "year": 2005
         },
         {
          "COUNTRY_CODE": "FR",
          "month": 7,
          "name": "TARBES OSSUN, FR",
          "rolling_average_irrigation_requirement": 5.284714695069719,
          "year": 2005
         },
         {
          "COUNTRY_CODE": "FR",
          "month": 7,
          "name": "TOULOUSE BLAGNAC, FR",
          "rolling_average_irrigation_requirement": 5.284714695069719,
          "year": 2005
         },
         {
          "COUNTRY_CODE": "FR",
          "month": 7,
          "name": "TOURS, FR",
          "rolling_average_irrigation_requirement": 5.284714695069719,
          "year": 2005
         },
         {
          "COUNTRY_CODE": "FR",
          "month": 7,
          "name": "TROYES BARBEREY, FR",
          "rolling_average_irrigation_requirement": 5.284714695069719,
          "year": 2005
         },
         {
          "COUNTRY_CODE": "FR",
          "month": 7,
          "name": "VAL DE LOIRE, FR",
          "rolling_average_irrigation_requirement": 5.284714695069719,
          "year": 2005
         },
         {
          "COUNTRY_CODE": "FR",
          "month": 7,
          "name": "VALLEE DE SEINE, FR",
          "rolling_average_irrigation_requirement": 5.284714695069719,
          "year": 2005
         },
         {
          "COUNTRY_CODE": "FR",
          "month": 7,
          "name": "ABBEVILLE, FR",
          "rolling_average_irrigation_requirement": 5.654484033817313,
          "year": 2006
         },
         {
          "COUNTRY_CODE": "FR",
          "month": 7,
          "name": "AJACCIO, FR",
          "rolling_average_irrigation_requirement": 5.654484033817313,
          "year": 2006
         },
         {
          "COUNTRY_CODE": "FR",
          "month": 7,
          "name": "ALENCON VALFRAMBERT, FR",
          "rolling_average_irrigation_requirement": 5.654484033817313,
          "year": 2006
         },
         {
          "COUNTRY_CODE": "FR",
          "month": 7,
          "name": "ANTICHAN, FR",
          "rolling_average_irrigation_requirement": 5.654484033817313,
          "year": 2006
         },
         {
          "COUNTRY_CODE": "FR",
          "month": 7,
          "name": "AUVERGNE, FR",
          "rolling_average_irrigation_requirement": 5.654484033817313,
          "year": 2006
         },
         {
          "COUNTRY_CODE": "FR",
          "month": 7,
          "name": "BALE MULHOUSE, FR",
          "rolling_average_irrigation_requirement": 5.6533420652514925,
          "year": 2006
         },
         {
          "COUNTRY_CODE": "FR",
          "month": 7,
          "name": "BARBEREY, FR",
          "rolling_average_irrigation_requirement": 5.654484033817313,
          "year": 2006
         },
         {
          "COUNTRY_CODE": "FR",
          "month": 7,
          "name": "BASEL MULHOUSE, FR",
          "rolling_average_irrigation_requirement": 5.654484033817313,
          "year": 2006
         },
         {
          "COUNTRY_CODE": "FR",
          "month": 7,
          "name": "BASTIA, FR",
          "rolling_average_irrigation_requirement": 5.654484033817313,
          "year": 2006
         },
         {
          "COUNTRY_CODE": "FR",
          "month": 7,
          "name": "BELLE ILE LE TALUT, FR",
          "rolling_average_irrigation_requirement": 5.654484033817313,
          "year": 2006
         },
         {
          "COUNTRY_CODE": "FR",
          "month": 7,
          "name": "BELLEGARDE, FR",
          "rolling_average_irrigation_requirement": 5.654484033817313,
          "year": 2006
         },
         {
          "COUNTRY_CODE": "FR",
          "month": 7,
          "name": "BIARD, FR",
          "rolling_average_irrigation_requirement": 5.6533420652514925,
          "year": 2006
         },
         {
          "COUNTRY_CODE": "FR",
          "month": 7,
          "name": "BORDEAUX MERIGNAC, FR",
          "rolling_average_irrigation_requirement": 5.654484033817313,
          "year": 2006
         },
         {
          "COUNTRY_CODE": "FR",
          "month": 7,
          "name": "BOURGES, FR",
          "rolling_average_irrigation_requirement": 5.654484033817313,
          "year": 2006
         },
         {
          "COUNTRY_CODE": "FR",
          "month": 7,
          "name": "BREST GUIPAVAS, FR",
          "rolling_average_irrigation_requirement": 5.654484033817313,
          "year": 2006
         },
         {
          "COUNTRY_CODE": "FR",
          "month": 7,
          "name": "CAEN CARPIQUET, FR",
          "rolling_average_irrigation_requirement": 5.654484033817313,
          "year": 2006
         },
         {
          "COUNTRY_CODE": "FR",
          "month": 7,
          "name": "CAMPO DELL ORO, FR",
          "rolling_average_irrigation_requirement": 5.654484033817313,
          "year": 2006
         },
         {
          "COUNTRY_CODE": "FR",
          "month": 7,
          "name": "CAP CEPET, FR",
          "rolling_average_irrigation_requirement": 5.654484033817313,
          "year": 2006
         },
         {
          "COUNTRY_CODE": "FR",
          "month": 7,
          "name": "CARPIQUET, FR",
          "rolling_average_irrigation_requirement": 5.654484033817313,
          "year": 2006
         },
         {
          "COUNTRY_CODE": "FR",
          "month": 7,
          "name": "CHASSIRON, FR",
          "rolling_average_irrigation_requirement": 5.6427740638334205,
          "year": 2006
         },
         {
          "COUNTRY_CODE": "FR",
          "month": 7,
          "name": "CLERMONT FERRAND, FR",
          "rolling_average_irrigation_requirement": 5.654484033817313,
          "year": 2006
         },
         {
          "COUNTRY_CODE": "FR",
          "month": 7,
          "name": "COTE D AZUR, FR",
          "rolling_average_irrigation_requirement": 5.654484033817313,
          "year": 2006
         },
         {
          "COUNTRY_CODE": "FR",
          "month": 7,
          "name": "DIJON LONGVIC, FR",
          "rolling_average_irrigation_requirement": 5.654484033817313,
          "year": 2006
         },
         {
          "COUNTRY_CODE": "FR",
          "month": 7,
          "name": "EMBRUN, FR",
          "rolling_average_irrigation_requirement": 5.654670943974298,
          "year": 2006
         },
         {
          "COUNTRY_CODE": "FR",
          "month": 7,
          "name": "ESSEY, FR",
          "rolling_average_irrigation_requirement": 5.653702158718878,
          "year": 2006
         },
         {
          "COUNTRY_CODE": "FR",
          "month": 7,
          "name": "GOURDON, FR",
          "rolling_average_irrigation_requirement": 5.654484033817313,
          "year": 2006
         },
         {
          "COUNTRY_CODE": "FR",
          "month": 7,
          "name": "GUIPAVAS, FR",
          "rolling_average_irrigation_requirement": 5.654484033817313,
          "year": 2006
         },
         {
          "COUNTRY_CODE": "FR",
          "month": 7,
          "name": "LE PUY LOUDES, FR",
          "rolling_average_irrigation_requirement": 5.654484033817313,
          "year": 2006
         },
         {
          "COUNTRY_CODE": "FR",
          "month": 7,
          "name": "LESQUIN, FR",
          "rolling_average_irrigation_requirement": 5.654484033817313,
          "year": 2006
         },
         {
          "COUNTRY_CODE": "FR",
          "month": 7,
          "name": "LILLE LESQUIN, FR",
          "rolling_average_irrigation_requirement": 5.654484033817313,
          "year": 2006
         },
         {
          "COUNTRY_CODE": "FR",
          "month": 7,
          "name": "LIMOGES BELLEGARDE, FR",
          "rolling_average_irrigation_requirement": 5.654484033817313,
          "year": 2006
         },
         {
          "COUNTRY_CODE": "FR",
          "month": 7,
          "name": "LONGVIC, FR",
          "rolling_average_irrigation_requirement": 5.654484033817313,
          "year": 2006
         },
         {
          "COUNTRY_CODE": "FR",
          "month": 7,
          "name": "LOUDES, FR",
          "rolling_average_irrigation_requirement": 5.654484033817313,
          "year": 2006
         },
         {
          "COUNTRY_CODE": "FR",
          "month": 7,
          "name": "LOURDES, FR",
          "rolling_average_irrigation_requirement": 5.649337982995495,
          "year": 2006
         },
         {
          "COUNTRY_CODE": "FR",
          "month": 7,
          "name": "LYON ST EXUPERY, FR",
          "rolling_average_irrigation_requirement": 5.654484033817313,
          "year": 2006
         },
         {
          "COUNTRY_CODE": "FR",
          "month": 7,
          "name": "MARSEILLES MARIGNANE, FR",
          "rolling_average_irrigation_requirement": 5.654484033817313,
          "year": 2006
         },
         {
          "COUNTRY_CODE": "FR",
          "month": 7,
          "name": "MEDITERRANEE, FR",
          "rolling_average_irrigation_requirement": 5.654484033817313,
          "year": 2006
         },
         {
          "COUNTRY_CODE": "FR",
          "month": 7,
          "name": "METZ FRESCATY, FR",
          "rolling_average_irrigation_requirement": 5.65372297229419,
          "year": 2006
         },
         {
          "COUNTRY_CODE": "FR",
          "month": 7,
          "name": "MILLAU, FR",
          "rolling_average_irrigation_requirement": 5.656336468160582,
          "year": 2006
         },
         {
          "COUNTRY_CODE": "FR",
          "month": 7,
          "name": "MONT AIGOUAL, FR",
          "rolling_average_irrigation_requirement": 5.653702158718878,
          "year": 2006
         },
         {
          "COUNTRY_CODE": "FR",
          "month": 7,
          "name": "MONT DE MARSAN, FR",
          "rolling_average_irrigation_requirement": 5.6520240036704275,
          "year": 2006
         },
         {
          "COUNTRY_CODE": "FR",
          "month": 7,
          "name": "MONTELIMAR, FR",
          "rolling_average_irrigation_requirement": 5.654484033817313,
          "year": 2006
         },
         {
          "COUNTRY_CODE": "FR",
          "month": 7,
          "name": "MONTPELLIER AEROPORT, FR",
          "rolling_average_irrigation_requirement": 5.654484033817313,
          "year": 2006
         },
         {
          "COUNTRY_CODE": "FR",
          "month": 7,
          "name": "NANCY OCHEY, FR",
          "rolling_average_irrigation_requirement": 5.654484033817313,
          "year": 2006
         },
         {
          "COUNTRY_CODE": "FR",
          "month": 7,
          "name": "NANTES BOUGUENAIS, FR",
          "rolling_average_irrigation_requirement": 5.654484033817313,
          "year": 2006
         },
         {
          "COUNTRY_CODE": "FR",
          "month": 7,
          "name": "NICE, FR",
          "rolling_average_irrigation_requirement": 5.654484033817313,
          "year": 2006
         },
         {
          "COUNTRY_CODE": "FR",
          "month": 7,
          "name": "OCHEY, FR",
          "rolling_average_irrigation_requirement": 5.654613498857029,
          "year": 2006
         },
         {
          "COUNTRY_CODE": "FR",
          "month": 7,
          "name": "ORLY, FR",
          "rolling_average_irrigation_requirement": 5.654484033817313,
          "year": 2006
         },
         {
          "COUNTRY_CODE": "FR",
          "month": 7,
          "name": "OUESSANT, FR",
          "rolling_average_irrigation_requirement": 5.653325941222379,
          "year": 2006
         },
         {
          "COUNTRY_CODE": "FR",
          "month": 7,
          "name": "PARIS LE BOURGET, FR",
          "rolling_average_irrigation_requirement": 5.653325941222379,
          "year": 2006
         },
         {
          "COUNTRY_CODE": "FR",
          "month": 7,
          "name": "PERPIGNAN, FR",
          "rolling_average_irrigation_requirement": 5.654484033817313,
          "year": 2006
         },
         {
          "COUNTRY_CODE": "FR",
          "month": 7,
          "name": "PLOUMANAC H PERROS GUIREC, FR",
          "rolling_average_irrigation_requirement": 5.654484033817313,
          "year": 2006
         },
         {
          "COUNTRY_CODE": "FR",
          "month": 7,
          "name": "PLOUMANAC H, FR",
          "rolling_average_irrigation_requirement": 5.654484033817313,
          "year": 2006
         },
         {
          "COUNTRY_CODE": "FR",
          "month": 7,
          "name": "POITIERS BIARD, FR",
          "rolling_average_irrigation_requirement": 5.654484033817313,
          "year": 2006
         },
         {
          "COUNTRY_CODE": "FR",
          "month": 7,
          "name": "PORETTA, FR",
          "rolling_average_irrigation_requirement": 5.653702158718878,
          "year": 2006
         },
         {
          "COUNTRY_CODE": "FR",
          "month": 7,
          "name": "PORT AUX FRANCAIS ILES KERGU, FR",
          "rolling_average_irrigation_requirement": 5.656724128512257,
          "year": 2006
         },
         {
          "COUNTRY_CODE": "FR",
          "month": 7,
          "name": "PTE DE CHASSIRON, FR",
          "rolling_average_irrigation_requirement": 5.654484033817313,
          "year": 2006
         },
         {
          "COUNTRY_CODE": "FR",
          "month": 7,
          "name": "PTE DE LA HAGUE, FR",
          "rolling_average_irrigation_requirement": 5.654484033817313,
          "year": 2006
         },
         {
          "COUNTRY_CODE": "FR",
          "month": 7,
          "name": "RENNES ST JACQUES, FR",
          "rolling_average_irrigation_requirement": 5.654484033817313,
          "year": 2006
         },
         {
          "COUNTRY_CODE": "FR",
          "month": 7,
          "name": "ROUEN BOOS, FR",
          "rolling_average_irrigation_requirement": 5.654484033817313,
          "year": 2006
         },
         {
          "COUNTRY_CODE": "FR",
          "month": 7,
          "name": "SAINT EXUPERY, FR",
          "rolling_average_irrigation_requirement": 5.654484033817313,
          "year": 2006
         },
         {
          "COUNTRY_CODE": "FR",
          "month": 7,
          "name": "ST GIRONS, FR",
          "rolling_average_irrigation_requirement": 5.654484033817313,
          "year": 2006
         },
         {
          "COUNTRY_CODE": "FR",
          "month": 7,
          "name": "STRASBOURG ENTZHEIM, FR",
          "rolling_average_irrigation_requirement": 5.654484033817313,
          "year": 2006
         },
         {
          "COUNTRY_CODE": "FR",
          "month": 7,
          "name": "TARBES OSSUN, FR",
          "rolling_average_irrigation_requirement": 5.654484033817313,
          "year": 2006
         },
         {
          "COUNTRY_CODE": "FR",
          "month": 7,
          "name": "TOULOUSE BLAGNAC, FR",
          "rolling_average_irrigation_requirement": 5.654484033817313,
          "year": 2006
         },
         {
          "COUNTRY_CODE": "FR",
          "month": 7,
          "name": "TOURS, FR",
          "rolling_average_irrigation_requirement": 5.654484033817313,
          "year": 2006
         },
         {
          "COUNTRY_CODE": "FR",
          "month": 7,
          "name": "TROYES BARBEREY, FR",
          "rolling_average_irrigation_requirement": 5.654484033817313,
          "year": 2006
         },
         {
          "COUNTRY_CODE": "FR",
          "month": 7,
          "name": "VAL DE LOIRE, FR",
          "rolling_average_irrigation_requirement": 5.654484033817313,
          "year": 2006
         },
         {
          "COUNTRY_CODE": "FR",
          "month": 7,
          "name": "VALLEE DE SEINE, FR",
          "rolling_average_irrigation_requirement": 5.654484033817313,
          "year": 2006
         },
         {
          "COUNTRY_CODE": "FR",
          "month": 7,
          "name": "ABBEVILLE, FR",
          "rolling_average_irrigation_requirement": 4.7820018985098365,
          "year": 2007
         },
         {
          "COUNTRY_CODE": "FR",
          "month": 7,
          "name": "AJACCIO, FR",
          "rolling_average_irrigation_requirement": 4.782001898509835,
          "year": 2007
         },
         {
          "COUNTRY_CODE": "FR",
          "month": 7,
          "name": "ALENCON VALFRAMBERT, FR",
          "rolling_average_irrigation_requirement": 4.7820018985098365,
          "year": 2007
         },
         {
          "COUNTRY_CODE": "FR",
          "month": 7,
          "name": "ANTICHAN, FR",
          "rolling_average_irrigation_requirement": 4.782001898509835,
          "year": 2007
         },
         {
          "COUNTRY_CODE": "FR",
          "month": 7,
          "name": "AUVERGNE, FR",
          "rolling_average_irrigation_requirement": 4.782001898509835,
          "year": 2007
         },
         {
          "COUNTRY_CODE": "FR",
          "month": 7,
          "name": "BALE MULHOUSE, FR",
          "rolling_average_irrigation_requirement": 4.782001898509835,
          "year": 2007
         },
         {
          "COUNTRY_CODE": "FR",
          "month": 7,
          "name": "BARBEREY, FR",
          "rolling_average_irrigation_requirement": 4.782001898509835,
          "year": 2007
         },
         {
          "COUNTRY_CODE": "FR",
          "month": 7,
          "name": "BASEL MULHOUSE, FR",
          "rolling_average_irrigation_requirement": 4.782001898509835,
          "year": 2007
         },
         {
          "COUNTRY_CODE": "FR",
          "month": 7,
          "name": "BASTIA, FR",
          "rolling_average_irrigation_requirement": 4.782001898509835,
          "year": 2007
         },
         {
          "COUNTRY_CODE": "FR",
          "month": 7,
          "name": "BELLE ILE LE TALUT, FR",
          "rolling_average_irrigation_requirement": 4.782001898509835,
          "year": 2007
         },
         {
          "COUNTRY_CODE": "FR",
          "month": 7,
          "name": "BELLEGARDE, FR",
          "rolling_average_irrigation_requirement": 4.782001898509835,
          "year": 2007
         },
         {
          "COUNTRY_CODE": "FR",
          "month": 7,
          "name": "BIARD, FR",
          "rolling_average_irrigation_requirement": 4.782001898509835,
          "year": 2007
         },
         {
          "COUNTRY_CODE": "FR",
          "month": 7,
          "name": "BORDEAUX MERIGNAC, FR",
          "rolling_average_irrigation_requirement": 4.782001898509835,
          "year": 2007
         },
         {
          "COUNTRY_CODE": "FR",
          "month": 7,
          "name": "BOURGES, FR",
          "rolling_average_irrigation_requirement": 4.782001898509835,
          "year": 2007
         },
         {
          "COUNTRY_CODE": "FR",
          "month": 7,
          "name": "BREST GUIPAVAS, FR",
          "rolling_average_irrigation_requirement": 4.782001898509835,
          "year": 2007
         },
         {
          "COUNTRY_CODE": "FR",
          "month": 7,
          "name": "CAEN CARPIQUET, FR",
          "rolling_average_irrigation_requirement": 4.782001898509835,
          "year": 2007
         },
         {
          "COUNTRY_CODE": "FR",
          "month": 7,
          "name": "CAMPO DELL ORO, FR",
          "rolling_average_irrigation_requirement": 4.777656024208432,
          "year": 2007
         },
         {
          "COUNTRY_CODE": "FR",
          "month": 7,
          "name": "CAP CEPET, FR",
          "rolling_average_irrigation_requirement": 4.7820018985098365,
          "year": 2007
         },
         {
          "COUNTRY_CODE": "FR",
          "month": 7,
          "name": "CARPIQUET, FR",
          "rolling_average_irrigation_requirement": 4.782001898509835,
          "year": 2007
         },
         {
          "COUNTRY_CODE": "FR",
          "month": 7,
          "name": "CHASSIRON, FR",
          "rolling_average_irrigation_requirement": 4.785262518462991,
          "year": 2007
         },
         {
          "COUNTRY_CODE": "FR",
          "month": 7,
          "name": "CLERMONT FERRAND, FR",
          "rolling_average_irrigation_requirement": 4.782001898509835,
          "year": 2007
         },
         {
          "COUNTRY_CODE": "FR",
          "month": 7,
          "name": "COTE D AZUR, FR",
          "rolling_average_irrigation_requirement": 4.782001898509835,
          "year": 2007
         },
         {
          "COUNTRY_CODE": "FR",
          "month": 7,
          "name": "DIJON LONGVIC, FR",
          "rolling_average_irrigation_requirement": 4.782001898509835,
          "year": 2007
         },
         {
          "COUNTRY_CODE": "FR",
          "month": 7,
          "name": "EMBRUN, FR",
          "rolling_average_irrigation_requirement": 4.77908946486915,
          "year": 2007
         },
         {
          "COUNTRY_CODE": "FR",
          "month": 7,
          "name": "ESSEY, FR",
          "rolling_average_irrigation_requirement": 4.782001898509835,
          "year": 2007
         },
         {
          "COUNTRY_CODE": "FR",
          "month": 7,
          "name": "GOURDON, FR",
          "rolling_average_irrigation_requirement": 4.782001898509835,
          "year": 2007
         },
         {
          "COUNTRY_CODE": "FR",
          "month": 7,
          "name": "GUIPAVAS, FR",
          "rolling_average_irrigation_requirement": 4.782001898509835,
          "year": 2007
         },
         {
          "COUNTRY_CODE": "FR",
          "month": 7,
          "name": "LE PUY LOUDES, FR",
          "rolling_average_irrigation_requirement": 4.782001898509835,
          "year": 2007
         },
         {
          "COUNTRY_CODE": "FR",
          "month": 7,
          "name": "LESQUIN, FR",
          "rolling_average_irrigation_requirement": 4.782001898509835,
          "year": 2007
         },
         {
          "COUNTRY_CODE": "FR",
          "month": 7,
          "name": "LILLE LESQUIN, FR",
          "rolling_average_irrigation_requirement": 4.782001898509835,
          "year": 2007
         },
         {
          "COUNTRY_CODE": "FR",
          "month": 7,
          "name": "LIMOGES BELLEGARDE, FR",
          "rolling_average_irrigation_requirement": 4.782001898509835,
          "year": 2007
         },
         {
          "COUNTRY_CODE": "FR",
          "month": 7,
          "name": "LONGVIC, FR",
          "rolling_average_irrigation_requirement": 4.789841559515309,
          "year": 2007
         },
         {
          "COUNTRY_CODE": "FR",
          "month": 7,
          "name": "LOUDES, FR",
          "rolling_average_irrigation_requirement": 4.782001898509835,
          "year": 2007
         },
         {
          "COUNTRY_CODE": "FR",
          "month": 7,
          "name": "LOURDES, FR",
          "rolling_average_irrigation_requirement": 4.782001898509835,
          "year": 2007
         },
         {
          "COUNTRY_CODE": "FR",
          "month": 7,
          "name": "LYON ST EXUPERY, FR",
          "rolling_average_irrigation_requirement": 4.782001898509835,
          "year": 2007
         },
         {
          "COUNTRY_CODE": "FR",
          "month": 7,
          "name": "MARSEILLES MARIGNANE, FR",
          "rolling_average_irrigation_requirement": 4.782001898509835,
          "year": 2007
         },
         {
          "COUNTRY_CODE": "FR",
          "month": 7,
          "name": "MEDITERRANEE, FR",
          "rolling_average_irrigation_requirement": 4.782001898509835,
          "year": 2007
         },
         {
          "COUNTRY_CODE": "FR",
          "month": 7,
          "name": "METZ FRESCATY, FR",
          "rolling_average_irrigation_requirement": 4.782001898509835,
          "year": 2007
         },
         {
          "COUNTRY_CODE": "FR",
          "month": 7,
          "name": "MILLAU, FR",
          "rolling_average_irrigation_requirement": 4.776250075645432,
          "year": 2007
         },
         {
          "COUNTRY_CODE": "FR",
          "month": 7,
          "name": "MONT AIGOUAL, FR",
          "rolling_average_irrigation_requirement": 4.782001898509835,
          "year": 2007
         },
         {
          "COUNTRY_CODE": "FR",
          "month": 7,
          "name": "MONT DE MARSAN, FR",
          "rolling_average_irrigation_requirement": 4.778532222540454,
          "year": 2007
         },
         {
          "COUNTRY_CODE": "FR",
          "month": 7,
          "name": "MONTELIMAR, FR",
          "rolling_average_irrigation_requirement": 4.782001898509835,
          "year": 2007
         },
         {
          "COUNTRY_CODE": "FR",
          "month": 7,
          "name": "MONTPELLIER AEROPORT, FR",
          "rolling_average_irrigation_requirement": 4.782001898509835,
          "year": 2007
         },
         {
          "COUNTRY_CODE": "FR",
          "month": 7,
          "name": "NANCY OCHEY, FR",
          "rolling_average_irrigation_requirement": 4.782001898509835,
          "year": 2007
         },
         {
          "COUNTRY_CODE": "FR",
          "month": 7,
          "name": "NANTES BOUGUENAIS, FR",
          "rolling_average_irrigation_requirement": 4.782001898509835,
          "year": 2007
         },
         {
          "COUNTRY_CODE": "FR",
          "month": 7,
          "name": "NICE, FR",
          "rolling_average_irrigation_requirement": 4.782001898509835,
          "year": 2007
         },
         {
          "COUNTRY_CODE": "FR",
          "month": 7,
          "name": "OCHEY, FR",
          "rolling_average_irrigation_requirement": 4.860657269576387,
          "year": 2007
         },
         {
          "COUNTRY_CODE": "FR",
          "month": 7,
          "name": "ORLY, FR",
          "rolling_average_irrigation_requirement": 4.782001898509835,
          "year": 2007
         },
         {
          "COUNTRY_CODE": "FR",
          "month": 7,
          "name": "OUESSANT, FR",
          "rolling_average_irrigation_requirement": 4.782001898509835,
          "year": 2007
         },
         {
          "COUNTRY_CODE": "FR",
          "month": 7,
          "name": "PARIS LE BOURGET, FR",
          "rolling_average_irrigation_requirement": 4.782001898509835,
          "year": 2007
         },
         {
          "COUNTRY_CODE": "FR",
          "month": 7,
          "name": "PERPIGNAN, FR",
          "rolling_average_irrigation_requirement": 4.782001898509835,
          "year": 2007
         },
         {
          "COUNTRY_CODE": "FR",
          "month": 7,
          "name": "PLOUMANAC H PERROS GUIREC, FR",
          "rolling_average_irrigation_requirement": 4.782001898509835,
          "year": 2007
         },
         {
          "COUNTRY_CODE": "FR",
          "month": 7,
          "name": "PLOUMANAC H, FR",
          "rolling_average_irrigation_requirement": 4.782001898509835,
          "year": 2007
         },
         {
          "COUNTRY_CODE": "FR",
          "month": 7,
          "name": "POITIERS BIARD, FR",
          "rolling_average_irrigation_requirement": 4.782001898509835,
          "year": 2007
         },
         {
          "COUNTRY_CODE": "FR",
          "month": 7,
          "name": "PORETTA, FR",
          "rolling_average_irrigation_requirement": 4.7926148044304515,
          "year": 2007
         },
         {
          "COUNTRY_CODE": "FR",
          "month": 7,
          "name": "PORT AUX FRANCAIS ILES KERGU, FR",
          "rolling_average_irrigation_requirement": 4.773750530670079,
          "year": 2007
         },
         {
          "COUNTRY_CODE": "FR",
          "month": 7,
          "name": "PTE DE CHASSIRON, FR",
          "rolling_average_irrigation_requirement": 4.782001898509835,
          "year": 2007
         },
         {
          "COUNTRY_CODE": "FR",
          "month": 7,
          "name": "PTE DE LA HAGUE, FR",
          "rolling_average_irrigation_requirement": 4.782001898509835,
          "year": 2007
         },
         {
          "COUNTRY_CODE": "FR",
          "month": 7,
          "name": "RENNES ST JACQUES, FR",
          "rolling_average_irrigation_requirement": 4.782001898509835,
          "year": 2007
         },
         {
          "COUNTRY_CODE": "FR",
          "month": 7,
          "name": "ROUEN BOOS, FR",
          "rolling_average_irrigation_requirement": 4.782001898509835,
          "year": 2007
         },
         {
          "COUNTRY_CODE": "FR",
          "month": 7,
          "name": "SAINT EXUPERY, FR",
          "rolling_average_irrigation_requirement": 4.782001898509835,
          "year": 2007
         },
         {
          "COUNTRY_CODE": "FR",
          "month": 7,
          "name": "ST GIRONS, FR",
          "rolling_average_irrigation_requirement": 4.782001898509835,
          "year": 2007
         },
         {
          "COUNTRY_CODE": "FR",
          "month": 7,
          "name": "STRASBOURG ENTZHEIM, FR",
          "rolling_average_irrigation_requirement": 4.782001898509835,
          "year": 2007
         },
         {
          "COUNTRY_CODE": "FR",
          "month": 7,
          "name": "TARBES OSSUN, FR",
          "rolling_average_irrigation_requirement": 4.782001898509835,
          "year": 2007
         },
         {
          "COUNTRY_CODE": "FR",
          "month": 7,
          "name": "TOULOUSE BLAGNAC, FR",
          "rolling_average_irrigation_requirement": 4.782001898509835,
          "year": 2007
         },
         {
          "COUNTRY_CODE": "FR",
          "month": 7,
          "name": "TOURS, FR",
          "rolling_average_irrigation_requirement": 4.782001898509835,
          "year": 2007
         },
         {
          "COUNTRY_CODE": "FR",
          "month": 7,
          "name": "TROYES BARBEREY, FR",
          "rolling_average_irrigation_requirement": 4.782001898509835,
          "year": 2007
         },
         {
          "COUNTRY_CODE": "FR",
          "month": 7,
          "name": "VAL DE LOIRE, FR",
          "rolling_average_irrigation_requirement": 4.782001898509835,
          "year": 2007
         },
         {
          "COUNTRY_CODE": "FR",
          "month": 7,
          "name": "VALLEE DE SEINE, FR",
          "rolling_average_irrigation_requirement": 4.782001898509835,
          "year": 2007
         },
         {
          "COUNTRY_CODE": "FR",
          "month": 7,
          "name": "ABBEVILLE, FR",
          "rolling_average_irrigation_requirement": 5.032132019413172,
          "year": 2008
         },
         {
          "COUNTRY_CODE": "FR",
          "month": 7,
          "name": "AJACCIO, FR",
          "rolling_average_irrigation_requirement": 5.0321320194131705,
          "year": 2008
         },
         {
          "COUNTRY_CODE": "FR",
          "month": 7,
          "name": "ALENCON VALFRAMBERT, FR",
          "rolling_average_irrigation_requirement": 5.032132019413172,
          "year": 2008
         },
         {
          "COUNTRY_CODE": "FR",
          "month": 7,
          "name": "ANTICHAN, FR",
          "rolling_average_irrigation_requirement": 5.0321320194131705,
          "year": 2008
         },
         {
          "COUNTRY_CODE": "FR",
          "month": 7,
          "name": "AUVERGNE, FR",
          "rolling_average_irrigation_requirement": 5.0321320194131705,
          "year": 2008
         },
         {
          "COUNTRY_CODE": "FR",
          "month": 7,
          "name": "BALE MULHOUSE, FR",
          "rolling_average_irrigation_requirement": 5.0321320194131705,
          "year": 2008
         },
         {
          "COUNTRY_CODE": "FR",
          "month": 7,
          "name": "BARBEREY, FR",
          "rolling_average_irrigation_requirement": 5.0321320194131705,
          "year": 2008
         },
         {
          "COUNTRY_CODE": "FR",
          "month": 7,
          "name": "BASEL MULHOUSE, FR",
          "rolling_average_irrigation_requirement": 5.0321320194131705,
          "year": 2008
         },
         {
          "COUNTRY_CODE": "FR",
          "month": 7,
          "name": "BASTIA, FR",
          "rolling_average_irrigation_requirement": 5.0321320194131705,
          "year": 2008
         },
         {
          "COUNTRY_CODE": "FR",
          "month": 7,
          "name": "BELLE ILE LE TALUT, FR",
          "rolling_average_irrigation_requirement": 5.0321320194131705,
          "year": 2008
         },
         {
          "COUNTRY_CODE": "FR",
          "month": 7,
          "name": "BELLEGARDE, FR",
          "rolling_average_irrigation_requirement": 5.0321320194131705,
          "year": 2008
         },
         {
          "COUNTRY_CODE": "FR",
          "month": 7,
          "name": "BIARD, FR",
          "rolling_average_irrigation_requirement": 5.0321320194131705,
          "year": 2008
         },
         {
          "COUNTRY_CODE": "FR",
          "month": 7,
          "name": "BORDEAUX MERIGNAC, FR",
          "rolling_average_irrigation_requirement": 5.0321320194131705,
          "year": 2008
         },
         {
          "COUNTRY_CODE": "FR",
          "month": 7,
          "name": "BOURGES, FR",
          "rolling_average_irrigation_requirement": 5.0321320194131705,
          "year": 2008
         },
         {
          "COUNTRY_CODE": "FR",
          "month": 7,
          "name": "BREST GUIPAVAS, FR",
          "rolling_average_irrigation_requirement": 5.0321320194131705,
          "year": 2008
         },
         {
          "COUNTRY_CODE": "FR",
          "month": 7,
          "name": "CAEN CARPIQUET, FR",
          "rolling_average_irrigation_requirement": 5.0321320194131705,
          "year": 2008
         },
         {
          "COUNTRY_CODE": "FR",
          "month": 7,
          "name": "CAMPO DELL ORO, FR",
          "rolling_average_irrigation_requirement": 5.0321320194131705,
          "year": 2008
         },
         {
          "COUNTRY_CODE": "FR",
          "month": 7,
          "name": "CAP CEPET, FR",
          "rolling_average_irrigation_requirement": 5.032132019413172,
          "year": 2008
         },
         {
          "COUNTRY_CODE": "FR",
          "month": 7,
          "name": "CARPIQUET, FR",
          "rolling_average_irrigation_requirement": 5.0321320194131705,
          "year": 2008
         },
         {
          "COUNTRY_CODE": "FR",
          "month": 7,
          "name": "CHASSIRON, FR",
          "rolling_average_irrigation_requirement": 5.0321320194131705,
          "year": 2008
         },
         {
          "COUNTRY_CODE": "FR",
          "month": 7,
          "name": "CLERMONT FERRAND, FR",
          "rolling_average_irrigation_requirement": 5.0321320194131705,
          "year": 2008
         },
         {
          "COUNTRY_CODE": "FR",
          "month": 7,
          "name": "COTE D AZUR, FR",
          "rolling_average_irrigation_requirement": 5.0321320194131705,
          "year": 2008
         },
         {
          "COUNTRY_CODE": "FR",
          "month": 7,
          "name": "DIJON LONGVIC, FR",
          "rolling_average_irrigation_requirement": 5.0321320194131705,
          "year": 2008
         },
         {
          "COUNTRY_CODE": "FR",
          "month": 7,
          "name": "EMBRUN, FR",
          "rolling_average_irrigation_requirement": 5.040835939112096,
          "year": 2008
         },
         {
          "COUNTRY_CODE": "FR",
          "month": 7,
          "name": "ESSEY, FR",
          "rolling_average_irrigation_requirement": 5.0321320194131705,
          "year": 2008
         },
         {
          "COUNTRY_CODE": "FR",
          "month": 7,
          "name": "GOURDON, FR",
          "rolling_average_irrigation_requirement": 5.0321320194131705,
          "year": 2008
         },
         {
          "COUNTRY_CODE": "FR",
          "month": 7,
          "name": "GUIPAVAS, FR",
          "rolling_average_irrigation_requirement": 5.0321320194131705,
          "year": 2008
         },
         {
          "COUNTRY_CODE": "FR",
          "month": 7,
          "name": "LE PUY LOUDES, FR",
          "rolling_average_irrigation_requirement": 5.0321320194131705,
          "year": 2008
         },
         {
          "COUNTRY_CODE": "FR",
          "month": 7,
          "name": "LESQUIN, FR",
          "rolling_average_irrigation_requirement": 5.0321320194131705,
          "year": 2008
         },
         {
          "COUNTRY_CODE": "FR",
          "month": 7,
          "name": "LILLE LESQUIN, FR",
          "rolling_average_irrigation_requirement": 5.0321320194131705,
          "year": 2008
         },
         {
          "COUNTRY_CODE": "FR",
          "month": 7,
          "name": "LIMOGES BELLEGARDE, FR",
          "rolling_average_irrigation_requirement": 5.0321320194131705,
          "year": 2008
         },
         {
          "COUNTRY_CODE": "FR",
          "month": 7,
          "name": "LONGVIC, FR",
          "rolling_average_irrigation_requirement": 5.0321320194131705,
          "year": 2008
         },
         {
          "COUNTRY_CODE": "FR",
          "month": 7,
          "name": "LOUDES, FR",
          "rolling_average_irrigation_requirement": 5.0321320194131705,
          "year": 2008
         },
         {
          "COUNTRY_CODE": "FR",
          "month": 7,
          "name": "LOURDES, FR",
          "rolling_average_irrigation_requirement": 5.0321320194131705,
          "year": 2008
         },
         {
          "COUNTRY_CODE": "FR",
          "month": 7,
          "name": "LYON ST EXUPERY, FR",
          "rolling_average_irrigation_requirement": 5.0321320194131705,
          "year": 2008
         },
         {
          "COUNTRY_CODE": "FR",
          "month": 7,
          "name": "MARSEILLES MARIGNANE, FR",
          "rolling_average_irrigation_requirement": 5.0321320194131705,
          "year": 2008
         },
         {
          "COUNTRY_CODE": "FR",
          "month": 7,
          "name": "MEDITERRANEE, FR",
          "rolling_average_irrigation_requirement": 5.0321320194131705,
          "year": 2008
         },
         {
          "COUNTRY_CODE": "FR",
          "month": 7,
          "name": "METZ FRESCATY, FR",
          "rolling_average_irrigation_requirement": 5.035219437449145,
          "year": 2008
         },
         {
          "COUNTRY_CODE": "FR",
          "month": 7,
          "name": "MILLAU, FR",
          "rolling_average_irrigation_requirement": 5.032132019413172,
          "year": 2008
         },
         {
          "COUNTRY_CODE": "FR",
          "month": 7,
          "name": "MONT AIGOUAL, FR",
          "rolling_average_irrigation_requirement": 5.029452356512802,
          "year": 2008
         },
         {
          "COUNTRY_CODE": "FR",
          "month": 7,
          "name": "MONT DE MARSAN, FR",
          "rolling_average_irrigation_requirement": 5.030621897567238,
          "year": 2008
         },
         {
          "COUNTRY_CODE": "FR",
          "month": 7,
          "name": "MONTELIMAR, FR",
          "rolling_average_irrigation_requirement": 5.0321320194131705,
          "year": 2008
         },
         {
          "COUNTRY_CODE": "FR",
          "month": 7,
          "name": "MONTPELLIER AEROPORT, FR",
          "rolling_average_irrigation_requirement": 5.0321320194131705,
          "year": 2008
         },
         {
          "COUNTRY_CODE": "FR",
          "month": 7,
          "name": "NANCY OCHEY, FR",
          "rolling_average_irrigation_requirement": 5.0321320194131705,
          "year": 2008
         },
         {
          "COUNTRY_CODE": "FR",
          "month": 7,
          "name": "NANTES BOUGUENAIS, FR",
          "rolling_average_irrigation_requirement": 5.0321320194131705,
          "year": 2008
         },
         {
          "COUNTRY_CODE": "FR",
          "month": 7,
          "name": "NICE, FR",
          "rolling_average_irrigation_requirement": 5.0321320194131705,
          "year": 2008
         },
         {
          "COUNTRY_CODE": "FR",
          "month": 7,
          "name": "OCHEY, FR",
          "rolling_average_irrigation_requirement": 5.030823133610063,
          "year": 2008
         },
         {
          "COUNTRY_CODE": "FR",
          "month": 7,
          "name": "ORLY, FR",
          "rolling_average_irrigation_requirement": 5.0321320194131705,
          "year": 2008
         },
         {
          "COUNTRY_CODE": "FR",
          "month": 7,
          "name": "OUESSANT, FR",
          "rolling_average_irrigation_requirement": 5.046604072366557,
          "year": 2008
         },
         {
          "COUNTRY_CODE": "FR",
          "month": 7,
          "name": "PARIS LE BOURGET, FR",
          "rolling_average_irrigation_requirement": 5.0321320194131705,
          "year": 2008
         },
         {
          "COUNTRY_CODE": "FR",
          "month": 7,
          "name": "PERPIGNAN, FR",
          "rolling_average_irrigation_requirement": 5.0321320194131705,
          "year": 2008
         },
         {
          "COUNTRY_CODE": "FR",
          "month": 7,
          "name": "PLOUMANAC H PERROS GUIREC, FR",
          "rolling_average_irrigation_requirement": 5.0491549296136835,
          "year": 2008
         },
         {
          "COUNTRY_CODE": "FR",
          "month": 7,
          "name": "PLOUMANAC H, FR",
          "rolling_average_irrigation_requirement": 5.0321320194131705,
          "year": 2008
         },
         {
          "COUNTRY_CODE": "FR",
          "month": 7,
          "name": "POITIERS BIARD, FR",
          "rolling_average_irrigation_requirement": 5.0321320194131705,
          "year": 2008
         },
         {
          "COUNTRY_CODE": "FR",
          "month": 7,
          "name": "PORETTA, FR",
          "rolling_average_irrigation_requirement": 5.0321320194131705,
          "year": 2008
         },
         {
          "COUNTRY_CODE": "FR",
          "month": 7,
          "name": "PORT AUX FRANCAIS ILES KERGU, FR",
          "rolling_average_irrigation_requirement": 5.0321320194131705,
          "year": 2008
         },
         {
          "COUNTRY_CODE": "FR",
          "month": 7,
          "name": "PTE DE CHASSIRON, FR",
          "rolling_average_irrigation_requirement": 5.0321320194131705,
          "year": 2008
         },
         {
          "COUNTRY_CODE": "FR",
          "month": 7,
          "name": "PTE DE LA HAGUE, FR",
          "rolling_average_irrigation_requirement": 5.0321320194131705,
          "year": 2008
         },
         {
          "COUNTRY_CODE": "FR",
          "month": 7,
          "name": "RENNES ST JACQUES, FR",
          "rolling_average_irrigation_requirement": 5.0321320194131705,
          "year": 2008
         },
         {
          "COUNTRY_CODE": "FR",
          "month": 7,
          "name": "ROUEN BOOS, FR",
          "rolling_average_irrigation_requirement": 5.0321320194131705,
          "year": 2008
         },
         {
          "COUNTRY_CODE": "FR",
          "month": 7,
          "name": "SAINT EXUPERY, FR",
          "rolling_average_irrigation_requirement": 5.0321320194131705,
          "year": 2008
         },
         {
          "COUNTRY_CODE": "FR",
          "month": 7,
          "name": "ST GIRONS, FR",
          "rolling_average_irrigation_requirement": 5.0321320194131705,
          "year": 2008
         },
         {
          "COUNTRY_CODE": "FR",
          "month": 7,
          "name": "STRASBOURG ENTZHEIM, FR",
          "rolling_average_irrigation_requirement": 5.0321320194131705,
          "year": 2008
         },
         {
          "COUNTRY_CODE": "FR",
          "month": 7,
          "name": "TARBES OSSUN, FR",
          "rolling_average_irrigation_requirement": 5.0321320194131705,
          "year": 2008
         },
         {
          "COUNTRY_CODE": "FR",
          "month": 7,
          "name": "TOULOUSE BLAGNAC, FR",
          "rolling_average_irrigation_requirement": 5.0321320194131705,
          "year": 2008
         },
         {
          "COUNTRY_CODE": "FR",
          "month": 7,
          "name": "TOURS, FR",
          "rolling_average_irrigation_requirement": 5.0321320194131705,
          "year": 2008
         },
         {
          "COUNTRY_CODE": "FR",
          "month": 7,
          "name": "TROYES BARBEREY, FR",
          "rolling_average_irrigation_requirement": 5.0321320194131705,
          "year": 2008
         },
         {
          "COUNTRY_CODE": "FR",
          "month": 7,
          "name": "VAL DE LOIRE, FR",
          "rolling_average_irrigation_requirement": 5.0321320194131705,
          "year": 2008
         },
         {
          "COUNTRY_CODE": "FR",
          "month": 7,
          "name": "VALLEE DE SEINE, FR",
          "rolling_average_irrigation_requirement": 5.0321320194131705,
          "year": 2008
         },
         {
          "COUNTRY_CODE": "FR",
          "month": 7,
          "name": "ABBEVILLE, FR",
          "rolling_average_irrigation_requirement": 5.1840599787005965,
          "year": 2009
         },
         {
          "COUNTRY_CODE": "FR",
          "month": 7,
          "name": "AJACCIO, FR",
          "rolling_average_irrigation_requirement": 5.184059978700598,
          "year": 2009
         },
         {
          "COUNTRY_CODE": "FR",
          "month": 7,
          "name": "ALENCON VALFRAMBERT, FR",
          "rolling_average_irrigation_requirement": 5.1840599787005965,
          "year": 2009
         },
         {
          "COUNTRY_CODE": "FR",
          "month": 7,
          "name": "ANTICHAN, FR",
          "rolling_average_irrigation_requirement": 5.184059978700598,
          "year": 2009
         },
         {
          "COUNTRY_CODE": "FR",
          "month": 7,
          "name": "AUVERGNE, FR",
          "rolling_average_irrigation_requirement": 5.184059978700598,
          "year": 2009
         },
         {
          "COUNTRY_CODE": "FR",
          "month": 7,
          "name": "BALE MULHOUSE, FR",
          "rolling_average_irrigation_requirement": 5.184059978700598,
          "year": 2009
         },
         {
          "COUNTRY_CODE": "FR",
          "month": 7,
          "name": "BARBEREY, FR",
          "rolling_average_irrigation_requirement": 5.184059978700598,
          "year": 2009
         },
         {
          "COUNTRY_CODE": "FR",
          "month": 7,
          "name": "BASEL MULHOUSE, FR",
          "rolling_average_irrigation_requirement": 5.184059978700598,
          "year": 2009
         },
         {
          "COUNTRY_CODE": "FR",
          "month": 7,
          "name": "BASTIA, FR",
          "rolling_average_irrigation_requirement": 5.184059978700598,
          "year": 2009
         },
         {
          "COUNTRY_CODE": "FR",
          "month": 7,
          "name": "BELLE ILE LE TALUT, FR",
          "rolling_average_irrigation_requirement": 5.184059978700598,
          "year": 2009
         },
         {
          "COUNTRY_CODE": "FR",
          "month": 7,
          "name": "BELLEGARDE, FR",
          "rolling_average_irrigation_requirement": 5.169448689858842,
          "year": 2009
         },
         {
          "COUNTRY_CODE": "FR",
          "month": 7,
          "name": "BIARD, FR",
          "rolling_average_irrigation_requirement": 5.184059978700598,
          "year": 2009
         },
         {
          "COUNTRY_CODE": "FR",
          "month": 7,
          "name": "BORDEAUX MERIGNAC, FR",
          "rolling_average_irrigation_requirement": 5.184059978700598,
          "year": 2009
         },
         {
          "COUNTRY_CODE": "FR",
          "month": 7,
          "name": "BOURGES, FR",
          "rolling_average_irrigation_requirement": 5.184059978700598,
          "year": 2009
         },
         {
          "COUNTRY_CODE": "FR",
          "month": 7,
          "name": "BREST GUIPAVAS, FR",
          "rolling_average_irrigation_requirement": 5.184059978700598,
          "year": 2009
         },
         {
          "COUNTRY_CODE": "FR",
          "month": 7,
          "name": "CAEN CARPIQUET, FR",
          "rolling_average_irrigation_requirement": 5.184059978700598,
          "year": 2009
         },
         {
          "COUNTRY_CODE": "FR",
          "month": 7,
          "name": "CAMPO DELL ORO, FR",
          "rolling_average_irrigation_requirement": 5.184059978700598,
          "year": 2009
         },
         {
          "COUNTRY_CODE": "FR",
          "month": 7,
          "name": "CAP CEPET, FR",
          "rolling_average_irrigation_requirement": 5.1840599787005965,
          "year": 2009
         },
         {
          "COUNTRY_CODE": "FR",
          "month": 7,
          "name": "CARPIQUET, FR",
          "rolling_average_irrigation_requirement": 5.184059978700598,
          "year": 2009
         },
         {
          "COUNTRY_CODE": "FR",
          "month": 7,
          "name": "CHASSIRON, FR",
          "rolling_average_irrigation_requirement": 5.184059978700598,
          "year": 2009
         },
         {
          "COUNTRY_CODE": "FR",
          "month": 7,
          "name": "CLERMONT FERRAND, FR",
          "rolling_average_irrigation_requirement": 5.184059978700598,
          "year": 2009
         },
         {
          "COUNTRY_CODE": "FR",
          "month": 7,
          "name": "COTE D AZUR, FR",
          "rolling_average_irrigation_requirement": 5.184059978700598,
          "year": 2009
         },
         {
          "COUNTRY_CODE": "FR",
          "month": 7,
          "name": "DIJON LONGVIC, FR",
          "rolling_average_irrigation_requirement": 5.184059978700598,
          "year": 2009
         },
         {
          "COUNTRY_CODE": "FR",
          "month": 7,
          "name": "EMBRUN, FR",
          "rolling_average_irrigation_requirement": 5.1965533686283445,
          "year": 2009
         },
         {
          "COUNTRY_CODE": "FR",
          "month": 7,
          "name": "ESSEY, FR",
          "rolling_average_irrigation_requirement": 5.184059978700598,
          "year": 2009
         },
         {
          "COUNTRY_CODE": "FR",
          "month": 7,
          "name": "GOURDON, FR",
          "rolling_average_irrigation_requirement": 5.184059978700598,
          "year": 2009
         },
         {
          "COUNTRY_CODE": "FR",
          "month": 7,
          "name": "GUIPAVAS, FR",
          "rolling_average_irrigation_requirement": 5.184059978700598,
          "year": 2009
         },
         {
          "COUNTRY_CODE": "FR",
          "month": 7,
          "name": "LE PUY LOUDES, FR",
          "rolling_average_irrigation_requirement": 5.184059978700598,
          "year": 2009
         },
         {
          "COUNTRY_CODE": "FR",
          "month": 7,
          "name": "LESQUIN, FR",
          "rolling_average_irrigation_requirement": 5.184059978700598,
          "year": 2009
         },
         {
          "COUNTRY_CODE": "FR",
          "month": 7,
          "name": "LILLE LESQUIN, FR",
          "rolling_average_irrigation_requirement": 5.184059978700598,
          "year": 2009
         },
         {
          "COUNTRY_CODE": "FR",
          "month": 7,
          "name": "LIMOGES BELLEGARDE, FR",
          "rolling_average_irrigation_requirement": 5.184059978700598,
          "year": 2009
         },
         {
          "COUNTRY_CODE": "FR",
          "month": 7,
          "name": "LONGVIC, FR",
          "rolling_average_irrigation_requirement": 5.187668647252098,
          "year": 2009
         },
         {
          "COUNTRY_CODE": "FR",
          "month": 7,
          "name": "LOUDES, FR",
          "rolling_average_irrigation_requirement": 5.184059978700598,
          "year": 2009
         },
         {
          "COUNTRY_CODE": "FR",
          "month": 7,
          "name": "LOURDES, FR",
          "rolling_average_irrigation_requirement": 5.170229686881374,
          "year": 2009
         },
         {
          "COUNTRY_CODE": "FR",
          "month": 7,
          "name": "LYON ST EXUPERY, FR",
          "rolling_average_irrigation_requirement": 5.184059978700598,
          "year": 2009
         },
         {
          "COUNTRY_CODE": "FR",
          "month": 7,
          "name": "MARSEILLES MARIGNANE, FR",
          "rolling_average_irrigation_requirement": 5.184059978700598,
          "year": 2009
         },
         {
          "COUNTRY_CODE": "FR",
          "month": 7,
          "name": "MEDITERRANEE, FR",
          "rolling_average_irrigation_requirement": 5.184059978700598,
          "year": 2009
         },
         {
          "COUNTRY_CODE": "FR",
          "month": 7,
          "name": "METZ FRESCATY, FR",
          "rolling_average_irrigation_requirement": 5.184059978700598,
          "year": 2009
         },
         {
          "COUNTRY_CODE": "FR",
          "month": 7,
          "name": "MILLAU, FR",
          "rolling_average_irrigation_requirement": 5.1840599787005965,
          "year": 2009
         },
         {
          "COUNTRY_CODE": "FR",
          "month": 7,
          "name": "MONT AIGOUAL, FR",
          "rolling_average_irrigation_requirement": 5.184059978700598,
          "year": 2009
         },
         {
          "COUNTRY_CODE": "FR",
          "month": 7,
          "name": "MONT DE MARSAN, FR",
          "rolling_average_irrigation_requirement": 5.185856380667247,
          "year": 2009
         },
         {
          "COUNTRY_CODE": "FR",
          "month": 7,
          "name": "MONTELIMAR, FR",
          "rolling_average_irrigation_requirement": 5.184059978700598,
          "year": 2009
         },
         {
          "COUNTRY_CODE": "FR",
          "month": 7,
          "name": "MONTPELLIER AEROPORT, FR",
          "rolling_average_irrigation_requirement": 5.184059978700598,
          "year": 2009
         },
         {
          "COUNTRY_CODE": "FR",
          "month": 7,
          "name": "NANCY OCHEY, FR",
          "rolling_average_irrigation_requirement": 5.184059978700598,
          "year": 2009
         },
         {
          "COUNTRY_CODE": "FR",
          "month": 7,
          "name": "NANTES BOUGUENAIS, FR",
          "rolling_average_irrigation_requirement": 5.184059978700598,
          "year": 2009
         },
         {
          "COUNTRY_CODE": "FR",
          "month": 7,
          "name": "NICE, FR",
          "rolling_average_irrigation_requirement": 5.184059978700598,
          "year": 2009
         },
         {
          "COUNTRY_CODE": "FR",
          "month": 7,
          "name": "OCHEY, FR",
          "rolling_average_irrigation_requirement": 5.19282599418617,
          "year": 2009
         },
         {
          "COUNTRY_CODE": "FR",
          "month": 7,
          "name": "ORLY, FR",
          "rolling_average_irrigation_requirement": 5.184059978700598,
          "year": 2009
         },
         {
          "COUNTRY_CODE": "FR",
          "month": 7,
          "name": "OUESSANT, FR",
          "rolling_average_irrigation_requirement": 5.184059978700598,
          "year": 2009
         },
         {
          "COUNTRY_CODE": "FR",
          "month": 7,
          "name": "PARIS LE BOURGET, FR",
          "rolling_average_irrigation_requirement": 5.184059978700598,
          "year": 2009
         },
         {
          "COUNTRY_CODE": "FR",
          "month": 7,
          "name": "PERPIGNAN, FR",
          "rolling_average_irrigation_requirement": 5.184059978700598,
          "year": 2009
         },
         {
          "COUNTRY_CODE": "FR",
          "month": 7,
          "name": "PLOUMANAC H PERROS GUIREC, FR",
          "rolling_average_irrigation_requirement": 5.185003947319588,
          "year": 2009
         },
         {
          "COUNTRY_CODE": "FR",
          "month": 7,
          "name": "PLOUMANAC H, FR",
          "rolling_average_irrigation_requirement": 5.184059978700598,
          "year": 2009
         },
         {
          "COUNTRY_CODE": "FR",
          "month": 7,
          "name": "POITIERS BIARD, FR",
          "rolling_average_irrigation_requirement": 5.184059978700598,
          "year": 2009
         },
         {
          "COUNTRY_CODE": "FR",
          "month": 7,
          "name": "PORETTA, FR",
          "rolling_average_irrigation_requirement": 5.184059978700598,
          "year": 2009
         },
         {
          "COUNTRY_CODE": "FR",
          "month": 7,
          "name": "PORT AUX FRANCAIS ILES KERGU, FR",
          "rolling_average_irrigation_requirement": 5.184059978700598,
          "year": 2009
         },
         {
          "COUNTRY_CODE": "FR",
          "month": 7,
          "name": "PTE DE CHASSIRON, FR",
          "rolling_average_irrigation_requirement": 5.184059978700598,
          "year": 2009
         },
         {
          "COUNTRY_CODE": "FR",
          "month": 7,
          "name": "PTE DE LA HAGUE, FR",
          "rolling_average_irrigation_requirement": 5.184059978700598,
          "year": 2009
         },
         {
          "COUNTRY_CODE": "FR",
          "month": 7,
          "name": "RENNES ST JACQUES, FR",
          "rolling_average_irrigation_requirement": 5.184059978700598,
          "year": 2009
         },
         {
          "COUNTRY_CODE": "FR",
          "month": 7,
          "name": "ROUEN BOOS, FR",
          "rolling_average_irrigation_requirement": 5.184059978700598,
          "year": 2009
         },
         {
          "COUNTRY_CODE": "FR",
          "month": 7,
          "name": "SAINT EXUPERY, FR",
          "rolling_average_irrigation_requirement": 5.184059978700598,
          "year": 2009
         },
         {
          "COUNTRY_CODE": "FR",
          "month": 7,
          "name": "ST GIRONS, FR",
          "rolling_average_irrigation_requirement": 5.184059978700598,
          "year": 2009
         },
         {
          "COUNTRY_CODE": "FR",
          "month": 7,
          "name": "STRASBOURG ENTZHEIM, FR",
          "rolling_average_irrigation_requirement": 5.184059978700598,
          "year": 2009
         },
         {
          "COUNTRY_CODE": "FR",
          "month": 7,
          "name": "TARBES OSSUN, FR",
          "rolling_average_irrigation_requirement": 5.184059978700598,
          "year": 2009
         },
         {
          "COUNTRY_CODE": "FR",
          "month": 7,
          "name": "TOULOUSE BLAGNAC, FR",
          "rolling_average_irrigation_requirement": 5.184059978700598,
          "year": 2009
         },
         {
          "COUNTRY_CODE": "FR",
          "month": 7,
          "name": "TOURS, FR",
          "rolling_average_irrigation_requirement": 5.184059978700598,
          "year": 2009
         },
         {
          "COUNTRY_CODE": "FR",
          "month": 7,
          "name": "TROYES BARBEREY, FR",
          "rolling_average_irrigation_requirement": 5.184059978700598,
          "year": 2009
         },
         {
          "COUNTRY_CODE": "FR",
          "month": 7,
          "name": "VAL DE LOIRE, FR",
          "rolling_average_irrigation_requirement": 5.184059978700598,
          "year": 2009
         },
         {
          "COUNTRY_CODE": "FR",
          "month": 7,
          "name": "VALLEE DE SEINE, FR",
          "rolling_average_irrigation_requirement": 5.184059978700598,
          "year": 2009
         },
         {
          "COUNTRY_CODE": "FR",
          "month": 7,
          "name": "ABBEVILLE, FR",
          "rolling_average_irrigation_requirement": 5.447864551747027,
          "year": 2010
         },
         {
          "COUNTRY_CODE": "FR",
          "month": 7,
          "name": "AJACCIO, FR",
          "rolling_average_irrigation_requirement": 5.444756980245839,
          "year": 2010
         },
         {
          "COUNTRY_CODE": "FR",
          "month": 7,
          "name": "ALENCON VALFRAMBERT, FR",
          "rolling_average_irrigation_requirement": 5.444756980245841,
          "year": 2010
         },
         {
          "COUNTRY_CODE": "FR",
          "month": 7,
          "name": "ANTICHAN, FR",
          "rolling_average_irrigation_requirement": 5.444756980245839,
          "year": 2010
         },
         {
          "COUNTRY_CODE": "FR",
          "month": 7,
          "name": "AUVERGNE, FR",
          "rolling_average_irrigation_requirement": 5.444756980245839,
          "year": 2010
         },
         {
          "COUNTRY_CODE": "FR",
          "month": 7,
          "name": "BALE MULHOUSE, FR",
          "rolling_average_irrigation_requirement": 5.4494980983090455,
          "year": 2010
         },
         {
          "COUNTRY_CODE": "FR",
          "month": 7,
          "name": "BARBEREY, FR",
          "rolling_average_irrigation_requirement": 5.444756980245839,
          "year": 2010
         },
         {
          "COUNTRY_CODE": "FR",
          "month": 7,
          "name": "BASEL MULHOUSE, FR",
          "rolling_average_irrigation_requirement": 5.444756980245839,
          "year": 2010
         },
         {
          "COUNTRY_CODE": "FR",
          "month": 7,
          "name": "BASTIA, FR",
          "rolling_average_irrigation_requirement": 5.444756980245839,
          "year": 2010
         },
         {
          "COUNTRY_CODE": "FR",
          "month": 7,
          "name": "BELLE ILE LE TALUT, FR",
          "rolling_average_irrigation_requirement": 5.444756980245839,
          "year": 2010
         },
         {
          "COUNTRY_CODE": "FR",
          "month": 7,
          "name": "BELLEGARDE, FR",
          "rolling_average_irrigation_requirement": 5.4494980983090455,
          "year": 2010
         },
         {
          "COUNTRY_CODE": "FR",
          "month": 7,
          "name": "BIARD, FR",
          "rolling_average_irrigation_requirement": 5.444756980245839,
          "year": 2010
         },
         {
          "COUNTRY_CODE": "FR",
          "month": 7,
          "name": "BORDEAUX MERIGNAC, FR",
          "rolling_average_irrigation_requirement": 5.444756980245839,
          "year": 2010
         },
         {
          "COUNTRY_CODE": "FR",
          "month": 7,
          "name": "BOURGES, FR",
          "rolling_average_irrigation_requirement": 5.444756980245839,
          "year": 2010
         },
         {
          "COUNTRY_CODE": "FR",
          "month": 7,
          "name": "BREST GUIPAVAS, FR",
          "rolling_average_irrigation_requirement": 5.444756980245839,
          "year": 2010
         },
         {
          "COUNTRY_CODE": "FR",
          "month": 7,
          "name": "CAEN CARPIQUET, FR",
          "rolling_average_irrigation_requirement": 5.444756980245839,
          "year": 2010
         },
         {
          "COUNTRY_CODE": "FR",
          "month": 7,
          "name": "CAMPO DELL ORO, FR",
          "rolling_average_irrigation_requirement": 5.444756980245839,
          "year": 2010
         },
         {
          "COUNTRY_CODE": "FR",
          "month": 7,
          "name": "CAP CEPET, FR",
          "rolling_average_irrigation_requirement": 5.444756980245841,
          "year": 2010
         },
         {
          "COUNTRY_CODE": "FR",
          "month": 7,
          "name": "CARPIQUET, FR",
          "rolling_average_irrigation_requirement": 5.4462310051850045,
          "year": 2010
         },
         {
          "COUNTRY_CODE": "FR",
          "month": 7,
          "name": "CHASSIRON, FR",
          "rolling_average_irrigation_requirement": 5.444756980245839,
          "year": 2010
         },
         {
          "COUNTRY_CODE": "FR",
          "month": 7,
          "name": "CLERMONT FERRAND, FR",
          "rolling_average_irrigation_requirement": 5.444756980245839,
          "year": 2010
         },
         {
          "COUNTRY_CODE": "FR",
          "month": 7,
          "name": "COTE D AZUR, FR",
          "rolling_average_irrigation_requirement": 5.444756980245839,
          "year": 2010
         },
         {
          "COUNTRY_CODE": "FR",
          "month": 7,
          "name": "DIJON LONGVIC, FR",
          "rolling_average_irrigation_requirement": 5.444756980245839,
          "year": 2010
         },
         {
          "COUNTRY_CODE": "FR",
          "month": 7,
          "name": "EMBRUN, FR",
          "rolling_average_irrigation_requirement": 5.440083734525807,
          "year": 2010
         },
         {
          "COUNTRY_CODE": "FR",
          "month": 7,
          "name": "ESSEY, FR",
          "rolling_average_irrigation_requirement": 5.444756980245839,
          "year": 2010
         },
         {
          "COUNTRY_CODE": "FR",
          "month": 7,
          "name": "GOURDON, FR",
          "rolling_average_irrigation_requirement": 5.444756980245839,
          "year": 2010
         },
         {
          "COUNTRY_CODE": "FR",
          "month": 7,
          "name": "GUIPAVAS, FR",
          "rolling_average_irrigation_requirement": 5.441862576323402,
          "year": 2010
         },
         {
          "COUNTRY_CODE": "FR",
          "month": 7,
          "name": "LE PUY LOUDES, FR",
          "rolling_average_irrigation_requirement": 5.444756980245839,
          "year": 2010
         },
         {
          "COUNTRY_CODE": "FR",
          "month": 7,
          "name": "LESQUIN, FR",
          "rolling_average_irrigation_requirement": 5.444756980245839,
          "year": 2010
         },
         {
          "COUNTRY_CODE": "FR",
          "month": 7,
          "name": "LILLE LESQUIN, FR",
          "rolling_average_irrigation_requirement": 5.444756980245839,
          "year": 2010
         },
         {
          "COUNTRY_CODE": "FR",
          "month": 7,
          "name": "LIMOGES BELLEGARDE, FR",
          "rolling_average_irrigation_requirement": 5.444756980245839,
          "year": 2010
         },
         {
          "COUNTRY_CODE": "FR",
          "month": 7,
          "name": "LOUDES, FR",
          "rolling_average_irrigation_requirement": 5.444756980245839,
          "year": 2010
         },
         {
          "COUNTRY_CODE": "FR",
          "month": 7,
          "name": "LOURDES, FR",
          "rolling_average_irrigation_requirement": 5.444756980245839,
          "year": 2010
         },
         {
          "COUNTRY_CODE": "FR",
          "month": 7,
          "name": "LYON ST EXUPERY, FR",
          "rolling_average_irrigation_requirement": 5.444756980245839,
          "year": 2010
         },
         {
          "COUNTRY_CODE": "FR",
          "month": 7,
          "name": "MARSEILLES MARIGNANE, FR",
          "rolling_average_irrigation_requirement": 5.444756980245839,
          "year": 2010
         },
         {
          "COUNTRY_CODE": "FR",
          "month": 7,
          "name": "MEDITERRANEE, FR",
          "rolling_average_irrigation_requirement": 5.447755256580142,
          "year": 2010
         },
         {
          "COUNTRY_CODE": "FR",
          "month": 7,
          "name": "METZ FRESCATY, FR",
          "rolling_average_irrigation_requirement": 5.4380284966793235,
          "year": 2010
         },
         {
          "COUNTRY_CODE": "FR",
          "month": 7,
          "name": "MILLAU, FR",
          "rolling_average_irrigation_requirement": 5.444756980245841,
          "year": 2010
         },
         {
          "COUNTRY_CODE": "FR",
          "month": 7,
          "name": "MONT AIGOUAL, FR",
          "rolling_average_irrigation_requirement": 5.444756980245839,
          "year": 2010
         },
         {
          "COUNTRY_CODE": "FR",
          "month": 7,
          "name": "MONT DE MARSAN, FR",
          "rolling_average_irrigation_requirement": 5.444756980245841,
          "year": 2010
         },
         {
          "COUNTRY_CODE": "FR",
          "month": 7,
          "name": "MONTELIMAR, FR",
          "rolling_average_irrigation_requirement": 5.444756980245839,
          "year": 2010
         },
         {
          "COUNTRY_CODE": "FR",
          "month": 7,
          "name": "MONTPELLIER AEROPORT, FR",
          "rolling_average_irrigation_requirement": 5.444756980245839,
          "year": 2010
         },
         {
          "COUNTRY_CODE": "FR",
          "month": 7,
          "name": "NANCY OCHEY, FR",
          "rolling_average_irrigation_requirement": 5.444756980245839,
          "year": 2010
         },
         {
          "COUNTRY_CODE": "FR",
          "month": 7,
          "name": "NANTES BOUGUENAIS, FR",
          "rolling_average_irrigation_requirement": 5.444756980245839,
          "year": 2010
         },
         {
          "COUNTRY_CODE": "FR",
          "month": 7,
          "name": "NICE, FR",
          "rolling_average_irrigation_requirement": 5.444756980245839,
          "year": 2010
         },
         {
          "COUNTRY_CODE": "FR",
          "month": 7,
          "name": "OCHEY, FR",
          "rolling_average_irrigation_requirement": 5.444756980245839,
          "year": 2010
         },
         {
          "COUNTRY_CODE": "FR",
          "month": 7,
          "name": "ORLY, FR",
          "rolling_average_irrigation_requirement": 5.444756980245839,
          "year": 2010
         },
         {
          "COUNTRY_CODE": "FR",
          "month": 7,
          "name": "OUESSANT, FR",
          "rolling_average_irrigation_requirement": 5.444756980245839,
          "year": 2010
         },
         {
          "COUNTRY_CODE": "FR",
          "month": 7,
          "name": "PARIS LE BOURGET, FR",
          "rolling_average_irrigation_requirement": 5.444756980245839,
          "year": 2010
         },
         {
          "COUNTRY_CODE": "FR",
          "month": 7,
          "name": "PERPIGNAN, FR",
          "rolling_average_irrigation_requirement": 5.444756980245839,
          "year": 2010
         },
         {
          "COUNTRY_CODE": "FR",
          "month": 7,
          "name": "PLOUMANAC H PERROS GUIREC, FR",
          "rolling_average_irrigation_requirement": 5.446415410172318,
          "year": 2010
         },
         {
          "COUNTRY_CODE": "FR",
          "month": 7,
          "name": "PLOUMANAC H, FR",
          "rolling_average_irrigation_requirement": 5.444756980245839,
          "year": 2010
         },
         {
          "COUNTRY_CODE": "FR",
          "month": 7,
          "name": "POITIERS BIARD, FR",
          "rolling_average_irrigation_requirement": 5.444756980245839,
          "year": 2010
         },
         {
          "COUNTRY_CODE": "FR",
          "month": 7,
          "name": "PORETTA, FR",
          "rolling_average_irrigation_requirement": 5.444756980245839,
          "year": 2010
         },
         {
          "COUNTRY_CODE": "FR",
          "month": 7,
          "name": "PORT AUX FRANCAIS ILES KERGU, FR",
          "rolling_average_irrigation_requirement": 5.444724867691544,
          "year": 2010
         },
         {
          "COUNTRY_CODE": "FR",
          "month": 7,
          "name": "PTE DE CHASSIRON, FR",
          "rolling_average_irrigation_requirement": 5.444756980245839,
          "year": 2010
         },
         {
          "COUNTRY_CODE": "FR",
          "month": 7,
          "name": "PTE DE LA HAGUE, FR",
          "rolling_average_irrigation_requirement": 5.444756980245839,
          "year": 2010
         },
         {
          "COUNTRY_CODE": "FR",
          "month": 7,
          "name": "RENNES ST JACQUES, FR",
          "rolling_average_irrigation_requirement": 5.444756980245839,
          "year": 2010
         },
         {
          "COUNTRY_CODE": "FR",
          "month": 7,
          "name": "ROUEN BOOS, FR",
          "rolling_average_irrigation_requirement": 5.444756980245839,
          "year": 2010
         },
         {
          "COUNTRY_CODE": "FR",
          "month": 7,
          "name": "SAINT EXUPERY, FR",
          "rolling_average_irrigation_requirement": 5.444756980245839,
          "year": 2010
         },
         {
          "COUNTRY_CODE": "FR",
          "month": 7,
          "name": "ST GIRONS, FR",
          "rolling_average_irrigation_requirement": 5.444756980245839,
          "year": 2010
         },
         {
          "COUNTRY_CODE": "FR",
          "month": 7,
          "name": "STRASBOURG ENTZHEIM, FR",
          "rolling_average_irrigation_requirement": 5.444756980245839,
          "year": 2010
         },
         {
          "COUNTRY_CODE": "FR",
          "month": 7,
          "name": "TARBES OSSUN, FR",
          "rolling_average_irrigation_requirement": 5.444756980245839,
          "year": 2010
         },
         {
          "COUNTRY_CODE": "FR",
          "month": 7,
          "name": "TOULOUSE BLAGNAC, FR",
          "rolling_average_irrigation_requirement": 5.444756980245839,
          "year": 2010
         },
         {
          "COUNTRY_CODE": "FR",
          "month": 7,
          "name": "TOURS, FR",
          "rolling_average_irrigation_requirement": 5.444756980245839,
          "year": 2010
         },
         {
          "COUNTRY_CODE": "FR",
          "month": 7,
          "name": "TROYES BARBEREY, FR",
          "rolling_average_irrigation_requirement": 5.444756980245839,
          "year": 2010
         },
         {
          "COUNTRY_CODE": "FR",
          "month": 7,
          "name": "VAL DE LOIRE, FR",
          "rolling_average_irrigation_requirement": 5.444756980245839,
          "year": 2010
         },
         {
          "COUNTRY_CODE": "FR",
          "month": 7,
          "name": "VALLEE DE SEINE, FR",
          "rolling_average_irrigation_requirement": 5.444756980245839,
          "year": 2010
         },
         {
          "COUNTRY_CODE": "FR",
          "month": 7,
          "name": "ABBEVILLE, FR",
          "rolling_average_irrigation_requirement": 5.311913743509122,
          "year": 2011
         },
         {
          "COUNTRY_CODE": "FR",
          "month": 7,
          "name": "AJACCIO, FR",
          "rolling_average_irrigation_requirement": 5.309233528381296,
          "year": 2011
         },
         {
          "COUNTRY_CODE": "FR",
          "month": 7,
          "name": "ALENCON VALFRAMBERT, FR",
          "rolling_average_irrigation_requirement": 5.309233528381293,
          "year": 2011
         },
         {
          "COUNTRY_CODE": "FR",
          "month": 7,
          "name": "ANTICHAN, FR",
          "rolling_average_irrigation_requirement": 5.309233528381296,
          "year": 2011
         },
         {
          "COUNTRY_CODE": "FR",
          "month": 7,
          "name": "AUVERGNE, FR",
          "rolling_average_irrigation_requirement": 5.309233528381296,
          "year": 2011
         },
         {
          "COUNTRY_CODE": "FR",
          "month": 7,
          "name": "BALE MULHOUSE, FR",
          "rolling_average_irrigation_requirement": 5.309233528381296,
          "year": 2011
         },
         {
          "COUNTRY_CODE": "FR",
          "month": 7,
          "name": "BARBEREY, FR",
          "rolling_average_irrigation_requirement": 5.309233528381296,
          "year": 2011
         },
         {
          "COUNTRY_CODE": "FR",
          "month": 7,
          "name": "BASEL MULHOUSE, FR",
          "rolling_average_irrigation_requirement": 5.309233528381296,
          "year": 2011
         },
         {
          "COUNTRY_CODE": "FR",
          "month": 7,
          "name": "BASTIA, FR",
          "rolling_average_irrigation_requirement": 5.309233528381296,
          "year": 2011
         },
         {
          "COUNTRY_CODE": "FR",
          "month": 7,
          "name": "BELLE ILE LE TALUT, FR",
          "rolling_average_irrigation_requirement": 5.309233528381296,
          "year": 2011
         },
         {
          "COUNTRY_CODE": "FR",
          "month": 7,
          "name": "BELLEGARDE, FR",
          "rolling_average_irrigation_requirement": 5.309233528381296,
          "year": 2011
         },
         {
          "COUNTRY_CODE": "FR",
          "month": 7,
          "name": "BIARD, FR",
          "rolling_average_irrigation_requirement": 5.312651717091609,
          "year": 2011
         },
         {
          "COUNTRY_CODE": "FR",
          "month": 7,
          "name": "BORDEAUX MERIGNAC, FR",
          "rolling_average_irrigation_requirement": 5.309233528381296,
          "year": 2011
         },
         {
          "COUNTRY_CODE": "FR",
          "month": 7,
          "name": "BOURGES, FR",
          "rolling_average_irrigation_requirement": 5.309233528381296,
          "year": 2011
         },
         {
          "COUNTRY_CODE": "FR",
          "month": 7,
          "name": "BREST GUIPAVAS, FR",
          "rolling_average_irrigation_requirement": 5.309233528381296,
          "year": 2011
         },
         {
          "COUNTRY_CODE": "FR",
          "month": 7,
          "name": "CAEN CARPIQUET, FR",
          "rolling_average_irrigation_requirement": 5.309233528381296,
          "year": 2011
         },
         {
          "COUNTRY_CODE": "FR",
          "month": 7,
          "name": "CAMPO DELL ORO, FR",
          "rolling_average_irrigation_requirement": 5.309233528381296,
          "year": 2011
         },
         {
          "COUNTRY_CODE": "FR",
          "month": 7,
          "name": "CAP CEPET, FR",
          "rolling_average_irrigation_requirement": 5.30553884033318,
          "year": 2011
         },
         {
          "COUNTRY_CODE": "FR",
          "month": 7,
          "name": "CARPIQUET, FR",
          "rolling_average_irrigation_requirement": 5.309233528381296,
          "year": 2011
         },
         {
          "COUNTRY_CODE": "FR",
          "month": 7,
          "name": "CHASSIRON, FR",
          "rolling_average_irrigation_requirement": 5.309233528381296,
          "year": 2011
         },
         {
          "COUNTRY_CODE": "FR",
          "month": 7,
          "name": "CLERMONT FERRAND, FR",
          "rolling_average_irrigation_requirement": 5.309233528381296,
          "year": 2011
         },
         {
          "COUNTRY_CODE": "FR",
          "month": 7,
          "name": "COTE D AZUR, FR",
          "rolling_average_irrigation_requirement": 5.309233528381296,
          "year": 2011
         },
         {
          "COUNTRY_CODE": "FR",
          "month": 7,
          "name": "DIJON LONGVIC, FR",
          "rolling_average_irrigation_requirement": 5.309233528381296,
          "year": 2011
         },
         {
          "COUNTRY_CODE": "FR",
          "month": 7,
          "name": "EMBRUN, FR",
          "rolling_average_irrigation_requirement": 5.311534064769084,
          "year": 2011
         },
         {
          "COUNTRY_CODE": "FR",
          "month": 7,
          "name": "ESSEY, FR",
          "rolling_average_irrigation_requirement": 5.309233528381296,
          "year": 2011
         },
         {
          "COUNTRY_CODE": "FR",
          "month": 7,
          "name": "GOURDON, FR",
          "rolling_average_irrigation_requirement": 5.309233528381296,
          "year": 2011
         },
         {
          "COUNTRY_CODE": "FR",
          "month": 7,
          "name": "GUIPAVAS, FR",
          "rolling_average_irrigation_requirement": 5.309233528381296,
          "year": 2011
         },
         {
          "COUNTRY_CODE": "FR",
          "month": 7,
          "name": "LE PUY LOUDES, FR",
          "rolling_average_irrigation_requirement": 5.309233528381296,
          "year": 2011
         },
         {
          "COUNTRY_CODE": "FR",
          "month": 7,
          "name": "LESQUIN, FR",
          "rolling_average_irrigation_requirement": 5.309233528381296,
          "year": 2011
         },
         {
          "COUNTRY_CODE": "FR",
          "month": 7,
          "name": "LILLE LESQUIN, FR",
          "rolling_average_irrigation_requirement": 5.309233528381296,
          "year": 2011
         },
         {
          "COUNTRY_CODE": "FR",
          "month": 7,
          "name": "LIMOGES BELLEGARDE, FR",
          "rolling_average_irrigation_requirement": 5.309233528381296,
          "year": 2011
         },
         {
          "COUNTRY_CODE": "FR",
          "month": 7,
          "name": "LONGVIC, FR",
          "rolling_average_irrigation_requirement": 5.30132794061499,
          "year": 2011
         },
         {
          "COUNTRY_CODE": "FR",
          "month": 7,
          "name": "LOURDES, FR",
          "rolling_average_irrigation_requirement": 5.309233528381296,
          "year": 2011
         },
         {
          "COUNTRY_CODE": "FR",
          "month": 7,
          "name": "LYON ST EXUPERY, FR",
          "rolling_average_irrigation_requirement": 5.309233528381296,
          "year": 2011
         },
         {
          "COUNTRY_CODE": "FR",
          "month": 7,
          "name": "MARSEILLES MARIGNANE, FR",
          "rolling_average_irrigation_requirement": 5.309233528381296,
          "year": 2011
         },
         {
          "COUNTRY_CODE": "FR",
          "month": 7,
          "name": "MEDITERRANEE, FR",
          "rolling_average_irrigation_requirement": 5.309233528381296,
          "year": 2011
         },
         {
          "COUNTRY_CODE": "FR",
          "month": 7,
          "name": "METZ FRESCATY, FR",
          "rolling_average_irrigation_requirement": 5.30132794061499,
          "year": 2011
         },
         {
          "COUNTRY_CODE": "FR",
          "month": 7,
          "name": "MILLAU, FR",
          "rolling_average_irrigation_requirement": 5.309233528381293,
          "year": 2011
         },
         {
          "COUNTRY_CODE": "FR",
          "month": 7,
          "name": "MONT AIGOUAL, FR",
          "rolling_average_irrigation_requirement": 5.301926470692826,
          "year": 2011
         },
         {
          "COUNTRY_CODE": "FR",
          "month": 7,
          "name": "MONT DE MARSAN, FR",
          "rolling_average_irrigation_requirement": 5.305345534397863,
          "year": 2011
         },
         {
          "COUNTRY_CODE": "FR",
          "month": 7,
          "name": "MONTELIMAR, FR",
          "rolling_average_irrigation_requirement": 5.309233528381296,
          "year": 2011
         },
         {
          "COUNTRY_CODE": "FR",
          "month": 7,
          "name": "MONTPELLIER AEROPORT, FR",
          "rolling_average_irrigation_requirement": 5.309233528381296,
          "year": 2011
         },
         {
          "COUNTRY_CODE": "FR",
          "month": 7,
          "name": "NANCY OCHEY, FR",
          "rolling_average_irrigation_requirement": 5.309233528381296,
          "year": 2011
         },
         {
          "COUNTRY_CODE": "FR",
          "month": 7,
          "name": "NANTES BOUGUENAIS, FR",
          "rolling_average_irrigation_requirement": 5.309233528381296,
          "year": 2011
         },
         {
          "COUNTRY_CODE": "FR",
          "month": 7,
          "name": "NICE, FR",
          "rolling_average_irrigation_requirement": 5.309233528381296,
          "year": 2011
         },
         {
          "COUNTRY_CODE": "FR",
          "month": 7,
          "name": "OCHEY, FR",
          "rolling_average_irrigation_requirement": 5.30132794061499,
          "year": 2011
         },
         {
          "COUNTRY_CODE": "FR",
          "month": 7,
          "name": "ORLY, FR",
          "rolling_average_irrigation_requirement": 5.309233528381296,
          "year": 2011
         },
         {
          "COUNTRY_CODE": "FR",
          "month": 7,
          "name": "OUESSANT, FR",
          "rolling_average_irrigation_requirement": 5.313009032759829,
          "year": 2011
         },
         {
          "COUNTRY_CODE": "FR",
          "month": 7,
          "name": "PARIS LE BOURGET, FR",
          "rolling_average_irrigation_requirement": 5.309233528381296,
          "year": 2011
         },
         {
          "COUNTRY_CODE": "FR",
          "month": 7,
          "name": "PERPIGNAN, FR",
          "rolling_average_irrigation_requirement": 5.309233528381296,
          "year": 2011
         },
         {
          "COUNTRY_CODE": "FR",
          "month": 7,
          "name": "PLOUMANAC H PERROS GUIREC, FR",
          "rolling_average_irrigation_requirement": 5.309233528381296,
          "year": 2011
         },
         {
          "COUNTRY_CODE": "FR",
          "month": 7,
          "name": "PLOUMANAC H, FR",
          "rolling_average_irrigation_requirement": 5.309233528381296,
          "year": 2011
         },
         {
          "COUNTRY_CODE": "FR",
          "month": 7,
          "name": "POITIERS BIARD, FR",
          "rolling_average_irrigation_requirement": 5.309233528381296,
          "year": 2011
         },
         {
          "COUNTRY_CODE": "FR",
          "month": 7,
          "name": "PORETTA, FR",
          "rolling_average_irrigation_requirement": 5.313774385756352,
          "year": 2011
         },
         {
          "COUNTRY_CODE": "FR",
          "month": 7,
          "name": "PORT AUX FRANCAIS ILES KERGU, FR",
          "rolling_average_irrigation_requirement": 5.315975900546979,
          "year": 2011
         },
         {
          "COUNTRY_CODE": "FR",
          "month": 7,
          "name": "PTE DE CHASSIRON, FR",
          "rolling_average_irrigation_requirement": 5.309233528381296,
          "year": 2011
         },
         {
          "COUNTRY_CODE": "FR",
          "month": 7,
          "name": "PTE DE LA HAGUE, FR",
          "rolling_average_irrigation_requirement": 5.309233528381296,
          "year": 2011
         },
         {
          "COUNTRY_CODE": "FR",
          "month": 7,
          "name": "RENNES ST JACQUES, FR",
          "rolling_average_irrigation_requirement": 5.309233528381296,
          "year": 2011
         },
         {
          "COUNTRY_CODE": "FR",
          "month": 7,
          "name": "ROUEN BOOS, FR",
          "rolling_average_irrigation_requirement": 5.309233528381296,
          "year": 2011
         },
         {
          "COUNTRY_CODE": "FR",
          "month": 7,
          "name": "SAINT EXUPERY, FR",
          "rolling_average_irrigation_requirement": 5.309233528381296,
          "year": 2011
         },
         {
          "COUNTRY_CODE": "FR",
          "month": 7,
          "name": "ST GIRONS, FR",
          "rolling_average_irrigation_requirement": 5.309233528381296,
          "year": 2011
         },
         {
          "COUNTRY_CODE": "FR",
          "month": 7,
          "name": "STRASBOURG ENTZHEIM, FR",
          "rolling_average_irrigation_requirement": 5.309233528381296,
          "year": 2011
         },
         {
          "COUNTRY_CODE": "FR",
          "month": 7,
          "name": "TARBES OSSUN, FR",
          "rolling_average_irrigation_requirement": 5.309233528381296,
          "year": 2011
         },
         {
          "COUNTRY_CODE": "FR",
          "month": 7,
          "name": "TOULOUSE BLAGNAC, FR",
          "rolling_average_irrigation_requirement": 5.309233528381296,
          "year": 2011
         },
         {
          "COUNTRY_CODE": "FR",
          "month": 7,
          "name": "TOURS, FR",
          "rolling_average_irrigation_requirement": 5.309233528381296,
          "year": 2011
         },
         {
          "COUNTRY_CODE": "FR",
          "month": 7,
          "name": "TROYES BARBEREY, FR",
          "rolling_average_irrigation_requirement": 5.309233528381296,
          "year": 2011
         },
         {
          "COUNTRY_CODE": "FR",
          "month": 7,
          "name": "VAL DE LOIRE, FR",
          "rolling_average_irrigation_requirement": 5.307702769041127,
          "year": 2011
         },
         {
          "COUNTRY_CODE": "FR",
          "month": 7,
          "name": "VALLEE DE SEINE, FR",
          "rolling_average_irrigation_requirement": 5.309233528381296,
          "year": 2011
         },
         {
          "COUNTRY_CODE": "FR",
          "month": 7,
          "name": "ABBEVILLE, FR",
          "rolling_average_irrigation_requirement": 5.084884228149165,
          "year": 2012
         },
         {
          "COUNTRY_CODE": "FR",
          "month": 7,
          "name": "AJACCIO, FR",
          "rolling_average_irrigation_requirement": 5.084884228149166,
          "year": 2012
         },
         {
          "COUNTRY_CODE": "FR",
          "month": 7,
          "name": "ALENCON VALFRAMBERT, FR",
          "rolling_average_irrigation_requirement": 5.084797958485409,
          "year": 2012
         },
         {
          "COUNTRY_CODE": "FR",
          "month": 7,
          "name": "ANTICHAN, FR",
          "rolling_average_irrigation_requirement": 5.084884228149166,
          "year": 2012
         },
         {
          "COUNTRY_CODE": "FR",
          "month": 7,
          "name": "AUVERGNE, FR",
          "rolling_average_irrigation_requirement": 5.084884228149166,
          "year": 2012
         },
         {
          "COUNTRY_CODE": "FR",
          "month": 7,
          "name": "BALE MULHOUSE, FR",
          "rolling_average_irrigation_requirement": 5.084884228149166,
          "year": 2012
         },
         {
          "COUNTRY_CODE": "FR",
          "month": 7,
          "name": "BARBEREY, FR",
          "rolling_average_irrigation_requirement": 5.084884228149166,
          "year": 2012
         },
         {
          "COUNTRY_CODE": "FR",
          "month": 7,
          "name": "BASEL MULHOUSE, FR",
          "rolling_average_irrigation_requirement": 5.084884228149166,
          "year": 2012
         },
         {
          "COUNTRY_CODE": "FR",
          "month": 7,
          "name": "BASTIA, FR",
          "rolling_average_irrigation_requirement": 5.084884228149166,
          "year": 2012
         },
         {
          "COUNTRY_CODE": "FR",
          "month": 7,
          "name": "BELLE ILE LE TALUT, FR",
          "rolling_average_irrigation_requirement": 5.084884228149166,
          "year": 2012
         },
         {
          "COUNTRY_CODE": "FR",
          "month": 7,
          "name": "BELLEGARDE, FR",
          "rolling_average_irrigation_requirement": 5.084884228149166,
          "year": 2012
         },
         {
          "COUNTRY_CODE": "FR",
          "month": 7,
          "name": "BIARD, FR",
          "rolling_average_irrigation_requirement": 5.084884228149166,
          "year": 2012
         },
         {
          "COUNTRY_CODE": "FR",
          "month": 7,
          "name": "BORDEAUX MERIGNAC, FR",
          "rolling_average_irrigation_requirement": 5.084884228149166,
          "year": 2012
         },
         {
          "COUNTRY_CODE": "FR",
          "month": 7,
          "name": "BOURGES, FR",
          "rolling_average_irrigation_requirement": 5.084884228149166,
          "year": 2012
         },
         {
          "COUNTRY_CODE": "FR",
          "month": 7,
          "name": "BREST GUIPAVAS, FR",
          "rolling_average_irrigation_requirement": 5.084884228149166,
          "year": 2012
         },
         {
          "COUNTRY_CODE": "FR",
          "month": 7,
          "name": "CAEN CARPIQUET, FR",
          "rolling_average_irrigation_requirement": 5.084884228149166,
          "year": 2012
         },
         {
          "COUNTRY_CODE": "FR",
          "month": 7,
          "name": "CAMPO DELL ORO, FR",
          "rolling_average_irrigation_requirement": 5.084884228149166,
          "year": 2012
         },
         {
          "COUNTRY_CODE": "FR",
          "month": 7,
          "name": "CAP CEPET, FR",
          "rolling_average_irrigation_requirement": 5.084884228149165,
          "year": 2012
         },
         {
          "COUNTRY_CODE": "FR",
          "month": 7,
          "name": "CARPIQUET, FR",
          "rolling_average_irrigation_requirement": 5.084884228149166,
          "year": 2012
         },
         {
          "COUNTRY_CODE": "FR",
          "month": 7,
          "name": "CHASSIRON, FR",
          "rolling_average_irrigation_requirement": 5.084884228149166,
          "year": 2012
         },
         {
          "COUNTRY_CODE": "FR",
          "month": 7,
          "name": "CLERMONT FERRAND, FR",
          "rolling_average_irrigation_requirement": 5.084884228149166,
          "year": 2012
         },
         {
          "COUNTRY_CODE": "FR",
          "month": 7,
          "name": "COTE D AZUR, FR",
          "rolling_average_irrigation_requirement": 5.084884228149166,
          "year": 2012
         },
         {
          "COUNTRY_CODE": "FR",
          "month": 7,
          "name": "DIJON LONGVIC, FR",
          "rolling_average_irrigation_requirement": 5.084884228149166,
          "year": 2012
         },
         {
          "COUNTRY_CODE": "FR",
          "month": 7,
          "name": "EMBRUN, FR",
          "rolling_average_irrigation_requirement": 5.084884228149165,
          "year": 2012
         },
         {
          "COUNTRY_CODE": "FR",
          "month": 7,
          "name": "ESSEY, FR",
          "rolling_average_irrigation_requirement": 5.084884228149166,
          "year": 2012
         },
         {
          "COUNTRY_CODE": "FR",
          "month": 7,
          "name": "GOURDON, FR",
          "rolling_average_irrigation_requirement": 5.084884228149166,
          "year": 2012
         },
         {
          "COUNTRY_CODE": "FR",
          "month": 7,
          "name": "GUIPAVAS, FR",
          "rolling_average_irrigation_requirement": 5.084884228149166,
          "year": 2012
         },
         {
          "COUNTRY_CODE": "FR",
          "month": 7,
          "name": "LE PUY LOUDES, FR",
          "rolling_average_irrigation_requirement": 5.084884228149166,
          "year": 2012
         },
         {
          "COUNTRY_CODE": "FR",
          "month": 7,
          "name": "LESQUIN, FR",
          "rolling_average_irrigation_requirement": 5.084884228149166,
          "year": 2012
         },
         {
          "COUNTRY_CODE": "FR",
          "month": 7,
          "name": "LILLE LESQUIN, FR",
          "rolling_average_irrigation_requirement": 5.084884228149166,
          "year": 2012
         },
         {
          "COUNTRY_CODE": "FR",
          "month": 7,
          "name": "LIMOGES BELLEGARDE, FR",
          "rolling_average_irrigation_requirement": 5.084884228149166,
          "year": 2012
         },
         {
          "COUNTRY_CODE": "FR",
          "month": 7,
          "name": "LONGVIC, FR",
          "rolling_average_irrigation_requirement": 5.084884228149166,
          "year": 2012
         },
         {
          "COUNTRY_CODE": "FR",
          "month": 7,
          "name": "LOUDES, FR",
          "rolling_average_irrigation_requirement": 5.084884228149166,
          "year": 2012
         },
         {
          "COUNTRY_CODE": "FR",
          "month": 7,
          "name": "LOURDES, FR",
          "rolling_average_irrigation_requirement": 5.084884228149166,
          "year": 2012
         },
         {
          "COUNTRY_CODE": "FR",
          "month": 7,
          "name": "LYON ST EXUPERY, FR",
          "rolling_average_irrigation_requirement": 5.084884228149166,
          "year": 2012
         },
         {
          "COUNTRY_CODE": "FR",
          "month": 7,
          "name": "MARSEILLES MARIGNANE, FR",
          "rolling_average_irrigation_requirement": 5.084884228149166,
          "year": 2012
         },
         {
          "COUNTRY_CODE": "FR",
          "month": 7,
          "name": "MEDITERRANEE, FR",
          "rolling_average_irrigation_requirement": 5.084884228149166,
          "year": 2012
         },
         {
          "COUNTRY_CODE": "FR",
          "month": 7,
          "name": "METZ FRESCATY, FR",
          "rolling_average_irrigation_requirement": 5.1165111100651455,
          "year": 2012
         },
         {
          "COUNTRY_CODE": "FR",
          "month": 7,
          "name": "MILLAU, FR",
          "rolling_average_irrigation_requirement": 5.0830570185790185,
          "year": 2012
         },
         {
          "COUNTRY_CODE": "FR",
          "month": 7,
          "name": "MONT AIGOUAL, FR",
          "rolling_average_irrigation_requirement": 5.0831125421105865,
          "year": 2012
         },
         {
          "COUNTRY_CODE": "FR",
          "month": 7,
          "name": "MONT DE MARSAN, FR",
          "rolling_average_irrigation_requirement": 5.0848414036054885,
          "year": 2012
         },
         {
          "COUNTRY_CODE": "FR",
          "month": 7,
          "name": "MONTELIMAR, FR",
          "rolling_average_irrigation_requirement": 5.084884228149166,
          "year": 2012
         },
         {
          "COUNTRY_CODE": "FR",
          "month": 7,
          "name": "MONTPELLIER AEROPORT, FR",
          "rolling_average_irrigation_requirement": 5.084884228149166,
          "year": 2012
         },
         {
          "COUNTRY_CODE": "FR",
          "month": 7,
          "name": "NANCY OCHEY, FR",
          "rolling_average_irrigation_requirement": 5.084884228149166,
          "year": 2012
         },
         {
          "COUNTRY_CODE": "FR",
          "month": 7,
          "name": "NANTES BOUGUENAIS, FR",
          "rolling_average_irrigation_requirement": 5.084884228149166,
          "year": 2012
         },
         {
          "COUNTRY_CODE": "FR",
          "month": 7,
          "name": "NICE, FR",
          "rolling_average_irrigation_requirement": 5.084884228149166,
          "year": 2012
         },
         {
          "COUNTRY_CODE": "FR",
          "month": 7,
          "name": "OCHEY, FR",
          "rolling_average_irrigation_requirement": 5.084884228149166,
          "year": 2012
         },
         {
          "COUNTRY_CODE": "FR",
          "month": 7,
          "name": "ORLY, FR",
          "rolling_average_irrigation_requirement": 5.084884228149166,
          "year": 2012
         },
         {
          "COUNTRY_CODE": "FR",
          "month": 7,
          "name": "OUESSANT, FR",
          "rolling_average_irrigation_requirement": 5.072464266544327,
          "year": 2012
         },
         {
          "COUNTRY_CODE": "FR",
          "month": 7,
          "name": "PARIS LE BOURGET, FR",
          "rolling_average_irrigation_requirement": 5.084884228149166,
          "year": 2012
         },
         {
          "COUNTRY_CODE": "FR",
          "month": 7,
          "name": "PERPIGNAN, FR",
          "rolling_average_irrigation_requirement": 5.084884228149166,
          "year": 2012
         },
         {
          "COUNTRY_CODE": "FR",
          "month": 7,
          "name": "PLOUMANAC H PERROS GUIREC, FR",
          "rolling_average_irrigation_requirement": 5.084884228149166,
          "year": 2012
         },
         {
          "COUNTRY_CODE": "FR",
          "month": 7,
          "name": "PLOUMANAC H, FR",
          "rolling_average_irrigation_requirement": 5.084884228149166,
          "year": 2012
         },
         {
          "COUNTRY_CODE": "FR",
          "month": 7,
          "name": "POITIERS BIARD, FR",
          "rolling_average_irrigation_requirement": 5.084884228149166,
          "year": 2012
         },
         {
          "COUNTRY_CODE": "FR",
          "month": 7,
          "name": "PORETTA, FR",
          "rolling_average_irrigation_requirement": 5.084884228149166,
          "year": 2012
         },
         {
          "COUNTRY_CODE": "FR",
          "month": 7,
          "name": "PORT AUX FRANCAIS ILES KERGU, FR",
          "rolling_average_irrigation_requirement": 5.0446321606664695,
          "year": 2012
         },
         {
          "COUNTRY_CODE": "FR",
          "month": 7,
          "name": "PTE DE CHASSIRON, FR",
          "rolling_average_irrigation_requirement": 5.084884228149166,
          "year": 2012
         },
         {
          "COUNTRY_CODE": "FR",
          "month": 7,
          "name": "PTE DE LA HAGUE, FR",
          "rolling_average_irrigation_requirement": 5.084884228149166,
          "year": 2012
         },
         {
          "COUNTRY_CODE": "FR",
          "month": 7,
          "name": "REIMS PRUNAY, FR",
          "rolling_average_irrigation_requirement": 5.084884228149165,
          "year": 2012
         },
         {
          "COUNTRY_CODE": "FR",
          "month": 7,
          "name": "RENNES ST JACQUES, FR",
          "rolling_average_irrigation_requirement": 5.084884228149166,
          "year": 2012
         },
         {
          "COUNTRY_CODE": "FR",
          "month": 7,
          "name": "ROUEN BOOS, FR",
          "rolling_average_irrigation_requirement": 5.084884228149166,
          "year": 2012
         },
         {
          "COUNTRY_CODE": "FR",
          "month": 7,
          "name": "SAINT EXUPERY, FR",
          "rolling_average_irrigation_requirement": 5.084884228149166,
          "year": 2012
         },
         {
          "COUNTRY_CODE": "FR",
          "month": 7,
          "name": "ST GIRONS, FR",
          "rolling_average_irrigation_requirement": 5.084884228149166,
          "year": 2012
         },
         {
          "COUNTRY_CODE": "FR",
          "month": 7,
          "name": "STRASBOURG ENTZHEIM, FR",
          "rolling_average_irrigation_requirement": 5.084884228149166,
          "year": 2012
         },
         {
          "COUNTRY_CODE": "FR",
          "month": 7,
          "name": "TARBES OSSUN, FR",
          "rolling_average_irrigation_requirement": 5.084884228149166,
          "year": 2012
         },
         {
          "COUNTRY_CODE": "FR",
          "month": 7,
          "name": "TOULOUSE BLAGNAC, FR",
          "rolling_average_irrigation_requirement": 5.084884228149166,
          "year": 2012
         },
         {
          "COUNTRY_CODE": "FR",
          "month": 7,
          "name": "TOURS, FR",
          "rolling_average_irrigation_requirement": 5.084884228149166,
          "year": 2012
         },
         {
          "COUNTRY_CODE": "FR",
          "month": 7,
          "name": "TROYES BARBEREY, FR",
          "rolling_average_irrigation_requirement": 5.084884228149166,
          "year": 2012
         },
         {
          "COUNTRY_CODE": "FR",
          "month": 7,
          "name": "VAL DE LOIRE, FR",
          "rolling_average_irrigation_requirement": 5.084884228149166,
          "year": 2012
         },
         {
          "COUNTRY_CODE": "FR",
          "month": 7,
          "name": "VALLEE DE SEINE, FR",
          "rolling_average_irrigation_requirement": 5.084884228149166,
          "year": 2012
         },
         {
          "COUNTRY_CODE": "FR",
          "month": 7,
          "name": "ABBEVILLE, FR",
          "rolling_average_irrigation_requirement": 5.5353804771924136,
          "year": 2013
         },
         {
          "COUNTRY_CODE": "FR",
          "month": 7,
          "name": "AJACCIO, FR",
          "rolling_average_irrigation_requirement": 5.5353804771924136,
          "year": 2013
         },
         {
          "COUNTRY_CODE": "FR",
          "month": 7,
          "name": "ALENCON VALFRAMBERT, FR",
          "rolling_average_irrigation_requirement": 5.5353804771924136,
          "year": 2013
         },
         {
          "COUNTRY_CODE": "FR",
          "month": 7,
          "name": "ANTICHAN, FR",
          "rolling_average_irrigation_requirement": 5.5353804771924136,
          "year": 2013
         },
         {
          "COUNTRY_CODE": "FR",
          "month": 7,
          "name": "AUVERGNE, FR",
          "rolling_average_irrigation_requirement": 5.526715965792177,
          "year": 2013
         },
         {
          "COUNTRY_CODE": "FR",
          "month": 7,
          "name": "BALE MULHOUSE, FR",
          "rolling_average_irrigation_requirement": 5.5353804771924136,
          "year": 2013
         },
         {
          "COUNTRY_CODE": "FR",
          "month": 7,
          "name": "BARBEREY, FR",
          "rolling_average_irrigation_requirement": 5.5353804771924136,
          "year": 2013
         },
         {
          "COUNTRY_CODE": "FR",
          "month": 7,
          "name": "BASEL MULHOUSE, FR",
          "rolling_average_irrigation_requirement": 5.5353804771924136,
          "year": 2013
         },
         {
          "COUNTRY_CODE": "FR",
          "month": 7,
          "name": "BASTIA, FR",
          "rolling_average_irrigation_requirement": 5.5353804771924136,
          "year": 2013
         },
         {
          "COUNTRY_CODE": "FR",
          "month": 7,
          "name": "BELLE ILE LE TALUT, FR",
          "rolling_average_irrigation_requirement": 5.5353804771924136,
          "year": 2013
         },
         {
          "COUNTRY_CODE": "FR",
          "month": 7,
          "name": "BELLEGARDE, FR",
          "rolling_average_irrigation_requirement": 5.5353804771924136,
          "year": 2013
         },
         {
          "COUNTRY_CODE": "FR",
          "month": 7,
          "name": "BIARD, FR",
          "rolling_average_irrigation_requirement": 5.532019939537848,
          "year": 2013
         },
         {
          "COUNTRY_CODE": "FR",
          "month": 7,
          "name": "BORDEAUX MERIGNAC, FR",
          "rolling_average_irrigation_requirement": 5.5353804771924136,
          "year": 2013
         },
         {
          "COUNTRY_CODE": "FR",
          "month": 7,
          "name": "BOURGES, FR",
          "rolling_average_irrigation_requirement": 5.5353804771924136,
          "year": 2013
         },
         {
          "COUNTRY_CODE": "FR",
          "month": 7,
          "name": "BREST GUIPAVAS, FR",
          "rolling_average_irrigation_requirement": 5.5353804771924136,
          "year": 2013
         },
         {
          "COUNTRY_CODE": "FR",
          "month": 7,
          "name": "CAEN CARPIQUET, FR",
          "rolling_average_irrigation_requirement": 5.5353804771924136,
          "year": 2013
         },
         {
          "COUNTRY_CODE": "FR",
          "month": 7,
          "name": "CAMPO DELL ORO, FR",
          "rolling_average_irrigation_requirement": 5.5353804771924136,
          "year": 2013
         },
         {
          "COUNTRY_CODE": "FR",
          "month": 7,
          "name": "CAP CEPET, FR",
          "rolling_average_irrigation_requirement": 5.5353804771924136,
          "year": 2013
         },
         {
          "COUNTRY_CODE": "FR",
          "month": 7,
          "name": "CARPIQUET, FR",
          "rolling_average_irrigation_requirement": 5.5353804771924136,
          "year": 2013
         },
         {
          "COUNTRY_CODE": "FR",
          "month": 7,
          "name": "CHASSIRON, FR",
          "rolling_average_irrigation_requirement": 5.5353804771924136,
          "year": 2013
         },
         {
          "COUNTRY_CODE": "FR",
          "month": 7,
          "name": "CLERMONT FERRAND, FR",
          "rolling_average_irrigation_requirement": 5.5353804771924136,
          "year": 2013
         },
         {
          "COUNTRY_CODE": "FR",
          "month": 7,
          "name": "COTE D AZUR, FR",
          "rolling_average_irrigation_requirement": 5.542271101744465,
          "year": 2013
         },
         {
          "COUNTRY_CODE": "FR",
          "month": 7,
          "name": "DIJON LONGVIC, FR",
          "rolling_average_irrigation_requirement": 5.5353804771924136,
          "year": 2013
         },
         {
          "COUNTRY_CODE": "FR",
          "month": 7,
          "name": "EMBRUN, FR",
          "rolling_average_irrigation_requirement": 5.5353804771924136,
          "year": 2013
         },
         {
          "COUNTRY_CODE": "FR",
          "month": 7,
          "name": "ESSEY, FR",
          "rolling_average_irrigation_requirement": 5.535523059483549,
          "year": 2013
         },
         {
          "COUNTRY_CODE": "FR",
          "month": 7,
          "name": "GOURDON, FR",
          "rolling_average_irrigation_requirement": 5.5353804771924136,
          "year": 2013
         },
         {
          "COUNTRY_CODE": "FR",
          "month": 7,
          "name": "GUIPAVAS, FR",
          "rolling_average_irrigation_requirement": 5.5353804771924136,
          "year": 2013
         },
         {
          "COUNTRY_CODE": "FR",
          "month": 7,
          "name": "LE PUY LOUDES, FR",
          "rolling_average_irrigation_requirement": 5.5353804771924136,
          "year": 2013
         },
         {
          "COUNTRY_CODE": "FR",
          "month": 7,
          "name": "LESQUIN, FR",
          "rolling_average_irrigation_requirement": 5.5353804771924136,
          "year": 2013
         },
         {
          "COUNTRY_CODE": "FR",
          "month": 7,
          "name": "LILLE LESQUIN, FR",
          "rolling_average_irrigation_requirement": 5.5353804771924136,
          "year": 2013
         },
         {
          "COUNTRY_CODE": "FR",
          "month": 7,
          "name": "LIMOGES BELLEGARDE, FR",
          "rolling_average_irrigation_requirement": 5.5353804771924136,
          "year": 2013
         },
         {
          "COUNTRY_CODE": "FR",
          "month": 7,
          "name": "LONGVIC, FR",
          "rolling_average_irrigation_requirement": 5.539515509615127,
          "year": 2013
         },
         {
          "COUNTRY_CODE": "FR",
          "month": 7,
          "name": "LOUDES, FR",
          "rolling_average_irrigation_requirement": 5.531882077748966,
          "year": 2013
         },
         {
          "COUNTRY_CODE": "FR",
          "month": 7,
          "name": "LOURDES, FR",
          "rolling_average_irrigation_requirement": 5.5353804771924136,
          "year": 2013
         },
         {
          "COUNTRY_CODE": "FR",
          "month": 7,
          "name": "LYON ST EXUPERY, FR",
          "rolling_average_irrigation_requirement": 5.5353804771924136,
          "year": 2013
         },
         {
          "COUNTRY_CODE": "FR",
          "month": 7,
          "name": "MARSEILLES MARIGNANE, FR",
          "rolling_average_irrigation_requirement": 5.5353804771924136,
          "year": 2013
         },
         {
          "COUNTRY_CODE": "FR",
          "month": 7,
          "name": "MEDITERRANEE, FR",
          "rolling_average_irrigation_requirement": 5.5353804771924136,
          "year": 2013
         },
         {
          "COUNTRY_CODE": "FR",
          "month": 7,
          "name": "MILLAU, FR",
          "rolling_average_irrigation_requirement": 5.533307933630102,
          "year": 2013
         },
         {
          "COUNTRY_CODE": "FR",
          "month": 7,
          "name": "MONT AIGOUAL, FR",
          "rolling_average_irrigation_requirement": 5.533389308076389,
          "year": 2013
         },
         {
          "COUNTRY_CODE": "FR",
          "month": 7,
          "name": "MONT DE MARSAN, FR",
          "rolling_average_irrigation_requirement": 5.5353804771924136,
          "year": 2013
         },
         {
          "COUNTRY_CODE": "FR",
          "month": 7,
          "name": "MONTELIMAR, FR",
          "rolling_average_irrigation_requirement": 5.5353804771924136,
          "year": 2013
         },
         {
          "COUNTRY_CODE": "FR",
          "month": 7,
          "name": "MONTPELLIER AEROPORT, FR",
          "rolling_average_irrigation_requirement": 5.5353804771924136,
          "year": 2013
         },
         {
          "COUNTRY_CODE": "FR",
          "month": 7,
          "name": "NANCY OCHEY, FR",
          "rolling_average_irrigation_requirement": 5.5353804771924136,
          "year": 2013
         },
         {
          "COUNTRY_CODE": "FR",
          "month": 7,
          "name": "NANTES BOUGUENAIS, FR",
          "rolling_average_irrigation_requirement": 5.5353804771924136,
          "year": 2013
         },
         {
          "COUNTRY_CODE": "FR",
          "month": 7,
          "name": "NICE, FR",
          "rolling_average_irrigation_requirement": 5.5353804771924136,
          "year": 2013
         },
         {
          "COUNTRY_CODE": "FR",
          "month": 7,
          "name": "OCHEY, FR",
          "rolling_average_irrigation_requirement": 5.546356626657915,
          "year": 2013
         },
         {
          "COUNTRY_CODE": "FR",
          "month": 7,
          "name": "ORLY, FR",
          "rolling_average_irrigation_requirement": 5.5353804771924136,
          "year": 2013
         },
         {
          "COUNTRY_CODE": "FR",
          "month": 7,
          "name": "OUESSANT, FR",
          "rolling_average_irrigation_requirement": 5.5353804771924136,
          "year": 2013
         },
         {
          "COUNTRY_CODE": "FR",
          "month": 7,
          "name": "PARIS LE BOURGET, FR",
          "rolling_average_irrigation_requirement": 5.5353804771924136,
          "year": 2013
         },
         {
          "COUNTRY_CODE": "FR",
          "month": 7,
          "name": "PERPIGNAN, FR",
          "rolling_average_irrigation_requirement": 5.5353804771924136,
          "year": 2013
         },
         {
          "COUNTRY_CODE": "FR",
          "month": 7,
          "name": "PLOUMANAC H PERROS GUIREC, FR",
          "rolling_average_irrigation_requirement": 5.5353804771924136,
          "year": 2013
         },
         {
          "COUNTRY_CODE": "FR",
          "month": 7,
          "name": "PLOUMANAC H, FR",
          "rolling_average_irrigation_requirement": 5.5353804771924136,
          "year": 2013
         },
         {
          "COUNTRY_CODE": "FR",
          "month": 7,
          "name": "POITIERS BIARD, FR",
          "rolling_average_irrigation_requirement": 5.5353804771924136,
          "year": 2013
         },
         {
          "COUNTRY_CODE": "FR",
          "month": 7,
          "name": "PORETTA, FR",
          "rolling_average_irrigation_requirement": 5.538693882825626,
          "year": 2013
         },
         {
          "COUNTRY_CODE": "FR",
          "month": 7,
          "name": "PORT AUX FRANCAIS ILES KERGU, FR",
          "rolling_average_irrigation_requirement": 5.5353804771924136,
          "year": 2013
         },
         {
          "COUNTRY_CODE": "FR",
          "month": 7,
          "name": "PTE DE CHASSIRON, FR",
          "rolling_average_irrigation_requirement": 5.5353804771924136,
          "year": 2013
         },
         {
          "COUNTRY_CODE": "FR",
          "month": 7,
          "name": "PTE DE LA HAGUE, FR",
          "rolling_average_irrigation_requirement": 5.5353804771924136,
          "year": 2013
         },
         {
          "COUNTRY_CODE": "FR",
          "month": 7,
          "name": "REIMS PRUNAY, FR",
          "rolling_average_irrigation_requirement": 5.5353804771924136,
          "year": 2013
         },
         {
          "COUNTRY_CODE": "FR",
          "month": 7,
          "name": "RENNES ST JACQUES, FR",
          "rolling_average_irrigation_requirement": 5.5353804771924136,
          "year": 2013
         },
         {
          "COUNTRY_CODE": "FR",
          "month": 7,
          "name": "ROUEN BOOS, FR",
          "rolling_average_irrigation_requirement": 5.5353804771924136,
          "year": 2013
         },
         {
          "COUNTRY_CODE": "FR",
          "month": 7,
          "name": "SAINT EXUPERY, FR",
          "rolling_average_irrigation_requirement": 5.5353804771924136,
          "year": 2013
         },
         {
          "COUNTRY_CODE": "FR",
          "month": 7,
          "name": "ST GIRONS, FR",
          "rolling_average_irrigation_requirement": 5.5353804771924136,
          "year": 2013
         },
         {
          "COUNTRY_CODE": "FR",
          "month": 7,
          "name": "STRASBOURG ENTZHEIM, FR",
          "rolling_average_irrigation_requirement": 5.5353804771924136,
          "year": 2013
         },
         {
          "COUNTRY_CODE": "FR",
          "month": 7,
          "name": "TARBES OSSUN, FR",
          "rolling_average_irrigation_requirement": 5.5353804771924136,
          "year": 2013
         },
         {
          "COUNTRY_CODE": "FR",
          "month": 7,
          "name": "TOULOUSE BLAGNAC, FR",
          "rolling_average_irrigation_requirement": 5.5353804771924136,
          "year": 2013
         },
         {
          "COUNTRY_CODE": "FR",
          "month": 7,
          "name": "TOURS, FR",
          "rolling_average_irrigation_requirement": 5.5353804771924136,
          "year": 2013
         },
         {
          "COUNTRY_CODE": "FR",
          "month": 7,
          "name": "TROYES BARBEREY, FR",
          "rolling_average_irrigation_requirement": 5.5353804771924136,
          "year": 2013
         },
         {
          "COUNTRY_CODE": "FR",
          "month": 7,
          "name": "VAL DE LOIRE, FR",
          "rolling_average_irrigation_requirement": 5.5353804771924136,
          "year": 2013
         },
         {
          "COUNTRY_CODE": "FR",
          "month": 7,
          "name": "VALLEE DE SEINE, FR",
          "rolling_average_irrigation_requirement": 5.5353804771924136,
          "year": 2013
         },
         {
          "COUNTRY_CODE": "FR",
          "month": 7,
          "name": "ABBEVILLE, FR",
          "rolling_average_irrigation_requirement": 5.169820449304603,
          "year": 2014
         },
         {
          "COUNTRY_CODE": "FR",
          "month": 7,
          "name": "AJACCIO, FR",
          "rolling_average_irrigation_requirement": 5.169820449304601,
          "year": 2014
         },
         {
          "COUNTRY_CODE": "FR",
          "month": 7,
          "name": "ALENCON VALFRAMBERT, FR",
          "rolling_average_irrigation_requirement": 5.169820449304603,
          "year": 2014
         },
         {
          "COUNTRY_CODE": "FR",
          "month": 7,
          "name": "ANTICHAN, FR",
          "rolling_average_irrigation_requirement": 5.166485039913155,
          "year": 2014
         },
         {
          "COUNTRY_CODE": "FR",
          "month": 7,
          "name": "AUVERGNE, FR",
          "rolling_average_irrigation_requirement": 5.1581992204374645,
          "year": 2014
         },
         {
          "COUNTRY_CODE": "FR",
          "month": 7,
          "name": "BALE MULHOUSE, FR",
          "rolling_average_irrigation_requirement": 5.169820449304601,
          "year": 2014
         },
         {
          "COUNTRY_CODE": "FR",
          "month": 7,
          "name": "BARBEREY, FR",
          "rolling_average_irrigation_requirement": 5.169820449304601,
          "year": 2014
         },
         {
          "COUNTRY_CODE": "FR",
          "month": 7,
          "name": "BASEL MULHOUSE, FR",
          "rolling_average_irrigation_requirement": 5.169820449304601,
          "year": 2014
         },
         {
          "COUNTRY_CODE": "FR",
          "month": 7,
          "name": "BASTIA, FR",
          "rolling_average_irrigation_requirement": 5.169820449304601,
          "year": 2014
         },
         {
          "COUNTRY_CODE": "FR",
          "month": 7,
          "name": "BELLE ILE LE TALUT, FR",
          "rolling_average_irrigation_requirement": 5.169820449304601,
          "year": 2014
         },
         {
          "COUNTRY_CODE": "FR",
          "month": 7,
          "name": "BELLEGARDE, FR",
          "rolling_average_irrigation_requirement": 5.168628103901511,
          "year": 2014
         },
         {
          "COUNTRY_CODE": "FR",
          "month": 7,
          "name": "BIARD, FR",
          "rolling_average_irrigation_requirement": 5.169820449304601,
          "year": 2014
         },
         {
          "COUNTRY_CODE": "FR",
          "month": 7,
          "name": "BORDEAUX MERIGNAC, FR",
          "rolling_average_irrigation_requirement": 5.169820449304601,
          "year": 2014
         },
         {
          "COUNTRY_CODE": "FR",
          "month": 7,
          "name": "BOURGES, FR",
          "rolling_average_irrigation_requirement": 5.169820449304601,
          "year": 2014
         },
         {
          "COUNTRY_CODE": "FR",
          "month": 7,
          "name": "BREST GUIPAVAS, FR",
          "rolling_average_irrigation_requirement": 5.169820449304601,
          "year": 2014
         },
         {
          "COUNTRY_CODE": "FR",
          "month": 7,
          "name": "CAEN CARPIQUET, FR",
          "rolling_average_irrigation_requirement": 5.169820449304601,
          "year": 2014
         },
         {
          "COUNTRY_CODE": "FR",
          "month": 7,
          "name": "CAMPO DELL ORO, FR",
          "rolling_average_irrigation_requirement": 5.169820449304601,
          "year": 2014
         },
         {
          "COUNTRY_CODE": "FR",
          "month": 7,
          "name": "CAP CEPET, FR",
          "rolling_average_irrigation_requirement": 5.169820449304603,
          "year": 2014
         },
         {
          "COUNTRY_CODE": "FR",
          "month": 7,
          "name": "CARPIQUET, FR",
          "rolling_average_irrigation_requirement": 5.16911115682863,
          "year": 2014
         },
         {
          "COUNTRY_CODE": "FR",
          "month": 7,
          "name": "CHASSIRON, FR",
          "rolling_average_irrigation_requirement": 5.169820449304601,
          "year": 2014
         },
         {
          "COUNTRY_CODE": "FR",
          "month": 7,
          "name": "CLERMONT FERRAND, FR",
          "rolling_average_irrigation_requirement": 5.169820449304601,
          "year": 2014
         },
         {
          "COUNTRY_CODE": "FR",
          "month": 7,
          "name": "COTE D AZUR, FR",
          "rolling_average_irrigation_requirement": 5.169820449304601,
          "year": 2014
         },
         {
          "COUNTRY_CODE": "FR",
          "month": 7,
          "name": "DIJON LONGVIC, FR",
          "rolling_average_irrigation_requirement": 5.169820449304601,
          "year": 2014
         },
         {
          "COUNTRY_CODE": "FR",
          "month": 7,
          "name": "EMBRUN, FR",
          "rolling_average_irrigation_requirement": 5.169820449304603,
          "year": 2014
         },
         {
          "COUNTRY_CODE": "FR",
          "month": 7,
          "name": "ESSEY, FR",
          "rolling_average_irrigation_requirement": 5.169820449304601,
          "year": 2014
         },
         {
          "COUNTRY_CODE": "FR",
          "month": 7,
          "name": "GOURDON, FR",
          "rolling_average_irrigation_requirement": 5.169820449304601,
          "year": 2014
         },
         {
          "COUNTRY_CODE": "FR",
          "month": 7,
          "name": "GUIPAVAS, FR",
          "rolling_average_irrigation_requirement": 5.169820449304601,
          "year": 2014
         },
         {
          "COUNTRY_CODE": "FR",
          "month": 7,
          "name": "LE PUY LOUDES, FR",
          "rolling_average_irrigation_requirement": 5.169820449304601,
          "year": 2014
         },
         {
          "COUNTRY_CODE": "FR",
          "month": 7,
          "name": "LESQUIN, FR",
          "rolling_average_irrigation_requirement": 5.16911115682863,
          "year": 2014
         },
         {
          "COUNTRY_CODE": "FR",
          "month": 7,
          "name": "LILLE LESQUIN, FR",
          "rolling_average_irrigation_requirement": 5.169820449304601,
          "year": 2014
         },
         {
          "COUNTRY_CODE": "FR",
          "month": 7,
          "name": "LIMOGES BELLEGARDE, FR",
          "rolling_average_irrigation_requirement": 5.169820449304601,
          "year": 2014
         },
         {
          "COUNTRY_CODE": "FR",
          "month": 7,
          "name": "LONGVIC, FR",
          "rolling_average_irrigation_requirement": 5.169820449304601,
          "year": 2014
         },
         {
          "COUNTRY_CODE": "FR",
          "month": 7,
          "name": "LOUDES, FR",
          "rolling_average_irrigation_requirement": 5.169820449304601,
          "year": 2014
         },
         {
          "COUNTRY_CODE": "FR",
          "month": 7,
          "name": "LOURDES, FR",
          "rolling_average_irrigation_requirement": 5.169820449304601,
          "year": 2014
         },
         {
          "COUNTRY_CODE": "FR",
          "month": 7,
          "name": "LYON ST EXUPERY, FR",
          "rolling_average_irrigation_requirement": 5.169820449304601,
          "year": 2014
         },
         {
          "COUNTRY_CODE": "FR",
          "month": 7,
          "name": "MARSEILLES MARIGNANE, FR",
          "rolling_average_irrigation_requirement": 5.169820449304601,
          "year": 2014
         },
         {
          "COUNTRY_CODE": "FR",
          "month": 7,
          "name": "MEDITERRANEE, FR",
          "rolling_average_irrigation_requirement": 5.168628103901511,
          "year": 2014
         },
         {
          "COUNTRY_CODE": "FR",
          "month": 7,
          "name": "MILLAU, FR",
          "rolling_average_irrigation_requirement": 5.169820449304603,
          "year": 2014
         },
         {
          "COUNTRY_CODE": "FR",
          "month": 7,
          "name": "MONT AIGOUAL, FR",
          "rolling_average_irrigation_requirement": 5.1761446584982185,
          "year": 2014
         },
         {
          "COUNTRY_CODE": "FR",
          "month": 7,
          "name": "MONT DE MARSAN, FR",
          "rolling_average_irrigation_requirement": 5.169820449304603,
          "year": 2014
         },
         {
          "COUNTRY_CODE": "FR",
          "month": 7,
          "name": "MONTELIMAR, FR",
          "rolling_average_irrigation_requirement": 5.169820449304601,
          "year": 2014
         },
         {
          "COUNTRY_CODE": "FR",
          "month": 7,
          "name": "MONTPELLIER AEROPORT, FR",
          "rolling_average_irrigation_requirement": 5.169820449304601,
          "year": 2014
         },
         {
          "COUNTRY_CODE": "FR",
          "month": 7,
          "name": "NANCY OCHEY, FR",
          "rolling_average_irrigation_requirement": 5.169820449304601,
          "year": 2014
         },
         {
          "COUNTRY_CODE": "FR",
          "month": 7,
          "name": "NANTES BOUGUENAIS, FR",
          "rolling_average_irrigation_requirement": 5.169820449304601,
          "year": 2014
         },
         {
          "COUNTRY_CODE": "FR",
          "month": 7,
          "name": "NICE, FR",
          "rolling_average_irrigation_requirement": 5.169820449304601,
          "year": 2014
         },
         {
          "COUNTRY_CODE": "FR",
          "month": 7,
          "name": "OCHEY, FR",
          "rolling_average_irrigation_requirement": 5.169820449304601,
          "year": 2014
         },
         {
          "COUNTRY_CODE": "FR",
          "month": 7,
          "name": "ORLY, FR",
          "rolling_average_irrigation_requirement": 5.169820449304601,
          "year": 2014
         },
         {
          "COUNTRY_CODE": "FR",
          "month": 7,
          "name": "OUESSANT, FR",
          "rolling_average_irrigation_requirement": 5.176447391545152,
          "year": 2014
         },
         {
          "COUNTRY_CODE": "FR",
          "month": 7,
          "name": "PARIS LE BOURGET, FR",
          "rolling_average_irrigation_requirement": 5.169820449304601,
          "year": 2014
         },
         {
          "COUNTRY_CODE": "FR",
          "month": 7,
          "name": "PERPIGNAN, FR",
          "rolling_average_irrigation_requirement": 5.169820449304601,
          "year": 2014
         },
         {
          "COUNTRY_CODE": "FR",
          "month": 7,
          "name": "PLOUMANAC H PERROS GUIREC, FR",
          "rolling_average_irrigation_requirement": 5.1768317174565235,
          "year": 2014
         },
         {
          "COUNTRY_CODE": "FR",
          "month": 7,
          "name": "PLOUMANAC H, FR",
          "rolling_average_irrigation_requirement": 5.169820449304601,
          "year": 2014
         },
         {
          "COUNTRY_CODE": "FR",
          "month": 7,
          "name": "POITIERS BIARD, FR",
          "rolling_average_irrigation_requirement": 5.169820449304601,
          "year": 2014
         },
         {
          "COUNTRY_CODE": "FR",
          "month": 7,
          "name": "PORETTA, FR",
          "rolling_average_irrigation_requirement": 5.243060426426218,
          "year": 2014
         },
         {
          "COUNTRY_CODE": "FR",
          "month": 7,
          "name": "PORT AUX FRANCAIS ILES KERGU, FR",
          "rolling_average_irrigation_requirement": 5.169820449304601,
          "year": 2014
         },
         {
          "COUNTRY_CODE": "FR",
          "month": 7,
          "name": "PTE DE CHASSIRON, FR",
          "rolling_average_irrigation_requirement": 5.169820449304601,
          "year": 2014
         },
         {
          "COUNTRY_CODE": "FR",
          "month": 7,
          "name": "PTE DE LA HAGUE, FR",
          "rolling_average_irrigation_requirement": 5.169820449304601,
          "year": 2014
         },
         {
          "COUNTRY_CODE": "FR",
          "month": 7,
          "name": "REIMS PRUNAY, FR",
          "rolling_average_irrigation_requirement": 5.169820449304603,
          "year": 2014
         },
         {
          "COUNTRY_CODE": "FR",
          "month": 7,
          "name": "RENNES ST JACQUES, FR",
          "rolling_average_irrigation_requirement": 5.169820449304601,
          "year": 2014
         },
         {
          "COUNTRY_CODE": "FR",
          "month": 7,
          "name": "ROUEN BOOS, FR",
          "rolling_average_irrigation_requirement": 5.169820449304601,
          "year": 2014
         },
         {
          "COUNTRY_CODE": "FR",
          "month": 7,
          "name": "SAINT EXUPERY, FR",
          "rolling_average_irrigation_requirement": 5.170231878317994,
          "year": 2014
         },
         {
          "COUNTRY_CODE": "FR",
          "month": 7,
          "name": "ST GIRONS, FR",
          "rolling_average_irrigation_requirement": 5.169820449304601,
          "year": 2014
         },
         {
          "COUNTRY_CODE": "FR",
          "month": 7,
          "name": "STRASBOURG ENTZHEIM, FR",
          "rolling_average_irrigation_requirement": 5.169820449304601,
          "year": 2014
         },
         {
          "COUNTRY_CODE": "FR",
          "month": 7,
          "name": "TARBES OSSUN, FR",
          "rolling_average_irrigation_requirement": 5.169820449304601,
          "year": 2014
         },
         {
          "COUNTRY_CODE": "FR",
          "month": 7,
          "name": "TOULOUSE BLAGNAC, FR",
          "rolling_average_irrigation_requirement": 5.169820449304601,
          "year": 2014
         },
         {
          "COUNTRY_CODE": "FR",
          "month": 7,
          "name": "TOURS, FR",
          "rolling_average_irrigation_requirement": 5.169820449304601,
          "year": 2014
         },
         {
          "COUNTRY_CODE": "FR",
          "month": 7,
          "name": "TROYES BARBEREY, FR",
          "rolling_average_irrigation_requirement": 5.169820449304601,
          "year": 2014
         },
         {
          "COUNTRY_CODE": "FR",
          "month": 7,
          "name": "VAL DE LOIRE, FR",
          "rolling_average_irrigation_requirement": 5.169820449304601,
          "year": 2014
         },
         {
          "COUNTRY_CODE": "FR",
          "month": 7,
          "name": "VALLEE DE SEINE, FR",
          "rolling_average_irrigation_requirement": 5.169820449304601,
          "year": 2014
         },
         {
          "COUNTRY_CODE": "FR",
          "month": 7,
          "name": "ABBEVILLE, FR",
          "rolling_average_irrigation_requirement": 5.453163394953562,
          "year": 2015
         },
         {
          "COUNTRY_CODE": "FR",
          "month": 7,
          "name": "AJACCIO, FR",
          "rolling_average_irrigation_requirement": 5.453163394953563,
          "year": 2015
         },
         {
          "COUNTRY_CODE": "FR",
          "month": 7,
          "name": "ALENCON VALFRAMBERT, FR",
          "rolling_average_irrigation_requirement": 5.453163394953562,
          "year": 2015
         },
         {
          "COUNTRY_CODE": "FR",
          "month": 7,
          "name": "ANTICHAN, FR",
          "rolling_average_irrigation_requirement": 5.453163394953563,
          "year": 2015
         },
         {
          "COUNTRY_CODE": "FR",
          "month": 7,
          "name": "AUVERGNE, FR",
          "rolling_average_irrigation_requirement": 5.453163394953563,
          "year": 2015
         },
         {
          "COUNTRY_CODE": "FR",
          "month": 7,
          "name": "BALE MULHOUSE, FR",
          "rolling_average_irrigation_requirement": 5.453163394953563,
          "year": 2015
         },
         {
          "COUNTRY_CODE": "FR",
          "month": 7,
          "name": "BARBEREY, FR",
          "rolling_average_irrigation_requirement": 5.453163394953563,
          "year": 2015
         },
         {
          "COUNTRY_CODE": "FR",
          "month": 7,
          "name": "BASEL MULHOUSE, FR",
          "rolling_average_irrigation_requirement": 5.453163394953563,
          "year": 2015
         },
         {
          "COUNTRY_CODE": "FR",
          "month": 7,
          "name": "BASTIA, FR",
          "rolling_average_irrigation_requirement": 5.453163394953563,
          "year": 2015
         },
         {
          "COUNTRY_CODE": "FR",
          "month": 7,
          "name": "BELLE ILE LE TALUT, FR",
          "rolling_average_irrigation_requirement": 5.453163394953563,
          "year": 2015
         },
         {
          "COUNTRY_CODE": "FR",
          "month": 7,
          "name": "BELLEGARDE, FR",
          "rolling_average_irrigation_requirement": 5.453163394953563,
          "year": 2015
         },
         {
          "COUNTRY_CODE": "FR",
          "month": 7,
          "name": "BIARD, FR",
          "rolling_average_irrigation_requirement": 5.453163394953563,
          "year": 2015
         },
         {
          "COUNTRY_CODE": "FR",
          "month": 7,
          "name": "BORDEAUX MERIGNAC, FR",
          "rolling_average_irrigation_requirement": 5.453163394953563,
          "year": 2015
         },
         {
          "COUNTRY_CODE": "FR",
          "month": 7,
          "name": "BOURGES, FR",
          "rolling_average_irrigation_requirement": 5.453163394953563,
          "year": 2015
         },
         {
          "COUNTRY_CODE": "FR",
          "month": 7,
          "name": "BREST GUIPAVAS, FR",
          "rolling_average_irrigation_requirement": 5.453163394953563,
          "year": 2015
         },
         {
          "COUNTRY_CODE": "FR",
          "month": 7,
          "name": "CAEN CARPIQUET, FR",
          "rolling_average_irrigation_requirement": 5.453163394953563,
          "year": 2015
         },
         {
          "COUNTRY_CODE": "FR",
          "month": 7,
          "name": "CAMPO DELL ORO, FR",
          "rolling_average_irrigation_requirement": 5.453163394953563,
          "year": 2015
         },
         {
          "COUNTRY_CODE": "FR",
          "month": 7,
          "name": "CAP CEPET, FR",
          "rolling_average_irrigation_requirement": 5.453163394953562,
          "year": 2015
         },
         {
          "COUNTRY_CODE": "FR",
          "month": 7,
          "name": "CARPIQUET, FR",
          "rolling_average_irrigation_requirement": 5.453163394953563,
          "year": 2015
         },
         {
          "COUNTRY_CODE": "FR",
          "month": 7,
          "name": "CHASSIRON, FR",
          "rolling_average_irrigation_requirement": 5.453163394953563,
          "year": 2015
         },
         {
          "COUNTRY_CODE": "FR",
          "month": 7,
          "name": "CLERMONT FERRAND, FR",
          "rolling_average_irrigation_requirement": 5.453163394953563,
          "year": 2015
         },
         {
          "COUNTRY_CODE": "FR",
          "month": 7,
          "name": "COTE D AZUR, FR",
          "rolling_average_irrigation_requirement": 5.453163394953563,
          "year": 2015
         },
         {
          "COUNTRY_CODE": "FR",
          "month": 7,
          "name": "DIJON LONGVIC, FR",
          "rolling_average_irrigation_requirement": 5.453163394953563,
          "year": 2015
         },
         {
          "COUNTRY_CODE": "FR",
          "month": 7,
          "name": "EMBRUN, FR",
          "rolling_average_irrigation_requirement": 5.451050390749124,
          "year": 2015
         },
         {
          "COUNTRY_CODE": "FR",
          "month": 7,
          "name": "ESSEY, FR",
          "rolling_average_irrigation_requirement": 5.453163394953563,
          "year": 2015
         },
         {
          "COUNTRY_CODE": "FR",
          "month": 7,
          "name": "GOURDON, FR",
          "rolling_average_irrigation_requirement": 5.453163394953563,
          "year": 2015
         },
         {
          "COUNTRY_CODE": "FR",
          "month": 7,
          "name": "GUIPAVAS, FR",
          "rolling_average_irrigation_requirement": 5.453163394953563,
          "year": 2015
         },
         {
          "COUNTRY_CODE": "FR",
          "month": 7,
          "name": "LE PUY LOUDES, FR",
          "rolling_average_irrigation_requirement": 5.453163394953563,
          "year": 2015
         },
         {
          "COUNTRY_CODE": "FR",
          "month": 7,
          "name": "LESQUIN, FR",
          "rolling_average_irrigation_requirement": 5.453163394953563,
          "year": 2015
         },
         {
          "COUNTRY_CODE": "FR",
          "month": 7,
          "name": "LILLE LESQUIN, FR",
          "rolling_average_irrigation_requirement": 5.453163394953563,
          "year": 2015
         },
         {
          "COUNTRY_CODE": "FR",
          "month": 7,
          "name": "LIMOGES BELLEGARDE, FR",
          "rolling_average_irrigation_requirement": 5.453163394953563,
          "year": 2015
         },
         {
          "COUNTRY_CODE": "FR",
          "month": 7,
          "name": "LONGVIC, FR",
          "rolling_average_irrigation_requirement": 5.453163394953563,
          "year": 2015
         },
         {
          "COUNTRY_CODE": "FR",
          "month": 7,
          "name": "LOUDES, FR",
          "rolling_average_irrigation_requirement": 5.453163394953563,
          "year": 2015
         },
         {
          "COUNTRY_CODE": "FR",
          "month": 7,
          "name": "LOURDES, FR",
          "rolling_average_irrigation_requirement": 5.453163394953563,
          "year": 2015
         },
         {
          "COUNTRY_CODE": "FR",
          "month": 7,
          "name": "LYON ST EXUPERY, FR",
          "rolling_average_irrigation_requirement": 5.453163394953563,
          "year": 2015
         },
         {
          "COUNTRY_CODE": "FR",
          "month": 7,
          "name": "MARSEILLES MARIGNANE, FR",
          "rolling_average_irrigation_requirement": 5.453163394953563,
          "year": 2015
         },
         {
          "COUNTRY_CODE": "FR",
          "month": 7,
          "name": "MEDITERRANEE, FR",
          "rolling_average_irrigation_requirement": 5.453163394953563,
          "year": 2015
         },
         {
          "COUNTRY_CODE": "FR",
          "month": 7,
          "name": "MILLAU, FR",
          "rolling_average_irrigation_requirement": 5.453163394953562,
          "year": 2015
         },
         {
          "COUNTRY_CODE": "FR",
          "month": 7,
          "name": "MONT AIGOUAL, FR",
          "rolling_average_irrigation_requirement": 5.453163394953563,
          "year": 2015
         },
         {
          "COUNTRY_CODE": "FR",
          "month": 7,
          "name": "MONT DE MARSAN, FR",
          "rolling_average_irrigation_requirement": 5.452851338808516,
          "year": 2015
         },
         {
          "COUNTRY_CODE": "FR",
          "month": 7,
          "name": "MONTELIMAR, FR",
          "rolling_average_irrigation_requirement": 5.453163394953563,
          "year": 2015
         },
         {
          "COUNTRY_CODE": "FR",
          "month": 7,
          "name": "MONTPELLIER AEROPORT, FR",
          "rolling_average_irrigation_requirement": 5.453163394953563,
          "year": 2015
         },
         {
          "COUNTRY_CODE": "FR",
          "month": 7,
          "name": "NANCY OCHEY, FR",
          "rolling_average_irrigation_requirement": 5.453163394953563,
          "year": 2015
         },
         {
          "COUNTRY_CODE": "FR",
          "month": 7,
          "name": "NANTES BOUGUENAIS, FR",
          "rolling_average_irrigation_requirement": 5.453163394953563,
          "year": 2015
         },
         {
          "COUNTRY_CODE": "FR",
          "month": 7,
          "name": "NICE, FR",
          "rolling_average_irrigation_requirement": 5.453163394953563,
          "year": 2015
         },
         {
          "COUNTRY_CODE": "FR",
          "month": 7,
          "name": "OCHEY, FR",
          "rolling_average_irrigation_requirement": 5.453163394953563,
          "year": 2015
         },
         {
          "COUNTRY_CODE": "FR",
          "month": 7,
          "name": "ORLY, FR",
          "rolling_average_irrigation_requirement": 5.453163394953563,
          "year": 2015
         },
         {
          "COUNTRY_CODE": "FR",
          "month": 7,
          "name": "OUESSANT, FR",
          "rolling_average_irrigation_requirement": 5.446172767453247,
          "year": 2015
         },
         {
          "COUNTRY_CODE": "FR",
          "month": 7,
          "name": "PARIS LE BOURGET, FR",
          "rolling_average_irrigation_requirement": 5.459036050879849,
          "year": 2015
         },
         {
          "COUNTRY_CODE": "FR",
          "month": 7,
          "name": "PERPIGNAN, FR",
          "rolling_average_irrigation_requirement": 5.453163394953563,
          "year": 2015
         },
         {
          "COUNTRY_CODE": "FR",
          "month": 7,
          "name": "PLOUMANAC H PERROS GUIREC, FR",
          "rolling_average_irrigation_requirement": 5.453032117681757,
          "year": 2015
         },
         {
          "COUNTRY_CODE": "FR",
          "month": 7,
          "name": "PLOUMANAC H, FR",
          "rolling_average_irrigation_requirement": 5.453163394953563,
          "year": 2015
         },
         {
          "COUNTRY_CODE": "FR",
          "month": 7,
          "name": "POITIERS BIARD, FR",
          "rolling_average_irrigation_requirement": 5.453163394953563,
          "year": 2015
         },
         {
          "COUNTRY_CODE": "FR",
          "month": 7,
          "name": "PORETTA, FR",
          "rolling_average_irrigation_requirement": 5.453163394953563,
          "year": 2015
         },
         {
          "COUNTRY_CODE": "FR",
          "month": 7,
          "name": "PORT AUX FRANCAIS ILES KERGU, FR",
          "rolling_average_irrigation_requirement": 5.453163394953563,
          "year": 2015
         },
         {
          "COUNTRY_CODE": "FR",
          "month": 7,
          "name": "PTE DE CHASSIRON, FR",
          "rolling_average_irrigation_requirement": 5.453163394953563,
          "year": 2015
         },
         {
          "COUNTRY_CODE": "FR",
          "month": 7,
          "name": "PTE DE LA HAGUE, FR",
          "rolling_average_irrigation_requirement": 5.453163394953563,
          "year": 2015
         },
         {
          "COUNTRY_CODE": "FR",
          "month": 7,
          "name": "REIMS PRUNAY, FR",
          "rolling_average_irrigation_requirement": 5.453163394953562,
          "year": 2015
         },
         {
          "COUNTRY_CODE": "FR",
          "month": 7,
          "name": "RENNES ST JACQUES, FR",
          "rolling_average_irrigation_requirement": 5.453163394953563,
          "year": 2015
         },
         {
          "COUNTRY_CODE": "FR",
          "month": 7,
          "name": "ROUEN BOOS, FR",
          "rolling_average_irrigation_requirement": 5.453163394953563,
          "year": 2015
         },
         {
          "COUNTRY_CODE": "FR",
          "month": 7,
          "name": "SAINT EXUPERY, FR",
          "rolling_average_irrigation_requirement": 5.453163394953563,
          "year": 2015
         },
         {
          "COUNTRY_CODE": "FR",
          "month": 7,
          "name": "ST GIRONS, FR",
          "rolling_average_irrigation_requirement": 5.453163394953563,
          "year": 2015
         },
         {
          "COUNTRY_CODE": "FR",
          "month": 7,
          "name": "STRASBOURG ENTZHEIM, FR",
          "rolling_average_irrigation_requirement": 5.453163394953563,
          "year": 2015
         },
         {
          "COUNTRY_CODE": "FR",
          "month": 7,
          "name": "TARBES OSSUN, FR",
          "rolling_average_irrigation_requirement": 5.453163394953563,
          "year": 2015
         },
         {
          "COUNTRY_CODE": "FR",
          "month": 7,
          "name": "TOULOUSE BLAGNAC, FR",
          "rolling_average_irrigation_requirement": 5.453163394953563,
          "year": 2015
         },
         {
          "COUNTRY_CODE": "FR",
          "month": 7,
          "name": "TOURS, FR",
          "rolling_average_irrigation_requirement": 5.453163394953563,
          "year": 2015
         },
         {
          "COUNTRY_CODE": "FR",
          "month": 7,
          "name": "TROYES BARBEREY, FR",
          "rolling_average_irrigation_requirement": 5.453163394953563,
          "year": 2015
         },
         {
          "COUNTRY_CODE": "FR",
          "month": 7,
          "name": "VAL DE LOIRE, FR",
          "rolling_average_irrigation_requirement": 5.453163394953563,
          "year": 2015
         },
         {
          "COUNTRY_CODE": "FR",
          "month": 7,
          "name": "VALLEE DE SEINE, FR",
          "rolling_average_irrigation_requirement": 5.453163394953563,
          "year": 2015
         },
         {
          "COUNTRY_CODE": "FR",
          "month": 7,
          "name": "ABBEVILLE, FR",
          "rolling_average_irrigation_requirement": 5.308102116614257,
          "year": 2016
         },
         {
          "COUNTRY_CODE": "FR",
          "month": 7,
          "name": "AJACCIO, FR",
          "rolling_average_irrigation_requirement": 5.308102116614255,
          "year": 2016
         },
         {
          "COUNTRY_CODE": "FR",
          "month": 7,
          "name": "ALENCON VALFRAMBERT, FR",
          "rolling_average_irrigation_requirement": 5.308102116614257,
          "year": 2016
         },
         {
          "COUNTRY_CODE": "FR",
          "month": 7,
          "name": "ANTICHAN, FR",
          "rolling_average_irrigation_requirement": 5.308102116614255,
          "year": 2016
         },
         {
          "COUNTRY_CODE": "FR",
          "month": 7,
          "name": "AUVERGNE, FR",
          "rolling_average_irrigation_requirement": 5.308102116614255,
          "year": 2016
         },
         {
          "COUNTRY_CODE": "FR",
          "month": 7,
          "name": "BALE MULHOUSE, FR",
          "rolling_average_irrigation_requirement": 5.308102116614255,
          "year": 2016
         },
         {
          "COUNTRY_CODE": "FR",
          "month": 7,
          "name": "BARBEREY, FR",
          "rolling_average_irrigation_requirement": 5.308102116614255,
          "year": 2016
         },
         {
          "COUNTRY_CODE": "FR",
          "month": 7,
          "name": "BASEL MULHOUSE, FR",
          "rolling_average_irrigation_requirement": 5.308102116614255,
          "year": 2016
         },
         {
          "COUNTRY_CODE": "FR",
          "month": 7,
          "name": "BASTIA, FR",
          "rolling_average_irrigation_requirement": 5.308102116614255,
          "year": 2016
         },
         {
          "COUNTRY_CODE": "FR",
          "month": 7,
          "name": "BELLE ILE LE TALUT, FR",
          "rolling_average_irrigation_requirement": 5.308102116614255,
          "year": 2016
         },
         {
          "COUNTRY_CODE": "FR",
          "month": 7,
          "name": "BELLEGARDE, FR",
          "rolling_average_irrigation_requirement": 5.308102116614255,
          "year": 2016
         },
         {
          "COUNTRY_CODE": "FR",
          "month": 7,
          "name": "BIARD, FR",
          "rolling_average_irrigation_requirement": 5.308102116614255,
          "year": 2016
         },
         {
          "COUNTRY_CODE": "FR",
          "month": 7,
          "name": "BORDEAUX MERIGNAC, FR",
          "rolling_average_irrigation_requirement": 5.308102116614255,
          "year": 2016
         },
         {
          "COUNTRY_CODE": "FR",
          "month": 7,
          "name": "BOURGES, FR",
          "rolling_average_irrigation_requirement": 5.308102116614255,
          "year": 2016
         },
         {
          "COUNTRY_CODE": "FR",
          "month": 7,
          "name": "BREST GUIPAVAS, FR",
          "rolling_average_irrigation_requirement": 5.308102116614255,
          "year": 2016
         },
         {
          "COUNTRY_CODE": "FR",
          "month": 7,
          "name": "CAEN CARPIQUET, FR",
          "rolling_average_irrigation_requirement": 5.308102116614255,
          "year": 2016
         },
         {
          "COUNTRY_CODE": "FR",
          "month": 7,
          "name": "CAMPO DELL ORO, FR",
          "rolling_average_irrigation_requirement": 5.308102116614255,
          "year": 2016
         },
         {
          "COUNTRY_CODE": "FR",
          "month": 7,
          "name": "CAP CEPET, FR",
          "rolling_average_irrigation_requirement": 5.308102116614257,
          "year": 2016
         },
         {
          "COUNTRY_CODE": "FR",
          "month": 7,
          "name": "CARPIQUET, FR",
          "rolling_average_irrigation_requirement": 5.308102116614255,
          "year": 2016
         },
         {
          "COUNTRY_CODE": "FR",
          "month": 7,
          "name": "CHASSIRON, FR",
          "rolling_average_irrigation_requirement": 5.308102116614255,
          "year": 2016
         },
         {
          "COUNTRY_CODE": "FR",
          "month": 7,
          "name": "CLERMONT FERRAND, FR",
          "rolling_average_irrigation_requirement": 5.308102116614255,
          "year": 2016
         },
         {
          "COUNTRY_CODE": "FR",
          "month": 7,
          "name": "COTE D AZUR, FR",
          "rolling_average_irrigation_requirement": 5.308102116614255,
          "year": 2016
         },
         {
          "COUNTRY_CODE": "FR",
          "month": 7,
          "name": "DIJON LONGVIC, FR",
          "rolling_average_irrigation_requirement": 5.308102116614255,
          "year": 2016
         },
         {
          "COUNTRY_CODE": "FR",
          "month": 7,
          "name": "EMBRUN, FR",
          "rolling_average_irrigation_requirement": 5.308102116614257,
          "year": 2016
         },
         {
          "COUNTRY_CODE": "FR",
          "month": 7,
          "name": "ESSEY, FR",
          "rolling_average_irrigation_requirement": 5.308102116614255,
          "year": 2016
         },
         {
          "COUNTRY_CODE": "FR",
          "month": 7,
          "name": "GOURDON, FR",
          "rolling_average_irrigation_requirement": 5.308102116614255,
          "year": 2016
         },
         {
          "COUNTRY_CODE": "FR",
          "month": 7,
          "name": "GUIPAVAS, FR",
          "rolling_average_irrigation_requirement": 5.308102116614255,
          "year": 2016
         },
         {
          "COUNTRY_CODE": "FR",
          "month": 7,
          "name": "LE PUY LOUDES, FR",
          "rolling_average_irrigation_requirement": 5.308102116614255,
          "year": 2016
         },
         {
          "COUNTRY_CODE": "FR",
          "month": 7,
          "name": "LESQUIN, FR",
          "rolling_average_irrigation_requirement": 5.308102116614255,
          "year": 2016
         },
         {
          "COUNTRY_CODE": "FR",
          "month": 7,
          "name": "LILLE LESQUIN, FR",
          "rolling_average_irrigation_requirement": 5.308102116614255,
          "year": 2016
         },
         {
          "COUNTRY_CODE": "FR",
          "month": 7,
          "name": "LIMOGES BELLEGARDE, FR",
          "rolling_average_irrigation_requirement": 5.308102116614255,
          "year": 2016
         },
         {
          "COUNTRY_CODE": "FR",
          "month": 7,
          "name": "LONGVIC, FR",
          "rolling_average_irrigation_requirement": 5.308102116614255,
          "year": 2016
         },
         {
          "COUNTRY_CODE": "FR",
          "month": 7,
          "name": "LOUDES, FR",
          "rolling_average_irrigation_requirement": 5.308102116614255,
          "year": 2016
         },
         {
          "COUNTRY_CODE": "FR",
          "month": 7,
          "name": "LOURDES, FR",
          "rolling_average_irrigation_requirement": 5.308102116614255,
          "year": 2016
         },
         {
          "COUNTRY_CODE": "FR",
          "month": 7,
          "name": "LYON ST EXUPERY, FR",
          "rolling_average_irrigation_requirement": 5.308102116614255,
          "year": 2016
         },
         {
          "COUNTRY_CODE": "FR",
          "month": 7,
          "name": "MARSEILLES MARIGNANE, FR",
          "rolling_average_irrigation_requirement": 5.308102116614255,
          "year": 2016
         },
         {
          "COUNTRY_CODE": "FR",
          "month": 7,
          "name": "MEDITERRANEE, FR",
          "rolling_average_irrigation_requirement": 5.308102116614255,
          "year": 2016
         },
         {
          "COUNTRY_CODE": "FR",
          "month": 7,
          "name": "MILLAU, FR",
          "rolling_average_irrigation_requirement": 5.305393001275952,
          "year": 2016
         },
         {
          "COUNTRY_CODE": "FR",
          "month": 7,
          "name": "MONT AIGOUAL, FR",
          "rolling_average_irrigation_requirement": 5.308102116614255,
          "year": 2016
         },
         {
          "COUNTRY_CODE": "FR",
          "month": 7,
          "name": "MONT DE MARSAN, FR",
          "rolling_average_irrigation_requirement": 5.300677522634566,
          "year": 2016
         },
         {
          "COUNTRY_CODE": "FR",
          "month": 7,
          "name": "MONTELIMAR, FR",
          "rolling_average_irrigation_requirement": 5.308102116614255,
          "year": 2016
         },
         {
          "COUNTRY_CODE": "FR",
          "month": 7,
          "name": "MONTPELLIER AEROPORT, FR",
          "rolling_average_irrigation_requirement": 5.308102116614255,
          "year": 2016
         },
         {
          "COUNTRY_CODE": "FR",
          "month": 7,
          "name": "NANCY OCHEY, FR",
          "rolling_average_irrigation_requirement": 5.308102116614255,
          "year": 2016
         },
         {
          "COUNTRY_CODE": "FR",
          "month": 7,
          "name": "NANTES BOUGUENAIS, FR",
          "rolling_average_irrigation_requirement": 5.308102116614255,
          "year": 2016
         },
         {
          "COUNTRY_CODE": "FR",
          "month": 7,
          "name": "NICE, FR",
          "rolling_average_irrigation_requirement": 5.308102116614255,
          "year": 2016
         },
         {
          "COUNTRY_CODE": "FR",
          "month": 7,
          "name": "OCHEY, FR",
          "rolling_average_irrigation_requirement": 5.308102116614255,
          "year": 2016
         },
         {
          "COUNTRY_CODE": "FR",
          "month": 7,
          "name": "ORLY, FR",
          "rolling_average_irrigation_requirement": 5.308102116614255,
          "year": 2016
         },
         {
          "COUNTRY_CODE": "FR",
          "month": 7,
          "name": "OUESSANT, FR",
          "rolling_average_irrigation_requirement": 5.303058676695646,
          "year": 2016
         },
         {
          "COUNTRY_CODE": "FR",
          "month": 7,
          "name": "PARIS LE BOURGET, FR",
          "rolling_average_irrigation_requirement": 5.308102116614255,
          "year": 2016
         },
         {
          "COUNTRY_CODE": "FR",
          "month": 7,
          "name": "PERPIGNAN, FR",
          "rolling_average_irrigation_requirement": 5.308102116614255,
          "year": 2016
         },
         {
          "COUNTRY_CODE": "FR",
          "month": 7,
          "name": "PLOUMANAC H PERROS GUIREC, FR",
          "rolling_average_irrigation_requirement": 5.308102116614255,
          "year": 2016
         },
         {
          "COUNTRY_CODE": "FR",
          "month": 7,
          "name": "PLOUMANAC H, FR",
          "rolling_average_irrigation_requirement": 5.308102116614255,
          "year": 2016
         },
         {
          "COUNTRY_CODE": "FR",
          "month": 7,
          "name": "POITIERS BIARD, FR",
          "rolling_average_irrigation_requirement": 5.308102116614255,
          "year": 2016
         },
         {
          "COUNTRY_CODE": "FR",
          "month": 7,
          "name": "PORETTA, FR",
          "rolling_average_irrigation_requirement": 5.308102116614255,
          "year": 2016
         },
         {
          "COUNTRY_CODE": "FR",
          "month": 7,
          "name": "PORT AUX FRANCAIS ILES KERGU, FR",
          "rolling_average_irrigation_requirement": 5.308102116614255,
          "year": 2016
         },
         {
          "COUNTRY_CODE": "FR",
          "month": 7,
          "name": "PTE DE CHASSIRON, FR",
          "rolling_average_irrigation_requirement": 5.308102116614255,
          "year": 2016
         },
         {
          "COUNTRY_CODE": "FR",
          "month": 7,
          "name": "PTE DE LA HAGUE, FR",
          "rolling_average_irrigation_requirement": 5.308102116614255,
          "year": 2016
         },
         {
          "COUNTRY_CODE": "FR",
          "month": 7,
          "name": "REIMS PRUNAY, FR",
          "rolling_average_irrigation_requirement": 5.308102116614257,
          "year": 2016
         },
         {
          "COUNTRY_CODE": "FR",
          "month": 7,
          "name": "RENNES ST JACQUES, FR",
          "rolling_average_irrigation_requirement": 5.308102116614255,
          "year": 2016
         },
         {
          "COUNTRY_CODE": "FR",
          "month": 7,
          "name": "ROUEN BOOS, FR",
          "rolling_average_irrigation_requirement": 5.308102116614255,
          "year": 2016
         },
         {
          "COUNTRY_CODE": "FR",
          "month": 7,
          "name": "SAINT EXUPERY, FR",
          "rolling_average_irrigation_requirement": 5.308102116614255,
          "year": 2016
         },
         {
          "COUNTRY_CODE": "FR",
          "month": 7,
          "name": "ST GIRONS, FR",
          "rolling_average_irrigation_requirement": 5.308102116614255,
          "year": 2016
         },
         {
          "COUNTRY_CODE": "FR",
          "month": 7,
          "name": "STRASBOURG ENTZHEIM, FR",
          "rolling_average_irrigation_requirement": 5.308102116614255,
          "year": 2016
         },
         {
          "COUNTRY_CODE": "FR",
          "month": 7,
          "name": "TARBES OSSUN, FR",
          "rolling_average_irrigation_requirement": 5.308102116614255,
          "year": 2016
         },
         {
          "COUNTRY_CODE": "FR",
          "month": 7,
          "name": "TOULOUSE BLAGNAC, FR",
          "rolling_average_irrigation_requirement": 5.308102116614255,
          "year": 2016
         },
         {
          "COUNTRY_CODE": "FR",
          "month": 7,
          "name": "TOURS, FR",
          "rolling_average_irrigation_requirement": 5.308102116614255,
          "year": 2016
         },
         {
          "COUNTRY_CODE": "FR",
          "month": 7,
          "name": "TROYES BARBEREY, FR",
          "rolling_average_irrigation_requirement": 5.308102116614255,
          "year": 2016
         },
         {
          "COUNTRY_CODE": "FR",
          "month": 7,
          "name": "VAL DE LOIRE, FR",
          "rolling_average_irrigation_requirement": 5.308102116614255,
          "year": 2016
         },
         {
          "COUNTRY_CODE": "FR",
          "month": 7,
          "name": "VALLEE DE SEINE, FR",
          "rolling_average_irrigation_requirement": 5.308102116614255,
          "year": 2016
         },
         {
          "COUNTRY_CODE": "FR",
          "month": 7,
          "name": "ABBEVILLE, FR",
          "rolling_average_irrigation_requirement": 5.316728301866611,
          "year": 2017
         },
         {
          "COUNTRY_CODE": "FR",
          "month": 7,
          "name": "AJACCIO, FR",
          "rolling_average_irrigation_requirement": 5.317080270914006,
          "year": 2017
         },
         {
          "COUNTRY_CODE": "FR",
          "month": 7,
          "name": "ALENCON VALFRAMBERT, FR",
          "rolling_average_irrigation_requirement": 5.3183484602268924,
          "year": 2017
         },
         {
          "COUNTRY_CODE": "FR",
          "month": 7,
          "name": "ANTICHAN, FR",
          "rolling_average_irrigation_requirement": 5.317080270914006,
          "year": 2017
         },
         {
          "COUNTRY_CODE": "FR",
          "month": 7,
          "name": "AUVERGNE, FR",
          "rolling_average_irrigation_requirement": 5.317080270914006,
          "year": 2017
         },
         {
          "COUNTRY_CODE": "FR",
          "month": 7,
          "name": "BALE MULHOUSE, FR",
          "rolling_average_irrigation_requirement": 5.317080270914006,
          "year": 2017
         },
         {
          "COUNTRY_CODE": "FR",
          "month": 7,
          "name": "BARBEREY, FR",
          "rolling_average_irrigation_requirement": 5.317080270914006,
          "year": 2017
         },
         {
          "COUNTRY_CODE": "FR",
          "month": 7,
          "name": "BASEL MULHOUSE, FR",
          "rolling_average_irrigation_requirement": 5.317080270914006,
          "year": 2017
         },
         {
          "COUNTRY_CODE": "FR",
          "month": 7,
          "name": "BASTIA, FR",
          "rolling_average_irrigation_requirement": 5.317080270914006,
          "year": 2017
         },
         {
          "COUNTRY_CODE": "FR",
          "month": 7,
          "name": "BELLE ILE LE TALUT, FR",
          "rolling_average_irrigation_requirement": 5.317080270914006,
          "year": 2017
         },
         {
          "COUNTRY_CODE": "FR",
          "month": 7,
          "name": "BELLEGARDE, FR",
          "rolling_average_irrigation_requirement": 5.317080270914006,
          "year": 2017
         },
         {
          "COUNTRY_CODE": "FR",
          "month": 7,
          "name": "BIARD, FR",
          "rolling_average_irrigation_requirement": 5.317080270914006,
          "year": 2017
         },
         {
          "COUNTRY_CODE": "FR",
          "month": 7,
          "name": "BORDEAUX MERIGNAC, FR",
          "rolling_average_irrigation_requirement": 5.317080270914006,
          "year": 2017
         },
         {
          "COUNTRY_CODE": "FR",
          "month": 7,
          "name": "BOURGES, FR",
          "rolling_average_irrigation_requirement": 5.317080270914006,
          "year": 2017
         },
         {
          "COUNTRY_CODE": "FR",
          "month": 7,
          "name": "BREST GUIPAVAS, FR",
          "rolling_average_irrigation_requirement": 5.317080270914006,
          "year": 2017
         },
         {
          "COUNTRY_CODE": "FR",
          "month": 7,
          "name": "CAEN CARPIQUET, FR",
          "rolling_average_irrigation_requirement": 5.317080270914006,
          "year": 2017
         },
         {
          "COUNTRY_CODE": "FR",
          "month": 7,
          "name": "CAMPO DELL ORO, FR",
          "rolling_average_irrigation_requirement": 5.317080270914006,
          "year": 2017
         },
         {
          "COUNTRY_CODE": "FR",
          "month": 7,
          "name": "CAP CEPET, FR",
          "rolling_average_irrigation_requirement": 5.317080270914004,
          "year": 2017
         },
         {
          "COUNTRY_CODE": "FR",
          "month": 7,
          "name": "CARPIQUET, FR",
          "rolling_average_irrigation_requirement": 5.317080270914006,
          "year": 2017
         },
         {
          "COUNTRY_CODE": "FR",
          "month": 7,
          "name": "CHASSIRON, FR",
          "rolling_average_irrigation_requirement": 5.317080270914006,
          "year": 2017
         },
         {
          "COUNTRY_CODE": "FR",
          "month": 7,
          "name": "CLERMONT FERRAND, FR",
          "rolling_average_irrigation_requirement": 5.317080270914006,
          "year": 2017
         },
         {
          "COUNTRY_CODE": "FR",
          "month": 7,
          "name": "COTE D AZUR, FR",
          "rolling_average_irrigation_requirement": 5.317080270914006,
          "year": 2017
         },
         {
          "COUNTRY_CODE": "FR",
          "month": 7,
          "name": "DIJON LONGVIC, FR",
          "rolling_average_irrigation_requirement": 5.317080270914006,
          "year": 2017
         },
         {
          "COUNTRY_CODE": "FR",
          "month": 7,
          "name": "EMBRUN, FR",
          "rolling_average_irrigation_requirement": 5.317080270914004,
          "year": 2017
         },
         {
          "COUNTRY_CODE": "FR",
          "month": 7,
          "name": "ESSEY, FR",
          "rolling_average_irrigation_requirement": 5.317080270914006,
          "year": 2017
         },
         {
          "COUNTRY_CODE": "FR",
          "month": 7,
          "name": "GOURDON, FR",
          "rolling_average_irrigation_requirement": 5.317080270914006,
          "year": 2017
         },
         {
          "COUNTRY_CODE": "FR",
          "month": 7,
          "name": "GUIPAVAS, FR",
          "rolling_average_irrigation_requirement": 5.317080270914006,
          "year": 2017
         },
         {
          "COUNTRY_CODE": "FR",
          "month": 7,
          "name": "LE PUY LOUDES, FR",
          "rolling_average_irrigation_requirement": 5.317080270914006,
          "year": 2017
         },
         {
          "COUNTRY_CODE": "FR",
          "month": 7,
          "name": "LESQUIN, FR",
          "rolling_average_irrigation_requirement": 5.3131748503784015,
          "year": 2017
         },
         {
          "COUNTRY_CODE": "FR",
          "month": 7,
          "name": "LILLE LESQUIN, FR",
          "rolling_average_irrigation_requirement": 5.317080270914006,
          "year": 2017
         },
         {
          "COUNTRY_CODE": "FR",
          "month": 7,
          "name": "LIMOGES BELLEGARDE, FR",
          "rolling_average_irrigation_requirement": 5.317080270914006,
          "year": 2017
         },
         {
          "COUNTRY_CODE": "FR",
          "month": 7,
          "name": "LONGVIC, FR",
          "rolling_average_irrigation_requirement": 5.3205122630202855,
          "year": 2017
         },
         {
          "COUNTRY_CODE": "FR",
          "month": 7,
          "name": "LOUDES, FR",
          "rolling_average_irrigation_requirement": 5.317080270914006,
          "year": 2017
         },
         {
          "COUNTRY_CODE": "FR",
          "month": 7,
          "name": "LOURDES, FR",
          "rolling_average_irrigation_requirement": 5.317080270914006,
          "year": 2017
         },
         {
          "COUNTRY_CODE": "FR",
          "month": 7,
          "name": "LYON ST EXUPERY, FR",
          "rolling_average_irrigation_requirement": 5.317080270914006,
          "year": 2017
         },
         {
          "COUNTRY_CODE": "FR",
          "month": 7,
          "name": "MARSEILLES MARIGNANE, FR",
          "rolling_average_irrigation_requirement": 5.317080270914006,
          "year": 2017
         },
         {
          "COUNTRY_CODE": "FR",
          "month": 7,
          "name": "MEDITERRANEE, FR",
          "rolling_average_irrigation_requirement": 5.317080270914006,
          "year": 2017
         },
         {
          "COUNTRY_CODE": "FR",
          "month": 7,
          "name": "MILLAU, FR",
          "rolling_average_irrigation_requirement": 5.3183484602268924,
          "year": 2017
         },
         {
          "COUNTRY_CODE": "FR",
          "month": 7,
          "name": "MONT AIGOUAL, FR",
          "rolling_average_irrigation_requirement": 5.317080270914006,
          "year": 2017
         },
         {
          "COUNTRY_CODE": "FR",
          "month": 7,
          "name": "MONT DE MARSAN, FR",
          "rolling_average_irrigation_requirement": 5.3176311310046485,
          "year": 2017
         },
         {
          "COUNTRY_CODE": "FR",
          "month": 7,
          "name": "MONTELIMAR, FR",
          "rolling_average_irrigation_requirement": 5.317080270914006,
          "year": 2017
         },
         {
          "COUNTRY_CODE": "FR",
          "month": 7,
          "name": "MONTPELLIER AEROPORT, FR",
          "rolling_average_irrigation_requirement": 5.317080270914006,
          "year": 2017
         },
         {
          "COUNTRY_CODE": "FR",
          "month": 7,
          "name": "NANCY OCHEY, FR",
          "rolling_average_irrigation_requirement": 5.317080270914006,
          "year": 2017
         },
         {
          "COUNTRY_CODE": "FR",
          "month": 7,
          "name": "NANTES BOUGUENAIS, FR",
          "rolling_average_irrigation_requirement": 5.317080270914006,
          "year": 2017
         },
         {
          "COUNTRY_CODE": "FR",
          "month": 7,
          "name": "NICE, FR",
          "rolling_average_irrigation_requirement": 5.317080270914006,
          "year": 2017
         },
         {
          "COUNTRY_CODE": "FR",
          "month": 7,
          "name": "OCHEY, FR",
          "rolling_average_irrigation_requirement": 5.317080270914006,
          "year": 2017
         },
         {
          "COUNTRY_CODE": "FR",
          "month": 7,
          "name": "ORLY, FR",
          "rolling_average_irrigation_requirement": 5.317080270914006,
          "year": 2017
         },
         {
          "COUNTRY_CODE": "FR",
          "month": 7,
          "name": "OUESSANT, FR",
          "rolling_average_irrigation_requirement": 5.317080270914006,
          "year": 2017
         },
         {
          "COUNTRY_CODE": "FR",
          "month": 7,
          "name": "PARIS LE BOURGET, FR",
          "rolling_average_irrigation_requirement": 5.317080270914006,
          "year": 2017
         },
         {
          "COUNTRY_CODE": "FR",
          "month": 7,
          "name": "PERPIGNAN, FR",
          "rolling_average_irrigation_requirement": 5.317080270914006,
          "year": 2017
         },
         {
          "COUNTRY_CODE": "FR",
          "month": 7,
          "name": "PLOUMANAC H PERROS GUIREC, FR",
          "rolling_average_irrigation_requirement": 5.320551587616749,
          "year": 2017
         },
         {
          "COUNTRY_CODE": "FR",
          "month": 7,
          "name": "PLOUMANAC H, FR",
          "rolling_average_irrigation_requirement": 5.317080270914006,
          "year": 2017
         },
         {
          "COUNTRY_CODE": "FR",
          "month": 7,
          "name": "POITIERS BIARD, FR",
          "rolling_average_irrigation_requirement": 5.317080270914006,
          "year": 2017
         },
         {
          "COUNTRY_CODE": "FR",
          "month": 7,
          "name": "PORETTA, FR",
          "rolling_average_irrigation_requirement": 5.317080270914006,
          "year": 2017
         },
         {
          "COUNTRY_CODE": "FR",
          "month": 7,
          "name": "PORT AUX FRANCAIS ILES KERGU, FR",
          "rolling_average_irrigation_requirement": 5.317080270914006,
          "year": 2017
         },
         {
          "COUNTRY_CODE": "FR",
          "month": 7,
          "name": "PTE DE CHASSIRON, FR",
          "rolling_average_irrigation_requirement": 5.317080270914006,
          "year": 2017
         },
         {
          "COUNTRY_CODE": "FR",
          "month": 7,
          "name": "PTE DE LA HAGUE, FR",
          "rolling_average_irrigation_requirement": 5.317080270914006,
          "year": 2017
         },
         {
          "COUNTRY_CODE": "FR",
          "month": 7,
          "name": "REIMS PRUNAY, FR",
          "rolling_average_irrigation_requirement": 5.317080270914004,
          "year": 2017
         },
         {
          "COUNTRY_CODE": "FR",
          "month": 7,
          "name": "RENNES ST JACQUES, FR",
          "rolling_average_irrigation_requirement": 5.317080270914006,
          "year": 2017
         },
         {
          "COUNTRY_CODE": "FR",
          "month": 7,
          "name": "ROUEN BOOS, FR",
          "rolling_average_irrigation_requirement": 5.317080270914006,
          "year": 2017
         },
         {
          "COUNTRY_CODE": "FR",
          "month": 7,
          "name": "SAINT EXUPERY, FR",
          "rolling_average_irrigation_requirement": 5.317080270914006,
          "year": 2017
         },
         {
          "COUNTRY_CODE": "FR",
          "month": 7,
          "name": "ST GIRONS, FR",
          "rolling_average_irrigation_requirement": 5.317080270914006,
          "year": 2017
         },
         {
          "COUNTRY_CODE": "FR",
          "month": 7,
          "name": "STRASBOURG ENTZHEIM, FR",
          "rolling_average_irrigation_requirement": 5.317080270914006,
          "year": 2017
         },
         {
          "COUNTRY_CODE": "FR",
          "month": 7,
          "name": "TARBES OSSUN, FR",
          "rolling_average_irrigation_requirement": 5.317080270914006,
          "year": 2017
         },
         {
          "COUNTRY_CODE": "FR",
          "month": 7,
          "name": "TOULOUSE BLAGNAC, FR",
          "rolling_average_irrigation_requirement": 5.317080270914006,
          "year": 2017
         },
         {
          "COUNTRY_CODE": "FR",
          "month": 7,
          "name": "TOURS, FR",
          "rolling_average_irrigation_requirement": 5.317080270914006,
          "year": 2017
         },
         {
          "COUNTRY_CODE": "FR",
          "month": 7,
          "name": "TROYES BARBEREY, FR",
          "rolling_average_irrigation_requirement": 5.317080270914006,
          "year": 2017
         },
         {
          "COUNTRY_CODE": "FR",
          "month": 7,
          "name": "VAL DE LOIRE, FR",
          "rolling_average_irrigation_requirement": 5.317080270914006,
          "year": 2017
         },
         {
          "COUNTRY_CODE": "FR",
          "month": 7,
          "name": "VALLEE DE SEINE, FR",
          "rolling_average_irrigation_requirement": 5.317080270914006,
          "year": 2017
         },
         {
          "COUNTRY_CODE": "FR",
          "month": 7,
          "name": "ABBEVILLE, FR",
          "rolling_average_irrigation_requirement": 5.6589264645891735,
          "year": 2018
         },
         {
          "COUNTRY_CODE": "FR",
          "month": 7,
          "name": "AJACCIO, FR",
          "rolling_average_irrigation_requirement": 5.658926464589173,
          "year": 2018
         },
         {
          "COUNTRY_CODE": "FR",
          "month": 7,
          "name": "ALENCON VALFRAMBERT, FR",
          "rolling_average_irrigation_requirement": 5.6589264645891735,
          "year": 2018
         },
         {
          "COUNTRY_CODE": "FR",
          "month": 7,
          "name": "ANTICHAN, FR",
          "rolling_average_irrigation_requirement": 5.658926464589173,
          "year": 2018
         },
         {
          "COUNTRY_CODE": "FR",
          "month": 7,
          "name": "AUVERGNE, FR",
          "rolling_average_irrigation_requirement": 5.658926464589173,
          "year": 2018
         },
         {
          "COUNTRY_CODE": "FR",
          "month": 7,
          "name": "BALE MULHOUSE, FR",
          "rolling_average_irrigation_requirement": 5.658926464589173,
          "year": 2018
         },
         {
          "COUNTRY_CODE": "FR",
          "month": 7,
          "name": "BARBEREY, FR",
          "rolling_average_irrigation_requirement": 5.658926464589173,
          "year": 2018
         },
         {
          "COUNTRY_CODE": "FR",
          "month": 7,
          "name": "BASTIA, FR",
          "rolling_average_irrigation_requirement": 5.66034281275905,
          "year": 2018
         },
         {
          "COUNTRY_CODE": "FR",
          "month": 7,
          "name": "BELLE ILE LE TALUT, FR",
          "rolling_average_irrigation_requirement": 5.659277644392179,
          "year": 2018
         },
         {
          "COUNTRY_CODE": "FR",
          "month": 7,
          "name": "BELLEGARDE, FR",
          "rolling_average_irrigation_requirement": 5.658926464589173,
          "year": 2018
         },
         {
          "COUNTRY_CODE": "FR",
          "month": 7,
          "name": "BIARD, FR",
          "rolling_average_irrigation_requirement": 5.658926464589173,
          "year": 2018
         },
         {
          "COUNTRY_CODE": "FR",
          "month": 7,
          "name": "BORDEAUX MERIGNAC, FR",
          "rolling_average_irrigation_requirement": 5.658926464589173,
          "year": 2018
         },
         {
          "COUNTRY_CODE": "FR",
          "month": 7,
          "name": "BOURGES, FR",
          "rolling_average_irrigation_requirement": 5.658926464589173,
          "year": 2018
         },
         {
          "COUNTRY_CODE": "FR",
          "month": 7,
          "name": "BREST GUIPAVAS, FR",
          "rolling_average_irrigation_requirement": 5.658926464589173,
          "year": 2018
         },
         {
          "COUNTRY_CODE": "FR",
          "month": 7,
          "name": "CAEN CARPIQUET, FR",
          "rolling_average_irrigation_requirement": 5.658599745529537,
          "year": 2018
         },
         {
          "COUNTRY_CODE": "FR",
          "month": 7,
          "name": "CAMPO DELL ORO, FR",
          "rolling_average_irrigation_requirement": 5.658926464589173,
          "year": 2018
         },
         {
          "COUNTRY_CODE": "FR",
          "month": 7,
          "name": "CAP CEPET, FR",
          "rolling_average_irrigation_requirement": 5.660342812759051,
          "year": 2018
         },
         {
          "COUNTRY_CODE": "FR",
          "month": 7,
          "name": "CARPIQUET, FR",
          "rolling_average_irrigation_requirement": 5.658599745529537,
          "year": 2018
         },
         {
          "COUNTRY_CODE": "FR",
          "month": 7,
          "name": "CHASSIRON, FR",
          "rolling_average_irrigation_requirement": 5.658926464589173,
          "year": 2018
         },
         {
          "COUNTRY_CODE": "FR",
          "month": 7,
          "name": "CLERMONT FERRAND, FR",
          "rolling_average_irrigation_requirement": 5.658926464589173,
          "year": 2018
         },
         {
          "COUNTRY_CODE": "FR",
          "month": 7,
          "name": "COTE D AZUR, FR",
          "rolling_average_irrigation_requirement": 5.6605617508305475,
          "year": 2018
         },
         {
          "COUNTRY_CODE": "FR",
          "month": 7,
          "name": "DIJON LONGVIC, FR",
          "rolling_average_irrigation_requirement": 5.658926464589173,
          "year": 2018
         },
         {
          "COUNTRY_CODE": "FR",
          "month": 7,
          "name": "EMBRUN, FR",
          "rolling_average_irrigation_requirement": 5.6589264645891735,
          "year": 2018
         },
         {
          "COUNTRY_CODE": "FR",
          "month": 7,
          "name": "ESSEY, FR",
          "rolling_average_irrigation_requirement": 5.658926464589173,
          "year": 2018
         },
         {
          "COUNTRY_CODE": "FR",
          "month": 7,
          "name": "GOURDON, FR",
          "rolling_average_irrigation_requirement": 5.658926464589173,
          "year": 2018
         },
         {
          "COUNTRY_CODE": "FR",
          "month": 7,
          "name": "GUIPAVAS, FR",
          "rolling_average_irrigation_requirement": 5.658926464589173,
          "year": 2018
         },
         {
          "COUNTRY_CODE": "FR",
          "month": 7,
          "name": "LE PUY LOUDES, FR",
          "rolling_average_irrigation_requirement": 5.658926464589173,
          "year": 2018
         },
         {
          "COUNTRY_CODE": "FR",
          "month": 7,
          "name": "LESQUIN, FR",
          "rolling_average_irrigation_requirement": 5.658926464589173,
          "year": 2018
         },
         {
          "COUNTRY_CODE": "FR",
          "month": 7,
          "name": "LILLE LESQUIN, FR",
          "rolling_average_irrigation_requirement": 5.658926464589173,
          "year": 2018
         },
         {
          "COUNTRY_CODE": "FR",
          "month": 7,
          "name": "LIMOGES BELLEGARDE, FR",
          "rolling_average_irrigation_requirement": 5.658926464589173,
          "year": 2018
         },
         {
          "COUNTRY_CODE": "FR",
          "month": 7,
          "name": "LONGVIC, FR",
          "rolling_average_irrigation_requirement": 5.658926464589173,
          "year": 2018
         },
         {
          "COUNTRY_CODE": "FR",
          "month": 7,
          "name": "LOUDES, FR",
          "rolling_average_irrigation_requirement": 5.658926464589173,
          "year": 2018
         },
         {
          "COUNTRY_CODE": "FR",
          "month": 7,
          "name": "LOURDES, FR",
          "rolling_average_irrigation_requirement": 5.658926464589173,
          "year": 2018
         },
         {
          "COUNTRY_CODE": "FR",
          "month": 7,
          "name": "LYON ST EXUPERY, FR",
          "rolling_average_irrigation_requirement": 5.658926464589173,
          "year": 2018
         },
         {
          "COUNTRY_CODE": "FR",
          "month": 7,
          "name": "MARSEILLES MARIGNANE, FR",
          "rolling_average_irrigation_requirement": 5.658926464589173,
          "year": 2018
         },
         {
          "COUNTRY_CODE": "FR",
          "month": 7,
          "name": "MEDITERRANEE, FR",
          "rolling_average_irrigation_requirement": 5.658926464589173,
          "year": 2018
         },
         {
          "COUNTRY_CODE": "FR",
          "month": 7,
          "name": "MILLAU, FR",
          "rolling_average_irrigation_requirement": 5.6589264645891735,
          "year": 2018
         },
         {
          "COUNTRY_CODE": "FR",
          "month": 7,
          "name": "MONT AIGOUAL, FR",
          "rolling_average_irrigation_requirement": 5.658926464589173,
          "year": 2018
         },
         {
          "COUNTRY_CODE": "FR",
          "month": 7,
          "name": "MONT DE MARSAN, FR",
          "rolling_average_irrigation_requirement": 5.6589264645891735,
          "year": 2018
         },
         {
          "COUNTRY_CODE": "FR",
          "month": 7,
          "name": "MONTELIMAR, FR",
          "rolling_average_irrigation_requirement": 5.658926464589173,
          "year": 2018
         },
         {
          "COUNTRY_CODE": "FR",
          "month": 7,
          "name": "MONTPELLIER AEROPORT, FR",
          "rolling_average_irrigation_requirement": 5.658926464589173,
          "year": 2018
         },
         {
          "COUNTRY_CODE": "FR",
          "month": 7,
          "name": "NANCY OCHEY, FR",
          "rolling_average_irrigation_requirement": 5.658926464589173,
          "year": 2018
         },
         {
          "COUNTRY_CODE": "FR",
          "month": 7,
          "name": "NANTES BOUGUENAIS, FR",
          "rolling_average_irrigation_requirement": 5.658926464589173,
          "year": 2018
         },
         {
          "COUNTRY_CODE": "FR",
          "month": 7,
          "name": "NICE, FR",
          "rolling_average_irrigation_requirement": 5.6605617508305475,
          "year": 2018
         },
         {
          "COUNTRY_CODE": "FR",
          "month": 7,
          "name": "OCHEY, FR",
          "rolling_average_irrigation_requirement": 5.658926464589173,
          "year": 2018
         },
         {
          "COUNTRY_CODE": "FR",
          "month": 7,
          "name": "ORLY, FR",
          "rolling_average_irrigation_requirement": 5.6594976689900145,
          "year": 2018
         },
         {
          "COUNTRY_CODE": "FR",
          "month": 7,
          "name": "OUESSANT, FR",
          "rolling_average_irrigation_requirement": 5.658316380294592,
          "year": 2018
         },
         {
          "COUNTRY_CODE": "FR",
          "month": 7,
          "name": "PARIS LE BOURGET, FR",
          "rolling_average_irrigation_requirement": 5.658926464589173,
          "year": 2018
         },
         {
          "COUNTRY_CODE": "FR",
          "month": 7,
          "name": "PERPIGNAN, FR",
          "rolling_average_irrigation_requirement": 5.658926464589173,
          "year": 2018
         },
         {
          "COUNTRY_CODE": "FR",
          "month": 7,
          "name": "PLOUMANAC H PERROS GUIREC, FR",
          "rolling_average_irrigation_requirement": 5.6594976689900145,
          "year": 2018
         },
         {
          "COUNTRY_CODE": "FR",
          "month": 7,
          "name": "PLOUMANAC H, FR",
          "rolling_average_irrigation_requirement": 5.6594976689900145,
          "year": 2018
         },
         {
          "COUNTRY_CODE": "FR",
          "month": 7,
          "name": "POITIERS BIARD, FR",
          "rolling_average_irrigation_requirement": 5.658926464589173,
          "year": 2018
         },
         {
          "COUNTRY_CODE": "FR",
          "month": 7,
          "name": "PORETTA, FR",
          "rolling_average_irrigation_requirement": 5.66034281275905,
          "year": 2018
         },
         {
          "COUNTRY_CODE": "FR",
          "month": 7,
          "name": "PORT AUX FRANCAIS ILES KERGU, FR",
          "rolling_average_irrigation_requirement": 5.658926464589173,
          "year": 2018
         },
         {
          "COUNTRY_CODE": "FR",
          "month": 7,
          "name": "PTE DE CHASSIRON, FR",
          "rolling_average_irrigation_requirement": 5.658926464589173,
          "year": 2018
         },
         {
          "COUNTRY_CODE": "FR",
          "month": 7,
          "name": "PTE DE LA HAGUE, FR",
          "rolling_average_irrigation_requirement": 5.657754860288413,
          "year": 2018
         },
         {
          "COUNTRY_CODE": "FR",
          "month": 7,
          "name": "REIMS PRUNAY, FR",
          "rolling_average_irrigation_requirement": 5.6589264645891735,
          "year": 2018
         },
         {
          "COUNTRY_CODE": "FR",
          "month": 7,
          "name": "RENNES ST JACQUES, FR",
          "rolling_average_irrigation_requirement": 5.658926464589173,
          "year": 2018
         },
         {
          "COUNTRY_CODE": "FR",
          "month": 7,
          "name": "ROUEN BOOS, FR",
          "rolling_average_irrigation_requirement": 5.658926464589173,
          "year": 2018
         },
         {
          "COUNTRY_CODE": "FR",
          "month": 7,
          "name": "SAINT EXUPERY, FR",
          "rolling_average_irrigation_requirement": 5.658926464589173,
          "year": 2018
         },
         {
          "COUNTRY_CODE": "FR",
          "month": 7,
          "name": "ST GIRONS, FR",
          "rolling_average_irrigation_requirement": 5.658926464589173,
          "year": 2018
         },
         {
          "COUNTRY_CODE": "FR",
          "month": 7,
          "name": "STRASBOURG ENTZHEIM, FR",
          "rolling_average_irrigation_requirement": 5.658926464589173,
          "year": 2018
         },
         {
          "COUNTRY_CODE": "FR",
          "month": 7,
          "name": "TARBES OSSUN, FR",
          "rolling_average_irrigation_requirement": 5.658926464589173,
          "year": 2018
         },
         {
          "COUNTRY_CODE": "FR",
          "month": 7,
          "name": "TOULOUSE BLAGNAC, FR",
          "rolling_average_irrigation_requirement": 5.658926464589173,
          "year": 2018
         },
         {
          "COUNTRY_CODE": "FR",
          "month": 7,
          "name": "TOURS, FR",
          "rolling_average_irrigation_requirement": 5.658926464589173,
          "year": 2018
         },
         {
          "COUNTRY_CODE": "FR",
          "month": 7,
          "name": "TROYES BARBEREY, FR",
          "rolling_average_irrigation_requirement": 5.658926464589173,
          "year": 2018
         },
         {
          "COUNTRY_CODE": "FR",
          "month": 7,
          "name": "VAL DE LOIRE, FR",
          "rolling_average_irrigation_requirement": 5.658926464589173,
          "year": 2018
         },
         {
          "COUNTRY_CODE": "FR",
          "month": 7,
          "name": "VALLEE DE SEINE, FR",
          "rolling_average_irrigation_requirement": 5.658926464589173,
          "year": 2018
         },
         {
          "COUNTRY_CODE": "FR",
          "month": 7,
          "name": "ABBEVILLE, FR",
          "rolling_average_irrigation_requirement": 5.704695569217659,
          "year": 2019
         },
         {
          "COUNTRY_CODE": "FR",
          "month": 7,
          "name": "AJACCIO, FR",
          "rolling_average_irrigation_requirement": 5.7046955692176615,
          "year": 2019
         },
         {
          "COUNTRY_CODE": "FR",
          "month": 7,
          "name": "ALENCON VALFRAMBERT, FR",
          "rolling_average_irrigation_requirement": 5.706744882938987,
          "year": 2019
         },
         {
          "COUNTRY_CODE": "FR",
          "month": 7,
          "name": "ANTICHAN, FR",
          "rolling_average_irrigation_requirement": 5.7046955692176615,
          "year": 2019
         },
         {
          "COUNTRY_CODE": "FR",
          "month": 7,
          "name": "AUVERGNE, FR",
          "rolling_average_irrigation_requirement": 5.7046955692176615,
          "year": 2019
         },
         {
          "COUNTRY_CODE": "FR",
          "month": 7,
          "name": "BALE MULHOUSE, FR",
          "rolling_average_irrigation_requirement": 5.7046955692176615,
          "year": 2019
         },
         {
          "COUNTRY_CODE": "FR",
          "month": 7,
          "name": "BARBEREY, FR",
          "rolling_average_irrigation_requirement": 5.7046955692176615,
          "year": 2019
         },
         {
          "COUNTRY_CODE": "FR",
          "month": 7,
          "name": "BASTIA, FR",
          "rolling_average_irrigation_requirement": 5.70167378260915,
          "year": 2019
         },
         {
          "COUNTRY_CODE": "FR",
          "month": 7,
          "name": "BELLE ILE LE TALUT, FR",
          "rolling_average_irrigation_requirement": 5.703906812968604,
          "year": 2019
         },
         {
          "COUNTRY_CODE": "FR",
          "month": 7,
          "name": "BELLEGARDE, FR",
          "rolling_average_irrigation_requirement": 5.7046955692176615,
          "year": 2019
         },
         {
          "COUNTRY_CODE": "FR",
          "month": 7,
          "name": "BIARD, FR",
          "rolling_average_irrigation_requirement": 5.702822323558147,
          "year": 2019
         },
         {
          "COUNTRY_CODE": "FR",
          "month": 7,
          "name": "BORDEAUX MERIGNAC, FR",
          "rolling_average_irrigation_requirement": 5.7046955692176615,
          "year": 2019
         },
         {
          "COUNTRY_CODE": "FR",
          "month": 7,
          "name": "BOURGES, FR",
          "rolling_average_irrigation_requirement": 5.7046955692176615,
          "year": 2019
         },
         {
          "COUNTRY_CODE": "FR",
          "month": 7,
          "name": "BREST GUIPAVAS, FR",
          "rolling_average_irrigation_requirement": 5.7046955692176615,
          "year": 2019
         },
         {
          "COUNTRY_CODE": "FR",
          "month": 7,
          "name": "CAEN CARPIQUET, FR",
          "rolling_average_irrigation_requirement": 5.7046955692176615,
          "year": 2019
         },
         {
          "COUNTRY_CODE": "FR",
          "month": 7,
          "name": "CAMPO DELL ORO, FR",
          "rolling_average_irrigation_requirement": 5.7046955692176615,
          "year": 2019
         },
         {
          "COUNTRY_CODE": "FR",
          "month": 7,
          "name": "CAP CEPET, FR",
          "rolling_average_irrigation_requirement": 5.704695569217659,
          "year": 2019
         },
         {
          "COUNTRY_CODE": "FR",
          "month": 7,
          "name": "CARPIQUET, FR",
          "rolling_average_irrigation_requirement": 5.7046955692176615,
          "year": 2019
         },
         {
          "COUNTRY_CODE": "FR",
          "month": 7,
          "name": "CHASSIRON, FR",
          "rolling_average_irrigation_requirement": 5.7046955692176615,
          "year": 2019
         },
         {
          "COUNTRY_CODE": "FR",
          "month": 7,
          "name": "CLERMONT FERRAND, FR",
          "rolling_average_irrigation_requirement": 5.7046955692176615,
          "year": 2019
         },
         {
          "COUNTRY_CODE": "FR",
          "month": 7,
          "name": "COTE D AZUR, FR",
          "rolling_average_irrigation_requirement": 5.7046955692176615,
          "year": 2019
         },
         {
          "COUNTRY_CODE": "FR",
          "month": 7,
          "name": "DIJON LONGVIC, FR",
          "rolling_average_irrigation_requirement": 5.7046955692176615,
          "year": 2019
         },
         {
          "COUNTRY_CODE": "FR",
          "month": 7,
          "name": "EMBRUN, FR",
          "rolling_average_irrigation_requirement": 5.704695569217659,
          "year": 2019
         },
         {
          "COUNTRY_CODE": "FR",
          "month": 7,
          "name": "ESSEY, FR",
          "rolling_average_irrigation_requirement": 5.699843060498995,
          "year": 2019
         },
         {
          "COUNTRY_CODE": "FR",
          "month": 7,
          "name": "GOURDON, FR",
          "rolling_average_irrigation_requirement": 5.706744882938988,
          "year": 2019
         },
         {
          "COUNTRY_CODE": "FR",
          "month": 7,
          "name": "GUIPAVAS, FR",
          "rolling_average_irrigation_requirement": 5.7046955692176615,
          "year": 2019
         },
         {
          "COUNTRY_CODE": "FR",
          "month": 7,
          "name": "LE PUY LOUDES, FR",
          "rolling_average_irrigation_requirement": 5.7046955692176615,
          "year": 2019
         },
         {
          "COUNTRY_CODE": "FR",
          "month": 7,
          "name": "LESQUIN, FR",
          "rolling_average_irrigation_requirement": 5.7046955692176615,
          "year": 2019
         },
         {
          "COUNTRY_CODE": "FR",
          "month": 7,
          "name": "LILLE LESQUIN, FR",
          "rolling_average_irrigation_requirement": 5.7046955692176615,
          "year": 2019
         },
         {
          "COUNTRY_CODE": "FR",
          "month": 7,
          "name": "LIMOGES BELLEGARDE, FR",
          "rolling_average_irrigation_requirement": 5.7046955692176615,
          "year": 2019
         },
         {
          "COUNTRY_CODE": "FR",
          "month": 7,
          "name": "LONGVIC, FR",
          "rolling_average_irrigation_requirement": 5.7046955692176615,
          "year": 2019
         },
         {
          "COUNTRY_CODE": "FR",
          "month": 7,
          "name": "LOUDES, FR",
          "rolling_average_irrigation_requirement": 5.7046955692176615,
          "year": 2019
         },
         {
          "COUNTRY_CODE": "FR",
          "month": 7,
          "name": "LOURDES, FR",
          "rolling_average_irrigation_requirement": 5.7046955692176615,
          "year": 2019
         },
         {
          "COUNTRY_CODE": "FR",
          "month": 7,
          "name": "LYON ST EXUPERY, FR",
          "rolling_average_irrigation_requirement": 5.7046955692176615,
          "year": 2019
         },
         {
          "COUNTRY_CODE": "FR",
          "month": 7,
          "name": "MARSEILLES MARIGNANE, FR",
          "rolling_average_irrigation_requirement": 5.7046955692176615,
          "year": 2019
         },
         {
          "COUNTRY_CODE": "FR",
          "month": 7,
          "name": "MEDITERRANEE, FR",
          "rolling_average_irrigation_requirement": 5.7046955692176615,
          "year": 2019
         },
         {
          "COUNTRY_CODE": "FR",
          "month": 7,
          "name": "MILLAU, FR",
          "rolling_average_irrigation_requirement": 5.718829084559952,
          "year": 2019
         },
         {
          "COUNTRY_CODE": "FR",
          "month": 7,
          "name": "MONT AIGOUAL, FR",
          "rolling_average_irrigation_requirement": 5.704422169744487,
          "year": 2019
         },
         {
          "COUNTRY_CODE": "FR",
          "month": 7,
          "name": "MONT DE MARSAN, FR",
          "rolling_average_irrigation_requirement": 5.704695569217659,
          "year": 2019
         },
         {
          "COUNTRY_CODE": "FR",
          "month": 7,
          "name": "MONTELIMAR, FR",
          "rolling_average_irrigation_requirement": 5.7046955692176615,
          "year": 2019
         },
         {
          "COUNTRY_CODE": "FR",
          "month": 7,
          "name": "MONTPELLIER AEROPORT, FR",
          "rolling_average_irrigation_requirement": 5.7046955692176615,
          "year": 2019
         },
         {
          "COUNTRY_CODE": "FR",
          "month": 7,
          "name": "NANCY OCHEY, FR",
          "rolling_average_irrigation_requirement": 5.7046955692176615,
          "year": 2019
         },
         {
          "COUNTRY_CODE": "FR",
          "month": 7,
          "name": "NANTES BOUGUENAIS, FR",
          "rolling_average_irrigation_requirement": 5.7046955692176615,
          "year": 2019
         },
         {
          "COUNTRY_CODE": "FR",
          "month": 7,
          "name": "NICE, FR",
          "rolling_average_irrigation_requirement": 5.7046955692176615,
          "year": 2019
         },
         {
          "COUNTRY_CODE": "FR",
          "month": 7,
          "name": "OCHEY, FR",
          "rolling_average_irrigation_requirement": 5.7046955692176615,
          "year": 2019
         },
         {
          "COUNTRY_CODE": "FR",
          "month": 7,
          "name": "ORLY, FR",
          "rolling_average_irrigation_requirement": 5.7046955692176615,
          "year": 2019
         },
         {
          "COUNTRY_CODE": "FR",
          "month": 7,
          "name": "OUESSANT, FR",
          "rolling_average_irrigation_requirement": 5.707551471168027,
          "year": 2019
         },
         {
          "COUNTRY_CODE": "FR",
          "month": 7,
          "name": "PARIS LE BOURGET, FR",
          "rolling_average_irrigation_requirement": 5.7046955692176615,
          "year": 2019
         },
         {
          "COUNTRY_CODE": "FR",
          "month": 7,
          "name": "PERPIGNAN, FR",
          "rolling_average_irrigation_requirement": 5.703009579914435,
          "year": 2019
         },
         {
          "COUNTRY_CODE": "FR",
          "month": 7,
          "name": "PLOUMANAC H PERROS GUIREC, FR",
          "rolling_average_irrigation_requirement": 5.703859929400879,
          "year": 2019
         },
         {
          "COUNTRY_CODE": "FR",
          "month": 7,
          "name": "PLOUMANAC H, FR",
          "rolling_average_irrigation_requirement": 5.703859929400879,
          "year": 2019
         },
         {
          "COUNTRY_CODE": "FR",
          "month": 7,
          "name": "POITIERS BIARD, FR",
          "rolling_average_irrigation_requirement": 5.702822323558147,
          "year": 2019
         },
         {
          "COUNTRY_CODE": "FR",
          "month": 7,
          "name": "PORETTA, FR",
          "rolling_average_irrigation_requirement": 5.70167378260915,
          "year": 2019
         },
         {
          "COUNTRY_CODE": "FR",
          "month": 7,
          "name": "PORT AUX FRANCAIS ILES KERGU, FR",
          "rolling_average_irrigation_requirement": 5.7046955692176615,
          "year": 2019
         },
         {
          "COUNTRY_CODE": "FR",
          "month": 7,
          "name": "PTE DE CHASSIRON, FR",
          "rolling_average_irrigation_requirement": 5.7046955692176615,
          "year": 2019
         },
         {
          "COUNTRY_CODE": "FR",
          "month": 7,
          "name": "PTE DE LA HAGUE, FR",
          "rolling_average_irrigation_requirement": 5.7046955692176615,
          "year": 2019
         },
         {
          "COUNTRY_CODE": "FR",
          "month": 7,
          "name": "REIMS PRUNAY, FR",
          "rolling_average_irrigation_requirement": 5.704695569217659,
          "year": 2019
         },
         {
          "COUNTRY_CODE": "FR",
          "month": 7,
          "name": "RENNES ST JACQUES, FR",
          "rolling_average_irrigation_requirement": 5.703732842563579,
          "year": 2019
         },
         {
          "COUNTRY_CODE": "FR",
          "month": 7,
          "name": "ROUEN BOOS, FR",
          "rolling_average_irrigation_requirement": 5.7046955692176615,
          "year": 2019
         },
         {
          "COUNTRY_CODE": "FR",
          "month": 7,
          "name": "SAINT EXUPERY, FR",
          "rolling_average_irrigation_requirement": 5.7046955692176615,
          "year": 2019
         },
         {
          "COUNTRY_CODE": "FR",
          "month": 7,
          "name": "ST GIRONS, FR",
          "rolling_average_irrigation_requirement": 5.7046955692176615,
          "year": 2019
         },
         {
          "COUNTRY_CODE": "FR",
          "month": 7,
          "name": "STRASBOURG ENTZHEIM, FR",
          "rolling_average_irrigation_requirement": 5.7046955692176615,
          "year": 2019
         },
         {
          "COUNTRY_CODE": "FR",
          "month": 7,
          "name": "TARBES OSSUN, FR",
          "rolling_average_irrigation_requirement": 5.7046955692176615,
          "year": 2019
         },
         {
          "COUNTRY_CODE": "FR",
          "month": 7,
          "name": "TOULOUSE BLAGNAC, FR",
          "rolling_average_irrigation_requirement": 5.7046955692176615,
          "year": 2019
         },
         {
          "COUNTRY_CODE": "FR",
          "month": 7,
          "name": "TOURS, FR",
          "rolling_average_irrigation_requirement": 5.7046955692176615,
          "year": 2019
         },
         {
          "COUNTRY_CODE": "FR",
          "month": 7,
          "name": "TROYES BARBEREY, FR",
          "rolling_average_irrigation_requirement": 5.7046955692176615,
          "year": 2019
         },
         {
          "COUNTRY_CODE": "FR",
          "month": 7,
          "name": "VAL DE LOIRE, FR",
          "rolling_average_irrigation_requirement": 5.7046955692176615,
          "year": 2019
         },
         {
          "COUNTRY_CODE": "FR",
          "month": 7,
          "name": "VALLEE DE SEINE, FR",
          "rolling_average_irrigation_requirement": 5.7046955692176615,
          "year": 2019
         }
        ]
       },
       "encoding": {
        "color": {
         "field": "name",
         "type": "nominal"
        },
        "x": {
         "field": "year",
         "type": "ordinal"
        },
        "y": {
         "field": "rolling_average_irrigation_requirement",
         "type": "quantitative"
        }
       },
       "mark": "point",
       "selection": {
        "selector035": {
         "bind": "scales",
         "encodings": [
          "x",
          "y"
         ],
         "type": "interval"
        }
       }
      },
      "image/png": "[encoded data removed]",
      "text/plain": [
       "<VegaLite 3 object>\n",
       "\n",
       "If you see this message, it means the renderer has not been properly enabled\n",
       "for the frontend that you are using. For more information, see\n",
       "https://altair-viz.github.io/user_guide/troubleshooting.html\n"
      ]
     },
     "execution_count": 49,
     "metadata": {},
     "output_type": "execute_result"
    }
   ],
   "source": [
    "import pandas as pd\n",
    "import altair as alt\n",
    "from altair import datum\n",
    "import pdvega\n",
    "\n",
    "data = pd.read_csv('data/rolling_averages_csv/FR.csv/data.csv')\n",
    "data = data[data['month'] == 7]\n",
    "data = data[data['year'] > 1990]\n",
    "\n",
    "alt.Chart(data).mark_point().interactive().encode(\n",
    "    alt.X(\"year:O\"),\n",
    "    alt.Y(\"rolling_average_irrigation_requirement\"), \n",
    "    color='name'\n",
    ")"
   ]
  },
  {
   "cell_type": "code",
   "execution_count": null,
   "metadata": {},
   "outputs": [],
   "source": []
  },
  {
   "cell_type": "code",
   "execution_count": null,
   "metadata": {},
   "outputs": [],
   "source": []
  }
 ],
 "metadata": {
  "kernelspec": {
   "display_name": "Python 3",
   "language": "python",
   "name": "python3"
  },
  "language_info": {
   "codemirror_mode": {
    "name": "ipython",
    "version": 3
   },
   "file_extension": ".py",
   "mimetype": "text/x-python",
   "name": "python",
   "nbconvert_exporter": "python",
   "pygments_lexer": "ipython3",
   "version": "3.7.3"
  }
 },
 "nbformat": 4,
 "nbformat_minor": 4
}
